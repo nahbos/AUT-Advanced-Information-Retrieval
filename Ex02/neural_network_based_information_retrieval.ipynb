{
  "nbformat": 4,
  "nbformat_minor": 0,
  "metadata": {
    "colab": {
      "provenance": [],
      "toc_visible": true,
      "include_colab_link": true
    },
    "kernelspec": {
      "name": "python3",
      "display_name": "Python 3"
    },
    "language_info": {
      "name": "python"
    },
    "accelerator": "GPU",
    "gpuClass": "standard",
    "widgets": {
      "application/vnd.jupyter.widget-state+json": {
        "8985641451fc440ca9cc6341cc04ee1e": {
          "model_module": "@jupyter-widgets/controls",
          "model_name": "HBoxModel",
          "model_module_version": "1.5.0",
          "state": {
            "_dom_classes": [],
            "_model_module": "@jupyter-widgets/controls",
            "_model_module_version": "1.5.0",
            "_model_name": "HBoxModel",
            "_view_count": null,
            "_view_module": "@jupyter-widgets/controls",
            "_view_module_version": "1.5.0",
            "_view_name": "HBoxView",
            "box_style": "",
            "children": [
              "IPY_MODEL_3257cce7996f4fd3806b6cbf9a51f61e",
              "IPY_MODEL_a642e5e6ca704eb0b3201ad0281b9c9d",
              "IPY_MODEL_11b6cf906cf3435fb3a4f56502fde79d"
            ],
            "layout": "IPY_MODEL_f60344f5d2be4dd792a12f4246863936"
          }
        },
        "3257cce7996f4fd3806b6cbf9a51f61e": {
          "model_module": "@jupyter-widgets/controls",
          "model_name": "HTMLModel",
          "model_module_version": "1.5.0",
          "state": {
            "_dom_classes": [],
            "_model_module": "@jupyter-widgets/controls",
            "_model_module_version": "1.5.0",
            "_model_name": "HTMLModel",
            "_view_count": null,
            "_view_module": "@jupyter-widgets/controls",
            "_view_module_version": "1.5.0",
            "_view_name": "HTMLView",
            "description": "",
            "description_tooltip": null,
            "layout": "IPY_MODEL_edb17e1201d742c58ca70c0a21def757",
            "placeholder": "​",
            "style": "IPY_MODEL_e68ef7a341dc475193bbf4b8dd3b8c0b",
            "value": "Downloading: 100%"
          }
        },
        "a642e5e6ca704eb0b3201ad0281b9c9d": {
          "model_module": "@jupyter-widgets/controls",
          "model_name": "FloatProgressModel",
          "model_module_version": "1.5.0",
          "state": {
            "_dom_classes": [],
            "_model_module": "@jupyter-widgets/controls",
            "_model_module_version": "1.5.0",
            "_model_name": "FloatProgressModel",
            "_view_count": null,
            "_view_module": "@jupyter-widgets/controls",
            "_view_module_version": "1.5.0",
            "_view_name": "ProgressView",
            "bar_style": "success",
            "description": "",
            "description_tooltip": null,
            "layout": "IPY_MODEL_c0b322a1534643a49270ba8bbfaf782c",
            "max": 28,
            "min": 0,
            "orientation": "horizontal",
            "style": "IPY_MODEL_bc174c62e777411ca0621964a796a1f8",
            "value": 28
          }
        },
        "11b6cf906cf3435fb3a4f56502fde79d": {
          "model_module": "@jupyter-widgets/controls",
          "model_name": "HTMLModel",
          "model_module_version": "1.5.0",
          "state": {
            "_dom_classes": [],
            "_model_module": "@jupyter-widgets/controls",
            "_model_module_version": "1.5.0",
            "_model_name": "HTMLModel",
            "_view_count": null,
            "_view_module": "@jupyter-widgets/controls",
            "_view_module_version": "1.5.0",
            "_view_name": "HTMLView",
            "description": "",
            "description_tooltip": null,
            "layout": "IPY_MODEL_1f3e422208b6417795f6419e556e2cb7",
            "placeholder": "​",
            "style": "IPY_MODEL_b50ade23cc7d47488e37edaeb665d5e4",
            "value": " 28.0/28.0 [00:00&lt;00:00, 981B/s]"
          }
        },
        "f60344f5d2be4dd792a12f4246863936": {
          "model_module": "@jupyter-widgets/base",
          "model_name": "LayoutModel",
          "model_module_version": "1.2.0",
          "state": {
            "_model_module": "@jupyter-widgets/base",
            "_model_module_version": "1.2.0",
            "_model_name": "LayoutModel",
            "_view_count": null,
            "_view_module": "@jupyter-widgets/base",
            "_view_module_version": "1.2.0",
            "_view_name": "LayoutView",
            "align_content": null,
            "align_items": null,
            "align_self": null,
            "border": null,
            "bottom": null,
            "display": null,
            "flex": null,
            "flex_flow": null,
            "grid_area": null,
            "grid_auto_columns": null,
            "grid_auto_flow": null,
            "grid_auto_rows": null,
            "grid_column": null,
            "grid_gap": null,
            "grid_row": null,
            "grid_template_areas": null,
            "grid_template_columns": null,
            "grid_template_rows": null,
            "height": null,
            "justify_content": null,
            "justify_items": null,
            "left": null,
            "margin": null,
            "max_height": null,
            "max_width": null,
            "min_height": null,
            "min_width": null,
            "object_fit": null,
            "object_position": null,
            "order": null,
            "overflow": null,
            "overflow_x": null,
            "overflow_y": null,
            "padding": null,
            "right": null,
            "top": null,
            "visibility": null,
            "width": null
          }
        },
        "edb17e1201d742c58ca70c0a21def757": {
          "model_module": "@jupyter-widgets/base",
          "model_name": "LayoutModel",
          "model_module_version": "1.2.0",
          "state": {
            "_model_module": "@jupyter-widgets/base",
            "_model_module_version": "1.2.0",
            "_model_name": "LayoutModel",
            "_view_count": null,
            "_view_module": "@jupyter-widgets/base",
            "_view_module_version": "1.2.0",
            "_view_name": "LayoutView",
            "align_content": null,
            "align_items": null,
            "align_self": null,
            "border": null,
            "bottom": null,
            "display": null,
            "flex": null,
            "flex_flow": null,
            "grid_area": null,
            "grid_auto_columns": null,
            "grid_auto_flow": null,
            "grid_auto_rows": null,
            "grid_column": null,
            "grid_gap": null,
            "grid_row": null,
            "grid_template_areas": null,
            "grid_template_columns": null,
            "grid_template_rows": null,
            "height": null,
            "justify_content": null,
            "justify_items": null,
            "left": null,
            "margin": null,
            "max_height": null,
            "max_width": null,
            "min_height": null,
            "min_width": null,
            "object_fit": null,
            "object_position": null,
            "order": null,
            "overflow": null,
            "overflow_x": null,
            "overflow_y": null,
            "padding": null,
            "right": null,
            "top": null,
            "visibility": null,
            "width": null
          }
        },
        "e68ef7a341dc475193bbf4b8dd3b8c0b": {
          "model_module": "@jupyter-widgets/controls",
          "model_name": "DescriptionStyleModel",
          "model_module_version": "1.5.0",
          "state": {
            "_model_module": "@jupyter-widgets/controls",
            "_model_module_version": "1.5.0",
            "_model_name": "DescriptionStyleModel",
            "_view_count": null,
            "_view_module": "@jupyter-widgets/base",
            "_view_module_version": "1.2.0",
            "_view_name": "StyleView",
            "description_width": ""
          }
        },
        "c0b322a1534643a49270ba8bbfaf782c": {
          "model_module": "@jupyter-widgets/base",
          "model_name": "LayoutModel",
          "model_module_version": "1.2.0",
          "state": {
            "_model_module": "@jupyter-widgets/base",
            "_model_module_version": "1.2.0",
            "_model_name": "LayoutModel",
            "_view_count": null,
            "_view_module": "@jupyter-widgets/base",
            "_view_module_version": "1.2.0",
            "_view_name": "LayoutView",
            "align_content": null,
            "align_items": null,
            "align_self": null,
            "border": null,
            "bottom": null,
            "display": null,
            "flex": null,
            "flex_flow": null,
            "grid_area": null,
            "grid_auto_columns": null,
            "grid_auto_flow": null,
            "grid_auto_rows": null,
            "grid_column": null,
            "grid_gap": null,
            "grid_row": null,
            "grid_template_areas": null,
            "grid_template_columns": null,
            "grid_template_rows": null,
            "height": null,
            "justify_content": null,
            "justify_items": null,
            "left": null,
            "margin": null,
            "max_height": null,
            "max_width": null,
            "min_height": null,
            "min_width": null,
            "object_fit": null,
            "object_position": null,
            "order": null,
            "overflow": null,
            "overflow_x": null,
            "overflow_y": null,
            "padding": null,
            "right": null,
            "top": null,
            "visibility": null,
            "width": null
          }
        },
        "bc174c62e777411ca0621964a796a1f8": {
          "model_module": "@jupyter-widgets/controls",
          "model_name": "ProgressStyleModel",
          "model_module_version": "1.5.0",
          "state": {
            "_model_module": "@jupyter-widgets/controls",
            "_model_module_version": "1.5.0",
            "_model_name": "ProgressStyleModel",
            "_view_count": null,
            "_view_module": "@jupyter-widgets/base",
            "_view_module_version": "1.2.0",
            "_view_name": "StyleView",
            "bar_color": null,
            "description_width": ""
          }
        },
        "1f3e422208b6417795f6419e556e2cb7": {
          "model_module": "@jupyter-widgets/base",
          "model_name": "LayoutModel",
          "model_module_version": "1.2.0",
          "state": {
            "_model_module": "@jupyter-widgets/base",
            "_model_module_version": "1.2.0",
            "_model_name": "LayoutModel",
            "_view_count": null,
            "_view_module": "@jupyter-widgets/base",
            "_view_module_version": "1.2.0",
            "_view_name": "LayoutView",
            "align_content": null,
            "align_items": null,
            "align_self": null,
            "border": null,
            "bottom": null,
            "display": null,
            "flex": null,
            "flex_flow": null,
            "grid_area": null,
            "grid_auto_columns": null,
            "grid_auto_flow": null,
            "grid_auto_rows": null,
            "grid_column": null,
            "grid_gap": null,
            "grid_row": null,
            "grid_template_areas": null,
            "grid_template_columns": null,
            "grid_template_rows": null,
            "height": null,
            "justify_content": null,
            "justify_items": null,
            "left": null,
            "margin": null,
            "max_height": null,
            "max_width": null,
            "min_height": null,
            "min_width": null,
            "object_fit": null,
            "object_position": null,
            "order": null,
            "overflow": null,
            "overflow_x": null,
            "overflow_y": null,
            "padding": null,
            "right": null,
            "top": null,
            "visibility": null,
            "width": null
          }
        },
        "b50ade23cc7d47488e37edaeb665d5e4": {
          "model_module": "@jupyter-widgets/controls",
          "model_name": "DescriptionStyleModel",
          "model_module_version": "1.5.0",
          "state": {
            "_model_module": "@jupyter-widgets/controls",
            "_model_module_version": "1.5.0",
            "_model_name": "DescriptionStyleModel",
            "_view_count": null,
            "_view_module": "@jupyter-widgets/base",
            "_view_module_version": "1.2.0",
            "_view_name": "StyleView",
            "description_width": ""
          }
        },
        "271f088ee3d6447b8b40fe6a0141a6ad": {
          "model_module": "@jupyter-widgets/controls",
          "model_name": "HBoxModel",
          "model_module_version": "1.5.0",
          "state": {
            "_dom_classes": [],
            "_model_module": "@jupyter-widgets/controls",
            "_model_module_version": "1.5.0",
            "_model_name": "HBoxModel",
            "_view_count": null,
            "_view_module": "@jupyter-widgets/controls",
            "_view_module_version": "1.5.0",
            "_view_name": "HBoxView",
            "box_style": "",
            "children": [
              "IPY_MODEL_4aeed2b094c34d59855ed04e2c7b140f",
              "IPY_MODEL_14dd6892fcef4a72bb6e8ff9ff956cf1",
              "IPY_MODEL_3dacd9bfea2844008d591f3065e4542c"
            ],
            "layout": "IPY_MODEL_c5187eb86376457a86c47fb5b621c9a6"
          }
        },
        "4aeed2b094c34d59855ed04e2c7b140f": {
          "model_module": "@jupyter-widgets/controls",
          "model_name": "HTMLModel",
          "model_module_version": "1.5.0",
          "state": {
            "_dom_classes": [],
            "_model_module": "@jupyter-widgets/controls",
            "_model_module_version": "1.5.0",
            "_model_name": "HTMLModel",
            "_view_count": null,
            "_view_module": "@jupyter-widgets/controls",
            "_view_module_version": "1.5.0",
            "_view_name": "HTMLView",
            "description": "",
            "description_tooltip": null,
            "layout": "IPY_MODEL_c2b0b64ab0ae49dcac8e9dc3f4b538f4",
            "placeholder": "​",
            "style": "IPY_MODEL_a937f3d1d85c4f429fe58c07cad2831c",
            "value": "Downloading: 100%"
          }
        },
        "14dd6892fcef4a72bb6e8ff9ff956cf1": {
          "model_module": "@jupyter-widgets/controls",
          "model_name": "FloatProgressModel",
          "model_module_version": "1.5.0",
          "state": {
            "_dom_classes": [],
            "_model_module": "@jupyter-widgets/controls",
            "_model_module_version": "1.5.0",
            "_model_name": "FloatProgressModel",
            "_view_count": null,
            "_view_module": "@jupyter-widgets/controls",
            "_view_module_version": "1.5.0",
            "_view_name": "ProgressView",
            "bar_style": "success",
            "description": "",
            "description_tooltip": null,
            "layout": "IPY_MODEL_4e8893240d6c4eb78b8ce60ab4ca76c2",
            "max": 570,
            "min": 0,
            "orientation": "horizontal",
            "style": "IPY_MODEL_441a42eb754044f8ae06be45909b100f",
            "value": 570
          }
        },
        "3dacd9bfea2844008d591f3065e4542c": {
          "model_module": "@jupyter-widgets/controls",
          "model_name": "HTMLModel",
          "model_module_version": "1.5.0",
          "state": {
            "_dom_classes": [],
            "_model_module": "@jupyter-widgets/controls",
            "_model_module_version": "1.5.0",
            "_model_name": "HTMLModel",
            "_view_count": null,
            "_view_module": "@jupyter-widgets/controls",
            "_view_module_version": "1.5.0",
            "_view_name": "HTMLView",
            "description": "",
            "description_tooltip": null,
            "layout": "IPY_MODEL_65bb887c0af540bc912d4f175a941822",
            "placeholder": "​",
            "style": "IPY_MODEL_a973fa58f3b245ea9ace7138083e83f4",
            "value": " 570/570 [00:00&lt;00:00, 20.3kB/s]"
          }
        },
        "c5187eb86376457a86c47fb5b621c9a6": {
          "model_module": "@jupyter-widgets/base",
          "model_name": "LayoutModel",
          "model_module_version": "1.2.0",
          "state": {
            "_model_module": "@jupyter-widgets/base",
            "_model_module_version": "1.2.0",
            "_model_name": "LayoutModel",
            "_view_count": null,
            "_view_module": "@jupyter-widgets/base",
            "_view_module_version": "1.2.0",
            "_view_name": "LayoutView",
            "align_content": null,
            "align_items": null,
            "align_self": null,
            "border": null,
            "bottom": null,
            "display": null,
            "flex": null,
            "flex_flow": null,
            "grid_area": null,
            "grid_auto_columns": null,
            "grid_auto_flow": null,
            "grid_auto_rows": null,
            "grid_column": null,
            "grid_gap": null,
            "grid_row": null,
            "grid_template_areas": null,
            "grid_template_columns": null,
            "grid_template_rows": null,
            "height": null,
            "justify_content": null,
            "justify_items": null,
            "left": null,
            "margin": null,
            "max_height": null,
            "max_width": null,
            "min_height": null,
            "min_width": null,
            "object_fit": null,
            "object_position": null,
            "order": null,
            "overflow": null,
            "overflow_x": null,
            "overflow_y": null,
            "padding": null,
            "right": null,
            "top": null,
            "visibility": null,
            "width": null
          }
        },
        "c2b0b64ab0ae49dcac8e9dc3f4b538f4": {
          "model_module": "@jupyter-widgets/base",
          "model_name": "LayoutModel",
          "model_module_version": "1.2.0",
          "state": {
            "_model_module": "@jupyter-widgets/base",
            "_model_module_version": "1.2.0",
            "_model_name": "LayoutModel",
            "_view_count": null,
            "_view_module": "@jupyter-widgets/base",
            "_view_module_version": "1.2.0",
            "_view_name": "LayoutView",
            "align_content": null,
            "align_items": null,
            "align_self": null,
            "border": null,
            "bottom": null,
            "display": null,
            "flex": null,
            "flex_flow": null,
            "grid_area": null,
            "grid_auto_columns": null,
            "grid_auto_flow": null,
            "grid_auto_rows": null,
            "grid_column": null,
            "grid_gap": null,
            "grid_row": null,
            "grid_template_areas": null,
            "grid_template_columns": null,
            "grid_template_rows": null,
            "height": null,
            "justify_content": null,
            "justify_items": null,
            "left": null,
            "margin": null,
            "max_height": null,
            "max_width": null,
            "min_height": null,
            "min_width": null,
            "object_fit": null,
            "object_position": null,
            "order": null,
            "overflow": null,
            "overflow_x": null,
            "overflow_y": null,
            "padding": null,
            "right": null,
            "top": null,
            "visibility": null,
            "width": null
          }
        },
        "a937f3d1d85c4f429fe58c07cad2831c": {
          "model_module": "@jupyter-widgets/controls",
          "model_name": "DescriptionStyleModel",
          "model_module_version": "1.5.0",
          "state": {
            "_model_module": "@jupyter-widgets/controls",
            "_model_module_version": "1.5.0",
            "_model_name": "DescriptionStyleModel",
            "_view_count": null,
            "_view_module": "@jupyter-widgets/base",
            "_view_module_version": "1.2.0",
            "_view_name": "StyleView",
            "description_width": ""
          }
        },
        "4e8893240d6c4eb78b8ce60ab4ca76c2": {
          "model_module": "@jupyter-widgets/base",
          "model_name": "LayoutModel",
          "model_module_version": "1.2.0",
          "state": {
            "_model_module": "@jupyter-widgets/base",
            "_model_module_version": "1.2.0",
            "_model_name": "LayoutModel",
            "_view_count": null,
            "_view_module": "@jupyter-widgets/base",
            "_view_module_version": "1.2.0",
            "_view_name": "LayoutView",
            "align_content": null,
            "align_items": null,
            "align_self": null,
            "border": null,
            "bottom": null,
            "display": null,
            "flex": null,
            "flex_flow": null,
            "grid_area": null,
            "grid_auto_columns": null,
            "grid_auto_flow": null,
            "grid_auto_rows": null,
            "grid_column": null,
            "grid_gap": null,
            "grid_row": null,
            "grid_template_areas": null,
            "grid_template_columns": null,
            "grid_template_rows": null,
            "height": null,
            "justify_content": null,
            "justify_items": null,
            "left": null,
            "margin": null,
            "max_height": null,
            "max_width": null,
            "min_height": null,
            "min_width": null,
            "object_fit": null,
            "object_position": null,
            "order": null,
            "overflow": null,
            "overflow_x": null,
            "overflow_y": null,
            "padding": null,
            "right": null,
            "top": null,
            "visibility": null,
            "width": null
          }
        },
        "441a42eb754044f8ae06be45909b100f": {
          "model_module": "@jupyter-widgets/controls",
          "model_name": "ProgressStyleModel",
          "model_module_version": "1.5.0",
          "state": {
            "_model_module": "@jupyter-widgets/controls",
            "_model_module_version": "1.5.0",
            "_model_name": "ProgressStyleModel",
            "_view_count": null,
            "_view_module": "@jupyter-widgets/base",
            "_view_module_version": "1.2.0",
            "_view_name": "StyleView",
            "bar_color": null,
            "description_width": ""
          }
        },
        "65bb887c0af540bc912d4f175a941822": {
          "model_module": "@jupyter-widgets/base",
          "model_name": "LayoutModel",
          "model_module_version": "1.2.0",
          "state": {
            "_model_module": "@jupyter-widgets/base",
            "_model_module_version": "1.2.0",
            "_model_name": "LayoutModel",
            "_view_count": null,
            "_view_module": "@jupyter-widgets/base",
            "_view_module_version": "1.2.0",
            "_view_name": "LayoutView",
            "align_content": null,
            "align_items": null,
            "align_self": null,
            "border": null,
            "bottom": null,
            "display": null,
            "flex": null,
            "flex_flow": null,
            "grid_area": null,
            "grid_auto_columns": null,
            "grid_auto_flow": null,
            "grid_auto_rows": null,
            "grid_column": null,
            "grid_gap": null,
            "grid_row": null,
            "grid_template_areas": null,
            "grid_template_columns": null,
            "grid_template_rows": null,
            "height": null,
            "justify_content": null,
            "justify_items": null,
            "left": null,
            "margin": null,
            "max_height": null,
            "max_width": null,
            "min_height": null,
            "min_width": null,
            "object_fit": null,
            "object_position": null,
            "order": null,
            "overflow": null,
            "overflow_x": null,
            "overflow_y": null,
            "padding": null,
            "right": null,
            "top": null,
            "visibility": null,
            "width": null
          }
        },
        "a973fa58f3b245ea9ace7138083e83f4": {
          "model_module": "@jupyter-widgets/controls",
          "model_name": "DescriptionStyleModel",
          "model_module_version": "1.5.0",
          "state": {
            "_model_module": "@jupyter-widgets/controls",
            "_model_module_version": "1.5.0",
            "_model_name": "DescriptionStyleModel",
            "_view_count": null,
            "_view_module": "@jupyter-widgets/base",
            "_view_module_version": "1.2.0",
            "_view_name": "StyleView",
            "description_width": ""
          }
        },
        "a505d21c2a8942d68a6d71a3cb79ba85": {
          "model_module": "@jupyter-widgets/controls",
          "model_name": "HBoxModel",
          "model_module_version": "1.5.0",
          "state": {
            "_dom_classes": [],
            "_model_module": "@jupyter-widgets/controls",
            "_model_module_version": "1.5.0",
            "_model_name": "HBoxModel",
            "_view_count": null,
            "_view_module": "@jupyter-widgets/controls",
            "_view_module_version": "1.5.0",
            "_view_name": "HBoxView",
            "box_style": "",
            "children": [
              "IPY_MODEL_f688879b3db24053bf818668e9a1847d",
              "IPY_MODEL_5562cc7dc2cd46abad71302c5247f1cc",
              "IPY_MODEL_5a13e7609b4c4457b3ac97b674e9b42a"
            ],
            "layout": "IPY_MODEL_de448c2809924bcf82187fa631e71110"
          }
        },
        "f688879b3db24053bf818668e9a1847d": {
          "model_module": "@jupyter-widgets/controls",
          "model_name": "HTMLModel",
          "model_module_version": "1.5.0",
          "state": {
            "_dom_classes": [],
            "_model_module": "@jupyter-widgets/controls",
            "_model_module_version": "1.5.0",
            "_model_name": "HTMLModel",
            "_view_count": null,
            "_view_module": "@jupyter-widgets/controls",
            "_view_module_version": "1.5.0",
            "_view_name": "HTMLView",
            "description": "",
            "description_tooltip": null,
            "layout": "IPY_MODEL_ffc7a619cfcf4327bf28492140c6cf40",
            "placeholder": "​",
            "style": "IPY_MODEL_29e3c1a0182b4d07860e0bfc67f2097d",
            "value": "Downloading: 100%"
          }
        },
        "5562cc7dc2cd46abad71302c5247f1cc": {
          "model_module": "@jupyter-widgets/controls",
          "model_name": "FloatProgressModel",
          "model_module_version": "1.5.0",
          "state": {
            "_dom_classes": [],
            "_model_module": "@jupyter-widgets/controls",
            "_model_module_version": "1.5.0",
            "_model_name": "FloatProgressModel",
            "_view_count": null,
            "_view_module": "@jupyter-widgets/controls",
            "_view_module_version": "1.5.0",
            "_view_name": "ProgressView",
            "bar_style": "success",
            "description": "",
            "description_tooltip": null,
            "layout": "IPY_MODEL_f9515e4e6ab54adf92cec90f09703714",
            "max": 231508,
            "min": 0,
            "orientation": "horizontal",
            "style": "IPY_MODEL_058f92ae8ba3456a800a65e0904a6810",
            "value": 231508
          }
        },
        "5a13e7609b4c4457b3ac97b674e9b42a": {
          "model_module": "@jupyter-widgets/controls",
          "model_name": "HTMLModel",
          "model_module_version": "1.5.0",
          "state": {
            "_dom_classes": [],
            "_model_module": "@jupyter-widgets/controls",
            "_model_module_version": "1.5.0",
            "_model_name": "HTMLModel",
            "_view_count": null,
            "_view_module": "@jupyter-widgets/controls",
            "_view_module_version": "1.5.0",
            "_view_name": "HTMLView",
            "description": "",
            "description_tooltip": null,
            "layout": "IPY_MODEL_b598a27908f7404ba97a0c2ee791d24a",
            "placeholder": "​",
            "style": "IPY_MODEL_d36c765fcf5a42a9ab07901058f056d5",
            "value": " 232k/232k [00:00&lt;00:00, 579kB/s]"
          }
        },
        "de448c2809924bcf82187fa631e71110": {
          "model_module": "@jupyter-widgets/base",
          "model_name": "LayoutModel",
          "model_module_version": "1.2.0",
          "state": {
            "_model_module": "@jupyter-widgets/base",
            "_model_module_version": "1.2.0",
            "_model_name": "LayoutModel",
            "_view_count": null,
            "_view_module": "@jupyter-widgets/base",
            "_view_module_version": "1.2.0",
            "_view_name": "LayoutView",
            "align_content": null,
            "align_items": null,
            "align_self": null,
            "border": null,
            "bottom": null,
            "display": null,
            "flex": null,
            "flex_flow": null,
            "grid_area": null,
            "grid_auto_columns": null,
            "grid_auto_flow": null,
            "grid_auto_rows": null,
            "grid_column": null,
            "grid_gap": null,
            "grid_row": null,
            "grid_template_areas": null,
            "grid_template_columns": null,
            "grid_template_rows": null,
            "height": null,
            "justify_content": null,
            "justify_items": null,
            "left": null,
            "margin": null,
            "max_height": null,
            "max_width": null,
            "min_height": null,
            "min_width": null,
            "object_fit": null,
            "object_position": null,
            "order": null,
            "overflow": null,
            "overflow_x": null,
            "overflow_y": null,
            "padding": null,
            "right": null,
            "top": null,
            "visibility": null,
            "width": null
          }
        },
        "ffc7a619cfcf4327bf28492140c6cf40": {
          "model_module": "@jupyter-widgets/base",
          "model_name": "LayoutModel",
          "model_module_version": "1.2.0",
          "state": {
            "_model_module": "@jupyter-widgets/base",
            "_model_module_version": "1.2.0",
            "_model_name": "LayoutModel",
            "_view_count": null,
            "_view_module": "@jupyter-widgets/base",
            "_view_module_version": "1.2.0",
            "_view_name": "LayoutView",
            "align_content": null,
            "align_items": null,
            "align_self": null,
            "border": null,
            "bottom": null,
            "display": null,
            "flex": null,
            "flex_flow": null,
            "grid_area": null,
            "grid_auto_columns": null,
            "grid_auto_flow": null,
            "grid_auto_rows": null,
            "grid_column": null,
            "grid_gap": null,
            "grid_row": null,
            "grid_template_areas": null,
            "grid_template_columns": null,
            "grid_template_rows": null,
            "height": null,
            "justify_content": null,
            "justify_items": null,
            "left": null,
            "margin": null,
            "max_height": null,
            "max_width": null,
            "min_height": null,
            "min_width": null,
            "object_fit": null,
            "object_position": null,
            "order": null,
            "overflow": null,
            "overflow_x": null,
            "overflow_y": null,
            "padding": null,
            "right": null,
            "top": null,
            "visibility": null,
            "width": null
          }
        },
        "29e3c1a0182b4d07860e0bfc67f2097d": {
          "model_module": "@jupyter-widgets/controls",
          "model_name": "DescriptionStyleModel",
          "model_module_version": "1.5.0",
          "state": {
            "_model_module": "@jupyter-widgets/controls",
            "_model_module_version": "1.5.0",
            "_model_name": "DescriptionStyleModel",
            "_view_count": null,
            "_view_module": "@jupyter-widgets/base",
            "_view_module_version": "1.2.0",
            "_view_name": "StyleView",
            "description_width": ""
          }
        },
        "f9515e4e6ab54adf92cec90f09703714": {
          "model_module": "@jupyter-widgets/base",
          "model_name": "LayoutModel",
          "model_module_version": "1.2.0",
          "state": {
            "_model_module": "@jupyter-widgets/base",
            "_model_module_version": "1.2.0",
            "_model_name": "LayoutModel",
            "_view_count": null,
            "_view_module": "@jupyter-widgets/base",
            "_view_module_version": "1.2.0",
            "_view_name": "LayoutView",
            "align_content": null,
            "align_items": null,
            "align_self": null,
            "border": null,
            "bottom": null,
            "display": null,
            "flex": null,
            "flex_flow": null,
            "grid_area": null,
            "grid_auto_columns": null,
            "grid_auto_flow": null,
            "grid_auto_rows": null,
            "grid_column": null,
            "grid_gap": null,
            "grid_row": null,
            "grid_template_areas": null,
            "grid_template_columns": null,
            "grid_template_rows": null,
            "height": null,
            "justify_content": null,
            "justify_items": null,
            "left": null,
            "margin": null,
            "max_height": null,
            "max_width": null,
            "min_height": null,
            "min_width": null,
            "object_fit": null,
            "object_position": null,
            "order": null,
            "overflow": null,
            "overflow_x": null,
            "overflow_y": null,
            "padding": null,
            "right": null,
            "top": null,
            "visibility": null,
            "width": null
          }
        },
        "058f92ae8ba3456a800a65e0904a6810": {
          "model_module": "@jupyter-widgets/controls",
          "model_name": "ProgressStyleModel",
          "model_module_version": "1.5.0",
          "state": {
            "_model_module": "@jupyter-widgets/controls",
            "_model_module_version": "1.5.0",
            "_model_name": "ProgressStyleModel",
            "_view_count": null,
            "_view_module": "@jupyter-widgets/base",
            "_view_module_version": "1.2.0",
            "_view_name": "StyleView",
            "bar_color": null,
            "description_width": ""
          }
        },
        "b598a27908f7404ba97a0c2ee791d24a": {
          "model_module": "@jupyter-widgets/base",
          "model_name": "LayoutModel",
          "model_module_version": "1.2.0",
          "state": {
            "_model_module": "@jupyter-widgets/base",
            "_model_module_version": "1.2.0",
            "_model_name": "LayoutModel",
            "_view_count": null,
            "_view_module": "@jupyter-widgets/base",
            "_view_module_version": "1.2.0",
            "_view_name": "LayoutView",
            "align_content": null,
            "align_items": null,
            "align_self": null,
            "border": null,
            "bottom": null,
            "display": null,
            "flex": null,
            "flex_flow": null,
            "grid_area": null,
            "grid_auto_columns": null,
            "grid_auto_flow": null,
            "grid_auto_rows": null,
            "grid_column": null,
            "grid_gap": null,
            "grid_row": null,
            "grid_template_areas": null,
            "grid_template_columns": null,
            "grid_template_rows": null,
            "height": null,
            "justify_content": null,
            "justify_items": null,
            "left": null,
            "margin": null,
            "max_height": null,
            "max_width": null,
            "min_height": null,
            "min_width": null,
            "object_fit": null,
            "object_position": null,
            "order": null,
            "overflow": null,
            "overflow_x": null,
            "overflow_y": null,
            "padding": null,
            "right": null,
            "top": null,
            "visibility": null,
            "width": null
          }
        },
        "d36c765fcf5a42a9ab07901058f056d5": {
          "model_module": "@jupyter-widgets/controls",
          "model_name": "DescriptionStyleModel",
          "model_module_version": "1.5.0",
          "state": {
            "_model_module": "@jupyter-widgets/controls",
            "_model_module_version": "1.5.0",
            "_model_name": "DescriptionStyleModel",
            "_view_count": null,
            "_view_module": "@jupyter-widgets/base",
            "_view_module_version": "1.2.0",
            "_view_name": "StyleView",
            "description_width": ""
          }
        },
        "34882e873f3347ebafe0b212dab80f24": {
          "model_module": "@jupyter-widgets/controls",
          "model_name": "HBoxModel",
          "model_module_version": "1.5.0",
          "state": {
            "_dom_classes": [],
            "_model_module": "@jupyter-widgets/controls",
            "_model_module_version": "1.5.0",
            "_model_name": "HBoxModel",
            "_view_count": null,
            "_view_module": "@jupyter-widgets/controls",
            "_view_module_version": "1.5.0",
            "_view_name": "HBoxView",
            "box_style": "",
            "children": [
              "IPY_MODEL_237e5cc4ca094e0985309a3a6a0ab262",
              "IPY_MODEL_b68cc86682ba47d0b9d77aaf8458f122",
              "IPY_MODEL_dd097216df7b453d9bdb0e1efedb66a0"
            ],
            "layout": "IPY_MODEL_3992b359785941e08539cf48f871206e"
          }
        },
        "237e5cc4ca094e0985309a3a6a0ab262": {
          "model_module": "@jupyter-widgets/controls",
          "model_name": "HTMLModel",
          "model_module_version": "1.5.0",
          "state": {
            "_dom_classes": [],
            "_model_module": "@jupyter-widgets/controls",
            "_model_module_version": "1.5.0",
            "_model_name": "HTMLModel",
            "_view_count": null,
            "_view_module": "@jupyter-widgets/controls",
            "_view_module_version": "1.5.0",
            "_view_name": "HTMLView",
            "description": "",
            "description_tooltip": null,
            "layout": "IPY_MODEL_be4764a11f654d0d926f0b0ca93604f5",
            "placeholder": "​",
            "style": "IPY_MODEL_98bd3b13f8b541198170288d89aa6597",
            "value": "Downloading: 100%"
          }
        },
        "b68cc86682ba47d0b9d77aaf8458f122": {
          "model_module": "@jupyter-widgets/controls",
          "model_name": "FloatProgressModel",
          "model_module_version": "1.5.0",
          "state": {
            "_dom_classes": [],
            "_model_module": "@jupyter-widgets/controls",
            "_model_module_version": "1.5.0",
            "_model_name": "FloatProgressModel",
            "_view_count": null,
            "_view_module": "@jupyter-widgets/controls",
            "_view_module_version": "1.5.0",
            "_view_name": "ProgressView",
            "bar_style": "success",
            "description": "",
            "description_tooltip": null,
            "layout": "IPY_MODEL_f7cc793246944881abd04793b9a99401",
            "max": 466062,
            "min": 0,
            "orientation": "horizontal",
            "style": "IPY_MODEL_14d25745767f4f06bd46072e0c220d1d",
            "value": 466062
          }
        },
        "dd097216df7b453d9bdb0e1efedb66a0": {
          "model_module": "@jupyter-widgets/controls",
          "model_name": "HTMLModel",
          "model_module_version": "1.5.0",
          "state": {
            "_dom_classes": [],
            "_model_module": "@jupyter-widgets/controls",
            "_model_module_version": "1.5.0",
            "_model_name": "HTMLModel",
            "_view_count": null,
            "_view_module": "@jupyter-widgets/controls",
            "_view_module_version": "1.5.0",
            "_view_name": "HTMLView",
            "description": "",
            "description_tooltip": null,
            "layout": "IPY_MODEL_52925ab37b21422599a2909701ad0cab",
            "placeholder": "​",
            "style": "IPY_MODEL_5cbcc7e62e5e4637807339ce81277779",
            "value": " 466k/466k [00:00&lt;00:00, 582kB/s]"
          }
        },
        "3992b359785941e08539cf48f871206e": {
          "model_module": "@jupyter-widgets/base",
          "model_name": "LayoutModel",
          "model_module_version": "1.2.0",
          "state": {
            "_model_module": "@jupyter-widgets/base",
            "_model_module_version": "1.2.0",
            "_model_name": "LayoutModel",
            "_view_count": null,
            "_view_module": "@jupyter-widgets/base",
            "_view_module_version": "1.2.0",
            "_view_name": "LayoutView",
            "align_content": null,
            "align_items": null,
            "align_self": null,
            "border": null,
            "bottom": null,
            "display": null,
            "flex": null,
            "flex_flow": null,
            "grid_area": null,
            "grid_auto_columns": null,
            "grid_auto_flow": null,
            "grid_auto_rows": null,
            "grid_column": null,
            "grid_gap": null,
            "grid_row": null,
            "grid_template_areas": null,
            "grid_template_columns": null,
            "grid_template_rows": null,
            "height": null,
            "justify_content": null,
            "justify_items": null,
            "left": null,
            "margin": null,
            "max_height": null,
            "max_width": null,
            "min_height": null,
            "min_width": null,
            "object_fit": null,
            "object_position": null,
            "order": null,
            "overflow": null,
            "overflow_x": null,
            "overflow_y": null,
            "padding": null,
            "right": null,
            "top": null,
            "visibility": null,
            "width": null
          }
        },
        "be4764a11f654d0d926f0b0ca93604f5": {
          "model_module": "@jupyter-widgets/base",
          "model_name": "LayoutModel",
          "model_module_version": "1.2.0",
          "state": {
            "_model_module": "@jupyter-widgets/base",
            "_model_module_version": "1.2.0",
            "_model_name": "LayoutModel",
            "_view_count": null,
            "_view_module": "@jupyter-widgets/base",
            "_view_module_version": "1.2.0",
            "_view_name": "LayoutView",
            "align_content": null,
            "align_items": null,
            "align_self": null,
            "border": null,
            "bottom": null,
            "display": null,
            "flex": null,
            "flex_flow": null,
            "grid_area": null,
            "grid_auto_columns": null,
            "grid_auto_flow": null,
            "grid_auto_rows": null,
            "grid_column": null,
            "grid_gap": null,
            "grid_row": null,
            "grid_template_areas": null,
            "grid_template_columns": null,
            "grid_template_rows": null,
            "height": null,
            "justify_content": null,
            "justify_items": null,
            "left": null,
            "margin": null,
            "max_height": null,
            "max_width": null,
            "min_height": null,
            "min_width": null,
            "object_fit": null,
            "object_position": null,
            "order": null,
            "overflow": null,
            "overflow_x": null,
            "overflow_y": null,
            "padding": null,
            "right": null,
            "top": null,
            "visibility": null,
            "width": null
          }
        },
        "98bd3b13f8b541198170288d89aa6597": {
          "model_module": "@jupyter-widgets/controls",
          "model_name": "DescriptionStyleModel",
          "model_module_version": "1.5.0",
          "state": {
            "_model_module": "@jupyter-widgets/controls",
            "_model_module_version": "1.5.0",
            "_model_name": "DescriptionStyleModel",
            "_view_count": null,
            "_view_module": "@jupyter-widgets/base",
            "_view_module_version": "1.2.0",
            "_view_name": "StyleView",
            "description_width": ""
          }
        },
        "f7cc793246944881abd04793b9a99401": {
          "model_module": "@jupyter-widgets/base",
          "model_name": "LayoutModel",
          "model_module_version": "1.2.0",
          "state": {
            "_model_module": "@jupyter-widgets/base",
            "_model_module_version": "1.2.0",
            "_model_name": "LayoutModel",
            "_view_count": null,
            "_view_module": "@jupyter-widgets/base",
            "_view_module_version": "1.2.0",
            "_view_name": "LayoutView",
            "align_content": null,
            "align_items": null,
            "align_self": null,
            "border": null,
            "bottom": null,
            "display": null,
            "flex": null,
            "flex_flow": null,
            "grid_area": null,
            "grid_auto_columns": null,
            "grid_auto_flow": null,
            "grid_auto_rows": null,
            "grid_column": null,
            "grid_gap": null,
            "grid_row": null,
            "grid_template_areas": null,
            "grid_template_columns": null,
            "grid_template_rows": null,
            "height": null,
            "justify_content": null,
            "justify_items": null,
            "left": null,
            "margin": null,
            "max_height": null,
            "max_width": null,
            "min_height": null,
            "min_width": null,
            "object_fit": null,
            "object_position": null,
            "order": null,
            "overflow": null,
            "overflow_x": null,
            "overflow_y": null,
            "padding": null,
            "right": null,
            "top": null,
            "visibility": null,
            "width": null
          }
        },
        "14d25745767f4f06bd46072e0c220d1d": {
          "model_module": "@jupyter-widgets/controls",
          "model_name": "ProgressStyleModel",
          "model_module_version": "1.5.0",
          "state": {
            "_model_module": "@jupyter-widgets/controls",
            "_model_module_version": "1.5.0",
            "_model_name": "ProgressStyleModel",
            "_view_count": null,
            "_view_module": "@jupyter-widgets/base",
            "_view_module_version": "1.2.0",
            "_view_name": "StyleView",
            "bar_color": null,
            "description_width": ""
          }
        },
        "52925ab37b21422599a2909701ad0cab": {
          "model_module": "@jupyter-widgets/base",
          "model_name": "LayoutModel",
          "model_module_version": "1.2.0",
          "state": {
            "_model_module": "@jupyter-widgets/base",
            "_model_module_version": "1.2.0",
            "_model_name": "LayoutModel",
            "_view_count": null,
            "_view_module": "@jupyter-widgets/base",
            "_view_module_version": "1.2.0",
            "_view_name": "LayoutView",
            "align_content": null,
            "align_items": null,
            "align_self": null,
            "border": null,
            "bottom": null,
            "display": null,
            "flex": null,
            "flex_flow": null,
            "grid_area": null,
            "grid_auto_columns": null,
            "grid_auto_flow": null,
            "grid_auto_rows": null,
            "grid_column": null,
            "grid_gap": null,
            "grid_row": null,
            "grid_template_areas": null,
            "grid_template_columns": null,
            "grid_template_rows": null,
            "height": null,
            "justify_content": null,
            "justify_items": null,
            "left": null,
            "margin": null,
            "max_height": null,
            "max_width": null,
            "min_height": null,
            "min_width": null,
            "object_fit": null,
            "object_position": null,
            "order": null,
            "overflow": null,
            "overflow_x": null,
            "overflow_y": null,
            "padding": null,
            "right": null,
            "top": null,
            "visibility": null,
            "width": null
          }
        },
        "5cbcc7e62e5e4637807339ce81277779": {
          "model_module": "@jupyter-widgets/controls",
          "model_name": "DescriptionStyleModel",
          "model_module_version": "1.5.0",
          "state": {
            "_model_module": "@jupyter-widgets/controls",
            "_model_module_version": "1.5.0",
            "_model_name": "DescriptionStyleModel",
            "_view_count": null,
            "_view_module": "@jupyter-widgets/base",
            "_view_module_version": "1.2.0",
            "_view_name": "StyleView",
            "description_width": ""
          }
        },
        "572880c85fb843d399d6ec712e79ff97": {
          "model_module": "@jupyter-widgets/controls",
          "model_name": "HBoxModel",
          "model_module_version": "1.5.0",
          "state": {
            "_dom_classes": [],
            "_model_module": "@jupyter-widgets/controls",
            "_model_module_version": "1.5.0",
            "_model_name": "HBoxModel",
            "_view_count": null,
            "_view_module": "@jupyter-widgets/controls",
            "_view_module_version": "1.5.0",
            "_view_name": "HBoxView",
            "box_style": "",
            "children": [
              "IPY_MODEL_212411912fce42e3a2c100a0927b963e",
              "IPY_MODEL_fcd32a4ca99a4bf19fcb075c38c23a6b",
              "IPY_MODEL_e95ce151c5124125b7c2a07ab4d9e146"
            ],
            "layout": "IPY_MODEL_92133c9c2b5b4ac9840187c1f35fa275"
          }
        },
        "212411912fce42e3a2c100a0927b963e": {
          "model_module": "@jupyter-widgets/controls",
          "model_name": "HTMLModel",
          "model_module_version": "1.5.0",
          "state": {
            "_dom_classes": [],
            "_model_module": "@jupyter-widgets/controls",
            "_model_module_version": "1.5.0",
            "_model_name": "HTMLModel",
            "_view_count": null,
            "_view_module": "@jupyter-widgets/controls",
            "_view_module_version": "1.5.0",
            "_view_name": "HTMLView",
            "description": "",
            "description_tooltip": null,
            "layout": "IPY_MODEL_66b4061bd3e6497284f7ee71ad7f2473",
            "placeholder": "​",
            "style": "IPY_MODEL_fef4ab9f15bc4db086fce0e3a47af508",
            "value": "Downloading: 100%"
          }
        },
        "fcd32a4ca99a4bf19fcb075c38c23a6b": {
          "model_module": "@jupyter-widgets/controls",
          "model_name": "FloatProgressModel",
          "model_module_version": "1.5.0",
          "state": {
            "_dom_classes": [],
            "_model_module": "@jupyter-widgets/controls",
            "_model_module_version": "1.5.0",
            "_model_name": "FloatProgressModel",
            "_view_count": null,
            "_view_module": "@jupyter-widgets/controls",
            "_view_module_version": "1.5.0",
            "_view_name": "ProgressView",
            "bar_style": "success",
            "description": "",
            "description_tooltip": null,
            "layout": "IPY_MODEL_70a6effe83944315bbbd6e0411185f3b",
            "max": 440473133,
            "min": 0,
            "orientation": "horizontal",
            "style": "IPY_MODEL_2ebd2590515041b988caf0fbac71a13f",
            "value": 440473133
          }
        },
        "e95ce151c5124125b7c2a07ab4d9e146": {
          "model_module": "@jupyter-widgets/controls",
          "model_name": "HTMLModel",
          "model_module_version": "1.5.0",
          "state": {
            "_dom_classes": [],
            "_model_module": "@jupyter-widgets/controls",
            "_model_module_version": "1.5.0",
            "_model_name": "HTMLModel",
            "_view_count": null,
            "_view_module": "@jupyter-widgets/controls",
            "_view_module_version": "1.5.0",
            "_view_name": "HTMLView",
            "description": "",
            "description_tooltip": null,
            "layout": "IPY_MODEL_d6d7d8901bbb4bd1ae1f026676ba8e0c",
            "placeholder": "​",
            "style": "IPY_MODEL_2d02a04d0123426c8f009e0f92c5ab2f",
            "value": " 440M/440M [00:04&lt;00:00, 89.5MB/s]"
          }
        },
        "92133c9c2b5b4ac9840187c1f35fa275": {
          "model_module": "@jupyter-widgets/base",
          "model_name": "LayoutModel",
          "model_module_version": "1.2.0",
          "state": {
            "_model_module": "@jupyter-widgets/base",
            "_model_module_version": "1.2.0",
            "_model_name": "LayoutModel",
            "_view_count": null,
            "_view_module": "@jupyter-widgets/base",
            "_view_module_version": "1.2.0",
            "_view_name": "LayoutView",
            "align_content": null,
            "align_items": null,
            "align_self": null,
            "border": null,
            "bottom": null,
            "display": null,
            "flex": null,
            "flex_flow": null,
            "grid_area": null,
            "grid_auto_columns": null,
            "grid_auto_flow": null,
            "grid_auto_rows": null,
            "grid_column": null,
            "grid_gap": null,
            "grid_row": null,
            "grid_template_areas": null,
            "grid_template_columns": null,
            "grid_template_rows": null,
            "height": null,
            "justify_content": null,
            "justify_items": null,
            "left": null,
            "margin": null,
            "max_height": null,
            "max_width": null,
            "min_height": null,
            "min_width": null,
            "object_fit": null,
            "object_position": null,
            "order": null,
            "overflow": null,
            "overflow_x": null,
            "overflow_y": null,
            "padding": null,
            "right": null,
            "top": null,
            "visibility": null,
            "width": null
          }
        },
        "66b4061bd3e6497284f7ee71ad7f2473": {
          "model_module": "@jupyter-widgets/base",
          "model_name": "LayoutModel",
          "model_module_version": "1.2.0",
          "state": {
            "_model_module": "@jupyter-widgets/base",
            "_model_module_version": "1.2.0",
            "_model_name": "LayoutModel",
            "_view_count": null,
            "_view_module": "@jupyter-widgets/base",
            "_view_module_version": "1.2.0",
            "_view_name": "LayoutView",
            "align_content": null,
            "align_items": null,
            "align_self": null,
            "border": null,
            "bottom": null,
            "display": null,
            "flex": null,
            "flex_flow": null,
            "grid_area": null,
            "grid_auto_columns": null,
            "grid_auto_flow": null,
            "grid_auto_rows": null,
            "grid_column": null,
            "grid_gap": null,
            "grid_row": null,
            "grid_template_areas": null,
            "grid_template_columns": null,
            "grid_template_rows": null,
            "height": null,
            "justify_content": null,
            "justify_items": null,
            "left": null,
            "margin": null,
            "max_height": null,
            "max_width": null,
            "min_height": null,
            "min_width": null,
            "object_fit": null,
            "object_position": null,
            "order": null,
            "overflow": null,
            "overflow_x": null,
            "overflow_y": null,
            "padding": null,
            "right": null,
            "top": null,
            "visibility": null,
            "width": null
          }
        },
        "fef4ab9f15bc4db086fce0e3a47af508": {
          "model_module": "@jupyter-widgets/controls",
          "model_name": "DescriptionStyleModel",
          "model_module_version": "1.5.0",
          "state": {
            "_model_module": "@jupyter-widgets/controls",
            "_model_module_version": "1.5.0",
            "_model_name": "DescriptionStyleModel",
            "_view_count": null,
            "_view_module": "@jupyter-widgets/base",
            "_view_module_version": "1.2.0",
            "_view_name": "StyleView",
            "description_width": ""
          }
        },
        "70a6effe83944315bbbd6e0411185f3b": {
          "model_module": "@jupyter-widgets/base",
          "model_name": "LayoutModel",
          "model_module_version": "1.2.0",
          "state": {
            "_model_module": "@jupyter-widgets/base",
            "_model_module_version": "1.2.0",
            "_model_name": "LayoutModel",
            "_view_count": null,
            "_view_module": "@jupyter-widgets/base",
            "_view_module_version": "1.2.0",
            "_view_name": "LayoutView",
            "align_content": null,
            "align_items": null,
            "align_self": null,
            "border": null,
            "bottom": null,
            "display": null,
            "flex": null,
            "flex_flow": null,
            "grid_area": null,
            "grid_auto_columns": null,
            "grid_auto_flow": null,
            "grid_auto_rows": null,
            "grid_column": null,
            "grid_gap": null,
            "grid_row": null,
            "grid_template_areas": null,
            "grid_template_columns": null,
            "grid_template_rows": null,
            "height": null,
            "justify_content": null,
            "justify_items": null,
            "left": null,
            "margin": null,
            "max_height": null,
            "max_width": null,
            "min_height": null,
            "min_width": null,
            "object_fit": null,
            "object_position": null,
            "order": null,
            "overflow": null,
            "overflow_x": null,
            "overflow_y": null,
            "padding": null,
            "right": null,
            "top": null,
            "visibility": null,
            "width": null
          }
        },
        "2ebd2590515041b988caf0fbac71a13f": {
          "model_module": "@jupyter-widgets/controls",
          "model_name": "ProgressStyleModel",
          "model_module_version": "1.5.0",
          "state": {
            "_model_module": "@jupyter-widgets/controls",
            "_model_module_version": "1.5.0",
            "_model_name": "ProgressStyleModel",
            "_view_count": null,
            "_view_module": "@jupyter-widgets/base",
            "_view_module_version": "1.2.0",
            "_view_name": "StyleView",
            "bar_color": null,
            "description_width": ""
          }
        },
        "d6d7d8901bbb4bd1ae1f026676ba8e0c": {
          "model_module": "@jupyter-widgets/base",
          "model_name": "LayoutModel",
          "model_module_version": "1.2.0",
          "state": {
            "_model_module": "@jupyter-widgets/base",
            "_model_module_version": "1.2.0",
            "_model_name": "LayoutModel",
            "_view_count": null,
            "_view_module": "@jupyter-widgets/base",
            "_view_module_version": "1.2.0",
            "_view_name": "LayoutView",
            "align_content": null,
            "align_items": null,
            "align_self": null,
            "border": null,
            "bottom": null,
            "display": null,
            "flex": null,
            "flex_flow": null,
            "grid_area": null,
            "grid_auto_columns": null,
            "grid_auto_flow": null,
            "grid_auto_rows": null,
            "grid_column": null,
            "grid_gap": null,
            "grid_row": null,
            "grid_template_areas": null,
            "grid_template_columns": null,
            "grid_template_rows": null,
            "height": null,
            "justify_content": null,
            "justify_items": null,
            "left": null,
            "margin": null,
            "max_height": null,
            "max_width": null,
            "min_height": null,
            "min_width": null,
            "object_fit": null,
            "object_position": null,
            "order": null,
            "overflow": null,
            "overflow_x": null,
            "overflow_y": null,
            "padding": null,
            "right": null,
            "top": null,
            "visibility": null,
            "width": null
          }
        },
        "2d02a04d0123426c8f009e0f92c5ab2f": {
          "model_module": "@jupyter-widgets/controls",
          "model_name": "DescriptionStyleModel",
          "model_module_version": "1.5.0",
          "state": {
            "_model_module": "@jupyter-widgets/controls",
            "_model_module_version": "1.5.0",
            "_model_name": "DescriptionStyleModel",
            "_view_count": null,
            "_view_module": "@jupyter-widgets/base",
            "_view_module_version": "1.2.0",
            "_view_name": "StyleView",
            "description_width": ""
          }
        }
      }
    }
  },
  "cells": [
    {
      "cell_type": "markdown",
      "metadata": {
        "id": "view-in-github",
        "colab_type": "text"
      },
      "source": [
        "<a href=\"https://colab.research.google.com/github/nahbos/AUT-Advanced-Information-Retrieval/blob/main/Ex02/neural_network_based_information_retrieval.ipynb\" target=\"_parent\"><img src=\"https://colab.research.google.com/assets/colab-badge.svg\" alt=\"Open In Colab\"/></a>"
      ]
    },
    {
      "cell_type": "markdown",
      "source": [
        "## Sobhan Moradian Daghigh\n",
        "\n",
        "- 12-13-2022\n",
        "\n",
        "### Ex-02: NN-based IR"
      ],
      "metadata": {
        "id": "YU-Gx1EmJAA6"
      }
    },
    {
      "cell_type": "code",
      "source": [
        "!pip install transformers"
      ],
      "metadata": {
        "colab": {
          "base_uri": "https://localhost:8080/"
        },
        "id": "9BZcr1CPp9m_",
        "outputId": "e494c9d4-5262-4c23-d641-44d5823544c5"
      },
      "execution_count": 1,
      "outputs": [
        {
          "output_type": "stream",
          "name": "stdout",
          "text": [
            "Looking in indexes: https://pypi.org/simple, https://us-python.pkg.dev/colab-wheels/public/simple/\n",
            "Collecting transformers\n",
            "  Downloading transformers-4.25.1-py3-none-any.whl (5.8 MB)\n",
            "\u001b[K     |████████████████████████████████| 5.8 MB 10.7 MB/s \n",
            "\u001b[?25hRequirement already satisfied: filelock in /usr/local/lib/python3.8/dist-packages (from transformers) (3.8.0)\n",
            "Collecting tokenizers!=0.11.3,<0.14,>=0.11.1\n",
            "  Downloading tokenizers-0.13.2-cp38-cp38-manylinux_2_17_x86_64.manylinux2014_x86_64.whl (7.6 MB)\n",
            "\u001b[K     |████████████████████████████████| 7.6 MB 58.3 MB/s \n",
            "\u001b[?25hRequirement already satisfied: requests in /usr/local/lib/python3.8/dist-packages (from transformers) (2.23.0)\n",
            "Requirement already satisfied: regex!=2019.12.17 in /usr/local/lib/python3.8/dist-packages (from transformers) (2022.6.2)\n",
            "Requirement already satisfied: pyyaml>=5.1 in /usr/local/lib/python3.8/dist-packages (from transformers) (6.0)\n",
            "Requirement already satisfied: tqdm>=4.27 in /usr/local/lib/python3.8/dist-packages (from transformers) (4.64.1)\n",
            "Requirement already satisfied: packaging>=20.0 in /usr/local/lib/python3.8/dist-packages (from transformers) (21.3)\n",
            "Requirement already satisfied: numpy>=1.17 in /usr/local/lib/python3.8/dist-packages (from transformers) (1.21.6)\n",
            "Collecting huggingface-hub<1.0,>=0.10.0\n",
            "  Downloading huggingface_hub-0.11.1-py3-none-any.whl (182 kB)\n",
            "\u001b[K     |████████████████████████████████| 182 kB 60.8 MB/s \n",
            "\u001b[?25hRequirement already satisfied: typing-extensions>=3.7.4.3 in /usr/local/lib/python3.8/dist-packages (from huggingface-hub<1.0,>=0.10.0->transformers) (4.4.0)\n",
            "Requirement already satisfied: pyparsing!=3.0.5,>=2.0.2 in /usr/local/lib/python3.8/dist-packages (from packaging>=20.0->transformers) (3.0.9)\n",
            "Requirement already satisfied: idna<3,>=2.5 in /usr/local/lib/python3.8/dist-packages (from requests->transformers) (2.10)\n",
            "Requirement already satisfied: certifi>=2017.4.17 in /usr/local/lib/python3.8/dist-packages (from requests->transformers) (2022.9.24)\n",
            "Requirement already satisfied: chardet<4,>=3.0.2 in /usr/local/lib/python3.8/dist-packages (from requests->transformers) (3.0.4)\n",
            "Requirement already satisfied: urllib3!=1.25.0,!=1.25.1,<1.26,>=1.21.1 in /usr/local/lib/python3.8/dist-packages (from requests->transformers) (1.24.3)\n",
            "Installing collected packages: tokenizers, huggingface-hub, transformers\n",
            "Successfully installed huggingface-hub-0.11.1 tokenizers-0.13.2 transformers-4.25.1\n"
          ]
        }
      ]
    },
    {
      "cell_type": "code",
      "execution_count": 2,
      "metadata": {
        "id": "8nmKYHAuI4mA"
      },
      "outputs": [],
      "source": [
        "import numpy as np\n",
        "import pandas as pd\n",
        "import scipy\n",
        "import re\n",
        "from gensim.models import TfidfModel\n",
        "from gensim.corpora import Dictionary\n",
        "from gensim.utils import simple_preprocess\n",
        "from gensim.parsing.preprocessing import remove_stopwords\n",
        "from sklearn.feature_extraction.text import TfidfVectorizer\n",
        "from sklearn.metrics.pairwise import cosine_similarity\n",
        "from bs4 import BeautifulSoup\n",
        "from collections import Counter\n",
        "import random\n",
        "import pickle\n",
        "from tqdm import tqdm\n",
        "from PIL import Image\n",
        "\n",
        "\n",
        "import transformers\n",
        "import torch\n",
        "from transformers import AdamW, AutoTokenizer, AutoModelForSequenceClassification, Trainer\n",
        "from transformers import TrainingArguments\n",
        "from transformers import DataCollatorWithPadding"
      ]
    },
    {
      "cell_type": "code",
      "source": [
        "!wget -nc https://raw.githubusercontent.com/nahbos/Advanced-Information-Retrieval/main/Ex01/Data/train_data.csv\n",
        "!wget -nc https://raw.githubusercontent.com/nahbos/Advanced-Information-Retrieval/main/Ex01/Data/valid_data.csv\n",
        "!wget -nc https://raw.githubusercontent.com/nahbos/Advanced-Information-Retrieval/main/Ex01/Data/test_data.csv\n",
        "!wget -nc https://raw.githubusercontent.com/nahbos/Advanced-Information-Retrieval/main/Ex01/Data/bigram_LM.png\n",
        "!wget -nc https://raw.githubusercontent.com/nahbos/Advanced-Information-Retrieval/main/Ex01/Data/diricklet_smoothing_LM.png"
      ],
      "metadata": {
        "colab": {
          "base_uri": "https://localhost:8080/"
        },
        "id": "mLtmo5l-I--m",
        "outputId": "7aac0c63-3fc0-4510-e097-b117b9f5a35c"
      },
      "execution_count": 3,
      "outputs": [
        {
          "output_type": "stream",
          "name": "stdout",
          "text": [
            "--2022-12-13 18:53:00--  https://raw.githubusercontent.com/nahbos/Advanced-Information-Retrieval/main/Ex01/Data/train_data.csv\n",
            "Resolving raw.githubusercontent.com (raw.githubusercontent.com)... 185.199.108.133, 185.199.109.133, 185.199.110.133, ...\n",
            "Connecting to raw.githubusercontent.com (raw.githubusercontent.com)|185.199.108.133|:443... connected.\n",
            "HTTP request sent, awaiting response... 200 OK\n",
            "Length: 5148485 (4.9M) [text/plain]\n",
            "Saving to: ‘train_data.csv’\n",
            "\n",
            "train_data.csv      100%[===================>]   4.91M  --.-KB/s    in 0.03s   \n",
            "\n",
            "2022-12-13 18:53:01 (169 MB/s) - ‘train_data.csv’ saved [5148485/5148485]\n",
            "\n",
            "--2022-12-13 18:53:01--  https://raw.githubusercontent.com/nahbos/Advanced-Information-Retrieval/main/Ex01/Data/valid_data.csv\n",
            "Resolving raw.githubusercontent.com (raw.githubusercontent.com)... 185.199.108.133, 185.199.111.133, 185.199.110.133, ...\n",
            "Connecting to raw.githubusercontent.com (raw.githubusercontent.com)|185.199.108.133|:443... connected.\n",
            "HTTP request sent, awaiting response... 200 OK\n",
            "Length: 144317 (141K) [text/plain]\n",
            "Saving to: ‘valid_data.csv’\n",
            "\n",
            "valid_data.csv      100%[===================>] 140.93K  --.-KB/s    in 0.008s  \n",
            "\n",
            "2022-12-13 18:53:01 (16.5 MB/s) - ‘valid_data.csv’ saved [144317/144317]\n",
            "\n",
            "--2022-12-13 18:53:01--  https://raw.githubusercontent.com/nahbos/Advanced-Information-Retrieval/main/Ex01/Data/test_data.csv\n",
            "Resolving raw.githubusercontent.com (raw.githubusercontent.com)... 185.199.108.133, 185.199.109.133, 185.199.110.133, ...\n",
            "Connecting to raw.githubusercontent.com (raw.githubusercontent.com)|185.199.108.133|:443... connected.\n",
            "HTTP request sent, awaiting response... 200 OK\n",
            "Length: 131429 (128K) [text/plain]\n",
            "Saving to: ‘test_data.csv’\n",
            "\n",
            "test_data.csv       100%[===================>] 128.35K  --.-KB/s    in 0.008s  \n",
            "\n",
            "2022-12-13 18:53:02 (16.6 MB/s) - ‘test_data.csv’ saved [131429/131429]\n",
            "\n",
            "--2022-12-13 18:53:02--  https://raw.githubusercontent.com/nahbos/Advanced-Information-Retrieval/main/Ex01/Data/bigram_LM.png\n",
            "Resolving raw.githubusercontent.com (raw.githubusercontent.com)... 185.199.108.133, 185.199.109.133, 185.199.110.133, ...\n",
            "Connecting to raw.githubusercontent.com (raw.githubusercontent.com)|185.199.108.133|:443... connected.\n",
            "HTTP request sent, awaiting response... 200 OK\n",
            "Length: 23068 (23K) [image/png]\n",
            "Saving to: ‘bigram_LM.png’\n",
            "\n",
            "bigram_LM.png       100%[===================>]  22.53K  --.-KB/s    in 0s      \n",
            "\n",
            "2022-12-13 18:53:02 (87.5 MB/s) - ‘bigram_LM.png’ saved [23068/23068]\n",
            "\n",
            "--2022-12-13 18:53:02--  https://raw.githubusercontent.com/nahbos/Advanced-Information-Retrieval/main/Ex01/Data/diricklet_smoothing_LM.png\n",
            "Resolving raw.githubusercontent.com (raw.githubusercontent.com)... 185.199.108.133, 185.199.111.133, 185.199.110.133, ...\n",
            "Connecting to raw.githubusercontent.com (raw.githubusercontent.com)|185.199.108.133|:443... connected.\n",
            "HTTP request sent, awaiting response... 200 OK\n",
            "Length: 14262 (14K) [image/png]\n",
            "Saving to: ‘diricklet_smoothing_LM.png’\n",
            "\n",
            "diricklet_smoothing 100%[===================>]  13.93K  --.-KB/s    in 0s      \n",
            "\n",
            "2022-12-13 18:53:02 (107 MB/s) - ‘diricklet_smoothing_LM.png’ saved [14262/14262]\n",
            "\n"
          ]
        }
      ]
    },
    {
      "cell_type": "markdown",
      "source": [
        "# Part One. \n",
        "* Data Loading"
      ],
      "metadata": {
        "id": "qWCubj1TKn22"
      }
    },
    {
      "cell_type": "code",
      "source": [
        "train = pd.read_csv('./train_data.csv')\n",
        "val   = pd.read_csv('./valid_data.csv')\n",
        "test  = pd.read_csv('./test_data.csv')"
      ],
      "metadata": {
        "id": "tqkonR1KI-76"
      },
      "execution_count": 4,
      "outputs": []
    },
    {
      "cell_type": "code",
      "source": [
        "train.head()"
      ],
      "metadata": {
        "colab": {
          "base_uri": "https://localhost:8080/",
          "height": 206
        },
        "id": "-3CiMaZkI-5J",
        "outputId": "55f04b66-f2fe-4b4d-fca9-1bd445afd653"
      },
      "execution_count": 5,
      "outputs": [
        {
          "output_type": "execute_result",
          "data": {
            "text/plain": [
              "   id  qid1  qid2                                          question1  \\\n",
              "0  14    29    30  What are the laws to change your status from a...   \n",
              "1  18    37    38  Why are so many Quora users posting questions ...   \n",
              "2  38    77    78                        How do we prepare for UPSC?   \n",
              "3  58   117   118  I was suddenly logged off Gmail. I can't remem...   \n",
              "4  60   121   122  How do I download content from a kickass torre...   \n",
              "\n",
              "                                           question2  is_duplicate  \n",
              "0  What are the laws to change your status from a...             0  \n",
              "1  Why do people ask Quora questions which can be...             1  \n",
              "2                How do I prepare for civil service?             1  \n",
              "3  I can't remember my Gmail password or my recov...             1  \n",
              "4                   Is Kickass Torrents trustworthy?             0  "
            ],
            "text/html": [
              "\n",
              "  <div id=\"df-ce6ecc10-4d9b-486c-8855-70891d660e43\">\n",
              "    <div class=\"colab-df-container\">\n",
              "      <div>\n",
              "<style scoped>\n",
              "    .dataframe tbody tr th:only-of-type {\n",
              "        vertical-align: middle;\n",
              "    }\n",
              "\n",
              "    .dataframe tbody tr th {\n",
              "        vertical-align: top;\n",
              "    }\n",
              "\n",
              "    .dataframe thead th {\n",
              "        text-align: right;\n",
              "    }\n",
              "</style>\n",
              "<table border=\"1\" class=\"dataframe\">\n",
              "  <thead>\n",
              "    <tr style=\"text-align: right;\">\n",
              "      <th></th>\n",
              "      <th>id</th>\n",
              "      <th>qid1</th>\n",
              "      <th>qid2</th>\n",
              "      <th>question1</th>\n",
              "      <th>question2</th>\n",
              "      <th>is_duplicate</th>\n",
              "    </tr>\n",
              "  </thead>\n",
              "  <tbody>\n",
              "    <tr>\n",
              "      <th>0</th>\n",
              "      <td>14</td>\n",
              "      <td>29</td>\n",
              "      <td>30</td>\n",
              "      <td>What are the laws to change your status from a...</td>\n",
              "      <td>What are the laws to change your status from a...</td>\n",
              "      <td>0</td>\n",
              "    </tr>\n",
              "    <tr>\n",
              "      <th>1</th>\n",
              "      <td>18</td>\n",
              "      <td>37</td>\n",
              "      <td>38</td>\n",
              "      <td>Why are so many Quora users posting questions ...</td>\n",
              "      <td>Why do people ask Quora questions which can be...</td>\n",
              "      <td>1</td>\n",
              "    </tr>\n",
              "    <tr>\n",
              "      <th>2</th>\n",
              "      <td>38</td>\n",
              "      <td>77</td>\n",
              "      <td>78</td>\n",
              "      <td>How do we prepare for UPSC?</td>\n",
              "      <td>How do I prepare for civil service?</td>\n",
              "      <td>1</td>\n",
              "    </tr>\n",
              "    <tr>\n",
              "      <th>3</th>\n",
              "      <td>58</td>\n",
              "      <td>117</td>\n",
              "      <td>118</td>\n",
              "      <td>I was suddenly logged off Gmail. I can't remem...</td>\n",
              "      <td>I can't remember my Gmail password or my recov...</td>\n",
              "      <td>1</td>\n",
              "    </tr>\n",
              "    <tr>\n",
              "      <th>4</th>\n",
              "      <td>60</td>\n",
              "      <td>121</td>\n",
              "      <td>122</td>\n",
              "      <td>How do I download content from a kickass torre...</td>\n",
              "      <td>Is Kickass Torrents trustworthy?</td>\n",
              "      <td>0</td>\n",
              "    </tr>\n",
              "  </tbody>\n",
              "</table>\n",
              "</div>\n",
              "      <button class=\"colab-df-convert\" onclick=\"convertToInteractive('df-ce6ecc10-4d9b-486c-8855-70891d660e43')\"\n",
              "              title=\"Convert this dataframe to an interactive table.\"\n",
              "              style=\"display:none;\">\n",
              "        \n",
              "  <svg xmlns=\"http://www.w3.org/2000/svg\" height=\"24px\"viewBox=\"0 0 24 24\"\n",
              "       width=\"24px\">\n",
              "    <path d=\"M0 0h24v24H0V0z\" fill=\"none\"/>\n",
              "    <path d=\"M18.56 5.44l.94 2.06.94-2.06 2.06-.94-2.06-.94-.94-2.06-.94 2.06-2.06.94zm-11 1L8.5 8.5l.94-2.06 2.06-.94-2.06-.94L8.5 2.5l-.94 2.06-2.06.94zm10 10l.94 2.06.94-2.06 2.06-.94-2.06-.94-.94-2.06-.94 2.06-2.06.94z\"/><path d=\"M17.41 7.96l-1.37-1.37c-.4-.4-.92-.59-1.43-.59-.52 0-1.04.2-1.43.59L10.3 9.45l-7.72 7.72c-.78.78-.78 2.05 0 2.83L4 21.41c.39.39.9.59 1.41.59.51 0 1.02-.2 1.41-.59l7.78-7.78 2.81-2.81c.8-.78.8-2.07 0-2.86zM5.41 20L4 18.59l7.72-7.72 1.47 1.35L5.41 20z\"/>\n",
              "  </svg>\n",
              "      </button>\n",
              "      \n",
              "  <style>\n",
              "    .colab-df-container {\n",
              "      display:flex;\n",
              "      flex-wrap:wrap;\n",
              "      gap: 12px;\n",
              "    }\n",
              "\n",
              "    .colab-df-convert {\n",
              "      background-color: #E8F0FE;\n",
              "      border: none;\n",
              "      border-radius: 50%;\n",
              "      cursor: pointer;\n",
              "      display: none;\n",
              "      fill: #1967D2;\n",
              "      height: 32px;\n",
              "      padding: 0 0 0 0;\n",
              "      width: 32px;\n",
              "    }\n",
              "\n",
              "    .colab-df-convert:hover {\n",
              "      background-color: #E2EBFA;\n",
              "      box-shadow: 0px 1px 2px rgba(60, 64, 67, 0.3), 0px 1px 3px 1px rgba(60, 64, 67, 0.15);\n",
              "      fill: #174EA6;\n",
              "    }\n",
              "\n",
              "    [theme=dark] .colab-df-convert {\n",
              "      background-color: #3B4455;\n",
              "      fill: #D2E3FC;\n",
              "    }\n",
              "\n",
              "    [theme=dark] .colab-df-convert:hover {\n",
              "      background-color: #434B5C;\n",
              "      box-shadow: 0px 1px 3px 1px rgba(0, 0, 0, 0.15);\n",
              "      filter: drop-shadow(0px 1px 2px rgba(0, 0, 0, 0.3));\n",
              "      fill: #FFFFFF;\n",
              "    }\n",
              "  </style>\n",
              "\n",
              "      <script>\n",
              "        const buttonEl =\n",
              "          document.querySelector('#df-ce6ecc10-4d9b-486c-8855-70891d660e43 button.colab-df-convert');\n",
              "        buttonEl.style.display =\n",
              "          google.colab.kernel.accessAllowed ? 'block' : 'none';\n",
              "\n",
              "        async function convertToInteractive(key) {\n",
              "          const element = document.querySelector('#df-ce6ecc10-4d9b-486c-8855-70891d660e43');\n",
              "          const dataTable =\n",
              "            await google.colab.kernel.invokeFunction('convertToInteractive',\n",
              "                                                     [key], {});\n",
              "          if (!dataTable) return;\n",
              "\n",
              "          const docLinkHtml = 'Like what you see? Visit the ' +\n",
              "            '<a target=\"_blank\" href=https://colab.research.google.com/notebooks/data_table.ipynb>data table notebook</a>'\n",
              "            + ' to learn more about interactive tables.';\n",
              "          element.innerHTML = '';\n",
              "          dataTable['output_type'] = 'display_data';\n",
              "          await google.colab.output.renderOutput(dataTable, element);\n",
              "          const docLink = document.createElement('div');\n",
              "          docLink.innerHTML = docLinkHtml;\n",
              "          element.appendChild(docLink);\n",
              "        }\n",
              "      </script>\n",
              "    </div>\n",
              "  </div>\n",
              "  "
            ]
          },
          "metadata": {},
          "execution_count": 5
        }
      ]
    },
    {
      "cell_type": "code",
      "source": [
        "train.info()"
      ],
      "metadata": {
        "colab": {
          "base_uri": "https://localhost:8080/"
        },
        "id": "ww7bis29I-2h",
        "outputId": "a636c37d-82e8-4965-965a-a880eb54426e"
      },
      "execution_count": 6,
      "outputs": [
        {
          "output_type": "stream",
          "name": "stdout",
          "text": [
            "<class 'pandas.core.frame.DataFrame'>\n",
            "RangeIndex: 37250 entries, 0 to 37249\n",
            "Data columns (total 6 columns):\n",
            " #   Column        Non-Null Count  Dtype \n",
            "---  ------        --------------  ----- \n",
            " 0   id            37250 non-null  int64 \n",
            " 1   qid1          37250 non-null  int64 \n",
            " 2   qid2          37250 non-null  int64 \n",
            " 3   question1     37250 non-null  object\n",
            " 4   question2     37250 non-null  object\n",
            " 5   is_duplicate  37250 non-null  int64 \n",
            "dtypes: int64(4), object(2)\n",
            "memory usage: 1.7+ MB\n"
          ]
        }
      ]
    },
    {
      "cell_type": "code",
      "source": [
        "val.info()"
      ],
      "metadata": {
        "colab": {
          "base_uri": "https://localhost:8080/"
        },
        "id": "En5i5KNJI-zu",
        "outputId": "b7cce7a3-2a3c-4306-d2fc-d3a528934659"
      },
      "execution_count": 7,
      "outputs": [
        {
          "output_type": "stream",
          "name": "stdout",
          "text": [
            "<class 'pandas.core.frame.DataFrame'>\n",
            "RangeIndex: 1010 entries, 0 to 1009\n",
            "Data columns (total 6 columns):\n",
            " #   Column        Non-Null Count  Dtype \n",
            "---  ------        --------------  ----- \n",
            " 0   id            1010 non-null   int64 \n",
            " 1   qid1          1010 non-null   int64 \n",
            " 2   qid2          1010 non-null   int64 \n",
            " 3   question1     1010 non-null   object\n",
            " 4   question2     1010 non-null   object\n",
            " 5   is_duplicate  1010 non-null   int64 \n",
            "dtypes: int64(4), object(2)\n",
            "memory usage: 47.5+ KB\n"
          ]
        }
      ]
    },
    {
      "cell_type": "code",
      "source": [
        "test.info()"
      ],
      "metadata": {
        "colab": {
          "base_uri": "https://localhost:8080/"
        },
        "id": "HjNAgw3ZOKUo",
        "outputId": "58e567f8-9762-4b62-fbc4-a9088a837ee4"
      },
      "execution_count": 8,
      "outputs": [
        {
          "output_type": "stream",
          "name": "stdout",
          "text": [
            "<class 'pandas.core.frame.DataFrame'>\n",
            "RangeIndex: 980 entries, 0 to 979\n",
            "Data columns (total 6 columns):\n",
            " #   Column        Non-Null Count  Dtype \n",
            "---  ------        --------------  ----- \n",
            " 0   id            980 non-null    int64 \n",
            " 1   qid1          980 non-null    int64 \n",
            " 2   qid2          980 non-null    int64 \n",
            " 3   question1     980 non-null    object\n",
            " 4   question2     980 non-null    object\n",
            " 5   is_duplicate  980 non-null    int64 \n",
            "dtypes: int64(4), object(2)\n",
            "memory usage: 46.1+ KB\n"
          ]
        }
      ]
    },
    {
      "cell_type": "code",
      "source": [],
      "metadata": {
        "id": "jO9P0RZBOKQS"
      },
      "execution_count": 8,
      "outputs": []
    },
    {
      "cell_type": "markdown",
      "source": [
        "## Preprocess"
      ],
      "metadata": {
        "id": "nvVth-FOiNWa"
      }
    },
    {
      "cell_type": "code",
      "source": [
        "def preprocess(q):\n",
        "    \n",
        "    q = str(q).lower().strip()\n",
        "    \n",
        "    # Replace certain special characters with their string equivalents\n",
        "    q = q.replace('%', ' percent')\n",
        "    q = q.replace('$', ' dollar ')\n",
        "    q = q.replace('₹', ' rupee ')\n",
        "    q = q.replace('€', ' euro ')\n",
        "    q = q.replace('@', ' at ')\n",
        "    \n",
        "    # The pattern '[math]' appears around 900 times in the whole dataset.\n",
        "    q = q.replace('[math]', '')\n",
        "    \n",
        "    # Replacing some numbers with string equivalents (not perfect, can be done better to account for more cases)\n",
        "    q = q.replace(',000,000,000 ', 'b ')\n",
        "    q = q.replace(',000,000 ', 'm ')\n",
        "    q = q.replace(',000 ', 'k ')\n",
        "    q = re.sub(r'([0-9]+)000000000', r'\\1b', q)\n",
        "    q = re.sub(r'([0-9]+)000000', r'\\1m', q)\n",
        "    q = re.sub(r'([0-9]+)000', r'\\1k', q)\n",
        "    \n",
        "    # Decontracting words\n",
        "    # https://en.wikipedia.org/wiki/Wikipedia%3aList_of_English_contractions\n",
        "    # https://stackoverflow.com/a/19794953\n",
        "\n",
        "    contractions = { \n",
        "    \"ain't\": \"am not\",\n",
        "    \"aren't\": \"are not\",\n",
        "    \"can't\": \"can not\",\n",
        "    \"can't've\": \"can not have\",\n",
        "    \"'cause\": \"because\",\n",
        "    \"could've\": \"could have\",\n",
        "    \"couldn't\": \"could not\",\n",
        "    \"couldn't've\": \"could not have\",\n",
        "    \"didn't\": \"did not\",\n",
        "    \"doesn't\": \"does not\",\n",
        "    \"don't\": \"do not\",\n",
        "    \"hadn't\": \"had not\",\n",
        "    \"hadn't've\": \"had not have\",\n",
        "    \"hasn't\": \"has not\",\n",
        "    \"haven't\": \"have not\",\n",
        "    \"he'd\": \"he would\",\n",
        "    \"he'd've\": \"he would have\",\n",
        "    \"he'll\": \"he will\",\n",
        "    \"he'll've\": \"he will have\",\n",
        "    \"he's\": \"he is\",\n",
        "    \"how'd\": \"how did\",\n",
        "    \"how'd'y\": \"how do you\",\n",
        "    \"how'll\": \"how will\",\n",
        "    \"how's\": \"how is\",\n",
        "    \"i'd\": \"i would\",\n",
        "    \"i'd've\": \"i would have\",\n",
        "    \"i'll\": \"i will\",\n",
        "    \"i'll've\": \"i will have\",\n",
        "    \"i'm\": \"i am\",\n",
        "    \"i've\": \"i have\",\n",
        "    \"isn't\": \"is not\",\n",
        "    \"it'd\": \"it would\",\n",
        "    \"it'd've\": \"it would have\",\n",
        "    \"it'll\": \"it will\",\n",
        "    \"it'll've\": \"it will have\",\n",
        "    \"it's\": \"it is\",\n",
        "    \"let's\": \"let us\",\n",
        "    \"ma'am\": \"madam\",\n",
        "    \"mayn't\": \"may not\",\n",
        "    \"might've\": \"might have\",\n",
        "    \"mightn't\": \"might not\",\n",
        "    \"mightn't've\": \"might not have\",\n",
        "    \"must've\": \"must have\",\n",
        "    \"mustn't\": \"must not\",\n",
        "    \"mustn't've\": \"must not have\",\n",
        "    \"needn't\": \"need not\",\n",
        "    \"needn't've\": \"need not have\",\n",
        "    \"o'clock\": \"of the clock\",\n",
        "    \"oughtn't\": \"ought not\",\n",
        "    \"oughtn't've\": \"ought not have\",\n",
        "    \"shan't\": \"shall not\",\n",
        "    \"sha'n't\": \"shall not\",\n",
        "    \"shan't've\": \"shall not have\",\n",
        "    \"she'd\": \"she would\",\n",
        "    \"she'd've\": \"she would have\",\n",
        "    \"she'll\": \"she will\",\n",
        "    \"she'll've\": \"she will have\",\n",
        "    \"she's\": \"she is\",\n",
        "    \"should've\": \"should have\",\n",
        "    \"shouldn't\": \"should not\",\n",
        "    \"shouldn't've\": \"should not have\",\n",
        "    \"so've\": \"so have\",\n",
        "    \"so's\": \"so as\",\n",
        "    \"that'd\": \"that would\",\n",
        "    \"that'd've\": \"that would have\",\n",
        "    \"that's\": \"that is\",\n",
        "    \"there'd\": \"there would\",\n",
        "    \"there'd've\": \"there would have\",\n",
        "    \"there's\": \"there is\",\n",
        "    \"they'd\": \"they would\",\n",
        "    \"they'd've\": \"they would have\",\n",
        "    \"they'll\": \"they will\",\n",
        "    \"they'll've\": \"they will have\",\n",
        "    \"they're\": \"they are\",\n",
        "    \"they've\": \"they have\",\n",
        "    \"to've\": \"to have\",\n",
        "    \"wasn't\": \"was not\",\n",
        "    \"we'd\": \"we would\",\n",
        "    \"we'd've\": \"we would have\",\n",
        "    \"we'll\": \"we will\",\n",
        "    \"we'll've\": \"we will have\",\n",
        "    \"we're\": \"we are\",\n",
        "    \"we've\": \"we have\",\n",
        "    \"weren't\": \"were not\",\n",
        "    \"what'll\": \"what will\",\n",
        "    \"what'll've\": \"what will have\",\n",
        "    \"what're\": \"what are\",\n",
        "    \"what's\": \"what is\",\n",
        "    \"what've\": \"what have\",\n",
        "    \"when's\": \"when is\",\n",
        "    \"when've\": \"when have\",\n",
        "    \"where'd\": \"where did\",\n",
        "    \"where's\": \"where is\",\n",
        "    \"where've\": \"where have\",\n",
        "    \"who'll\": \"who will\",\n",
        "    \"who'll've\": \"who will have\",\n",
        "    \"who's\": \"who is\",\n",
        "    \"who've\": \"who have\",\n",
        "    \"why's\": \"why is\",\n",
        "    \"why've\": \"why have\",\n",
        "    \"will've\": \"will have\",\n",
        "    \"won't\": \"will not\",\n",
        "    \"won't've\": \"will not have\",\n",
        "    \"would've\": \"would have\",\n",
        "    \"wouldn't\": \"would not\",\n",
        "    \"wouldn't've\": \"would not have\",\n",
        "    \"y'all\": \"you all\",\n",
        "    \"y'all'd\": \"you all would\",\n",
        "    \"y'all'd've\": \"you all would have\",\n",
        "    \"y'all're\": \"you all are\",\n",
        "    \"y'all've\": \"you all have\",\n",
        "    \"you'd\": \"you would\",\n",
        "    \"you'd've\": \"you would have\",\n",
        "    \"you'll\": \"you will\",\n",
        "    \"you'll've\": \"you will have\",\n",
        "    \"you're\": \"you are\",\n",
        "    \"you've\": \"you have\"\n",
        "    }\n",
        "\n",
        "    q_decontracted = []\n",
        "\n",
        "    for word in q.split():\n",
        "        if word in contractions:\n",
        "            word = contractions[word]\n",
        "\n",
        "        q_decontracted.append(word)\n",
        "\n",
        "    q = ' '.join(q_decontracted)\n",
        "    q = q.replace(\"'ve\", \" have\")\n",
        "    q = q.replace(\"n't\", \" not\")\n",
        "    q = q.replace(\"'re\", \" are\")\n",
        "    q = q.replace(\"'ll\", \" will\")\n",
        "    \n",
        "    # Removing HTML tags\n",
        "    q = BeautifulSoup(q)\n",
        "    q = q.get_text()\n",
        "    \n",
        "    # Remove punctuations\n",
        "    pattern = re.compile('\\W')\n",
        "    q = re.sub(pattern, ' ', q).strip()\n",
        "\n",
        "    \n",
        "    return q"
      ],
      "metadata": {
        "id": "4RB0NicKiM0y"
      },
      "execution_count": 9,
      "outputs": []
    },
    {
      "cell_type": "code",
      "source": [
        "train_org = train.copy()\n",
        "train['question1'] = train['question1'].apply(preprocess)\n",
        "train['question2'] = train['question2'].apply(preprocess)\n",
        "\n",
        "val_org = val.copy()\n",
        "val['question1'] = val['question1'].apply(preprocess)\n",
        "val['question2'] = val['question2'].apply(preprocess)\n",
        "\n",
        "test_org = test.copy()\n",
        "test['question1'] = test['question1'].apply(preprocess)\n",
        "test['question2'] = test['question2'].apply(preprocess)"
      ],
      "metadata": {
        "id": "z0O0KYAdimCn"
      },
      "execution_count": 10,
      "outputs": []
    },
    {
      "cell_type": "code",
      "source": [],
      "metadata": {
        "id": "Dp_frQYWtbxd"
      },
      "execution_count": 10,
      "outputs": []
    },
    {
      "cell_type": "markdown",
      "source": [
        "**Ok, Everything looks right ))**"
      ],
      "metadata": {
        "id": "1MqSNvyKOOTJ"
      }
    },
    {
      "cell_type": "code",
      "source": [],
      "metadata": {
        "id": "2Bua8QINimAL"
      },
      "execution_count": 10,
      "outputs": []
    },
    {
      "cell_type": "markdown",
      "source": [
        "# Part Two.\n",
        "Bert"
      ],
      "metadata": {
        "id": "73YF3Ox0cbcB"
      }
    },
    {
      "cell_type": "code",
      "source": [
        "checkpoint = \"bert-base-uncased\"\n",
        "tokenizer = AutoTokenizer.from_pretrained(checkpoint)\n",
        "model = AutoModelForSequenceClassification.from_pretrained(checkpoint, num_labels=2)"
      ],
      "metadata": {
        "colab": {
          "base_uri": "https://localhost:8080/",
          "height": 284,
          "referenced_widgets": [
            "8985641451fc440ca9cc6341cc04ee1e",
            "3257cce7996f4fd3806b6cbf9a51f61e",
            "a642e5e6ca704eb0b3201ad0281b9c9d",
            "11b6cf906cf3435fb3a4f56502fde79d",
            "f60344f5d2be4dd792a12f4246863936",
            "edb17e1201d742c58ca70c0a21def757",
            "e68ef7a341dc475193bbf4b8dd3b8c0b",
            "c0b322a1534643a49270ba8bbfaf782c",
            "bc174c62e777411ca0621964a796a1f8",
            "1f3e422208b6417795f6419e556e2cb7",
            "b50ade23cc7d47488e37edaeb665d5e4",
            "271f088ee3d6447b8b40fe6a0141a6ad",
            "4aeed2b094c34d59855ed04e2c7b140f",
            "14dd6892fcef4a72bb6e8ff9ff956cf1",
            "3dacd9bfea2844008d591f3065e4542c",
            "c5187eb86376457a86c47fb5b621c9a6",
            "c2b0b64ab0ae49dcac8e9dc3f4b538f4",
            "a937f3d1d85c4f429fe58c07cad2831c",
            "4e8893240d6c4eb78b8ce60ab4ca76c2",
            "441a42eb754044f8ae06be45909b100f",
            "65bb887c0af540bc912d4f175a941822",
            "a973fa58f3b245ea9ace7138083e83f4",
            "a505d21c2a8942d68a6d71a3cb79ba85",
            "f688879b3db24053bf818668e9a1847d",
            "5562cc7dc2cd46abad71302c5247f1cc",
            "5a13e7609b4c4457b3ac97b674e9b42a",
            "de448c2809924bcf82187fa631e71110",
            "ffc7a619cfcf4327bf28492140c6cf40",
            "29e3c1a0182b4d07860e0bfc67f2097d",
            "f9515e4e6ab54adf92cec90f09703714",
            "058f92ae8ba3456a800a65e0904a6810",
            "b598a27908f7404ba97a0c2ee791d24a",
            "d36c765fcf5a42a9ab07901058f056d5",
            "34882e873f3347ebafe0b212dab80f24",
            "237e5cc4ca094e0985309a3a6a0ab262",
            "b68cc86682ba47d0b9d77aaf8458f122",
            "dd097216df7b453d9bdb0e1efedb66a0",
            "3992b359785941e08539cf48f871206e",
            "be4764a11f654d0d926f0b0ca93604f5",
            "98bd3b13f8b541198170288d89aa6597",
            "f7cc793246944881abd04793b9a99401",
            "14d25745767f4f06bd46072e0c220d1d",
            "52925ab37b21422599a2909701ad0cab",
            "5cbcc7e62e5e4637807339ce81277779",
            "572880c85fb843d399d6ec712e79ff97",
            "212411912fce42e3a2c100a0927b963e",
            "fcd32a4ca99a4bf19fcb075c38c23a6b",
            "e95ce151c5124125b7c2a07ab4d9e146",
            "92133c9c2b5b4ac9840187c1f35fa275",
            "66b4061bd3e6497284f7ee71ad7f2473",
            "fef4ab9f15bc4db086fce0e3a47af508",
            "70a6effe83944315bbbd6e0411185f3b",
            "2ebd2590515041b988caf0fbac71a13f",
            "d6d7d8901bbb4bd1ae1f026676ba8e0c",
            "2d02a04d0123426c8f009e0f92c5ab2f"
          ]
        },
        "id": "aeHAsGsycbT2",
        "outputId": "32d4c50a-5cdc-4014-bf97-03e7dccb6f99"
      },
      "execution_count": 11,
      "outputs": [
        {
          "output_type": "display_data",
          "data": {
            "text/plain": [
              "Downloading:   0%|          | 0.00/28.0 [00:00<?, ?B/s]"
            ],
            "application/vnd.jupyter.widget-view+json": {
              "version_major": 2,
              "version_minor": 0,
              "model_id": "8985641451fc440ca9cc6341cc04ee1e"
            }
          },
          "metadata": {}
        },
        {
          "output_type": "display_data",
          "data": {
            "text/plain": [
              "Downloading:   0%|          | 0.00/570 [00:00<?, ?B/s]"
            ],
            "application/vnd.jupyter.widget-view+json": {
              "version_major": 2,
              "version_minor": 0,
              "model_id": "271f088ee3d6447b8b40fe6a0141a6ad"
            }
          },
          "metadata": {}
        },
        {
          "output_type": "display_data",
          "data": {
            "text/plain": [
              "Downloading:   0%|          | 0.00/232k [00:00<?, ?B/s]"
            ],
            "application/vnd.jupyter.widget-view+json": {
              "version_major": 2,
              "version_minor": 0,
              "model_id": "a505d21c2a8942d68a6d71a3cb79ba85"
            }
          },
          "metadata": {}
        },
        {
          "output_type": "display_data",
          "data": {
            "text/plain": [
              "Downloading:   0%|          | 0.00/466k [00:00<?, ?B/s]"
            ],
            "application/vnd.jupyter.widget-view+json": {
              "version_major": 2,
              "version_minor": 0,
              "model_id": "34882e873f3347ebafe0b212dab80f24"
            }
          },
          "metadata": {}
        },
        {
          "output_type": "display_data",
          "data": {
            "text/plain": [
              "Downloading:   0%|          | 0.00/440M [00:00<?, ?B/s]"
            ],
            "application/vnd.jupyter.widget-view+json": {
              "version_major": 2,
              "version_minor": 0,
              "model_id": "572880c85fb843d399d6ec712e79ff97"
            }
          },
          "metadata": {}
        },
        {
          "output_type": "stream",
          "name": "stderr",
          "text": [
            "Some weights of the model checkpoint at bert-base-uncased were not used when initializing BertForSequenceClassification: ['cls.predictions.decoder.weight', 'cls.predictions.transform.LayerNorm.bias', 'cls.seq_relationship.weight', 'cls.predictions.transform.LayerNorm.weight', 'cls.predictions.bias', 'cls.predictions.transform.dense.bias', 'cls.seq_relationship.bias', 'cls.predictions.transform.dense.weight']\n",
            "- This IS expected if you are initializing BertForSequenceClassification from the checkpoint of a model trained on another task or with another architecture (e.g. initializing a BertForSequenceClassification model from a BertForPreTraining model).\n",
            "- This IS NOT expected if you are initializing BertForSequenceClassification from the checkpoint of a model that you expect to be exactly identical (initializing a BertForSequenceClassification model from a BertForSequenceClassification model).\n",
            "Some weights of BertForSequenceClassification were not initialized from the model checkpoint at bert-base-uncased and are newly initialized: ['classifier.weight', 'classifier.bias']\n",
            "You should probably TRAIN this model on a down-stream task to be able to use it for predictions and inference.\n"
          ]
        }
      ]
    },
    {
      "cell_type": "code",
      "source": [
        "def tokenize_function(dataset, padding=False, return_tensors=None):\n",
        "    temp1 = []\n",
        "    temp2 = []\n",
        "    labels = []\n",
        "    for data in tqdm(list(dataset.iterrows())):\n",
        "        question1 = data[1]['question1']\n",
        "        question2 = data[1]['question2']\n",
        "        label     = data[1]['is_duplicate']\n",
        "\n",
        "        temp1.append(question1)\n",
        "        temp2.append(question2)\n",
        "        labels.append(label)\n",
        "  \n",
        "    tokens = tokenizer(temp1, temp2, truncation=True) if (padding==False and return_tensors==None) else tokenizer(temp1, temp2, truncation=True, padding=True, return_tensors='pt')\n",
        "    return tokens, labels"
      ],
      "metadata": {
        "id": "smgzRji0cbOd"
      },
      "execution_count": 70,
      "outputs": []
    },
    {
      "cell_type": "code",
      "source": [
        "tokenized_train, labels_train = tokenize_function(train)\n",
        "tokenized_val, labels_val = tokenize_function(val)\n",
        "tokenized_test, labels_test = tokenize_function(test, padding=True, return_tensors='pt')"
      ],
      "metadata": {
        "colab": {
          "base_uri": "https://localhost:8080/"
        },
        "id": "8DSkRpemcbL4",
        "outputId": "5e903c71-4fce-4523-e7ef-fcb2b6d1cf74"
      },
      "execution_count": 66,
      "outputs": [
        {
          "output_type": "stream",
          "name": "stderr",
          "text": [
            "100%|██████████| 37250/37250 [00:00<00:00, 42874.07it/s]\n",
            "100%|██████████| 1010/1010 [00:00<00:00, 88275.38it/s]\n",
            "100%|██████████| 980/980 [00:00<00:00, 89674.67it/s]\n"
          ]
        }
      ]
    },
    {
      "cell_type": "code",
      "source": [
        "# Create torch dataset\n",
        "class Dataset(torch.utils.data.Dataset):\n",
        "    def __init__(self, encodings, labels=None):\n",
        "        self.encodings = encodings\n",
        "        self.labels = labels\n",
        "\n",
        "    def __getitem__(self, idx):\n",
        "        item = {key: torch.tensor(val[idx]) for key, val in self.encodings.items()}\n",
        "        if self.labels:\n",
        "            item[\"labels\"] = torch.tensor(self.labels[idx])\n",
        "        return item\n",
        "\n",
        "    def __len__(self):\n",
        "        return len(self.encodings[\"input_ids\"])"
      ],
      "metadata": {
        "id": "WHNfaJRzzNmy"
      },
      "execution_count": 14,
      "outputs": []
    },
    {
      "cell_type": "code",
      "source": [
        "tokenized_train = Dataset(tokenized_train, labels_train)\n",
        "tokenized_val = Dataset(tokenized_val, labels_val)"
      ],
      "metadata": {
        "id": "A-jmUgdczUnp"
      },
      "execution_count": 67,
      "outputs": []
    },
    {
      "cell_type": "code",
      "source": [
        "data_collator = DataCollatorWithPadding(tokenizer=tokenizer)"
      ],
      "metadata": {
        "id": "l-z7AtwXcbJa"
      },
      "execution_count": 16,
      "outputs": []
    },
    {
      "cell_type": "code",
      "source": [
        "training_args = TrainingArguments(\"./quora-saved-model\", evaluation_strategy=\"epoch\", save_strategy='no', \n",
        "                                  report_to='none', num_train_epochs=3, \n",
        "                                  per_device_train_batch_size=16, per_device_eval_batch_size=16)\n",
        "\n",
        "trainer = Trainer(\n",
        "    model,\n",
        "    training_args,\n",
        "    train_dataset=tokenized_train,\n",
        "    eval_dataset=tokenized_val,\n",
        "    data_collator=data_collator,\n",
        "    tokenizer=tokenizer,\n",
        "    )"
      ],
      "metadata": {
        "id": "L0YBtGHBcbGx"
      },
      "execution_count": 17,
      "outputs": []
    },
    {
      "cell_type": "code",
      "source": [
        "trainer.train()"
      ],
      "metadata": {
        "colab": {
          "base_uri": "https://localhost:8080/",
          "height": 658
        },
        "id": "s1gNHGTocbEM",
        "outputId": "585f31bf-4db0-4a90-868c-bf4f8782faa1"
      },
      "execution_count": 18,
      "outputs": [
        {
          "output_type": "stream",
          "name": "stderr",
          "text": [
            "/usr/local/lib/python3.8/dist-packages/transformers/optimization.py:306: FutureWarning: This implementation of AdamW is deprecated and will be removed in a future version. Use the PyTorch implementation torch.optim.AdamW instead, or set `no_deprecation_warning=True` to disable this warning\n",
            "  warnings.warn(\n",
            "***** Running training *****\n",
            "  Num examples = 37250\n",
            "  Num Epochs = 3\n",
            "  Instantaneous batch size per device = 32\n",
            "  Total train batch size (w. parallel, distributed & accumulation) = 32\n",
            "  Gradient Accumulation steps = 1\n",
            "  Total optimization steps = 3495\n",
            "  Number of trainable parameters = 109483778\n",
            "You're using a BertTokenizerFast tokenizer. Please note that with a fast tokenizer, using the `__call__` method is faster than using a method to encode the text followed by a call to the `pad` method to get a padded encoding.\n"
          ]
        },
        {
          "output_type": "display_data",
          "data": {
            "text/plain": [
              "<IPython.core.display.HTML object>"
            ],
            "text/html": [
              "\n",
              "    <div>\n",
              "      \n",
              "      <progress value='3495' max='3495' style='width:300px; height:20px; vertical-align: middle;'></progress>\n",
              "      [3495/3495 16:44, Epoch 3/3]\n",
              "    </div>\n",
              "    <table border=\"1\" class=\"dataframe\">\n",
              "  <thead>\n",
              " <tr style=\"text-align: left;\">\n",
              "      <th>Epoch</th>\n",
              "      <th>Training Loss</th>\n",
              "      <th>Validation Loss</th>\n",
              "    </tr>\n",
              "  </thead>\n",
              "  <tbody>\n",
              "    <tr>\n",
              "      <td>1</td>\n",
              "      <td>0.178000</td>\n",
              "      <td>0.111942</td>\n",
              "    </tr>\n",
              "    <tr>\n",
              "      <td>2</td>\n",
              "      <td>0.113600</td>\n",
              "      <td>0.101338</td>\n",
              "    </tr>\n",
              "    <tr>\n",
              "      <td>3</td>\n",
              "      <td>0.069300</td>\n",
              "      <td>0.093243</td>\n",
              "    </tr>\n",
              "  </tbody>\n",
              "</table><p>"
            ]
          },
          "metadata": {}
        },
        {
          "output_type": "stream",
          "name": "stderr",
          "text": [
            "***** Running Evaluation *****\n",
            "  Num examples = 1010\n",
            "  Batch size = 32\n",
            "***** Running Evaluation *****\n",
            "  Num examples = 1010\n",
            "  Batch size = 32\n",
            "***** Running Evaluation *****\n",
            "  Num examples = 1010\n",
            "  Batch size = 32\n",
            "\n",
            "\n",
            "Training completed. Do not forget to share your model on huggingface.co/models =)\n",
            "\n",
            "\n"
          ]
        },
        {
          "output_type": "execute_result",
          "data": {
            "text/plain": [
              "TrainOutput(global_step=3495, training_loss=0.1316508477337882, metrics={'train_runtime': 1007.1946, 'train_samples_per_second': 110.952, 'train_steps_per_second': 3.47, 'total_flos': 2957238762273840.0, 'train_loss': 0.1316508477337882, 'epoch': 3.0})"
            ]
          },
          "metadata": {},
          "execution_count": 18
        }
      ]
    },
    {
      "cell_type": "code",
      "source": [
        "def prediction(tokens):\n",
        "    logits = model(**tokens).logits\n",
        "    logits = logits.cpu().detach().numpy()\n",
        "    preds = np.argmax(logits, axis=-1)\n",
        "    return preds"
      ],
      "metadata": {
        "id": "o6OrBLmrgGFP"
      },
      "execution_count": 55,
      "outputs": []
    },
    {
      "cell_type": "code",
      "source": [
        "for part in range(0, len(test), 200):\n",
        "    tokenized_test_part, labels_test_part = tokenize_function(test[part:part+200], padding=True, return_tensors='pt')\n",
        "    tokenized_test_part.to(\"cuda\")\n",
        "    preds = prediction(tokenized_test_part)\n",
        "\n",
        "    print(labels_test_part)"
      ],
      "metadata": {
        "id": "x62EYisS9OC0",
        "outputId": "d9559f33-4150-484b-a861-31e3e807589b",
        "colab": {
          "base_uri": "https://localhost:8080/"
        }
      },
      "execution_count": 87,
      "outputs": [
        {
          "output_type": "stream",
          "name": "stderr",
          "text": [
            "100%|██████████| 200/200 [00:00<00:00, 20109.33it/s]\n"
          ]
        },
        {
          "output_type": "stream",
          "name": "stdout",
          "text": [
            "[1, 1, 1, 1, 1, 1, 1, 1, 1, 1, 1, 1, 1, 1, 1, 1, 1, 1, 1, 1, 1, 1, 1, 1, 1, 1, 1, 1, 1, 1, 1, 1, 1, 1, 1, 1, 1, 1, 1, 1, 1, 1, 1, 1, 1, 1, 1, 1, 1, 1, 1, 1, 1, 1, 1, 1, 1, 1, 1, 1, 1, 1, 1, 1, 1, 1, 1, 1, 1, 1, 1, 1, 1, 1, 1, 1, 1, 1, 1, 1, 1, 1, 1, 1, 1, 1, 1, 1, 1, 1, 1, 1, 1, 1, 1, 1, 1, 1, 1, 1, 1, 1, 1, 1, 1, 1, 1, 1, 1, 1, 1, 1, 1, 1, 1, 1, 1, 1, 1, 1, 1, 1, 1, 1, 1, 1, 1, 1, 1, 1, 1, 1, 1, 1, 1, 1, 1, 1, 1, 1, 1, 1, 1, 1, 1, 1, 1, 1, 1, 1, 1, 1, 1, 1, 1, 1, 1, 1, 1, 1, 1, 1, 1, 1, 1, 1, 1, 1, 1, 1, 1, 1, 1, 1, 1, 1, 1, 1, 1, 1, 1, 1, 1, 1, 1, 1, 1, 1, 1, 1, 1, 1, 1, 1, 1, 1, 1, 1, 1, 1]\n"
          ]
        },
        {
          "output_type": "stream",
          "name": "stderr",
          "text": [
            "100%|██████████| 200/200 [00:00<00:00, 38375.99it/s]\n"
          ]
        },
        {
          "output_type": "stream",
          "name": "stdout",
          "text": [
            "[1, 1, 1, 1, 1, 1, 1, 1, 1, 1, 1, 1, 1, 1, 1, 1, 1, 1, 1, 1, 1, 1, 1, 1, 1, 1, 1, 1, 1, 1, 1, 1, 1, 1, 1, 1, 1, 1, 1, 1, 1, 1, 1, 1, 1, 1, 1, 1, 1, 1, 1, 1, 1, 1, 1, 1, 1, 1, 1, 1, 1, 1, 1, 1, 1, 1, 1, 1, 1, 1, 1, 1, 1, 1, 1, 1, 1, 1, 1, 1, 1, 1, 1, 1, 1, 1, 1, 1, 1, 1, 1, 1, 1, 1, 1, 1, 1, 1, 1, 1, 1, 1, 1, 1, 1, 1, 1, 1, 1, 1, 1, 1, 1, 1, 1, 1, 1, 1, 1, 1, 1, 1, 1, 1, 1, 1, 1, 1, 1, 1, 1, 1, 1, 1, 1, 1, 1, 1, 1, 1, 1, 1, 1, 1, 1, 1, 1, 1, 1, 1, 1, 1, 1, 1, 1, 1, 1, 1, 1, 1, 1, 1, 1, 1, 1, 1, 1, 1, 1, 1, 1, 1, 1, 1, 1, 1, 1, 1, 1, 1, 1, 1, 1, 1, 1, 1, 1, 1, 1, 1, 1, 1, 1, 1, 1, 1, 1, 1, 1, 1]\n"
          ]
        },
        {
          "output_type": "stream",
          "name": "stderr",
          "text": [
            "100%|██████████| 200/200 [00:00<00:00, 50072.27it/s]\n"
          ]
        },
        {
          "output_type": "stream",
          "name": "stdout",
          "text": [
            "[1, 1, 1, 1, 1, 1, 1, 1, 1, 1, 1, 1, 1, 1, 1, 1, 1, 1, 1, 1, 1, 1, 1, 1, 1, 1, 1, 1, 1, 1, 1, 1, 1, 1, 1, 1, 1, 1, 1, 1, 1, 1, 1, 1, 1, 1, 1, 1, 1, 1, 1, 1, 1, 1, 1, 1, 1, 1, 1, 1, 1, 1, 1, 1, 1, 1, 1, 1, 1, 1, 1, 1, 1, 1, 1, 1, 1, 1, 1, 1, 1, 1, 1, 1, 1, 1, 1, 1, 1, 1, 1, 1, 1, 1, 1, 1, 1, 1, 1, 1, 1, 1, 1, 1, 1, 1, 1, 1, 1, 1, 1, 1, 1, 1, 1, 1, 1, 1, 1, 1, 1, 1, 1, 1, 1, 1, 1, 1, 1, 1, 1, 1, 1, 1, 1, 1, 1, 1, 1, 1, 1, 1, 1, 1, 1, 1, 1, 1, 1, 1, 1, 1, 1, 1, 1, 1, 1, 1, 1, 1, 1, 1, 1, 1, 1, 1, 1, 1, 1, 1, 1, 1, 1, 1, 1, 1, 1, 1, 1, 1, 1, 1, 1, 1, 1, 1, 1, 1, 1, 1, 1, 1, 1, 1, 1, 1, 1, 1, 1, 1]\n"
          ]
        },
        {
          "output_type": "stream",
          "name": "stderr",
          "text": [
            "100%|██████████| 200/200 [00:00<00:00, 53471.49it/s]\n"
          ]
        },
        {
          "output_type": "stream",
          "name": "stdout",
          "text": [
            "[1, 1, 1, 1, 1, 1, 1, 1, 1, 1, 1, 1, 1, 1, 1, 1, 1, 1, 1, 1, 1, 1, 1, 1, 1, 1, 1, 1, 1, 1, 1, 1, 1, 1, 1, 1, 1, 1, 1, 1, 1, 1, 1, 1, 1, 1, 1, 1, 1, 1, 1, 1, 1, 1, 1, 1, 1, 1, 1, 1, 1, 1, 1, 1, 1, 1, 1, 1, 1, 1, 1, 1, 1, 1, 1, 1, 1, 1, 1, 1, 1, 1, 1, 1, 1, 1, 1, 1, 1, 1, 1, 1, 1, 1, 1, 1, 1, 1, 1, 1, 1, 1, 1, 1, 1, 1, 1, 1, 1, 1, 1, 1, 1, 1, 1, 1, 1, 1, 1, 1, 1, 1, 1, 1, 1, 1, 1, 1, 1, 1, 1, 1, 1, 1, 1, 1, 1, 1, 1, 1, 1, 1, 1, 1, 1, 1, 1, 1, 1, 1, 1, 1, 1, 1, 1, 1, 1, 1, 1, 1, 1, 1, 1, 1, 1, 1, 1, 1, 1, 1, 1, 1, 1, 1, 1, 1, 1, 1, 1, 1, 1, 1, 1, 1, 1, 1, 1, 1, 1, 1, 1, 1, 1, 1, 1, 1, 1, 1, 1, 1]\n"
          ]
        },
        {
          "output_type": "stream",
          "name": "stderr",
          "text": [
            "100%|██████████| 180/180 [00:00<00:00, 45706.18it/s]\n"
          ]
        },
        {
          "output_type": "stream",
          "name": "stdout",
          "text": [
            "[1, 1, 1, 1, 1, 1, 1, 1, 1, 1, 1, 1, 1, 1, 1, 1, 1, 1, 1, 1, 1, 1, 1, 1, 1, 1, 1, 1, 1, 1, 1, 1, 1, 1, 1, 1, 1, 1, 1, 1, 1, 1, 1, 1, 1, 1, 1, 1, 1, 1, 1, 1, 1, 1, 1, 1, 1, 1, 1, 1, 1, 1, 1, 1, 1, 1, 1, 1, 1, 1, 1, 1, 1, 1, 1, 1, 1, 1, 1, 1, 1, 1, 1, 1, 1, 1, 1, 1, 1, 1, 1, 1, 1, 1, 1, 1, 1, 1, 1, 1, 1, 1, 1, 1, 1, 1, 1, 1, 1, 1, 1, 1, 1, 1, 1, 1, 1, 1, 1, 1, 1, 1, 1, 1, 1, 1, 1, 1, 1, 1, 1, 1, 1, 1, 1, 1, 1, 1, 1, 1, 1, 1, 1, 1, 1, 1, 1, 1, 1, 1, 1, 1, 1, 1, 1, 1, 1, 1, 1, 1, 1, 1, 1, 1, 1, 1, 1, 1, 1, 1, 1, 1, 1, 1, 1, 1, 1, 1, 1, 1]\n"
          ]
        }
      ]
    },
    {
      "cell_type": "code",
      "source": [],
      "metadata": {
        "id": "6Ljql_EdgF9B"
      },
      "execution_count": null,
      "outputs": []
    },
    {
      "cell_type": "code",
      "source": [],
      "metadata": {
        "id": "00ufMeEhBFsl"
      },
      "execution_count": null,
      "outputs": []
    },
    {
      "cell_type": "code",
      "source": [],
      "metadata": {
        "id": "cb7eKCYHBFqt"
      },
      "execution_count": null,
      "outputs": []
    },
    {
      "cell_type": "code",
      "source": [],
      "metadata": {
        "id": "MaBYOUI8BFnc"
      },
      "execution_count": null,
      "outputs": []
    },
    {
      "cell_type": "markdown",
      "source": [
        "# Part Four.\n",
        "* Evaluation Metrics"
      ],
      "metadata": {
        "id": "NCUft9j5LSYS"
      }
    },
    {
      "cell_type": "code",
      "source": [
        "groups = test_org.groupby(by='question1')\n",
        "groups.first()"
      ],
      "metadata": {
        "colab": {
          "base_uri": "https://localhost:8080/",
          "height": 455
        },
        "id": "LQl32f1KuI4o",
        "outputId": "26a92fb2-3bee-4ec6-c0f6-5bf54639005e"
      },
      "execution_count": null,
      "outputs": [
        {
          "output_type": "execute_result",
          "data": {
            "text/plain": [
              "                                                        id    qid1    qid2  \\\n",
              "question1                                                                    \n",
              "Can Donald Trump really become President of US?      38545   69984   69985   \n",
              "Can I grow height after 19 years?                    98278  149375  157481   \n",
              "Can I locate someones phone without them knowin...   51470   91290   52786   \n",
              "Can I sell my business idea?                        107485  175643  112223   \n",
              "Can we expect time travel to become a reality?       21100   39755    1183   \n",
              "...                                                    ...     ...     ...   \n",
              "Why do people still think the the world is flat?      4014    7948    7949   \n",
              "Why do some answers collapse in Quora?                8574    4902   16705   \n",
              "Why do we fall in love?                              98453  163595  136954   \n",
              "Why is Manaphy crying incessantly throughout in...   74134   53518  123002   \n",
              "Why is my optional Question Details on Quora li...   67974  117553  117554   \n",
              "\n",
              "                                                                                            question2  \\\n",
              "question1                                                                                               \n",
              "Can Donald Trump really become President of US?     What are the chances that Donald Trump will be...   \n",
              "Can I grow height after 19 years?                    Is it possible to increase your height after 19?   \n",
              "Can I locate someones phone without them knowin...            How can I locate a cell phone location?   \n",
              "Can I sell my business idea?                                                Where can I sell my idea?   \n",
              "Can we expect time travel to become a reality?                  Do you think time travel is possible?   \n",
              "...                                                                                               ...   \n",
              "Why do people still think the the world is flat?    Why do some people today still believe that th...   \n",
              "Why do some answers collapse in Quora?                                Why are some answers collapsed?   \n",
              "Why do we fall in love?                                             What makes people \"fall\" in love?   \n",
              "Why is Manaphy crying incessantly throughout in...  Why is Manaphy anxious in Pokémon Ranger and t...   \n",
              "Why is my optional Question Details on Quora li...    How do I add long details to my Quora question?   \n",
              "\n",
              "                                                    is_duplicate  \n",
              "question1                                                         \n",
              "Can Donald Trump really become President of US?                1  \n",
              "Can I grow height after 19 years?                              1  \n",
              "Can I locate someones phone without them knowin...             1  \n",
              "Can I sell my business idea?                                   1  \n",
              "Can we expect time travel to become a reality?                 1  \n",
              "...                                                          ...  \n",
              "Why do people still think the the world is flat?               1  \n",
              "Why do some answers collapse in Quora?                         1  \n",
              "Why do we fall in love?                                        1  \n",
              "Why is Manaphy crying incessantly throughout in...             1  \n",
              "Why is my optional Question Details on Quora li...             1  \n",
              "\n",
              "[146 rows x 5 columns]"
            ],
            "text/html": [
              "\n",
              "  <div id=\"df-d4223a69-3a61-40e6-9247-715345d502d5\">\n",
              "    <div class=\"colab-df-container\">\n",
              "      <div>\n",
              "<style scoped>\n",
              "    .dataframe tbody tr th:only-of-type {\n",
              "        vertical-align: middle;\n",
              "    }\n",
              "\n",
              "    .dataframe tbody tr th {\n",
              "        vertical-align: top;\n",
              "    }\n",
              "\n",
              "    .dataframe thead th {\n",
              "        text-align: right;\n",
              "    }\n",
              "</style>\n",
              "<table border=\"1\" class=\"dataframe\">\n",
              "  <thead>\n",
              "    <tr style=\"text-align: right;\">\n",
              "      <th></th>\n",
              "      <th>id</th>\n",
              "      <th>qid1</th>\n",
              "      <th>qid2</th>\n",
              "      <th>question2</th>\n",
              "      <th>is_duplicate</th>\n",
              "    </tr>\n",
              "    <tr>\n",
              "      <th>question1</th>\n",
              "      <th></th>\n",
              "      <th></th>\n",
              "      <th></th>\n",
              "      <th></th>\n",
              "      <th></th>\n",
              "    </tr>\n",
              "  </thead>\n",
              "  <tbody>\n",
              "    <tr>\n",
              "      <th>Can Donald Trump really become President of US?</th>\n",
              "      <td>38545</td>\n",
              "      <td>69984</td>\n",
              "      <td>69985</td>\n",
              "      <td>What are the chances that Donald Trump will be...</td>\n",
              "      <td>1</td>\n",
              "    </tr>\n",
              "    <tr>\n",
              "      <th>Can I grow height after 19 years?</th>\n",
              "      <td>98278</td>\n",
              "      <td>149375</td>\n",
              "      <td>157481</td>\n",
              "      <td>Is it possible to increase your height after 19?</td>\n",
              "      <td>1</td>\n",
              "    </tr>\n",
              "    <tr>\n",
              "      <th>Can I locate someones phone without them knowing or having apps?</th>\n",
              "      <td>51470</td>\n",
              "      <td>91290</td>\n",
              "      <td>52786</td>\n",
              "      <td>How can I locate a cell phone location?</td>\n",
              "      <td>1</td>\n",
              "    </tr>\n",
              "    <tr>\n",
              "      <th>Can I sell my business idea?</th>\n",
              "      <td>107485</td>\n",
              "      <td>175643</td>\n",
              "      <td>112223</td>\n",
              "      <td>Where can I sell my idea?</td>\n",
              "      <td>1</td>\n",
              "    </tr>\n",
              "    <tr>\n",
              "      <th>Can we expect time travel to become a reality?</th>\n",
              "      <td>21100</td>\n",
              "      <td>39755</td>\n",
              "      <td>1183</td>\n",
              "      <td>Do you think time travel is possible?</td>\n",
              "      <td>1</td>\n",
              "    </tr>\n",
              "    <tr>\n",
              "      <th>...</th>\n",
              "      <td>...</td>\n",
              "      <td>...</td>\n",
              "      <td>...</td>\n",
              "      <td>...</td>\n",
              "      <td>...</td>\n",
              "    </tr>\n",
              "    <tr>\n",
              "      <th>Why do people still think the the world is flat?</th>\n",
              "      <td>4014</td>\n",
              "      <td>7948</td>\n",
              "      <td>7949</td>\n",
              "      <td>Why do some people today still believe that th...</td>\n",
              "      <td>1</td>\n",
              "    </tr>\n",
              "    <tr>\n",
              "      <th>Why do some answers collapse in Quora?</th>\n",
              "      <td>8574</td>\n",
              "      <td>4902</td>\n",
              "      <td>16705</td>\n",
              "      <td>Why are some answers collapsed?</td>\n",
              "      <td>1</td>\n",
              "    </tr>\n",
              "    <tr>\n",
              "      <th>Why do we fall in love?</th>\n",
              "      <td>98453</td>\n",
              "      <td>163595</td>\n",
              "      <td>136954</td>\n",
              "      <td>What makes people \"fall\" in love?</td>\n",
              "      <td>1</td>\n",
              "    </tr>\n",
              "    <tr>\n",
              "      <th>Why is Manaphy crying incessantly throughout in Pokemon Ranger and The Temple of The Sea?</th>\n",
              "      <td>74134</td>\n",
              "      <td>53518</td>\n",
              "      <td>123002</td>\n",
              "      <td>Why is Manaphy anxious in Pokémon Ranger and t...</td>\n",
              "      <td>1</td>\n",
              "    </tr>\n",
              "    <tr>\n",
              "      <th>Why is my optional Question Details on Quora limited but some people are not?</th>\n",
              "      <td>67974</td>\n",
              "      <td>117553</td>\n",
              "      <td>117554</td>\n",
              "      <td>How do I add long details to my Quora question?</td>\n",
              "      <td>1</td>\n",
              "    </tr>\n",
              "  </tbody>\n",
              "</table>\n",
              "<p>146 rows × 5 columns</p>\n",
              "</div>\n",
              "      <button class=\"colab-df-convert\" onclick=\"convertToInteractive('df-d4223a69-3a61-40e6-9247-715345d502d5')\"\n",
              "              title=\"Convert this dataframe to an interactive table.\"\n",
              "              style=\"display:none;\">\n",
              "        \n",
              "  <svg xmlns=\"http://www.w3.org/2000/svg\" height=\"24px\"viewBox=\"0 0 24 24\"\n",
              "       width=\"24px\">\n",
              "    <path d=\"M0 0h24v24H0V0z\" fill=\"none\"/>\n",
              "    <path d=\"M18.56 5.44l.94 2.06.94-2.06 2.06-.94-2.06-.94-.94-2.06-.94 2.06-2.06.94zm-11 1L8.5 8.5l.94-2.06 2.06-.94-2.06-.94L8.5 2.5l-.94 2.06-2.06.94zm10 10l.94 2.06.94-2.06 2.06-.94-2.06-.94-.94-2.06-.94 2.06-2.06.94z\"/><path d=\"M17.41 7.96l-1.37-1.37c-.4-.4-.92-.59-1.43-.59-.52 0-1.04.2-1.43.59L10.3 9.45l-7.72 7.72c-.78.78-.78 2.05 0 2.83L4 21.41c.39.39.9.59 1.41.59.51 0 1.02-.2 1.41-.59l7.78-7.78 2.81-2.81c.8-.78.8-2.07 0-2.86zM5.41 20L4 18.59l7.72-7.72 1.47 1.35L5.41 20z\"/>\n",
              "  </svg>\n",
              "      </button>\n",
              "      \n",
              "  <style>\n",
              "    .colab-df-container {\n",
              "      display:flex;\n",
              "      flex-wrap:wrap;\n",
              "      gap: 12px;\n",
              "    }\n",
              "\n",
              "    .colab-df-convert {\n",
              "      background-color: #E8F0FE;\n",
              "      border: none;\n",
              "      border-radius: 50%;\n",
              "      cursor: pointer;\n",
              "      display: none;\n",
              "      fill: #1967D2;\n",
              "      height: 32px;\n",
              "      padding: 0 0 0 0;\n",
              "      width: 32px;\n",
              "    }\n",
              "\n",
              "    .colab-df-convert:hover {\n",
              "      background-color: #E2EBFA;\n",
              "      box-shadow: 0px 1px 2px rgba(60, 64, 67, 0.3), 0px 1px 3px 1px rgba(60, 64, 67, 0.15);\n",
              "      fill: #174EA6;\n",
              "    }\n",
              "\n",
              "    [theme=dark] .colab-df-convert {\n",
              "      background-color: #3B4455;\n",
              "      fill: #D2E3FC;\n",
              "    }\n",
              "\n",
              "    [theme=dark] .colab-df-convert:hover {\n",
              "      background-color: #434B5C;\n",
              "      box-shadow: 0px 1px 3px 1px rgba(0, 0, 0, 0.15);\n",
              "      filter: drop-shadow(0px 1px 2px rgba(0, 0, 0, 0.3));\n",
              "      fill: #FFFFFF;\n",
              "    }\n",
              "  </style>\n",
              "\n",
              "      <script>\n",
              "        const buttonEl =\n",
              "          document.querySelector('#df-d4223a69-3a61-40e6-9247-715345d502d5 button.colab-df-convert');\n",
              "        buttonEl.style.display =\n",
              "          google.colab.kernel.accessAllowed ? 'block' : 'none';\n",
              "\n",
              "        async function convertToInteractive(key) {\n",
              "          const element = document.querySelector('#df-d4223a69-3a61-40e6-9247-715345d502d5');\n",
              "          const dataTable =\n",
              "            await google.colab.kernel.invokeFunction('convertToInteractive',\n",
              "                                                     [key], {});\n",
              "          if (!dataTable) return;\n",
              "\n",
              "          const docLinkHtml = 'Like what you see? Visit the ' +\n",
              "            '<a target=\"_blank\" href=https://colab.research.google.com/notebooks/data_table.ipynb>data table notebook</a>'\n",
              "            + ' to learn more about interactive tables.';\n",
              "          element.innerHTML = '';\n",
              "          dataTable['output_type'] = 'display_data';\n",
              "          await google.colab.output.renderOutput(dataTable, element);\n",
              "          const docLink = document.createElement('div');\n",
              "          docLink.innerHTML = docLinkHtml;\n",
              "          element.appendChild(docLink);\n",
              "        }\n",
              "      </script>\n",
              "    </div>\n",
              "  </div>\n",
              "  "
            ]
          },
          "metadata": {},
          "execution_count": 27
        }
      ]
    },
    {
      "cell_type": "code",
      "source": [
        "for i, (grp, pdf) in enumerate(groups):\n",
        "    print(' > {:65} : # of relevant questions: {}'.format(grp, len(pdf)))\n",
        "    if i == 5: break"
      ],
      "metadata": {
        "colab": {
          "base_uri": "https://localhost:8080/"
        },
        "id": "IMUtvYmnuj3u",
        "outputId": "209b0b91-d219-4266-b6c2-dccdf3b54f9e"
      },
      "execution_count": null,
      "outputs": [
        {
          "output_type": "stream",
          "name": "stdout",
          "text": [
            " > Can Donald Trump really become President of US?                   : # of relevant questions: 8\n",
            " > Can I grow height after 19 years?                                 : # of relevant questions: 1\n",
            " > Can I locate someones phone without them knowing or having apps?  : # of relevant questions: 2\n",
            " > Can I sell my business idea?                                      : # of relevant questions: 6\n",
            " > Can we expect time travel to become a reality?                    : # of relevant questions: 25\n",
            " > Can you help me get a lot more followers on Instagram?            : # of relevant questions: 5\n"
          ]
        }
      ]
    },
    {
      "cell_type": "code",
      "source": [
        "def check_relevancy(groups, query, returned_docs):\n",
        "    reles = []\n",
        "    for i, (grp, pdf) in enumerate(groups):\n",
        "        if grp == query: \n",
        "            relevances = [ele for ele in pdf.loc[:, 'question2']]\n",
        "            for doc in returned_docs:\n",
        "                if doc in relevances:\n",
        "                    reles.append(1)\n",
        "                else: \n",
        "                    reles.append(0)\n",
        "            return reles    # Returns an array like: [0, 1, 1, 0, 0, 1, ...]"
      ],
      "metadata": {
        "id": "69QgWKcEzSyG"
      },
      "execution_count": null,
      "outputs": []
    },
    {
      "cell_type": "code",
      "source": [],
      "metadata": {
        "id": "bNbElLBC3f4X"
      },
      "execution_count": null,
      "outputs": []
    },
    {
      "cell_type": "markdown",
      "source": [
        "### Average Precision (AP)"
      ],
      "metadata": {
        "id": "nPnTfmTedjiC"
      }
    },
    {
      "cell_type": "code",
      "source": [
        "def eval_AP(arr):\n",
        "    relevant = 0\n",
        "    map = 0\n",
        "    for i, ele in enumerate(arr):\n",
        "        if ele == 1:\n",
        "            relevant += 1\n",
        "            map += relevant / (i + 1)\n",
        "    return (map / relevant) if relevant != 0 else 0"
      ],
      "metadata": {
        "id": "Xe4r0vuhI-UD"
      },
      "execution_count": null,
      "outputs": []
    },
    {
      "cell_type": "markdown",
      "source": [
        "### Reciprocal Rank (RR)"
      ],
      "metadata": {
        "id": "3XDxcuKaXxsK"
      }
    },
    {
      "cell_type": "code",
      "source": [
        "def eval_RR(arr):\n",
        "    for i, ele in enumerate(arr):\n",
        "        if ele == 1:\n",
        "            return 1 / (i + 1)\n",
        "    return 0"
      ],
      "metadata": {
        "id": "hWILCg73XTr0"
      },
      "execution_count": null,
      "outputs": []
    },
    {
      "cell_type": "markdown",
      "source": [
        "### Precision @ k"
      ],
      "metadata": {
        "id": "ZJOKdDutX6hB"
      }
    },
    {
      "cell_type": "code",
      "source": [
        "def p_at_k(arr, k=10):\n",
        "    return sum(arr[:k]) / k"
      ],
      "metadata": {
        "id": "ZfSRwwyVI-Rb"
      },
      "execution_count": null,
      "outputs": []
    },
    {
      "cell_type": "code",
      "source": [],
      "metadata": {
        "id": "mwOqAgS1YsoC"
      },
      "execution_count": null,
      "outputs": []
    },
    {
      "cell_type": "markdown",
      "source": [
        "### First algorithm evaluation"
      ],
      "metadata": {
        "id": "Ge5GCRPN9rWS"
      }
    },
    {
      "cell_type": "code",
      "source": [
        "results = get_similar_questions(test, train, similarity)"
      ],
      "metadata": {
        "id": "sU6g2Hxh9q-B"
      },
      "execution_count": null,
      "outputs": []
    },
    {
      "cell_type": "code",
      "source": [
        "groups_test = test_org.groupby(by='question1')\n",
        "evals = []\n",
        "for i, ele in enumerate(results):\n",
        "    temp = check_relevancy(groups_test, test_org.loc[i, 'question1'], ele)\n",
        "\n",
        "    eval_ap = eval_AP(temp)\n",
        "    eval_rr = eval_RR(temp)\n",
        "    eval_p_at_5 = p_at_k(temp, k=5)\n",
        "    eval_p_at_10 = p_at_k(temp)\n",
        "\n",
        "\n",
        "    evals.append([eval_ap, eval_rr, eval_p_at_5, eval_p_at_10])\n",
        "\n",
        "\n",
        "arrs = np.array(evals).reshape(-1, order='F').reshape(4, -1)\n",
        "print('MAP : {:.3f}'.format(np.average(arrs[0])))\n",
        "print('MRR : {:.3f}'.format(np.average(arrs[1])))\n",
        "print('P@5 : {:.3f}'.format(np.average(arrs[2])))\n",
        "print('P@10: {:.3f}'.format(np.average(arrs[3])))"
      ],
      "metadata": {
        "colab": {
          "base_uri": "https://localhost:8080/"
        },
        "id": "R6TPU_k_BgvI",
        "outputId": "5510264f-9364-4951-bcdd-ae5c4340a1d1"
      },
      "execution_count": null,
      "outputs": [
        {
          "output_type": "stream",
          "name": "stdout",
          "text": [
            "MAP : 0.685\n",
            "MRR : 0.788\n",
            "P@5 : 0.528\n",
            "P@10: 0.437\n"
          ]
        }
      ]
    },
    {
      "cell_type": "code",
      "source": [],
      "metadata": {
        "id": "z2ZFg-L6Logt"
      },
      "execution_count": null,
      "outputs": []
    },
    {
      "cell_type": "markdown",
      "source": [
        "# Find parameters\n",
        "**Its time to search for best parameters value using evaluation metrics on validation dataset**"
      ],
      "metadata": {
        "id": "-PqBj6CC6nxF"
      }
    },
    {
      "cell_type": "code",
      "source": [
        "groups_val = val_org.groupby(by='question1')"
      ],
      "metadata": {
        "id": "zHBsaNph4L48"
      },
      "execution_count": null,
      "outputs": []
    },
    {
      "cell_type": "code",
      "source": [
        "k = 10"
      ],
      "metadata": {
        "id": "EkhOdnnBeq4b"
      },
      "execution_count": null,
      "outputs": []
    },
    {
      "cell_type": "code",
      "source": [
        "for mu in [10, 50, 100]:\n",
        "    print('------------------------------------------')\n",
        "    print('mu: {}'.format(mu))\n",
        "    print()\n",
        "    for i, val_q in enumerate(tqdm(tokenized_qs_val[:50])):\n",
        "        scores = []\n",
        "        for train_q in tokenized_qs_train:\n",
        "            prob = 1\n",
        "            for token in val_q:\n",
        "                prob = np.multiply(prob, probability_word_given_doc(word=token, doc=' '.join(train_q), collection=collection, collection_length=collection_length, collection_freq=collection_freq, mu=mu))\n",
        "            scores.append(prob)\n",
        "\n",
        "        relevant_results = check_relevancy(groups_val, query=val_org.loc[:, 'question1'].unique()[i], returned_docs=list(train_org.loc[:, 'question2'].unique()[np.argsort(scores)[::-1][:k]]))\n",
        "        eval_ap = eval_AP(relevant_results)\n",
        "        eval_rr = eval_RR(relevant_results)\n",
        "        eval_p_at_5 = p_at_k(relevant_results, k=5)\n",
        "        eval_p_at_10 = p_at_k(relevant_results)\n",
        "        evals.append([eval_ap, eval_rr, eval_p_at_5, eval_p_at_10])\n",
        "        \n",
        "        if i == 7:\n",
        "            print('\\nValidation Q1: ', val_org.loc[:, 'question1'].unique()[i])\n",
        "            \n",
        "            relevant_qs = get_relevants(val_org, q1=val_org.loc[:, 'question1'].unique()[i])\n",
        "            print('Relevants    : ', )\n",
        "            [print('             > ', q) for q in relevant_qs]\n",
        "\n",
        "            print('Train        :')\n",
        "            [print('             > ', q) for q in list(train_org.loc[:, 'question2'].unique()[np.argsort(scores)[::-1][:k]])]\n",
        "\n",
        "            print('AP: {:.2f}'.format(eval_ap))\n",
        "            print()\n",
        "\n",
        "    print('\\n---------------------------------------')\n",
        "\n",
        "    arrs = np.array(evals).reshape(-1, order='F').reshape(4, -1)\n",
        "    print('MAP : {:.3f}'.format(np.average(arrs[0])))\n",
        "    print('MRR : {:.3f}'.format(np.average(arrs[1])))\n",
        "    print('P@5 : {:.3f}'.format(np.average(arrs[2])))\n",
        "    print('P@10: {:.3f}'.format(np.average(arrs[3])))"
      ],
      "metadata": {
        "colab": {
          "base_uri": "https://localhost:8080/"
        },
        "id": "oHPa7jyEfB5g",
        "outputId": "efee5e5f-251e-4ae7-882f-9fd60ee6a8ad"
      },
      "execution_count": null,
      "outputs": [
        {
          "output_type": "stream",
          "name": "stdout",
          "text": [
            "------------------------------------------\n",
            "mu: 10\n",
            "\n"
          ]
        },
        {
          "output_type": "stream",
          "name": "stderr",
          "text": [
            " 16%|█▌        | 8/50 [00:10<00:50,  1.21s/it]"
          ]
        },
        {
          "output_type": "stream",
          "name": "stdout",
          "text": [
            "\n",
            "Validation Q1:  How can I stop myself from watching too much of porn?\n",
            "Relevants    : \n",
            "             >  How can I stop watching porn?\n",
            "             >  How do I stop addiction to porn?\n",
            "             >  How can I control myself from masturbating while watching porn?\n",
            "             >  Catholics: how do I stop watching internet porn?\n",
            "             >  How do I stop being addicted to porn?\n",
            "             >  What should be done to avoid watching porn?\n",
            "             >  How do I stop masturbating/watching porn? I can't/don't masturbate without watching porn.\n",
            "             >  How shall I stop watching porn?\n",
            "Train        :\n",
            "             >  How do I stop masturbating/watching porn? I can't/don't masturbate without watching porn.\n",
            "             >  How can I stop watching porn?\n",
            "             >  Why can't I stop watching porn?\n",
            "             >  Should I stop watching porn?\n",
            "             >  How shall I stop watching porn?\n",
            "             >  Catholics: how do I stop watching internet porn?\n",
            "             >  What should be done to avoid watching porn?\n",
            "             >  How can I control myself from masturbating while watching porn?\n",
            "             >  How do I stop being addicted to porn?\n",
            "             >  How can I stop my porn addiction?\n",
            "AP: 0.79\n",
            "\n"
          ]
        },
        {
          "output_type": "stream",
          "name": "stderr",
          "text": [
            "100%|██████████| 50/50 [01:12<00:00,  1.46s/it]\n"
          ]
        },
        {
          "output_type": "stream",
          "name": "stdout",
          "text": [
            "\n",
            "---------------------------------------\n",
            "MAP : 0.676\n",
            "MRR : 0.777\n",
            "P@5 : 0.521\n",
            "P@10: 0.429\n",
            "------------------------------------------\n",
            "mu: 50\n",
            "\n"
          ]
        },
        {
          "output_type": "stream",
          "name": "stderr",
          "text": [
            " 16%|█▌        | 8/50 [00:11<00:51,  1.23s/it]"
          ]
        },
        {
          "output_type": "stream",
          "name": "stdout",
          "text": [
            "\n",
            "Validation Q1:  How can I stop myself from watching too much of porn?\n",
            "Relevants    : \n",
            "             >  How can I stop watching porn?\n",
            "             >  How do I stop addiction to porn?\n",
            "             >  How can I control myself from masturbating while watching porn?\n",
            "             >  Catholics: how do I stop watching internet porn?\n",
            "             >  How do I stop being addicted to porn?\n",
            "             >  What should be done to avoid watching porn?\n",
            "             >  How do I stop masturbating/watching porn? I can't/don't masturbate without watching porn.\n",
            "             >  How shall I stop watching porn?\n",
            "Train        :\n",
            "             >  How do I stop masturbating/watching porn? I can't/don't masturbate without watching porn.\n",
            "             >  Should I stop watching porn?\n",
            "             >  Why can't I stop watching porn?\n",
            "             >  How can I stop watching porn?\n",
            "             >  How shall I stop watching porn?\n",
            "             >  Catholics: how do I stop watching internet porn?\n",
            "             >  What should be done to avoid watching porn?\n",
            "             >  How can I control myself from masturbating while watching porn?\n",
            "             >  How can I stop my porn addiction?\n",
            "             >  How do I stop addiction to porn?\n",
            "AP: 0.70\n",
            "\n"
          ]
        },
        {
          "output_type": "stream",
          "name": "stderr",
          "text": [
            "100%|██████████| 50/50 [01:08<00:00,  1.38s/it]\n"
          ]
        },
        {
          "output_type": "stream",
          "name": "stdout",
          "text": [
            "\n",
            "---------------------------------------\n",
            "MAP : 0.668\n",
            "MRR : 0.768\n",
            "P@5 : 0.514\n",
            "P@10: 0.423\n",
            "------------------------------------------\n",
            "mu: 100\n",
            "\n"
          ]
        },
        {
          "output_type": "stream",
          "name": "stderr",
          "text": [
            " 16%|█▌        | 8/50 [00:12<01:00,  1.43s/it]"
          ]
        },
        {
          "output_type": "stream",
          "name": "stdout",
          "text": [
            "\n",
            "Validation Q1:  How can I stop myself from watching too much of porn?\n",
            "Relevants    : \n",
            "             >  How can I stop watching porn?\n",
            "             >  How do I stop addiction to porn?\n",
            "             >  How can I control myself from masturbating while watching porn?\n",
            "             >  Catholics: how do I stop watching internet porn?\n",
            "             >  How do I stop being addicted to porn?\n",
            "             >  What should be done to avoid watching porn?\n",
            "             >  How do I stop masturbating/watching porn? I can't/don't masturbate without watching porn.\n",
            "             >  How shall I stop watching porn?\n",
            "Train        :\n",
            "             >  How do I stop masturbating/watching porn? I can't/don't masturbate without watching porn.\n",
            "             >  How can I stop watching porn?\n",
            "             >  Why can't I stop watching porn?\n",
            "             >  Should I stop watching porn?\n",
            "             >  How shall I stop watching porn?\n",
            "             >  Catholics: how do I stop watching internet porn?\n",
            "             >  What should be done to avoid watching porn?\n",
            "             >  How can I control myself from masturbating while watching porn?\n",
            "             >  How do I stop addiction to porn?\n",
            "             >  How can I stop my porn addiction?\n",
            "AP: 0.79\n",
            "\n"
          ]
        },
        {
          "output_type": "stream",
          "name": "stderr",
          "text": [
            "100%|██████████| 50/50 [01:11<00:00,  1.44s/it]"
          ]
        },
        {
          "output_type": "stream",
          "name": "stdout",
          "text": [
            "\n",
            "---------------------------------------\n",
            "MAP : 0.658\n",
            "MRR : 0.755\n",
            "P@5 : 0.507\n",
            "P@10: 0.417\n"
          ]
        },
        {
          "output_type": "stream",
          "name": "stderr",
          "text": [
            "\n"
          ]
        }
      ]
    },
    {
      "cell_type": "code",
      "source": [],
      "metadata": {
        "id": "489nb_meffrK"
      },
      "execution_count": null,
      "outputs": []
    },
    {
      "cell_type": "code",
      "source": [
        "for mu in [10, 50, 100]:\n",
        "    for _lambda in [0.1, 0.25]:\n",
        "        print('------------------------------------------')\n",
        "        print('mu: {}  -  lambda: {}'.format(mu, _lambda))\n",
        "        print()\n",
        "        evals = []\n",
        "        for i, val_q in enumerate(tqdm(tokenized_qs_val[:30])):\n",
        "            scores = []\n",
        "            for train_q in tokenized_qs_train:\n",
        "                prob = probability_word_given_doc(word=val_q[0], doc=' '.join(train_q), collection=collection, collection_length=collection_length, collection_freq=collection_freq, mu=mu) # P(q1|D)\n",
        "                last_token = val_q[0]\n",
        "                for token in val_q[1:]:\n",
        "                    temp = probability_bigram_word_given_doc(curr_word=token, last_word=last_token, doc=' '.join(train_q), collection=collection, collection_length=collection_length, collection_freq=collection_freq, _lambda=_lambda)\n",
        "                    prob = np.multiply(prob, temp)\n",
        "                    last_token = token\n",
        "                scores.append(prob)\n",
        "\n",
        "            relevant_results = check_relevancy(groups_val, query=val_org.loc[:, 'question1'].unique()[i], returned_docs=list(train_org.loc[:, 'question2'].unique()[np.argsort(scores)[::-1][:k]]))\n",
        "            eval_ap = eval_AP(relevant_results)\n",
        "            eval_rr = eval_RR(relevant_results)\n",
        "            eval_p_at_5 = p_at_k(relevant_results, k=5)\n",
        "            eval_p_at_10 = p_at_k(relevant_results)\n",
        "            evals.append([eval_ap, eval_rr, eval_p_at_5, eval_p_at_10])\n",
        "            \n",
        "            if i == 7:\n",
        "                print('\\nValidation Q1: ', val_org.loc[:, 'question1'].unique()[i])\n",
        "                \n",
        "                relevant_qs = get_relevants(val_org, q1=val_org.loc[:, 'question1'].unique()[i])\n",
        "                print('Relevants    : ', )\n",
        "                [print('             > ', q) for q in relevant_qs]\n",
        "\n",
        "                print('Train        :')\n",
        "                [print('             > ', q) for q in list(train_org.loc[:, 'question2'].unique()[np.argsort(scores)[::-1][:k]])]\n",
        "\n",
        "                print('AP: {:.2f}'.format(eval_ap))\n",
        "                print()\n",
        "\n",
        "        print('\\n---------------------------------------')\n",
        "\n",
        "        arrs = np.array(evals).reshape(-1, order='F').reshape(4, -1)\n",
        "        print('MAP : {:.3f}'.format(np.average(arrs[0])))\n",
        "        print('MRR : {:.3f}'.format(np.average(arrs[1])))\n",
        "        print('P@5 : {:.3f}'.format(np.average(arrs[2])))\n",
        "        print('P@10: {:.3f}'.format(np.average(arrs[3])))"
      ],
      "metadata": {
        "colab": {
          "base_uri": "https://localhost:8080/"
        },
        "id": "MZsAtT8r2m54",
        "outputId": "b3c13ccc-f751-475f-ca1f-d018cb81cd91"
      },
      "execution_count": null,
      "outputs": [
        {
          "output_type": "stream",
          "name": "stdout",
          "text": [
            "------------------------------------------\n",
            "mu: 10  -  lambda: 0.1\n",
            "\n"
          ]
        },
        {
          "output_type": "stream",
          "name": "stderr",
          "text": [
            " 27%|██▋       | 8/30 [00:14<00:35,  1.61s/it]"
          ]
        },
        {
          "output_type": "stream",
          "name": "stdout",
          "text": [
            "\n",
            "Validation Q1:  How can I stop myself from watching too much of porn?\n",
            "Relevants    : \n",
            "             >  How can I stop watching porn?\n",
            "             >  How do I stop addiction to porn?\n",
            "             >  How can I control myself from masturbating while watching porn?\n",
            "             >  Catholics: how do I stop watching internet porn?\n",
            "             >  How do I stop being addicted to porn?\n",
            "             >  What should be done to avoid watching porn?\n",
            "             >  How do I stop masturbating/watching porn? I can't/don't masturbate without watching porn.\n",
            "             >  How shall I stop watching porn?\n",
            "Train        :\n",
            "             >  How do I stop masturbating/watching porn? I can't/don't masturbate without watching porn.\n",
            "             >  Should I stop watching porn?\n",
            "             >  Why can't I stop watching porn?\n",
            "             >  How can I stop watching porn?\n",
            "             >  How shall I stop watching porn?\n",
            "             >  Catholics: how do I stop watching internet porn?\n",
            "             >  How do I stop being addicted to porn?\n",
            "             >  How do I stop addiction to porn?\n",
            "             >  How can I stop my porn addiction?\n",
            "             >  Can we stop global warming? What are some ways and ideas to stop it?\n",
            "AP: 0.71\n",
            "\n"
          ]
        },
        {
          "output_type": "stream",
          "name": "stderr",
          "text": [
            "100%|██████████| 30/30 [00:59<00:00,  2.00s/it]\n"
          ]
        },
        {
          "output_type": "stream",
          "name": "stdout",
          "text": [
            "\n",
            "---------------------------------------\n",
            "MAP : 0.409\n",
            "MRR : 0.453\n",
            "P@5 : 0.320\n",
            "P@10: 0.253\n",
            "------------------------------------------\n",
            "mu: 10  -  lambda: 0.25\n",
            "\n"
          ]
        },
        {
          "output_type": "stream",
          "name": "stderr",
          "text": [
            " 27%|██▋       | 8/30 [00:14<00:35,  1.61s/it]"
          ]
        },
        {
          "output_type": "stream",
          "name": "stdout",
          "text": [
            "\n",
            "Validation Q1:  How can I stop myself from watching too much of porn?\n",
            "Relevants    : \n",
            "             >  How can I stop watching porn?\n",
            "             >  How do I stop addiction to porn?\n",
            "             >  How can I control myself from masturbating while watching porn?\n",
            "             >  Catholics: how do I stop watching internet porn?\n",
            "             >  How do I stop being addicted to porn?\n",
            "             >  What should be done to avoid watching porn?\n",
            "             >  How do I stop masturbating/watching porn? I can't/don't masturbate without watching porn.\n",
            "             >  How shall I stop watching porn?\n",
            "Train        :\n",
            "             >  How do I stop masturbating/watching porn? I can't/don't masturbate without watching porn.\n",
            "             >  Should I stop watching porn?\n",
            "             >  Why can't I stop watching porn?\n",
            "             >  How can I stop watching porn?\n",
            "             >  How shall I stop watching porn?\n",
            "             >  Catholics: how do I stop watching internet porn?\n",
            "             >  How do I stop being addicted to porn?\n",
            "             >  How do I stop addiction to porn?\n",
            "             >  How can I stop my porn addiction?\n",
            "             >  Can we stop global warming? What are some ways and ideas to stop it?\n",
            "AP: 0.71\n",
            "\n"
          ]
        },
        {
          "output_type": "stream",
          "name": "stderr",
          "text": [
            "100%|██████████| 30/30 [01:00<00:00,  2.03s/it]\n"
          ]
        },
        {
          "output_type": "stream",
          "name": "stdout",
          "text": [
            "\n",
            "---------------------------------------\n",
            "MAP : 0.398\n",
            "MRR : 0.419\n",
            "P@5 : 0.313\n",
            "P@10: 0.237\n",
            "------------------------------------------\n",
            "mu: 50  -  lambda: 0.1\n",
            "\n"
          ]
        },
        {
          "output_type": "stream",
          "name": "stderr",
          "text": [
            " 27%|██▋       | 8/30 [00:20<00:47,  2.16s/it]"
          ]
        },
        {
          "output_type": "stream",
          "name": "stdout",
          "text": [
            "\n",
            "Validation Q1:  How can I stop myself from watching too much of porn?\n",
            "Relevants    : \n",
            "             >  How can I stop watching porn?\n",
            "             >  How do I stop addiction to porn?\n",
            "             >  How can I control myself from masturbating while watching porn?\n",
            "             >  Catholics: how do I stop watching internet porn?\n",
            "             >  How do I stop being addicted to porn?\n",
            "             >  What should be done to avoid watching porn?\n",
            "             >  How do I stop masturbating/watching porn? I can't/don't masturbate without watching porn.\n",
            "             >  How shall I stop watching porn?\n",
            "Train        :\n",
            "             >  How do I stop masturbating/watching porn? I can't/don't masturbate without watching porn.\n",
            "             >  How can I stop watching porn?\n",
            "             >  Should I stop watching porn?\n",
            "             >  Why can't I stop watching porn?\n",
            "             >  How shall I stop watching porn?\n",
            "             >  Catholics: how do I stop watching internet porn?\n",
            "             >  What should be done to avoid watching porn?\n",
            "             >  How can I control myself from masturbating while watching porn?\n",
            "             >  How do I stop addiction to porn?\n",
            "             >  How do I stop being addicted to porn?\n",
            "AP: 0.79\n",
            "\n"
          ]
        },
        {
          "output_type": "stream",
          "name": "stderr",
          "text": [
            "100%|██████████| 30/30 [01:12<00:00,  2.42s/it]\n"
          ]
        },
        {
          "output_type": "stream",
          "name": "stdout",
          "text": [
            "\n",
            "---------------------------------------\n",
            "MAP : 0.420\n",
            "MRR : 0.451\n",
            "P@5 : 0.333\n",
            "P@10: 0.257\n",
            "------------------------------------------\n",
            "mu: 50  -  lambda: 0.25\n",
            "\n"
          ]
        },
        {
          "output_type": "stream",
          "name": "stderr",
          "text": [
            " 27%|██▋       | 8/30 [00:17<00:42,  1.94s/it]"
          ]
        },
        {
          "output_type": "stream",
          "name": "stdout",
          "text": [
            "\n",
            "Validation Q1:  How can I stop myself from watching too much of porn?\n",
            "Relevants    : \n",
            "             >  How can I stop watching porn?\n",
            "             >  How do I stop addiction to porn?\n",
            "             >  How can I control myself from masturbating while watching porn?\n",
            "             >  Catholics: how do I stop watching internet porn?\n",
            "             >  How do I stop being addicted to porn?\n",
            "             >  What should be done to avoid watching porn?\n",
            "             >  How do I stop masturbating/watching porn? I can't/don't masturbate without watching porn.\n",
            "             >  How shall I stop watching porn?\n",
            "Train        :\n",
            "             >  How do I stop masturbating/watching porn? I can't/don't masturbate without watching porn.\n",
            "             >  How can I stop watching porn?\n",
            "             >  Should I stop watching porn?\n",
            "             >  Why can't I stop watching porn?\n",
            "             >  How shall I stop watching porn?\n",
            "             >  Catholics: how do I stop watching internet porn?\n",
            "             >  What should be done to avoid watching porn?\n",
            "             >  How can I control myself from masturbating while watching porn?\n",
            "             >  How do I stop addiction to porn?\n",
            "             >  How do I stop being addicted to porn?\n",
            "AP: 0.79\n",
            "\n"
          ]
        },
        {
          "output_type": "stream",
          "name": "stderr",
          "text": [
            "100%|██████████| 30/30 [01:06<00:00,  2.20s/it]\n"
          ]
        },
        {
          "output_type": "stream",
          "name": "stdout",
          "text": [
            "\n",
            "---------------------------------------\n",
            "MAP : 0.400\n",
            "MRR : 0.415\n",
            "P@5 : 0.313\n",
            "P@10: 0.250\n",
            "------------------------------------------\n",
            "mu: 100  -  lambda: 0.1\n",
            "\n"
          ]
        },
        {
          "output_type": "stream",
          "name": "stderr",
          "text": [
            " 27%|██▋       | 8/30 [00:14<00:35,  1.63s/it]"
          ]
        },
        {
          "output_type": "stream",
          "name": "stdout",
          "text": [
            "\n",
            "Validation Q1:  How can I stop myself from watching too much of porn?\n",
            "Relevants    : \n",
            "             >  How can I stop watching porn?\n",
            "             >  How do I stop addiction to porn?\n",
            "             >  How can I control myself from masturbating while watching porn?\n",
            "             >  Catholics: how do I stop watching internet porn?\n",
            "             >  How do I stop being addicted to porn?\n",
            "             >  What should be done to avoid watching porn?\n",
            "             >  How do I stop masturbating/watching porn? I can't/don't masturbate without watching porn.\n",
            "             >  How shall I stop watching porn?\n",
            "Train        :\n",
            "             >  How do I stop masturbating/watching porn? I can't/don't masturbate without watching porn.\n",
            "             >  How can I stop watching porn?\n",
            "             >  Why can't I stop watching porn?\n",
            "             >  Should I stop watching porn?\n",
            "             >  How shall I stop watching porn?\n",
            "             >  Catholics: how do I stop watching internet porn?\n",
            "             >  What should be done to avoid watching porn?\n",
            "             >  How can I control myself from masturbating while watching porn?\n",
            "             >  How do I stop addiction to porn?\n",
            "             >  How can I stop my porn addiction?\n",
            "AP: 0.79\n",
            "\n"
          ]
        },
        {
          "output_type": "stream",
          "name": "stderr",
          "text": [
            "100%|██████████| 30/30 [00:59<00:00,  1.98s/it]\n"
          ]
        },
        {
          "output_type": "stream",
          "name": "stdout",
          "text": [
            "\n",
            "---------------------------------------\n",
            "MAP : 0.440\n",
            "MRR : 0.477\n",
            "P@5 : 0.327\n",
            "P@10: 0.250\n",
            "------------------------------------------\n",
            "mu: 100  -  lambda: 0.25\n",
            "\n"
          ]
        },
        {
          "output_type": "stream",
          "name": "stderr",
          "text": [
            " 27%|██▋       | 8/30 [00:15<00:35,  1.63s/it]"
          ]
        },
        {
          "output_type": "stream",
          "name": "stdout",
          "text": [
            "\n",
            "Validation Q1:  How can I stop myself from watching too much of porn?\n",
            "Relevants    : \n",
            "             >  How can I stop watching porn?\n",
            "             >  How do I stop addiction to porn?\n",
            "             >  How can I control myself from masturbating while watching porn?\n",
            "             >  Catholics: how do I stop watching internet porn?\n",
            "             >  How do I stop being addicted to porn?\n",
            "             >  What should be done to avoid watching porn?\n",
            "             >  How do I stop masturbating/watching porn? I can't/don't masturbate without watching porn.\n",
            "             >  How shall I stop watching porn?\n",
            "Train        :\n",
            "             >  How do I stop masturbating/watching porn? I can't/don't masturbate without watching porn.\n",
            "             >  How can I stop watching porn?\n",
            "             >  Why can't I stop watching porn?\n",
            "             >  Should I stop watching porn?\n",
            "             >  How shall I stop watching porn?\n",
            "             >  Catholics: how do I stop watching internet porn?\n",
            "             >  What should be done to avoid watching porn?\n",
            "             >  How can I control myself from masturbating while watching porn?\n",
            "             >  How do I stop addiction to porn?\n",
            "             >  How can I stop my porn addiction?\n",
            "AP: 0.79\n",
            "\n"
          ]
        },
        {
          "output_type": "stream",
          "name": "stderr",
          "text": [
            "100%|██████████| 30/30 [01:02<00:00,  2.07s/it]"
          ]
        },
        {
          "output_type": "stream",
          "name": "stdout",
          "text": [
            "\n",
            "---------------------------------------\n",
            "MAP : 0.421\n",
            "MRR : 0.460\n",
            "P@5 : 0.307\n",
            "P@10: 0.243\n"
          ]
        },
        {
          "output_type": "stream",
          "name": "stderr",
          "text": [
            "\n"
          ]
        }
      ]
    },
    {
      "cell_type": "code",
      "source": [],
      "metadata": {
        "id": "6Y8NU5hk3RsA"
      },
      "execution_count": null,
      "outputs": []
    },
    {
      "cell_type": "markdown",
      "source": [
        "# The parameters found"
      ],
      "metadata": {
        "id": "B-IrDo4Pgce-"
      }
    },
    {
      "cell_type": "code",
      "source": [
        "groups_test = test_org.groupby(by='question1')"
      ],
      "metadata": {
        "id": "XVyWhyVs2_zI"
      },
      "execution_count": null,
      "outputs": []
    },
    {
      "cell_type": "code",
      "source": [
        "k = 10 "
      ],
      "metadata": {
        "id": "PrLE9i31hRKa"
      },
      "execution_count": null,
      "outputs": []
    },
    {
      "cell_type": "code",
      "source": [
        "mu = 10\n",
        "for i, test_q in enumerate(tqdm(tokenized_qs_test)):\n",
        "    scores = []\n",
        "    for train_q in tokenized_qs_train:\n",
        "        prob = 1\n",
        "        for token in test_q:\n",
        "            prob = np.multiply(prob, probability_word_given_doc(word=token, doc=' '.join(train_q), collection=collection, collection_length=collection_length, collection_freq=collection_freq, mu=mu))\n",
        "        scores.append(prob)\n",
        "\n",
        "    relevant_results = check_relevancy(groups_test, query=test_org.loc[:, 'question1'].unique()[i], returned_docs=list(train_org.loc[:, 'question2'].unique()[np.argsort(scores)[::-1][:k]]))\n",
        "    eval_ap = eval_AP(relevant_results)\n",
        "    eval_rr = eval_RR(relevant_results)\n",
        "    eval_p_at_5 = p_at_k(relevant_results, k=5)\n",
        "    eval_p_at_10 = p_at_k(relevant_results)\n",
        "    evals.append([eval_ap, eval_rr, eval_p_at_5, eval_p_at_10])\n",
        "    \n",
        "    if i == 7:\n",
        "        print('\\nTest Q1: ', test_org.loc[:, 'question1'].unique()[i])\n",
        "        \n",
        "        relevant_qs = get_relevants(test_org, q1=test_org.loc[:, 'question1'].unique()[i])\n",
        "        print('Relevants    : ', )\n",
        "        [print('             > ', q) for q in relevant_qs]\n",
        "\n",
        "        print('Train        :')\n",
        "        [print('             > ', q) for q in list(train_org.loc[:, 'question2'].unique()[np.argsort(scores)[::-1][:k]])]\n",
        "\n",
        "        print('AP: {:.2f}'.format(eval_ap))\n",
        "        print()\n",
        "\n",
        "print('\\n---------------------------------------')\n",
        "\n",
        "arrs = np.array(evals).reshape(-1, order='F').reshape(4, -1)\n",
        "print('MAP : {:.3f}'.format(np.average(arrs[0])))\n",
        "print('MRR : {:.3f}'.format(np.average(arrs[1])))\n",
        "print('P@5 : {:.3f}'.format(np.average(arrs[2])))\n",
        "print('P@10: {:.3f}'.format(np.average(arrs[3])))"
      ],
      "metadata": {
        "colab": {
          "base_uri": "https://localhost:8080/"
        },
        "id": "nfzJoBDAhPVP",
        "outputId": "b6cfedea-8633-469d-8fd8-da48e10d63c6"
      },
      "execution_count": null,
      "outputs": [
        {
          "output_type": "stream",
          "name": "stderr",
          "text": [
            "  5%|▌         | 8/146 [00:09<02:56,  1.28s/it]"
          ]
        },
        {
          "output_type": "stream",
          "name": "stdout",
          "text": [
            "\n",
            "Test Q1:  Why do people still think the the world is flat?\n",
            "Relevants    : \n",
            "             >  Why do some people today still believe that the Earth is flat? What evidence has convinced them that this is so?\n",
            "             >  Why do some people think Earth is flat?\n",
            "             >  Why do some people still believe that the earth is flat?\n",
            "             >  Why do people still believe the world is flat?\n",
            "             >  Why do some people currently believe the earth is flat?\n",
            "             >  How do people still think the Earth is flat even though it's proven wrong?\n",
            "             >  Why do some people think the Earth is flat?\n",
            "             >  Why there are people who still believe that earth is flat?\n",
            "             >  I know some people that STILL believe the earth is flat. Why?\n",
            "             >  Why do some people believe that the world is flat?\n",
            "             >  Why do some smart and wise people think Earth is flat?\n",
            "             >  Why are there still people who think that the Earth is flat?\n",
            "             >  Why do some people still think the Earth is flat?\n",
            "             >  Why are there still people who believe the world is flat?\n",
            "             >  Why do some people think that the Earth is flat?\n",
            "             >  Why do people still believe in flat earth?\n",
            "Train        :\n",
            "             >  Why do people still believe the world is flat?\n",
            "             >  Why are there still people who believe the world is flat?\n",
            "             >  Why do some people believe that the world is flat?\n",
            "             >  Why do some people think the Earth is flat?\n",
            "             >  Why do some people think that the Earth is flat?\n",
            "             >  Why do some people still think the Earth is flat?\n",
            "             >  Why do some people think Earth is flat?\n",
            "             >  Why are there still people who think that the Earth is flat?\n",
            "             >  How do people still think the Earth is flat even though it's proven wrong?\n",
            "             >  Why do some smart and wise people think Earth is flat?\n",
            "AP: 1.00\n",
            "\n"
          ]
        },
        {
          "output_type": "stream",
          "name": "stderr",
          "text": [
            "100%|██████████| 146/146 [03:08<00:00,  1.29s/it]"
          ]
        },
        {
          "output_type": "stream",
          "name": "stdout",
          "text": [
            "\n",
            "---------------------------------------\n",
            "MAP : 0.655\n",
            "MRR : 0.747\n",
            "P@5 : 0.499\n",
            "P@10: 0.406\n"
          ]
        },
        {
          "output_type": "stream",
          "name": "stderr",
          "text": [
            "\n"
          ]
        }
      ]
    },
    {
      "cell_type": "code",
      "source": [
        "mu, _lambda = 100, 0.1\n",
        "evals = []\n",
        "for i, test_q in enumerate(tqdm(tokenized_qs_test)):\n",
        "    scores = []\n",
        "    for train_q in tokenized_qs_train:\n",
        "        prob = probability_word_given_doc(word=test_q[0], doc=' '.join(train_q), collection=collection, collection_length=collection_length, collection_freq=collection_freq, mu=mu) # P(q1|D)\n",
        "        last_token = test_q[0]\n",
        "        for token in test_q[1:]:\n",
        "            temp = probability_bigram_word_given_doc(curr_word=token, last_word=last_token, doc=' '.join(train_q), collection=collection, collection_length=collection_length, collection_freq=collection_freq, _lambda=_lambda)\n",
        "            prob = np.multiply(prob, temp)\n",
        "            last_token = token\n",
        "        scores.append(prob)\n",
        "\n",
        "    relevant_results = check_relevancy(groups_test, query=test_org.loc[:, 'question1'].unique()[i], returned_docs=list(train_org.loc[:, 'question2'].unique()[np.argsort(scores)[::-1][:k]]))\n",
        "    eval_ap = eval_AP(relevant_results)\n",
        "    eval_rr = eval_RR(relevant_results)\n",
        "    eval_p_at_5 = p_at_k(relevant_results, k=5)\n",
        "    eval_p_at_10 = p_at_k(relevant_results)\n",
        "    evals.append([eval_ap, eval_rr, eval_p_at_5, eval_p_at_10])\n",
        "    \n",
        "    if i == 7:\n",
        "        print('\\nTest Q1: ', test_org.loc[:, 'question1'].unique()[i])\n",
        "        \n",
        "        relevant_qs = get_relevants(test_org, q1=test_org.loc[:, 'question1'].unique()[i])\n",
        "        print('Relevants    : ', )\n",
        "        [print('             > ', q) for q in relevant_qs]\n",
        "\n",
        "        print('Train        :')\n",
        "        [print('             > ', q) for q in list(train_org.loc[:, 'question2'].unique()[np.argsort(scores)[::-1][:k]])]\n",
        "\n",
        "        print('AP: {:.2f}'.format(eval_ap))\n",
        "        print()\n",
        "\n",
        "print('\\n---------------------------------------')\n",
        "\n",
        "arrs = np.array(evals).reshape(-1, order='F').reshape(4, -1)\n",
        "print('MAP : {:.3f}'.format(np.average(arrs[0])))\n",
        "print('MRR : {:.3f}'.format(np.average(arrs[1])))\n",
        "print('P@5 : {:.3f}'.format(np.average(arrs[2])))\n",
        "print('P@10: {:.3f}'.format(np.average(arrs[3])))"
      ],
      "metadata": {
        "colab": {
          "base_uri": "https://localhost:8080/"
        },
        "id": "O3iurJJmeEqb",
        "outputId": "021e5e08-85af-473e-b24d-4a93279426ff"
      },
      "execution_count": null,
      "outputs": [
        {
          "output_type": "stream",
          "name": "stderr",
          "text": [
            "  5%|▌         | 8/146 [00:13<03:55,  1.71s/it]"
          ]
        },
        {
          "output_type": "stream",
          "name": "stdout",
          "text": [
            "\n",
            "Test Q1:  Why do people still think the the world is flat?\n",
            "Relevants    : \n",
            "             >  Why do some people today still believe that the Earth is flat? What evidence has convinced them that this is so?\n",
            "             >  Why do some people think Earth is flat?\n",
            "             >  Why do some people still believe that the earth is flat?\n",
            "             >  Why do people still believe the world is flat?\n",
            "             >  Why do some people currently believe the earth is flat?\n",
            "             >  How do people still think the Earth is flat even though it's proven wrong?\n",
            "             >  Why do some people think the Earth is flat?\n",
            "             >  Why there are people who still believe that earth is flat?\n",
            "             >  I know some people that STILL believe the earth is flat. Why?\n",
            "             >  Why do some people believe that the world is flat?\n",
            "             >  Why do some smart and wise people think Earth is flat?\n",
            "             >  Why are there still people who think that the Earth is flat?\n",
            "             >  Why do some people still think the Earth is flat?\n",
            "             >  Why are there still people who believe the world is flat?\n",
            "             >  Why do some people think that the Earth is flat?\n",
            "             >  Why do people still believe in flat earth?\n",
            "Train        :\n",
            "             >  What does the rest of the world think about the Indian Army's surgical Strike in POK?\n",
            "             >  Why are there still people who believe the world is flat?\n",
            "             >  Why do people still believe the world is flat?\n",
            "             >  Why do some people believe that the world is flat?\n",
            "             >  Why do some people think that the Earth is flat?\n",
            "             >  Why do some people think the Earth is flat?\n",
            "             >  Why do some people think Earth is flat?\n",
            "             >  Why do some people still think the Earth is flat?\n",
            "             >  Why are there still people who think that the Earth is flat?\n",
            "             >  Why do you think people should follow you on Quora?\n",
            "AP: 0.77\n",
            "\n"
          ]
        },
        {
          "output_type": "stream",
          "name": "stderr",
          "text": [
            "100%|██████████| 146/146 [04:10<00:00,  1.72s/it]"
          ]
        },
        {
          "output_type": "stream",
          "name": "stdout",
          "text": [
            "\n",
            "---------------------------------------\n",
            "MAP : 0.507\n",
            "MRR : 0.538\n",
            "P@5 : 0.358\n",
            "P@10: 0.272\n"
          ]
        },
        {
          "output_type": "stream",
          "name": "stderr",
          "text": [
            "\n"
          ]
        }
      ]
    },
    {
      "cell_type": "code",
      "source": [],
      "metadata": {
        "id": "osU7U_uVeEoC"
      },
      "execution_count": null,
      "outputs": []
    },
    {
      "cell_type": "code",
      "source": [],
      "metadata": {
        "id": "Nn99LQR2hOJt"
      },
      "execution_count": null,
      "outputs": []
    },
    {
      "cell_type": "markdown",
      "source": [
        "# Finito"
      ],
      "metadata": {
        "id": "yhZLAhGvLdRJ"
      }
    }
  ]
}