{
  "nbformat": 4,
  "nbformat_minor": 0,
  "metadata": {
    "colab": {
      "provenance": [],
      "toc_visible": true,
      "include_colab_link": true
    },
    "kernelspec": {
      "name": "python3",
      "display_name": "Python 3"
    },
    "language_info": {
      "name": "python"
    },
    "gpuClass": "standard"
  },
  "cells": [
    {
      "cell_type": "markdown",
      "metadata": {
        "id": "view-in-github",
        "colab_type": "text"
      },
      "source": [
        "<a href=\"https://colab.research.google.com/github/nahbos/AUT-Advanced-Information-Retrieval/blob/main/Ex03/recommender_system.ipynb\" target=\"_parent\"><img src=\"https://colab.research.google.com/assets/colab-badge.svg\" alt=\"Open In Colab\"/></a>"
      ]
    },
    {
      "cell_type": "markdown",
      "source": [
        "## Sobhan Moradian Daghigh\n",
        "\n",
        "- 2-3-2023\n",
        "\n",
        "### Ex-03: Recommender System"
      ],
      "metadata": {
        "id": "YU-Gx1EmJAA6"
      }
    },
    {
      "cell_type": "code",
      "execution_count": 30,
      "metadata": {
        "id": "8nmKYHAuI4mA",
        "colab": {
          "base_uri": "https://localhost:8080/"
        },
        "outputId": "694ea0cb-f39e-4566-a1c6-5630a3d1d02f"
      },
      "outputs": [
        {
          "output_type": "stream",
          "name": "stderr",
          "text": [
            "[nltk_data] Downloading package punkt to /root/nltk_data...\n",
            "[nltk_data]   Package punkt is already up-to-date!\n",
            "[nltk_data] Downloading package stopwords to /root/nltk_data...\n",
            "[nltk_data]   Package stopwords is already up-to-date!\n",
            "[nltk_data] Downloading package averaged_perceptron_tagger to\n",
            "[nltk_data]     /root/nltk_data...\n",
            "[nltk_data]   Package averaged_perceptron_tagger is already up-to-\n",
            "[nltk_data]       date!\n"
          ]
        }
      ],
      "source": [
        "import numpy as np\n",
        "import pandas as pd\n",
        "import json\n",
        "import nltk\n",
        "from nltk import word_tokenize\n",
        "from nltk.corpus import stopwords\n",
        "from nltk.stem.porter import PorterStemmer\n",
        "from nltk import pos_tag\n",
        "import string\n",
        "nltk.download('punkt')\n",
        "nltk.download('stopwords')\n",
        "nltk.download('averaged_perceptron_tagger')\n",
        "import warnings\n",
        "warnings.filterwarnings(\"ignore\")\n",
        "import matplotlib.pyplot as plt\n",
        "from tqdm import tqdm\n",
        "import re\n",
        "\n",
        "# from gensim.models import TfidfModel\n",
        "# from gensim.corpora import Dictionary\n",
        "# from gensim.utils import simple_preprocess\n",
        "# from gensim.parsing.preprocessing import remove_stopwords\n",
        "# from sklearn.feature_extraction.text import TfidfVectorizer\n",
        "# from sklearn.metrics.pairwise import cosine_similarity\n",
        "# from bs4 import BeautifulSoup\n",
        "# from collections import Counter\n",
        "# import random\n",
        "# import pickle\n",
        "# from PIL import Image"
      ]
    },
    {
      "cell_type": "code",
      "source": [
        "from google.colab import drive\n",
        "drive.mount('/content/drive')"
      ],
      "metadata": {
        "id": "Hwx6oj3mWu5k",
        "outputId": "00d5417c-b221-49a3-8071-326627d9ae0c",
        "colab": {
          "base_uri": "https://localhost:8080/"
        }
      },
      "execution_count": 2,
      "outputs": [
        {
          "output_type": "stream",
          "name": "stdout",
          "text": [
            "Mounted at /content/drive\n"
          ]
        }
      ]
    },
    {
      "cell_type": "code",
      "source": [],
      "metadata": {
        "id": "48NzuuuqWHeb"
      },
      "execution_count": 2,
      "outputs": []
    },
    {
      "cell_type": "markdown",
      "source": [
        "# Part One. \n",
        "* Data Loading"
      ],
      "metadata": {
        "id": "qWCubj1TKn22"
      }
    },
    {
      "cell_type": "code",
      "source": [
        "with open('./drive/MyDrive/data.json') as jsonFile:\n",
        "    jsonObject = json.load(jsonFile)\n",
        "    jsonFile.close()\n",
        "\n",
        "train = pd.DataFrame(jsonObject['train'])\n",
        "val   = pd.DataFrame(jsonObject['val'])\n",
        "test  = pd.DataFrame(jsonObject['test'])"
      ],
      "metadata": {
        "id": "MYmtom_6YlYP"
      },
      "execution_count": 89,
      "outputs": []
    },
    {
      "cell_type": "code",
      "source": [
        "train.head()"
      ],
      "metadata": {
        "id": "4tLLmshMYlTm",
        "colab": {
          "base_uri": "https://localhost:8080/",
          "height": 493
        },
        "outputId": "44968602-a586-4687-82f3-7fa35590afc9"
      },
      "execution_count": 90,
      "outputs": [
        {
          "output_type": "execute_result",
          "data": {
            "text/plain": [
              "                business_id                user_id  rating  \\\n",
              "0  60567465d335d0abfb415b26  101074926318992653684       4   \n",
              "1  6050fa9f5b4ccec8d5cae994  117065749986299237881       5   \n",
              "2  604be10877e81aaed3cc9a1e  106700937793048450809       4   \n",
              "3  60411e017cd8bf130362365a  101643045857250355161       5   \n",
              "4  604139dd7cd8bf1303624208  109802745326785766951       4   \n",
              "\n",
              "                                         review_text  \\\n",
              "0  The tang of the tomato sauce is outstanding. A...   \n",
              "1              Chicken and waffles were really good!   \n",
              "2  The appetizer of colossal shrimp was very good...   \n",
              "3  The fish tacos here  omg! The salad was great ...   \n",
              "4  Ribs are great, as are the mac and cheese, fri...   \n",
              "\n",
              "                                                pics  \\\n",
              "0  [https://lh5.googleusercontent.com/p/AF1QipM-2...   \n",
              "1  [https://lh5.googleusercontent.com/p/AF1QipMpf...   \n",
              "2  [https://lh5.googleusercontent.com/p/AF1QipMNn...   \n",
              "3  [https://lh5.googleusercontent.com/p/AF1QipM-a...   \n",
              "4  [https://lh5.googleusercontent.com/p/AF1QipNVy...   \n",
              "\n",
              "                                     history_reviews  \n",
              "0  [[101074926318992653684_6056272797d555cc6fb0d1...  \n",
              "1  [[117065749986299237881_605206f8d8c08f462b93e8...  \n",
              "2  [[106700937793048450809_6044300b27f39b7b5d1dbf...  \n",
              "3  [[101643045857250355161_604fbdd099686c10168c91...  \n",
              "4  [[109802745326785766951_60524fa9f09a4ffff042f9...  "
            ],
            "text/html": [
              "\n",
              "  <div id=\"df-529f78ea-5ce7-4472-91dc-32e8a06d8233\">\n",
              "    <div class=\"colab-df-container\">\n",
              "      <div>\n",
              "<style scoped>\n",
              "    .dataframe tbody tr th:only-of-type {\n",
              "        vertical-align: middle;\n",
              "    }\n",
              "\n",
              "    .dataframe tbody tr th {\n",
              "        vertical-align: top;\n",
              "    }\n",
              "\n",
              "    .dataframe thead th {\n",
              "        text-align: right;\n",
              "    }\n",
              "</style>\n",
              "<table border=\"1\" class=\"dataframe\">\n",
              "  <thead>\n",
              "    <tr style=\"text-align: right;\">\n",
              "      <th></th>\n",
              "      <th>business_id</th>\n",
              "      <th>user_id</th>\n",
              "      <th>rating</th>\n",
              "      <th>review_text</th>\n",
              "      <th>pics</th>\n",
              "      <th>history_reviews</th>\n",
              "    </tr>\n",
              "  </thead>\n",
              "  <tbody>\n",
              "    <tr>\n",
              "      <th>0</th>\n",
              "      <td>60567465d335d0abfb415b26</td>\n",
              "      <td>101074926318992653684</td>\n",
              "      <td>4</td>\n",
              "      <td>The tang of the tomato sauce is outstanding. A...</td>\n",
              "      <td>[https://lh5.googleusercontent.com/p/AF1QipM-2...</td>\n",
              "      <td>[[101074926318992653684_6056272797d555cc6fb0d1...</td>\n",
              "    </tr>\n",
              "    <tr>\n",
              "      <th>1</th>\n",
              "      <td>6050fa9f5b4ccec8d5cae994</td>\n",
              "      <td>117065749986299237881</td>\n",
              "      <td>5</td>\n",
              "      <td>Chicken and waffles were really good!</td>\n",
              "      <td>[https://lh5.googleusercontent.com/p/AF1QipMpf...</td>\n",
              "      <td>[[117065749986299237881_605206f8d8c08f462b93e8...</td>\n",
              "    </tr>\n",
              "    <tr>\n",
              "      <th>2</th>\n",
              "      <td>604be10877e81aaed3cc9a1e</td>\n",
              "      <td>106700937793048450809</td>\n",
              "      <td>4</td>\n",
              "      <td>The appetizer of colossal shrimp was very good...</td>\n",
              "      <td>[https://lh5.googleusercontent.com/p/AF1QipMNn...</td>\n",
              "      <td>[[106700937793048450809_6044300b27f39b7b5d1dbf...</td>\n",
              "    </tr>\n",
              "    <tr>\n",
              "      <th>3</th>\n",
              "      <td>60411e017cd8bf130362365a</td>\n",
              "      <td>101643045857250355161</td>\n",
              "      <td>5</td>\n",
              "      <td>The fish tacos here  omg! The salad was great ...</td>\n",
              "      <td>[https://lh5.googleusercontent.com/p/AF1QipM-a...</td>\n",
              "      <td>[[101643045857250355161_604fbdd099686c10168c91...</td>\n",
              "    </tr>\n",
              "    <tr>\n",
              "      <th>4</th>\n",
              "      <td>604139dd7cd8bf1303624208</td>\n",
              "      <td>109802745326785766951</td>\n",
              "      <td>4</td>\n",
              "      <td>Ribs are great, as are the mac and cheese, fri...</td>\n",
              "      <td>[https://lh5.googleusercontent.com/p/AF1QipNVy...</td>\n",
              "      <td>[[109802745326785766951_60524fa9f09a4ffff042f9...</td>\n",
              "    </tr>\n",
              "  </tbody>\n",
              "</table>\n",
              "</div>\n",
              "      <button class=\"colab-df-convert\" onclick=\"convertToInteractive('df-529f78ea-5ce7-4472-91dc-32e8a06d8233')\"\n",
              "              title=\"Convert this dataframe to an interactive table.\"\n",
              "              style=\"display:none;\">\n",
              "        \n",
              "  <svg xmlns=\"http://www.w3.org/2000/svg\" height=\"24px\"viewBox=\"0 0 24 24\"\n",
              "       width=\"24px\">\n",
              "    <path d=\"M0 0h24v24H0V0z\" fill=\"none\"/>\n",
              "    <path d=\"M18.56 5.44l.94 2.06.94-2.06 2.06-.94-2.06-.94-.94-2.06-.94 2.06-2.06.94zm-11 1L8.5 8.5l.94-2.06 2.06-.94-2.06-.94L8.5 2.5l-.94 2.06-2.06.94zm10 10l.94 2.06.94-2.06 2.06-.94-2.06-.94-.94-2.06-.94 2.06-2.06.94z\"/><path d=\"M17.41 7.96l-1.37-1.37c-.4-.4-.92-.59-1.43-.59-.52 0-1.04.2-1.43.59L10.3 9.45l-7.72 7.72c-.78.78-.78 2.05 0 2.83L4 21.41c.39.39.9.59 1.41.59.51 0 1.02-.2 1.41-.59l7.78-7.78 2.81-2.81c.8-.78.8-2.07 0-2.86zM5.41 20L4 18.59l7.72-7.72 1.47 1.35L5.41 20z\"/>\n",
              "  </svg>\n",
              "      </button>\n",
              "      \n",
              "  <style>\n",
              "    .colab-df-container {\n",
              "      display:flex;\n",
              "      flex-wrap:wrap;\n",
              "      gap: 12px;\n",
              "    }\n",
              "\n",
              "    .colab-df-convert {\n",
              "      background-color: #E8F0FE;\n",
              "      border: none;\n",
              "      border-radius: 50%;\n",
              "      cursor: pointer;\n",
              "      display: none;\n",
              "      fill: #1967D2;\n",
              "      height: 32px;\n",
              "      padding: 0 0 0 0;\n",
              "      width: 32px;\n",
              "    }\n",
              "\n",
              "    .colab-df-convert:hover {\n",
              "      background-color: #E2EBFA;\n",
              "      box-shadow: 0px 1px 2px rgba(60, 64, 67, 0.3), 0px 1px 3px 1px rgba(60, 64, 67, 0.15);\n",
              "      fill: #174EA6;\n",
              "    }\n",
              "\n",
              "    [theme=dark] .colab-df-convert {\n",
              "      background-color: #3B4455;\n",
              "      fill: #D2E3FC;\n",
              "    }\n",
              "\n",
              "    [theme=dark] .colab-df-convert:hover {\n",
              "      background-color: #434B5C;\n",
              "      box-shadow: 0px 1px 3px 1px rgba(0, 0, 0, 0.15);\n",
              "      filter: drop-shadow(0px 1px 2px rgba(0, 0, 0, 0.3));\n",
              "      fill: #FFFFFF;\n",
              "    }\n",
              "  </style>\n",
              "\n",
              "      <script>\n",
              "        const buttonEl =\n",
              "          document.querySelector('#df-529f78ea-5ce7-4472-91dc-32e8a06d8233 button.colab-df-convert');\n",
              "        buttonEl.style.display =\n",
              "          google.colab.kernel.accessAllowed ? 'block' : 'none';\n",
              "\n",
              "        async function convertToInteractive(key) {\n",
              "          const element = document.querySelector('#df-529f78ea-5ce7-4472-91dc-32e8a06d8233');\n",
              "          const dataTable =\n",
              "            await google.colab.kernel.invokeFunction('convertToInteractive',\n",
              "                                                     [key], {});\n",
              "          if (!dataTable) return;\n",
              "\n",
              "          const docLinkHtml = 'Like what you see? Visit the ' +\n",
              "            '<a target=\"_blank\" href=https://colab.research.google.com/notebooks/data_table.ipynb>data table notebook</a>'\n",
              "            + ' to learn more about interactive tables.';\n",
              "          element.innerHTML = '';\n",
              "          dataTable['output_type'] = 'display_data';\n",
              "          await google.colab.output.renderOutput(dataTable, element);\n",
              "          const docLink = document.createElement('div');\n",
              "          docLink.innerHTML = docLinkHtml;\n",
              "          element.appendChild(docLink);\n",
              "        }\n",
              "      </script>\n",
              "    </div>\n",
              "  </div>\n",
              "  "
            ]
          },
          "metadata": {},
          "execution_count": 90
        }
      ]
    },
    {
      "cell_type": "code",
      "source": [
        "train.info()"
      ],
      "metadata": {
        "colab": {
          "base_uri": "https://localhost:8080/"
        },
        "id": "l00owcSbeYOA",
        "outputId": "b8cc9bf6-a434-4b02-893a-a93c70526e68"
      },
      "execution_count": 91,
      "outputs": [
        {
          "output_type": "stream",
          "name": "stdout",
          "text": [
            "<class 'pandas.core.frame.DataFrame'>\n",
            "RangeIndex: 87013 entries, 0 to 87012\n",
            "Data columns (total 6 columns):\n",
            " #   Column           Non-Null Count  Dtype \n",
            "---  ------           --------------  ----- \n",
            " 0   business_id      87013 non-null  object\n",
            " 1   user_id          87013 non-null  object\n",
            " 2   rating           87013 non-null  int64 \n",
            " 3   review_text      87013 non-null  object\n",
            " 4   pics             87013 non-null  object\n",
            " 5   history_reviews  87013 non-null  object\n",
            "dtypes: int64(1), object(5)\n",
            "memory usage: 4.0+ MB\n"
          ]
        }
      ]
    },
    {
      "cell_type": "code",
      "source": [
        "val.info()"
      ],
      "metadata": {
        "colab": {
          "base_uri": "https://localhost:8080/"
        },
        "id": "NnE3gNOxfJo6",
        "outputId": "0975adf7-813e-4414-cfd0-2fcd320ef87b"
      },
      "execution_count": 92,
      "outputs": [
        {
          "output_type": "stream",
          "name": "stdout",
          "text": [
            "<class 'pandas.core.frame.DataFrame'>\n",
            "RangeIndex: 10860 entries, 0 to 10859\n",
            "Data columns (total 6 columns):\n",
            " #   Column           Non-Null Count  Dtype \n",
            "---  ------           --------------  ----- \n",
            " 0   business_id      10860 non-null  object\n",
            " 1   user_id          10860 non-null  object\n",
            " 2   rating           10860 non-null  int64 \n",
            " 3   review_text      10860 non-null  object\n",
            " 4   pics             10860 non-null  object\n",
            " 5   history_reviews  10860 non-null  object\n",
            "dtypes: int64(1), object(5)\n",
            "memory usage: 509.2+ KB\n"
          ]
        }
      ]
    },
    {
      "cell_type": "code",
      "source": [
        "test.info()"
      ],
      "metadata": {
        "colab": {
          "base_uri": "https://localhost:8080/"
        },
        "id": "UdJqSUjbfHNC",
        "outputId": "1c337139-a975-4de7-8ce1-63aa63a6881d"
      },
      "execution_count": 93,
      "outputs": [
        {
          "output_type": "stream",
          "name": "stdout",
          "text": [
            "<class 'pandas.core.frame.DataFrame'>\n",
            "RangeIndex: 11015 entries, 0 to 11014\n",
            "Data columns (total 6 columns):\n",
            " #   Column           Non-Null Count  Dtype \n",
            "---  ------           --------------  ----- \n",
            " 0   business_id      11015 non-null  object\n",
            " 1   user_id          11015 non-null  object\n",
            " 2   rating           11015 non-null  int64 \n",
            " 3   review_text      11015 non-null  object\n",
            " 4   pics             11015 non-null  object\n",
            " 5   history_reviews  11015 non-null  object\n",
            "dtypes: int64(1), object(5)\n",
            "memory usage: 516.5+ KB\n"
          ]
        }
      ]
    },
    {
      "cell_type": "code",
      "source": [],
      "metadata": {
        "id": "jO9P0RZBOKQS"
      },
      "execution_count": 7,
      "outputs": []
    },
    {
      "cell_type": "markdown",
      "source": [
        "## Preprocess"
      ],
      "metadata": {
        "id": "nvVth-FOiNWa"
      }
    },
    {
      "cell_type": "code",
      "source": [
        "def preprocess(q):\n",
        "   \n",
        "    # Lowercase\n",
        "    q = str(q).lower().strip()      \n",
        "    \n",
        "    # Replace certain special characters with their string equivalents\n",
        "    q = q.replace('%', ' percent')\n",
        "    q = q.replace('$', ' dollar ')\n",
        "    q = q.replace('₹', ' rupee ')\n",
        "    q = q.replace('€', ' euro ')\n",
        "    q = q.replace('@', ' at ')\n",
        "    \n",
        "    # The pattern '[math]' appears around 900 times in the whole dataset.\n",
        "    q = q.replace('[math]', '')\n",
        "    \n",
        "    # Replacing some numbers with string equivalents (not perfect, can be done better to account for more cases)\n",
        "    q = q.replace(',000,000,000 ', 'b ')\n",
        "    q = q.replace(',000,000 ', 'm ')\n",
        "    q = q.replace(',000 ', 'k ')\n",
        "    q = re.sub(r'([0-9]+)000000000', r'\\1b', q)\n",
        "    q = re.sub(r'([0-9]+)000000', r'\\1m', q)\n",
        "    q = re.sub(r'([0-9]+)000', r'\\1k', q)\n",
        "    \n",
        "    # Decontracting words\n",
        "    # https://en.wikipedia.org/wiki/Wikipedia%3aList_of_English_contractions\n",
        "    # https://stackoverflow.com/a/19794953\n",
        "\n",
        "    contractions = { \n",
        "    \"ain't\": \"am not\",\n",
        "    \"aren't\": \"are not\",\n",
        "    \"was'nt\": \"was not\",\n",
        "    \"were'nt\": \"were not\",\n",
        "    \"can't\": \"can not\",\n",
        "    \"can't've\": \"can not have\",\n",
        "    \"'cause\": \"because\",\n",
        "    \"could've\": \"could have\",\n",
        "    \"couldn't\": \"could not\",\n",
        "    \"couldn't've\": \"could not have\",\n",
        "    \"didn't\": \"did not\",\n",
        "    \"doesn't\": \"does not\",\n",
        "    \"don't\": \"do not\",\n",
        "    \"hadn't\": \"had not\",\n",
        "    \"hadn't've\": \"had not have\",\n",
        "    \"hasn't\": \"has not\",\n",
        "    \"haven't\": \"have not\",\n",
        "    \"he'd\": \"he would\",\n",
        "    \"he'd've\": \"he would have\",\n",
        "    \"he'll\": \"he will\",\n",
        "    \"he'll've\": \"he will have\",\n",
        "    \"he's\": \"he is\",\n",
        "    \"how'd\": \"how did\",\n",
        "    \"how'd'y\": \"how do you\",\n",
        "    \"how'll\": \"how will\",\n",
        "    \"how's\": \"how is\",\n",
        "    \"i'd\": \"i would\",\n",
        "    \"i'd've\": \"i would have\",\n",
        "    \"i'll\": \"i will\",\n",
        "    \"i'll've\": \"i will have\",\n",
        "    \"i'm\": \"i am\",\n",
        "    \"i've\": \"i have\",\n",
        "    \"isn't\": \"is not\",\n",
        "    \"it'd\": \"it would\",\n",
        "    \"it'd've\": \"it would have\",\n",
        "    \"it'll\": \"it will\",\n",
        "    \"it'll've\": \"it will have\",\n",
        "    \"it's\": \"it is\",\n",
        "    \"let's\": \"let us\",\n",
        "    \"ma'am\": \"madam\",\n",
        "    \"mayn't\": \"may not\",\n",
        "    \"might've\": \"might have\",\n",
        "    \"mightn't\": \"might not\",\n",
        "    \"mightn't've\": \"might not have\",\n",
        "    \"must've\": \"must have\",\n",
        "    \"mustn't\": \"must not\",\n",
        "    \"mustn't've\": \"must not have\",\n",
        "    \"needn't\": \"need not\",\n",
        "    \"needn't've\": \"need not have\",\n",
        "    \"o'clock\": \"of the clock\",\n",
        "    \"oughtn't\": \"ought not\",\n",
        "    \"oughtn't've\": \"ought not have\",\n",
        "    \"shan't\": \"shall not\",\n",
        "    \"sha'n't\": \"shall not\",\n",
        "    \"shan't've\": \"shall not have\",\n",
        "    \"she'd\": \"she would\",\n",
        "    \"she'd've\": \"she would have\",\n",
        "    \"she'll\": \"she will\",\n",
        "    \"she'll've\": \"she will have\",\n",
        "    \"she's\": \"she is\",\n",
        "    \"should've\": \"should have\",\n",
        "    \"shouldn't\": \"should not\",\n",
        "    \"shouldn't've\": \"should not have\",\n",
        "    \"so've\": \"so have\",\n",
        "    \"so's\": \"so as\",\n",
        "    \"that'd\": \"that would\",\n",
        "    \"that'd've\": \"that would have\",\n",
        "    \"that's\": \"that is\",\n",
        "    \"there'd\": \"there would\",\n",
        "    \"there'd've\": \"there would have\",\n",
        "    \"there's\": \"there is\",\n",
        "    \"they'd\": \"they would\",\n",
        "    \"they'd've\": \"they would have\",\n",
        "    \"they'll\": \"they will\",\n",
        "    \"they'll've\": \"they will have\",\n",
        "    \"they're\": \"they are\",\n",
        "    \"they've\": \"they have\",\n",
        "    \"to've\": \"to have\",\n",
        "    \"wasn't\": \"was not\",\n",
        "    \"we'd\": \"we would\",\n",
        "    \"we'd've\": \"we would have\",\n",
        "    \"we'll\": \"we will\",\n",
        "    \"we'll've\": \"we will have\",\n",
        "    \"we're\": \"we are\",\n",
        "    \"we've\": \"we have\",\n",
        "    \"weren't\": \"were not\",\n",
        "    \"what'll\": \"what will\",\n",
        "    \"what'll've\": \"what will have\",\n",
        "    \"what're\": \"what are\",\n",
        "    \"what's\": \"what is\",\n",
        "    \"what've\": \"what have\",\n",
        "    \"when's\": \"when is\",\n",
        "    \"when've\": \"when have\",\n",
        "    \"where'd\": \"where did\",\n",
        "    \"where's\": \"where is\",\n",
        "    \"where've\": \"where have\",\n",
        "    \"who'll\": \"who will\",\n",
        "    \"who'll've\": \"who will have\",\n",
        "    \"who's\": \"who is\",\n",
        "    \"who've\": \"who have\",\n",
        "    \"why's\": \"why is\",\n",
        "    \"why've\": \"why have\",\n",
        "    \"will've\": \"will have\",\n",
        "    \"won't\": \"will not\",\n",
        "    \"won't've\": \"will not have\",\n",
        "    \"would've\": \"would have\",\n",
        "    \"wouldn't\": \"would not\",\n",
        "    \"wouldn't've\": \"would not have\",\n",
        "    \"y'all\": \"you all\",\n",
        "    \"y'all'd\": \"you all would\",\n",
        "    \"y'all'd've\": \"you all would have\",\n",
        "    \"y'all're\": \"you all are\",\n",
        "    \"y'all've\": \"you all have\",\n",
        "    \"you'd\": \"you would\",\n",
        "    \"you'd've\": \"you would have\",\n",
        "    \"you'll\": \"you will\",\n",
        "    \"you'll've\": \"you will have\",\n",
        "    \"you're\": \"you are\",\n",
        "    \"you've\": \"you have\"\n",
        "    }\n",
        "\n",
        "    q_decontracted = []\n",
        "\n",
        "    for word in q.split():\n",
        "        if word in contractions:\n",
        "            word = contractions[word]\n",
        "\n",
        "        q_decontracted.append(word)\n",
        "\n",
        "    q = ' '.join(q_decontracted)\n",
        "    q = q.replace(\"'ve\", \" have\")\n",
        "    q = q.replace(\"n't\", \" not\")\n",
        "    q = q.replace(\"'re\", \" are\")\n",
        "    q = q.replace(\"'ll\", \" will\")\n",
        "    \n",
        "    # Removing HTML tags\n",
        "    q = BeautifulSoup(q)\n",
        "    q = q.get_text()\n",
        "\n",
        "    # Removing Punctuation\n",
        "    q = \"\".join([char for char in q if char not in string.punctuation])\n",
        "    \n",
        "    # Word Tokenization\n",
        "    q = word_tokenize(q)\n",
        "    \n",
        "    # Stopword Filtering\n",
        "    stop_words = stopwords.words('english')\n",
        "    [stop_words.remove(x) for x in ['not', 'very']]\n",
        "    q = [word for word in q if word not in stop_words]\n",
        "    \n",
        "    # Stemming\n",
        "    porter = PorterStemmer()\n",
        "    q = [porter.stem(word) for word in q]\n",
        "    q = ' '.join(q)\n",
        "    \n",
        "    return q"
      ],
      "metadata": {
        "id": "4RB0NicKiM0y"
      },
      "execution_count": 94,
      "outputs": []
    },
    {
      "cell_type": "code",
      "source": [
        "preprocess('Hi, no no no the food was awful')"
      ],
      "metadata": {
        "colab": {
          "base_uri": "https://localhost:8080/",
          "height": 36
        },
        "id": "OhaDky6mhdR-",
        "outputId": "e99affea-ddad-45a8-9945-97e65df9b028"
      },
      "execution_count": 95,
      "outputs": [
        {
          "output_type": "execute_result",
          "data": {
            "text/plain": [
              "'hi food aw'"
            ],
            "application/vnd.google.colaboratory.intrinsic+json": {
              "type": "string"
            }
          },
          "metadata": {},
          "execution_count": 95
        }
      ]
    },
    {
      "cell_type": "code",
      "source": [
        "preprocess('The best Kentaki ever, thank you')"
      ],
      "metadata": {
        "colab": {
          "base_uri": "https://localhost:8080/",
          "height": 36
        },
        "id": "Of11A1oamV0h",
        "outputId": "fcad13dc-dc57-4d1b-ee0a-02b4a60d49b2"
      },
      "execution_count": 96,
      "outputs": [
        {
          "output_type": "execute_result",
          "data": {
            "text/plain": [
              "'best kentaki ever thank'"
            ],
            "application/vnd.google.colaboratory.intrinsic+json": {
              "type": "string"
            }
          },
          "metadata": {},
          "execution_count": 96
        }
      ]
    },
    {
      "cell_type": "code",
      "source": [
        "def text_preprocessor(dataset):\n",
        "    org = dataset.copy()\n",
        "    dataset['review_text'] = dataset['review_text'].apply(preprocess)\n",
        "    \n",
        "    for row in tqdm(dataset.iterrows()):\n",
        "        for item in row[1]['history_reviews']:\n",
        "          item[1] = preprocess(item[1])\n",
        "\n",
        "    return org, dataset"
      ],
      "metadata": {
        "id": "z0O0KYAdimCn"
      },
      "execution_count": 97,
      "outputs": []
    },
    {
      "cell_type": "code",
      "source": [
        "train_org, train = text_preprocessor(train)\n",
        "val_org, val = text_preprocessor(val)\n",
        "test_org, test = text_preprocessor(test)"
      ],
      "metadata": {
        "id": "Dp_frQYWtbxd",
        "colab": {
          "base_uri": "https://localhost:8080/"
        },
        "outputId": "212f3699-424d-482f-ea18-378c52ac2aa6"
      },
      "execution_count": 98,
      "outputs": [
        {
          "output_type": "stream",
          "name": "stderr",
          "text": [
            "87013it [04:39, 311.03it/s]\n",
            "10860it [00:32, 338.10it/s]\n",
            "11015it [00:37, 295.79it/s]\n"
          ]
        }
      ]
    },
    {
      "cell_type": "code",
      "source": [
        "def obj2int(data):\n",
        "    x1 = list(set(data.business_id))\n",
        "    x2 = list(set(data.user_id))\n",
        "\n",
        "    dic1 = dict(zip(x1, list(range(1, len(x1) + 1))))\n",
        "    dic2 = dict(zip(x2, list(range(1, len(x2) + 1))))\n",
        "\n",
        "    data['business_id'] = [dic1[v] for v in data.business_id]\n",
        "    data['user_id'] = [dic2[v] for v in data.user_id]\n",
        "    return data"
      ],
      "metadata": {
        "id": "SPqEQ0kyoM7n"
      },
      "execution_count": 99,
      "outputs": []
    },
    {
      "cell_type": "code",
      "source": [
        "merged = obj2int(pd.concat([train, val, test], ignore_index=True))\n",
        "\n",
        "train = merged.iloc[:len(train), :]\n",
        "val = merged.iloc[len(train):len(train) + len(val), :]\n",
        "test = merged.iloc[-len(test):, :]"
      ],
      "metadata": {
        "id": "DLv3w88FjXuA"
      },
      "execution_count": 101,
      "outputs": []
    },
    {
      "cell_type": "code",
      "source": [
        "train.reset_index(drop=True, inplace=True)\n",
        "val.reset_index(drop=True, inplace=True)\n",
        "test.reset_index(drop=True, inplace=True)"
      ],
      "metadata": {
        "id": "Bej6kDp64NTR"
      },
      "execution_count": 142,
      "outputs": []
    },
    {
      "cell_type": "code",
      "source": [],
      "metadata": {
        "id": "qPG4knZMDDOB"
      },
      "execution_count": null,
      "outputs": []
    },
    {
      "cell_type": "markdown",
      "source": [
        "### Split test dataset into some subsets including the users who rated more than n restaurants."
      ],
      "metadata": {
        "id": "WkSn0CQY3yBB"
      }
    },
    {
      "cell_type": "code",
      "source": [
        "groups = test.groupby(by='user_id')\n",
        "groups.first()"
      ],
      "metadata": {
        "colab": {
          "base_uri": "https://localhost:8080/",
          "height": 499
        },
        "id": "3ejqwU0BwVco",
        "outputId": "59211776-f15e-4312-be32-b8404c304709"
      },
      "execution_count": 143,
      "outputs": [
        {
          "output_type": "execute_result",
          "data": {
            "text/plain": [
              "         business_id  rating  \\\n",
              "user_id                        \n",
              "26              4222       2   \n",
              "28             29081       5   \n",
              "29             24632       4   \n",
              "85              7848       5   \n",
              "102            16528       5   \n",
              "...              ...     ...   \n",
              "36913           3900       5   \n",
              "36948          18190       3   \n",
              "36957          29746       5   \n",
              "36980          14623       4   \n",
              "36985          15417       5   \n",
              "\n",
              "                                               review_text  \\\n",
              "user_id                                                      \n",
              "26                      think go feel eat ramen unit state   \n",
              "28       tri shrimp everi way make salad pasta entre sa...   \n",
              "29       plenti garlic appet eat plate eat shrimp shell...   \n",
              "85       shrimp scallop veggi mix kid fri oyster clam s...   \n",
              "102                                        great meat side   \n",
              "...                                                    ...   \n",
              "36913    restaur perman fixtur san antonio 25 year know...   \n",
              "36948    photo big island scrambl wipe smoothi realli s...   \n",
              "36957    love blt coffe surprisingli realli delici cour...   \n",
              "36980    onion soup veri good husband irish stew veri g...   \n",
              "36985    got pomegran champagn cocktail perhap one best...   \n",
              "\n",
              "                                                      pics  \\\n",
              "user_id                                                      \n",
              "26       [https://lh5.googleusercontent.com/p/AF1QipPXG...   \n",
              "28       [https://lh5.googleusercontent.com/p/AF1QipOvc...   \n",
              "29       [https://lh5.googleusercontent.com/p/AF1QipMTT...   \n",
              "85       [https://lh5.googleusercontent.com/p/AF1QipM3t...   \n",
              "102      [https://lh5.googleusercontent.com/p/AF1QipPkp...   \n",
              "...                                                    ...   \n",
              "36913    [https://lh5.googleusercontent.com/p/AF1QipNm1...   \n",
              "36948    [https://lh5.googleusercontent.com/p/AF1QipMWV...   \n",
              "36957    [https://lh5.googleusercontent.com/p/AF1QipMdC...   \n",
              "36980    [https://lh5.googleusercontent.com/p/AF1QipN6s...   \n",
              "36985    [https://lh5.googleusercontent.com/p/AF1QipOnr...   \n",
              "\n",
              "                                           history_reviews  \n",
              "user_id                                                     \n",
              "26       [[103702125305235331440_6041ef055fd99145bc6215...  \n",
              "28       [[108161276161410360922_604c5092f25393f28ea906...  \n",
              "29       [[101386921960731069230_6040c0517cd8bf130361fe...  \n",
              "85       [[112809729403235559970_6050b45f0d18f671d86ac1...  \n",
              "102      [[109182065259194545017_6043f4f7b81264dfa846d4...  \n",
              "...                                                    ...  \n",
              "36913    [[114212472215495517478_6050ca174cd354c57204c1...  \n",
              "36948    [[109695987947107099853_6045ead710ec061e056b38...  \n",
              "36957    [[112829397259087304433_6056fa31f69c7b11780702...  \n",
              "36980    [[103809758427884268296_6047570248e7cc5a9ce286...  \n",
              "36985    [[104565136959378806179_604db1d777e81aaed3ccaa...  \n",
              "\n",
              "[3700 rows x 5 columns]"
            ],
            "text/html": [
              "\n",
              "  <div id=\"df-88e7de8c-655f-4f0a-9cb1-f2628858f240\">\n",
              "    <div class=\"colab-df-container\">\n",
              "      <div>\n",
              "<style scoped>\n",
              "    .dataframe tbody tr th:only-of-type {\n",
              "        vertical-align: middle;\n",
              "    }\n",
              "\n",
              "    .dataframe tbody tr th {\n",
              "        vertical-align: top;\n",
              "    }\n",
              "\n",
              "    .dataframe thead th {\n",
              "        text-align: right;\n",
              "    }\n",
              "</style>\n",
              "<table border=\"1\" class=\"dataframe\">\n",
              "  <thead>\n",
              "    <tr style=\"text-align: right;\">\n",
              "      <th></th>\n",
              "      <th>business_id</th>\n",
              "      <th>rating</th>\n",
              "      <th>review_text</th>\n",
              "      <th>pics</th>\n",
              "      <th>history_reviews</th>\n",
              "    </tr>\n",
              "    <tr>\n",
              "      <th>user_id</th>\n",
              "      <th></th>\n",
              "      <th></th>\n",
              "      <th></th>\n",
              "      <th></th>\n",
              "      <th></th>\n",
              "    </tr>\n",
              "  </thead>\n",
              "  <tbody>\n",
              "    <tr>\n",
              "      <th>26</th>\n",
              "      <td>4222</td>\n",
              "      <td>2</td>\n",
              "      <td>think go feel eat ramen unit state</td>\n",
              "      <td>[https://lh5.googleusercontent.com/p/AF1QipPXG...</td>\n",
              "      <td>[[103702125305235331440_6041ef055fd99145bc6215...</td>\n",
              "    </tr>\n",
              "    <tr>\n",
              "      <th>28</th>\n",
              "      <td>29081</td>\n",
              "      <td>5</td>\n",
              "      <td>tri shrimp everi way make salad pasta entre sa...</td>\n",
              "      <td>[https://lh5.googleusercontent.com/p/AF1QipOvc...</td>\n",
              "      <td>[[108161276161410360922_604c5092f25393f28ea906...</td>\n",
              "    </tr>\n",
              "    <tr>\n",
              "      <th>29</th>\n",
              "      <td>24632</td>\n",
              "      <td>4</td>\n",
              "      <td>plenti garlic appet eat plate eat shrimp shell...</td>\n",
              "      <td>[https://lh5.googleusercontent.com/p/AF1QipMTT...</td>\n",
              "      <td>[[101386921960731069230_6040c0517cd8bf130361fe...</td>\n",
              "    </tr>\n",
              "    <tr>\n",
              "      <th>85</th>\n",
              "      <td>7848</td>\n",
              "      <td>5</td>\n",
              "      <td>shrimp scallop veggi mix kid fri oyster clam s...</td>\n",
              "      <td>[https://lh5.googleusercontent.com/p/AF1QipM3t...</td>\n",
              "      <td>[[112809729403235559970_6050b45f0d18f671d86ac1...</td>\n",
              "    </tr>\n",
              "    <tr>\n",
              "      <th>102</th>\n",
              "      <td>16528</td>\n",
              "      <td>5</td>\n",
              "      <td>great meat side</td>\n",
              "      <td>[https://lh5.googleusercontent.com/p/AF1QipPkp...</td>\n",
              "      <td>[[109182065259194545017_6043f4f7b81264dfa846d4...</td>\n",
              "    </tr>\n",
              "    <tr>\n",
              "      <th>...</th>\n",
              "      <td>...</td>\n",
              "      <td>...</td>\n",
              "      <td>...</td>\n",
              "      <td>...</td>\n",
              "      <td>...</td>\n",
              "    </tr>\n",
              "    <tr>\n",
              "      <th>36913</th>\n",
              "      <td>3900</td>\n",
              "      <td>5</td>\n",
              "      <td>restaur perman fixtur san antonio 25 year know...</td>\n",
              "      <td>[https://lh5.googleusercontent.com/p/AF1QipNm1...</td>\n",
              "      <td>[[114212472215495517478_6050ca174cd354c57204c1...</td>\n",
              "    </tr>\n",
              "    <tr>\n",
              "      <th>36948</th>\n",
              "      <td>18190</td>\n",
              "      <td>3</td>\n",
              "      <td>photo big island scrambl wipe smoothi realli s...</td>\n",
              "      <td>[https://lh5.googleusercontent.com/p/AF1QipMWV...</td>\n",
              "      <td>[[109695987947107099853_6045ead710ec061e056b38...</td>\n",
              "    </tr>\n",
              "    <tr>\n",
              "      <th>36957</th>\n",
              "      <td>29746</td>\n",
              "      <td>5</td>\n",
              "      <td>love blt coffe surprisingli realli delici cour...</td>\n",
              "      <td>[https://lh5.googleusercontent.com/p/AF1QipMdC...</td>\n",
              "      <td>[[112829397259087304433_6056fa31f69c7b11780702...</td>\n",
              "    </tr>\n",
              "    <tr>\n",
              "      <th>36980</th>\n",
              "      <td>14623</td>\n",
              "      <td>4</td>\n",
              "      <td>onion soup veri good husband irish stew veri g...</td>\n",
              "      <td>[https://lh5.googleusercontent.com/p/AF1QipN6s...</td>\n",
              "      <td>[[103809758427884268296_6047570248e7cc5a9ce286...</td>\n",
              "    </tr>\n",
              "    <tr>\n",
              "      <th>36985</th>\n",
              "      <td>15417</td>\n",
              "      <td>5</td>\n",
              "      <td>got pomegran champagn cocktail perhap one best...</td>\n",
              "      <td>[https://lh5.googleusercontent.com/p/AF1QipOnr...</td>\n",
              "      <td>[[104565136959378806179_604db1d777e81aaed3ccaa...</td>\n",
              "    </tr>\n",
              "  </tbody>\n",
              "</table>\n",
              "<p>3700 rows × 5 columns</p>\n",
              "</div>\n",
              "      <button class=\"colab-df-convert\" onclick=\"convertToInteractive('df-88e7de8c-655f-4f0a-9cb1-f2628858f240')\"\n",
              "              title=\"Convert this dataframe to an interactive table.\"\n",
              "              style=\"display:none;\">\n",
              "        \n",
              "  <svg xmlns=\"http://www.w3.org/2000/svg\" height=\"24px\"viewBox=\"0 0 24 24\"\n",
              "       width=\"24px\">\n",
              "    <path d=\"M0 0h24v24H0V0z\" fill=\"none\"/>\n",
              "    <path d=\"M18.56 5.44l.94 2.06.94-2.06 2.06-.94-2.06-.94-.94-2.06-.94 2.06-2.06.94zm-11 1L8.5 8.5l.94-2.06 2.06-.94-2.06-.94L8.5 2.5l-.94 2.06-2.06.94zm10 10l.94 2.06.94-2.06 2.06-.94-2.06-.94-.94-2.06-.94 2.06-2.06.94z\"/><path d=\"M17.41 7.96l-1.37-1.37c-.4-.4-.92-.59-1.43-.59-.52 0-1.04.2-1.43.59L10.3 9.45l-7.72 7.72c-.78.78-.78 2.05 0 2.83L4 21.41c.39.39.9.59 1.41.59.51 0 1.02-.2 1.41-.59l7.78-7.78 2.81-2.81c.8-.78.8-2.07 0-2.86zM5.41 20L4 18.59l7.72-7.72 1.47 1.35L5.41 20z\"/>\n",
              "  </svg>\n",
              "      </button>\n",
              "      \n",
              "  <style>\n",
              "    .colab-df-container {\n",
              "      display:flex;\n",
              "      flex-wrap:wrap;\n",
              "      gap: 12px;\n",
              "    }\n",
              "\n",
              "    .colab-df-convert {\n",
              "      background-color: #E8F0FE;\n",
              "      border: none;\n",
              "      border-radius: 50%;\n",
              "      cursor: pointer;\n",
              "      display: none;\n",
              "      fill: #1967D2;\n",
              "      height: 32px;\n",
              "      padding: 0 0 0 0;\n",
              "      width: 32px;\n",
              "    }\n",
              "\n",
              "    .colab-df-convert:hover {\n",
              "      background-color: #E2EBFA;\n",
              "      box-shadow: 0px 1px 2px rgba(60, 64, 67, 0.3), 0px 1px 3px 1px rgba(60, 64, 67, 0.15);\n",
              "      fill: #174EA6;\n",
              "    }\n",
              "\n",
              "    [theme=dark] .colab-df-convert {\n",
              "      background-color: #3B4455;\n",
              "      fill: #D2E3FC;\n",
              "    }\n",
              "\n",
              "    [theme=dark] .colab-df-convert:hover {\n",
              "      background-color: #434B5C;\n",
              "      box-shadow: 0px 1px 3px 1px rgba(0, 0, 0, 0.15);\n",
              "      filter: drop-shadow(0px 1px 2px rgba(0, 0, 0, 0.3));\n",
              "      fill: #FFFFFF;\n",
              "    }\n",
              "  </style>\n",
              "\n",
              "      <script>\n",
              "        const buttonEl =\n",
              "          document.querySelector('#df-88e7de8c-655f-4f0a-9cb1-f2628858f240 button.colab-df-convert');\n",
              "        buttonEl.style.display =\n",
              "          google.colab.kernel.accessAllowed ? 'block' : 'none';\n",
              "\n",
              "        async function convertToInteractive(key) {\n",
              "          const element = document.querySelector('#df-88e7de8c-655f-4f0a-9cb1-f2628858f240');\n",
              "          const dataTable =\n",
              "            await google.colab.kernel.invokeFunction('convertToInteractive',\n",
              "                                                     [key], {});\n",
              "          if (!dataTable) return;\n",
              "\n",
              "          const docLinkHtml = 'Like what you see? Visit the ' +\n",
              "            '<a target=\"_blank\" href=https://colab.research.google.com/notebooks/data_table.ipynb>data table notebook</a>'\n",
              "            + ' to learn more about interactive tables.';\n",
              "          element.innerHTML = '';\n",
              "          dataTable['output_type'] = 'display_data';\n",
              "          await google.colab.output.renderOutput(dataTable, element);\n",
              "          const docLink = document.createElement('div');\n",
              "          docLink.innerHTML = docLinkHtml;\n",
              "          element.appendChild(docLink);\n",
              "        }\n",
              "      </script>\n",
              "    </div>\n",
              "  </div>\n",
              "  "
            ]
          },
          "metadata": {},
          "execution_count": 143
        }
      ]
    },
    {
      "cell_type": "code",
      "source": [
        "with plt.style.context('seaborn'):\n",
        "    plt.figure(figsize=(12, 8))\n",
        "    plt.hist([len(pdf) for grp, pdf in groups], bins=100)\n",
        "    plt.locator_params(axis='x', nbins=50)\n",
        "    plt.show()"
      ],
      "metadata": {
        "colab": {
          "base_uri": "https://localhost:8080/",
          "height": 483
        },
        "id": "oYPW9G6_wVad",
        "outputId": "aa75f85a-d05a-401a-c916-54bb03d688e3"
      },
      "execution_count": 144,
      "outputs": [
        {
          "output_type": "display_data",
          "data": {
            "text/plain": [
              "<Figure size 864x576 with 1 Axes>"
            ],
            "image/png": "[encoded data removed]"
          },
          "metadata": {}
        }
      ]
    },
    {
      "cell_type": "code",
      "source": [
        "def user_extractor(dataset, limit=3):\n",
        "    groups = dataset.groupby(by='user_id')\n",
        "    for grp, pdf in groups:\n",
        "        if len(pdf) < limit:\n",
        "            dataset = dataset[dataset.user_id != grp]\n",
        "    return dataset"
      ],
      "metadata": {
        "id": "79bKKRiu0wQb"
      },
      "execution_count": 145,
      "outputs": []
    },
    {
      "cell_type": "code",
      "source": [
        "test_includes_2  = user_extractor(dataset=test, limit=2)\n",
        "test_includes_3  = user_extractor(dataset=test, limit=3)\n",
        "test_includes_4  = user_extractor(dataset=test, limit=4)\n",
        "test_includes_5  = user_extractor(dataset=test, limit=5)\n",
        "test_more_than_5 = user_extractor(dataset=test, limit=6)"
      ],
      "metadata": {
        "id": "df6vz0MCwVYH"
      },
      "execution_count": 146,
      "outputs": []
    },
    {
      "cell_type": "code",
      "source": [],
      "metadata": {
        "id": "A7kfivAbwVTL"
      },
      "execution_count": 41,
      "outputs": []
    },
    {
      "cell_type": "markdown",
      "source": [
        "**Ok, Everything looks right ))**"
      ],
      "metadata": {
        "id": "1MqSNvyKOOTJ"
      }
    },
    {
      "cell_type": "code",
      "source": [],
      "metadata": {
        "id": "2Bua8QINimAL"
      },
      "execution_count": 14,
      "outputs": []
    },
    {
      "cell_type": "markdown",
      "source": [
        "# Part Two.\n",
        "* Evaluation Metrics"
      ],
      "metadata": {
        "id": "yA7Y5Va6CGDr"
      }
    },
    {
      "cell_type": "markdown",
      "source": [
        "### Average Precision (AP)"
      ],
      "metadata": {
        "id": "nPnTfmTedjiC"
      }
    },
    {
      "cell_type": "markdown",
      "source": [
        "### Precision @ k"
      ],
      "metadata": {
        "id": "ZJOKdDutX6hB"
      }
    },
    {
      "cell_type": "code",
      "source": [
        "def eval_p_at_k(ref, k_pred):\n",
        "    pred_relevent = len(set(k_pred).intersection(set(ref)))\n",
        "    return pred_relevent / len(k_pred)"
      ],
      "metadata": {
        "id": "ZfSRwwyVI-Rb"
      },
      "execution_count": 19,
      "outputs": []
    },
    {
      "cell_type": "markdown",
      "source": [
        "### Recall @ k"
      ],
      "metadata": {
        "id": "PrrXs9Ik4ani"
      }
    },
    {
      "cell_type": "code",
      "source": [
        "!TODO"
      ],
      "metadata": {
        "id": "mwOqAgS1YsoC",
        "colab": {
          "base_uri": "https://localhost:8080/"
        },
        "outputId": "198d00b0-bbfb-479f-caad-2607edf21ca7"
      },
      "execution_count": 50,
      "outputs": [
        {
          "output_type": "stream",
          "name": "stdout",
          "text": [
            "/bin/bash: TODO: command not found\n"
          ]
        }
      ]
    },
    {
      "cell_type": "code",
      "source": [],
      "metadata": {
        "id": "ygpFP8WE4d7D"
      },
      "execution_count": null,
      "outputs": []
    },
    {
      "cell_type": "code",
      "source": [],
      "metadata": {
        "id": "gFNZ8eBw4d5C"
      },
      "execution_count": null,
      "outputs": []
    },
    {
      "cell_type": "markdown",
      "source": [
        "# Part Three.\n",
        "Neural network Recommender System"
      ],
      "metadata": {
        "id": "soX0Vp0a4XEZ"
      }
    },
    {
      "cell_type": "code",
      "source": [
        "from keras.layers import Input, Embedding, Flatten, Dot, Dense, Concatenate\n",
        "from keras.models import Model"
      ],
      "metadata": {
        "id": "fKXRLa5EVu_Y"
      },
      "execution_count": 115,
      "outputs": []
    },
    {
      "cell_type": "code",
      "source": [
        "n_items = len(train.business_id.unique()) + len(val.business_id.unique()) + len(test.business_id.unique())\n",
        "n_users = len(train.user_id.unique()) + len(val.user_id.unique()) + len(test.user_id.unique())"
      ],
      "metadata": {
        "id": "j7do_CWFgaEq"
      },
      "execution_count": 152,
      "outputs": []
    },
    {
      "cell_type": "code",
      "source": [
        "n_items, n_users"
      ],
      "metadata": {
        "colab": {
          "base_uri": "https://localhost:8080/"
        },
        "id": "aMX3NjKJfI_o",
        "outputId": "c8d6e1ad-776f-455f-838b-5e6901a67ba8"
      },
      "execution_count": 154,
      "outputs": [
        {
          "output_type": "execute_result",
          "data": {
            "text/plain": [
              "(43611, 36996)"
            ]
          },
          "metadata": {},
          "execution_count": 154
        }
      ]
    },
    {
      "cell_type": "code",
      "source": [
        "# creating book embedding path\n",
        "movie_input = Input(shape=[1], name=\"Movie-Input\")\n",
        "movie_embedding = Embedding(n_items + 1, 5, name=\"Movie-Embedding\")(movie_input)\n",
        "movie_vec = Flatten(name=\"Flatten-Books\")(movie_embedding)\n",
        "\n",
        "# creating user embedding path\n",
        "user_input = Input(shape=[1], name=\"User-Input\")\n",
        "user_embedding = Embedding(n_users + 1, 5, name=\"User-Embedding\")(user_input)\n",
        "user_vec = Flatten(name=\"Flatten-Users\")(user_embedding)\n",
        "\n",
        "# concatenate features\n",
        "conc = Concatenate()([movie_vec, user_vec])\n",
        "\n",
        "# add fully-connected-layers\n",
        "fc1 = Dense(128, activation='relu')(conc)\n",
        "fc2 = Dense(64, activation='relu')(fc1)\n",
        "fc3 = Dense(16, activation='relu')(fc2)\n",
        "out = Dense(1)(fc3)\n",
        "\n",
        "# Create model and compile it\n",
        "model = Model([user_input, movie_input], out)\n",
        "model.compile('adam', 'mean_squared_error')"
      ],
      "metadata": {
        "id": "V9tbDRE8Vu9D"
      },
      "execution_count": 177,
      "outputs": []
    },
    {
      "cell_type": "code",
      "source": [
        "history = model.fit([train.user_id, train.business_id], train.rating, epochs=5, validation_data=([val.user_id, val.business_id], val.rating), verbose=1)"
      ],
      "metadata": {
        "colab": {
          "base_uri": "https://localhost:8080/"
        },
        "id": "gono9KGEVu30",
        "outputId": "2c42df82-1312-4102-ddf5-c5a21c9bbc92"
      },
      "execution_count": 178,
      "outputs": [
        {
          "output_type": "stream",
          "name": "stdout",
          "text": [
            "Epoch 1/5\n",
            "2720/2720 [==============================] - 13s 5ms/step - loss: 0.9523 - val_loss: 0.7210\n",
            "Epoch 2/5\n",
            "2720/2720 [==============================] - 13s 5ms/step - loss: 0.5038 - val_loss: 0.7742\n",
            "Epoch 3/5\n",
            "2720/2720 [==============================] - 13s 5ms/step - loss: 0.3728 - val_loss: 0.8144\n",
            "Epoch 4/5\n",
            "2720/2720 [==============================] - 13s 5ms/step - loss: 0.2885 - val_loss: 0.9739\n",
            "Epoch 5/5\n",
            "2720/2720 [==============================] - 13s 5ms/step - loss: 0.2171 - val_loss: 0.9435\n"
          ]
        }
      ]
    },
    {
      "cell_type": "code",
      "source": [],
      "metadata": {
        "id": "sowZngvKGpFV"
      },
      "execution_count": null,
      "outputs": []
    },
    {
      "cell_type": "code",
      "source": [
        "def get_binary(arr):\n",
        "    return np.array([1 if x >= 3 else 0 for x in arr])"
      ],
      "metadata": {
        "id": "d-JLe9O4GpDR"
      },
      "execution_count": 173,
      "outputs": []
    },
    {
      "cell_type": "code",
      "source": [
        "# creating book embedding path\n",
        "movie_input = Input(shape=[1], name=\"Movie-Input\")\n",
        "movie_embedding = Embedding(n_items + 2, 5, name=\"Movie-Embedding\")(movie_input)\n",
        "movie_vec = Flatten(name=\"Flatten-Books\")(movie_embedding)\n",
        "\n",
        "# creating user embedding path\n",
        "user_input = Input(shape=[1], name=\"User-Input\")\n",
        "user_embedding = Embedding(n_users + 2, 5, name=\"User-Embedding\")(user_input)\n",
        "user_vec = Flatten(name=\"Flatten-Users\")(user_embedding)\n",
        "\n",
        "# concatenate features\n",
        "conc = Concatenate()([movie_vec, user_vec])\n",
        "\n",
        "# add fully-connected-layers\n",
        "fc1 = Dense(128, activation='relu')(conc)\n",
        "fc2 = Dense(32, activation='relu')(fc1)\n",
        "out = Dense(1, activation='sigmoid')(fc2)\n",
        "\n",
        "# Create model and compile it\n",
        "model = Model([user_input, movie_input], out)\n",
        "model.compile(loss='binary_crossentropy', optimizer='adam', metrics=['accuracy'])"
      ],
      "metadata": {
        "id": "WfqZNiWx6AWO"
      },
      "execution_count": 171,
      "outputs": []
    },
    {
      "cell_type": "code",
      "source": [
        "history = model.fit([train.user_id, train.business_id], get_binary(train.rating), epochs=5, validation_data=([val.user_id, val.business_id], get_binary(val.rating)), verbose=1)"
      ],
      "metadata": {
        "colab": {
          "base_uri": "https://localhost:8080/"
        },
        "id": "V_lmtkoL6ATo",
        "outputId": "7ed383a0-e004-4226-e85d-207bc3dca367"
      },
      "execution_count": 172,
      "outputs": [
        {
          "output_type": "stream",
          "name": "stdout",
          "text": [
            "Epoch 1/5\n",
            "2720/2720 [==============================] - 14s 5ms/step - loss: 0.1586 - accuracy: 0.9643 - val_loss: 0.1598 - val_accuracy: 0.9622\n",
            "Epoch 2/5\n",
            "2720/2720 [==============================] - 15s 5ms/step - loss: 0.0878 - accuracy: 0.9695 - val_loss: 0.2857 - val_accuracy: 0.8905\n",
            "Epoch 3/5\n",
            "2720/2720 [==============================] - 12s 4ms/step - loss: 0.0422 - accuracy: 0.9847 - val_loss: 0.4795 - val_accuracy: 0.7662\n",
            "Epoch 4/5\n",
            "2720/2720 [==============================] - 12s 4ms/step - loss: 0.0241 - accuracy: 0.9906 - val_loss: 0.6035 - val_accuracy: 0.7155\n",
            "Epoch 5/5\n",
            "2720/2720 [==============================] - 12s 4ms/step - loss: 0.0140 - accuracy: 0.9937 - val_loss: 0.7229 - val_accuracy: 0.7120\n"
          ]
        }
      ]
    },
    {
      "cell_type": "code",
      "source": [
        "model.evaluate([test.user_id, test.business_id], get_binary(test.rating))"
      ],
      "metadata": {
        "colab": {
          "base_uri": "https://localhost:8080/"
        },
        "id": "nRW5qzZ6h1gx",
        "outputId": "fccc1445-f048-4a65-dfc4-14a0de498b56"
      },
      "execution_count": 176,
      "outputs": [
        {
          "output_type": "stream",
          "name": "stdout",
          "text": [
            "345/345 [==============================] - 1s 2ms/step - loss: 0.7116 - accuracy: 0.7136\n"
          ]
        },
        {
          "output_type": "execute_result",
          "data": {
            "text/plain": [
              "[0.7116390466690063, 0.7135723829269409]"
            ]
          },
          "metadata": {},
          "execution_count": 176
        }
      ]
    },
    {
      "cell_type": "code",
      "source": [
        "# predictions = model.predict([test.user_id.head(30), test.business_id.head(30)])\n",
        "# [print(predictions[i], get_binary(test.rating)[i]) for i in range(0, 30)]"
      ],
      "metadata": {
        "id": "lzPPOFXS6ARN"
      },
      "execution_count": 174,
      "outputs": []
    },
    {
      "cell_type": "code",
      "source": [],
      "metadata": {
        "id": "nGANo8rQGzc7"
      },
      "execution_count": null,
      "outputs": []
    },
    {
      "cell_type": "code",
      "source": [],
      "metadata": {
        "id": "cAEA1R_HGzaZ"
      },
      "execution_count": null,
      "outputs": []
    },
    {
      "cell_type": "code",
      "source": [],
      "metadata": {
        "id": "RKUTdTeqF0th"
      },
      "execution_count": null,
      "outputs": []
    },
    {
      "cell_type": "code",
      "source": [],
      "metadata": {
        "id": "1o6RciazF0qz"
      },
      "execution_count": null,
      "outputs": []
    },
    {
      "cell_type": "code",
      "source": [],
      "metadata": {
        "id": "78Exs9_XF0mA"
      },
      "execution_count": null,
      "outputs": []
    },
    {
      "cell_type": "code",
      "source": [],
      "metadata": {
        "id": "AgDqYyLKF0jf"
      },
      "execution_count": null,
      "outputs": []
    },
    {
      "cell_type": "code",
      "source": [],
      "metadata": {
        "id": "Y4d1PAY4F0g5"
      },
      "execution_count": null,
      "outputs": []
    },
    {
      "cell_type": "code",
      "source": [],
      "metadata": {
        "id": "5sVUxMubF0ee"
      },
      "execution_count": null,
      "outputs": []
    },
    {
      "cell_type": "code",
      "source": [],
      "metadata": {
        "id": "D_nu0MnmVurJ"
      },
      "execution_count": null,
      "outputs": []
    },
    {
      "cell_type": "code",
      "source": [],
      "metadata": {
        "id": "QrneveZThfcB"
      },
      "execution_count": null,
      "outputs": []
    },
    {
      "cell_type": "code",
      "source": [],
      "metadata": {
        "id": "ZH0cz6XzhfZ1"
      },
      "execution_count": null,
      "outputs": []
    },
    {
      "cell_type": "code",
      "source": [],
      "metadata": {
        "id": "q4hnG2SGhfXJ"
      },
      "execution_count": null,
      "outputs": []
    },
    {
      "cell_type": "code",
      "source": [],
      "metadata": {
        "id": "qiH6GnGShfU6"
      },
      "execution_count": null,
      "outputs": []
    },
    {
      "cell_type": "code",
      "source": [],
      "metadata": {
        "id": "LEqXFwqlhfSj"
      },
      "execution_count": null,
      "outputs": []
    },
    {
      "cell_type": "code",
      "source": [],
      "metadata": {
        "id": "ww2yHjw7hfQW"
      },
      "execution_count": null,
      "outputs": []
    },
    {
      "cell_type": "code",
      "source": [],
      "metadata": {
        "id": "4ci3xDBkhfN5"
      },
      "execution_count": null,
      "outputs": []
    },
    {
      "cell_type": "code",
      "source": [
        "map_ = eval_MAP(ref=query_answer_ref, pred=query_answer_bert)\n",
        "mrr = eval_MRR(ref=query_answer_ref, pred=query_answer_bert)\n",
        "avg_p_at_5 = eval_AP(ref=query_answer_ref, pred=query_answer_bert, k=5)\n",
        "avg_p_at_10 = eval_AP(ref=query_answer_ref, pred=query_answer_bert, k=10)\n",
        "\n",
        "print('MAP : {:.3f}'.format(map_))\n",
        "print('MRR : {:.3f}'.format(mrr))\n",
        "print('P@5 : {:.3f}'.format(avg_p_at_5))\n",
        "print('P@10: {:.3f}'.format(avg_p_at_10))"
      ],
      "metadata": {
        "colab": {
          "base_uri": "https://localhost:8080/"
        },
        "id": "P74G--vK4Wxp",
        "outputId": "8d7a9475-599c-4e7a-d83b-b78bc8eb4754"
      },
      "execution_count": null,
      "outputs": [
        {
          "output_type": "stream",
          "name": "stdout",
          "text": [
            "MAP : 0.453\n",
            "MRR : 0.777\n",
            "P@5 : 0.484\n",
            "P@10: 0.339\n"
          ]
        }
      ]
    },
    {
      "cell_type": "code",
      "source": [],
      "metadata": {
        "id": "vYe88Mp5CiQl"
      },
      "execution_count": null,
      "outputs": []
    },
    {
      "cell_type": "markdown",
      "source": [
        "# Part Four.\n",
        "Siamese"
      ],
      "metadata": {
        "id": "Ig9pPdjNC5oa"
      }
    },
    {
      "cell_type": "code",
      "source": [
        "# Average Precision (AP)\n",
        "def eval_AP_new(arr):\n",
        "    relevant = 0\n",
        "    map = 0\n",
        "    for i, ele in enumerate(arr):\n",
        "        if ele == 1:\n",
        "            relevant += 1\n",
        "            map += relevant / (i + 1)\n",
        "    return (map / relevant) if relevant != 0 else 0\n",
        "     \n",
        "\n",
        "# Reciprocal Rank (RR)\n",
        "def eval_RR_new(arr):\n",
        "    for i, ele in enumerate(arr):\n",
        "        if ele == 1:\n",
        "            return 1 / (i + 1)\n",
        "    return 0\n",
        "\n",
        "\n",
        "# Precision @ k\n",
        "def p_at_k_new(arr, k=10):\n",
        "    return sum(arr[:k]) / k"
      ],
      "metadata": {
        "id": "AIm4MDB5a5x3"
      },
      "execution_count": null,
      "outputs": []
    },
    {
      "cell_type": "code",
      "source": [
        "eval_ap = eval_AP_new(results)\n",
        "eval_rr = eval_RR_new(results)\n",
        "eval_p_at_5 = p_at_k_new(results, k=5)\n",
        "eval_p_at_10 = p_at_k_new(results)\n",
        "\n",
        "print('MAP : {:.3f}'.format(eval_ap))\n",
        "print('MRR : {:.3f}'.format(eval_rr))\n",
        "print('P@5 : {:.3f}'.format(eval_p_at_5))\n",
        "print('P@10: {:.3f}'.format(eval_p_at_10))"
      ],
      "metadata": {
        "colab": {
          "base_uri": "https://localhost:8080/"
        },
        "id": "OhUJu4LVbej9",
        "outputId": "45d3b6a9-4f66-499a-c66d-f08dfbea5f23"
      },
      "execution_count": null,
      "outputs": [
        {
          "output_type": "stream",
          "name": "stdout",
          "text": [
            "MAP : 0.747\n",
            "MRR : 0.865\n",
            "P@5 : 0.687\n",
            "P@10: 0.606\n"
          ]
        }
      ]
    },
    {
      "cell_type": "markdown",
      "source": [
        "# Finito"
      ],
      "metadata": {
        "id": "yhZLAhGvLdRJ"
      }
    }
  ]
}