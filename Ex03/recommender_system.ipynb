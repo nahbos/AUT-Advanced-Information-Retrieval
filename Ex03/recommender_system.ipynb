{
  "nbformat": 4,
  "nbformat_minor": 0,
  "metadata": {
    "colab": {
      "provenance": [],
      "toc_visible": true,
      "include_colab_link": true
    },
    "kernelspec": {
      "name": "python3",
      "display_name": "Python 3"
    },
    "language_info": {
      "name": "python"
    },
    "gpuClass": "standard"
  },
  "cells": [
    {
      "cell_type": "markdown",
      "metadata": {
        "id": "view-in-github",
        "colab_type": "text"
      },
      "source": [
        "<a href=\"https://colab.research.google.com/github/nahbos/AUT-Advanced-Information-Retrieval/blob/main/Ex03/recommender_system.ipynb\" target=\"_parent\"><img src=\"https://colab.research.google.com/assets/colab-badge.svg\" alt=\"Open In Colab\"/></a>"
      ]
    },
    {
      "cell_type": "markdown",
      "source": [
        "## Sobhan Moradian Daghigh\n",
        "\n",
        "- 2-3-2023\n",
        "\n",
        "### Ex-03: Recommender System"
      ],
      "metadata": {
        "id": "YU-Gx1EmJAA6"
      }
    },
    {
      "cell_type": "code",
      "execution_count": 11,
      "metadata": {
        "id": "8nmKYHAuI4mA",
        "colab": {
          "base_uri": "https://localhost:8080/"
        },
        "outputId": "a4833fbb-df12-4a7d-9861-809829216344"
      },
      "outputs": [
        {
          "output_type": "stream",
          "name": "stderr",
          "text": [
            "[nltk_data] Downloading package punkt to /root/nltk_data...\n",
            "[nltk_data]   Package punkt is already up-to-date!\n",
            "[nltk_data] Downloading package stopwords to /root/nltk_data...\n",
            "[nltk_data]   Package stopwords is already up-to-date!\n",
            "[nltk_data] Downloading package averaged_perceptron_tagger to\n",
            "[nltk_data]     /root/nltk_data...\n",
            "[nltk_data]   Package averaged_perceptron_tagger is already up-to-\n",
            "[nltk_data]       date!\n"
          ]
        }
      ],
      "source": [
        "import numpy as np\n",
        "import pandas as pd\n",
        "import json\n",
        "import nltk\n",
        "from nltk import word_tokenize\n",
        "from nltk.corpus import stopwords\n",
        "from nltk.stem.porter import PorterStemmer\n",
        "from nltk import pos_tag\n",
        "import string\n",
        "nltk.download('punkt')\n",
        "nltk.download('stopwords')\n",
        "nltk.download('averaged_perceptron_tagger')\n",
        "import warnings\n",
        "warnings.filterwarnings(\"ignore\")\n",
        "import matplotlib.pyplot as plt\n",
        "from tqdm import tqdm\n",
        "import re\n",
        "from bs4 import BeautifulSoup\n",
        "\n",
        "\n",
        "# from gensim.models import TfidfModel\n",
        "# from gensim.corpora import Dictionary\n",
        "# from gensim.utils import simple_preprocess\n",
        "# from gensim.parsing.preprocessing import remove_stopwords\n",
        "# from sklearn.feature_extraction.text import TfidfVectorizer\n",
        "# from sklearn.metrics.pairwise import cosine_similarity\n",
        "# from collections import Counter\n",
        "# import random\n",
        "# import pickle\n",
        "# from PIL import Image"
      ]
    },
    {
      "cell_type": "code",
      "source": [
        "from google.colab import drive\n",
        "drive.mount('/content/drive')"
      ],
      "metadata": {
        "id": "Hwx6oj3mWu5k",
        "outputId": "6a839785-4026-4ffb-fd73-dfb2fb1c5418",
        "colab": {
          "base_uri": "https://localhost:8080/"
        }
      },
      "execution_count": 12,
      "outputs": [
        {
          "output_type": "stream",
          "name": "stdout",
          "text": [
            "Drive already mounted at /content/drive; to attempt to forcibly remount, call drive.mount(\"/content/drive\", force_remount=True).\n"
          ]
        }
      ]
    },
    {
      "cell_type": "code",
      "source": [],
      "metadata": {
        "id": "48NzuuuqWHeb"
      },
      "execution_count": 12,
      "outputs": []
    },
    {
      "cell_type": "markdown",
      "source": [
        "# Part One. \n",
        "* Data Loading"
      ],
      "metadata": {
        "id": "qWCubj1TKn22"
      }
    },
    {
      "cell_type": "code",
      "source": [
        "with open('./drive/MyDrive/data.json') as jsonFile:\n",
        "    jsonObject = json.load(jsonFile)\n",
        "    jsonFile.close()\n",
        "\n",
        "train = pd.DataFrame(jsonObject['train'])\n",
        "val   = pd.DataFrame(jsonObject['val'])\n",
        "test  = pd.DataFrame(jsonObject['test'])"
      ],
      "metadata": {
        "id": "MYmtom_6YlYP"
      },
      "execution_count": 13,
      "outputs": []
    },
    {
      "cell_type": "code",
      "source": [
        "train.head()"
      ],
      "metadata": {
        "id": "4tLLmshMYlTm",
        "colab": {
          "base_uri": "https://localhost:8080/",
          "height": 493
        },
        "outputId": "c10efd88-9e9c-4557-fcee-d767e90e3cea"
      },
      "execution_count": 14,
      "outputs": [
        {
          "output_type": "execute_result",
          "data": {
            "text/plain": [
              "                business_id                user_id  rating  \\\n",
              "0  60567465d335d0abfb415b26  101074926318992653684       4   \n",
              "1  6050fa9f5b4ccec8d5cae994  117065749986299237881       5   \n",
              "2  604be10877e81aaed3cc9a1e  106700937793048450809       4   \n",
              "3  60411e017cd8bf130362365a  101643045857250355161       5   \n",
              "4  604139dd7cd8bf1303624208  109802745326785766951       4   \n",
              "\n",
              "                                         review_text  \\\n",
              "0  The tang of the tomato sauce is outstanding. A...   \n",
              "1              Chicken and waffles were really good!   \n",
              "2  The appetizer of colossal shrimp was very good...   \n",
              "3  The fish tacos here  omg! The salad was great ...   \n",
              "4  Ribs are great, as are the mac and cheese, fri...   \n",
              "\n",
              "                                                pics  \\\n",
              "0  [https://lh5.googleusercontent.com/p/AF1QipM-2...   \n",
              "1  [https://lh5.googleusercontent.com/p/AF1QipMpf...   \n",
              "2  [https://lh5.googleusercontent.com/p/AF1QipMNn...   \n",
              "3  [https://lh5.googleusercontent.com/p/AF1QipM-a...   \n",
              "4  [https://lh5.googleusercontent.com/p/AF1QipNVy...   \n",
              "\n",
              "                                     history_reviews  \n",
              "0  [[101074926318992653684_6056272797d555cc6fb0d1...  \n",
              "1  [[117065749986299237881_605206f8d8c08f462b93e8...  \n",
              "2  [[106700937793048450809_6044300b27f39b7b5d1dbf...  \n",
              "3  [[101643045857250355161_604fbdd099686c10168c91...  \n",
              "4  [[109802745326785766951_60524fa9f09a4ffff042f9...  "
            ],
            "text/html": [
              "\n",
              "  <div id=\"df-db4adfb3-4188-47c1-b4fb-8c7fd0fd8ccb\">\n",
              "    <div class=\"colab-df-container\">\n",
              "      <div>\n",
              "<style scoped>\n",
              "    .dataframe tbody tr th:only-of-type {\n",
              "        vertical-align: middle;\n",
              "    }\n",
              "\n",
              "    .dataframe tbody tr th {\n",
              "        vertical-align: top;\n",
              "    }\n",
              "\n",
              "    .dataframe thead th {\n",
              "        text-align: right;\n",
              "    }\n",
              "</style>\n",
              "<table border=\"1\" class=\"dataframe\">\n",
              "  <thead>\n",
              "    <tr style=\"text-align: right;\">\n",
              "      <th></th>\n",
              "      <th>business_id</th>\n",
              "      <th>user_id</th>\n",
              "      <th>rating</th>\n",
              "      <th>review_text</th>\n",
              "      <th>pics</th>\n",
              "      <th>history_reviews</th>\n",
              "    </tr>\n",
              "  </thead>\n",
              "  <tbody>\n",
              "    <tr>\n",
              "      <th>0</th>\n",
              "      <td>60567465d335d0abfb415b26</td>\n",
              "      <td>101074926318992653684</td>\n",
              "      <td>4</td>\n",
              "      <td>The tang of the tomato sauce is outstanding. A...</td>\n",
              "      <td>[https://lh5.googleusercontent.com/p/AF1QipM-2...</td>\n",
              "      <td>[[101074926318992653684_6056272797d555cc6fb0d1...</td>\n",
              "    </tr>\n",
              "    <tr>\n",
              "      <th>1</th>\n",
              "      <td>6050fa9f5b4ccec8d5cae994</td>\n",
              "      <td>117065749986299237881</td>\n",
              "      <td>5</td>\n",
              "      <td>Chicken and waffles were really good!</td>\n",
              "      <td>[https://lh5.googleusercontent.com/p/AF1QipMpf...</td>\n",
              "      <td>[[117065749986299237881_605206f8d8c08f462b93e8...</td>\n",
              "    </tr>\n",
              "    <tr>\n",
              "      <th>2</th>\n",
              "      <td>604be10877e81aaed3cc9a1e</td>\n",
              "      <td>106700937793048450809</td>\n",
              "      <td>4</td>\n",
              "      <td>The appetizer of colossal shrimp was very good...</td>\n",
              "      <td>[https://lh5.googleusercontent.com/p/AF1QipMNn...</td>\n",
              "      <td>[[106700937793048450809_6044300b27f39b7b5d1dbf...</td>\n",
              "    </tr>\n",
              "    <tr>\n",
              "      <th>3</th>\n",
              "      <td>60411e017cd8bf130362365a</td>\n",
              "      <td>101643045857250355161</td>\n",
              "      <td>5</td>\n",
              "      <td>The fish tacos here  omg! The salad was great ...</td>\n",
              "      <td>[https://lh5.googleusercontent.com/p/AF1QipM-a...</td>\n",
              "      <td>[[101643045857250355161_604fbdd099686c10168c91...</td>\n",
              "    </tr>\n",
              "    <tr>\n",
              "      <th>4</th>\n",
              "      <td>604139dd7cd8bf1303624208</td>\n",
              "      <td>109802745326785766951</td>\n",
              "      <td>4</td>\n",
              "      <td>Ribs are great, as are the mac and cheese, fri...</td>\n",
              "      <td>[https://lh5.googleusercontent.com/p/AF1QipNVy...</td>\n",
              "      <td>[[109802745326785766951_60524fa9f09a4ffff042f9...</td>\n",
              "    </tr>\n",
              "  </tbody>\n",
              "</table>\n",
              "</div>\n",
              "      <button class=\"colab-df-convert\" onclick=\"convertToInteractive('df-db4adfb3-4188-47c1-b4fb-8c7fd0fd8ccb')\"\n",
              "              title=\"Convert this dataframe to an interactive table.\"\n",
              "              style=\"display:none;\">\n",
              "        \n",
              "  <svg xmlns=\"http://www.w3.org/2000/svg\" height=\"24px\"viewBox=\"0 0 24 24\"\n",
              "       width=\"24px\">\n",
              "    <path d=\"M0 0h24v24H0V0z\" fill=\"none\"/>\n",
              "    <path d=\"M18.56 5.44l.94 2.06.94-2.06 2.06-.94-2.06-.94-.94-2.06-.94 2.06-2.06.94zm-11 1L8.5 8.5l.94-2.06 2.06-.94-2.06-.94L8.5 2.5l-.94 2.06-2.06.94zm10 10l.94 2.06.94-2.06 2.06-.94-2.06-.94-.94-2.06-.94 2.06-2.06.94z\"/><path d=\"M17.41 7.96l-1.37-1.37c-.4-.4-.92-.59-1.43-.59-.52 0-1.04.2-1.43.59L10.3 9.45l-7.72 7.72c-.78.78-.78 2.05 0 2.83L4 21.41c.39.39.9.59 1.41.59.51 0 1.02-.2 1.41-.59l7.78-7.78 2.81-2.81c.8-.78.8-2.07 0-2.86zM5.41 20L4 18.59l7.72-7.72 1.47 1.35L5.41 20z\"/>\n",
              "  </svg>\n",
              "      </button>\n",
              "      \n",
              "  <style>\n",
              "    .colab-df-container {\n",
              "      display:flex;\n",
              "      flex-wrap:wrap;\n",
              "      gap: 12px;\n",
              "    }\n",
              "\n",
              "    .colab-df-convert {\n",
              "      background-color: #E8F0FE;\n",
              "      border: none;\n",
              "      border-radius: 50%;\n",
              "      cursor: pointer;\n",
              "      display: none;\n",
              "      fill: #1967D2;\n",
              "      height: 32px;\n",
              "      padding: 0 0 0 0;\n",
              "      width: 32px;\n",
              "    }\n",
              "\n",
              "    .colab-df-convert:hover {\n",
              "      background-color: #E2EBFA;\n",
              "      box-shadow: 0px 1px 2px rgba(60, 64, 67, 0.3), 0px 1px 3px 1px rgba(60, 64, 67, 0.15);\n",
              "      fill: #174EA6;\n",
              "    }\n",
              "\n",
              "    [theme=dark] .colab-df-convert {\n",
              "      background-color: #3B4455;\n",
              "      fill: #D2E3FC;\n",
              "    }\n",
              "\n",
              "    [theme=dark] .colab-df-convert:hover {\n",
              "      background-color: #434B5C;\n",
              "      box-shadow: 0px 1px 3px 1px rgba(0, 0, 0, 0.15);\n",
              "      filter: drop-shadow(0px 1px 2px rgba(0, 0, 0, 0.3));\n",
              "      fill: #FFFFFF;\n",
              "    }\n",
              "  </style>\n",
              "\n",
              "      <script>\n",
              "        const buttonEl =\n",
              "          document.querySelector('#df-db4adfb3-4188-47c1-b4fb-8c7fd0fd8ccb button.colab-df-convert');\n",
              "        buttonEl.style.display =\n",
              "          google.colab.kernel.accessAllowed ? 'block' : 'none';\n",
              "\n",
              "        async function convertToInteractive(key) {\n",
              "          const element = document.querySelector('#df-db4adfb3-4188-47c1-b4fb-8c7fd0fd8ccb');\n",
              "          const dataTable =\n",
              "            await google.colab.kernel.invokeFunction('convertToInteractive',\n",
              "                                                     [key], {});\n",
              "          if (!dataTable) return;\n",
              "\n",
              "          const docLinkHtml = 'Like what you see? Visit the ' +\n",
              "            '<a target=\"_blank\" href=https://colab.research.google.com/notebooks/data_table.ipynb>data table notebook</a>'\n",
              "            + ' to learn more about interactive tables.';\n",
              "          element.innerHTML = '';\n",
              "          dataTable['output_type'] = 'display_data';\n",
              "          await google.colab.output.renderOutput(dataTable, element);\n",
              "          const docLink = document.createElement('div');\n",
              "          docLink.innerHTML = docLinkHtml;\n",
              "          element.appendChild(docLink);\n",
              "        }\n",
              "      </script>\n",
              "    </div>\n",
              "  </div>\n",
              "  "
            ]
          },
          "metadata": {},
          "execution_count": 14
        }
      ]
    },
    {
      "cell_type": "code",
      "source": [
        "train.info()"
      ],
      "metadata": {
        "colab": {
          "base_uri": "https://localhost:8080/"
        },
        "id": "l00owcSbeYOA",
        "outputId": "d782a13c-bd56-4ab6-884c-0b5dd4d93f14"
      },
      "execution_count": 15,
      "outputs": [
        {
          "output_type": "stream",
          "name": "stdout",
          "text": [
            "<class 'pandas.core.frame.DataFrame'>\n",
            "RangeIndex: 87013 entries, 0 to 87012\n",
            "Data columns (total 6 columns):\n",
            " #   Column           Non-Null Count  Dtype \n",
            "---  ------           --------------  ----- \n",
            " 0   business_id      87013 non-null  object\n",
            " 1   user_id          87013 non-null  object\n",
            " 2   rating           87013 non-null  int64 \n",
            " 3   review_text      87013 non-null  object\n",
            " 4   pics             87013 non-null  object\n",
            " 5   history_reviews  87013 non-null  object\n",
            "dtypes: int64(1), object(5)\n",
            "memory usage: 4.0+ MB\n"
          ]
        }
      ]
    },
    {
      "cell_type": "code",
      "source": [
        "val.info()"
      ],
      "metadata": {
        "colab": {
          "base_uri": "https://localhost:8080/"
        },
        "id": "NnE3gNOxfJo6",
        "outputId": "68d78f62-9619-4dec-cfa3-f8f065c68888"
      },
      "execution_count": 16,
      "outputs": [
        {
          "output_type": "stream",
          "name": "stdout",
          "text": [
            "<class 'pandas.core.frame.DataFrame'>\n",
            "RangeIndex: 10860 entries, 0 to 10859\n",
            "Data columns (total 6 columns):\n",
            " #   Column           Non-Null Count  Dtype \n",
            "---  ------           --------------  ----- \n",
            " 0   business_id      10860 non-null  object\n",
            " 1   user_id          10860 non-null  object\n",
            " 2   rating           10860 non-null  int64 \n",
            " 3   review_text      10860 non-null  object\n",
            " 4   pics             10860 non-null  object\n",
            " 5   history_reviews  10860 non-null  object\n",
            "dtypes: int64(1), object(5)\n",
            "memory usage: 509.2+ KB\n"
          ]
        }
      ]
    },
    {
      "cell_type": "code",
      "source": [
        "test.info()"
      ],
      "metadata": {
        "colab": {
          "base_uri": "https://localhost:8080/"
        },
        "id": "UdJqSUjbfHNC",
        "outputId": "c02ceec7-597f-419f-a3e6-1413ac003cb5"
      },
      "execution_count": 17,
      "outputs": [
        {
          "output_type": "stream",
          "name": "stdout",
          "text": [
            "<class 'pandas.core.frame.DataFrame'>\n",
            "RangeIndex: 11015 entries, 0 to 11014\n",
            "Data columns (total 6 columns):\n",
            " #   Column           Non-Null Count  Dtype \n",
            "---  ------           --------------  ----- \n",
            " 0   business_id      11015 non-null  object\n",
            " 1   user_id          11015 non-null  object\n",
            " 2   rating           11015 non-null  int64 \n",
            " 3   review_text      11015 non-null  object\n",
            " 4   pics             11015 non-null  object\n",
            " 5   history_reviews  11015 non-null  object\n",
            "dtypes: int64(1), object(5)\n",
            "memory usage: 516.5+ KB\n"
          ]
        }
      ]
    },
    {
      "cell_type": "code",
      "source": [],
      "metadata": {
        "id": "jO9P0RZBOKQS"
      },
      "execution_count": 17,
      "outputs": []
    },
    {
      "cell_type": "markdown",
      "source": [
        "## Preprocess"
      ],
      "metadata": {
        "id": "nvVth-FOiNWa"
      }
    },
    {
      "cell_type": "code",
      "source": [
        "def preprocess(q):\n",
        "   \n",
        "    # Lowercase\n",
        "    q = str(q).lower().strip()      \n",
        "    \n",
        "    # Replace certain special characters with their string equivalents\n",
        "    q = q.replace('%', ' percent')\n",
        "    q = q.replace('$', ' dollar ')\n",
        "    q = q.replace('₹', ' rupee ')\n",
        "    q = q.replace('€', ' euro ')\n",
        "    q = q.replace('@', ' at ')\n",
        "    \n",
        "    # The pattern '[math]' appears around 900 times in the whole dataset.\n",
        "    q = q.replace('[math]', '')\n",
        "    \n",
        "    # Replacing some numbers with string equivalents (not perfect, can be done better to account for more cases)\n",
        "    q = q.replace(',000,000,000 ', 'b ')\n",
        "    q = q.replace(',000,000 ', 'm ')\n",
        "    q = q.replace(',000 ', 'k ')\n",
        "    q = re.sub(r'([0-9]+)000000000', r'\\1b', q)\n",
        "    q = re.sub(r'([0-9]+)000000', r'\\1m', q)\n",
        "    q = re.sub(r'([0-9]+)000', r'\\1k', q)\n",
        "    \n",
        "    # Decontracting words\n",
        "    # https://en.wikipedia.org/wiki/Wikipedia%3aList_of_English_contractions\n",
        "    # https://stackoverflow.com/a/19794953\n",
        "\n",
        "    contractions = { \n",
        "    \"ain't\": \"am not\",\n",
        "    \"aren't\": \"are not\",\n",
        "    \"was'nt\": \"was not\",\n",
        "    \"were'nt\": \"were not\",\n",
        "    \"can't\": \"can not\",\n",
        "    \"can't've\": \"can not have\",\n",
        "    \"'cause\": \"because\",\n",
        "    \"could've\": \"could have\",\n",
        "    \"couldn't\": \"could not\",\n",
        "    \"couldn't've\": \"could not have\",\n",
        "    \"didn't\": \"did not\",\n",
        "    \"doesn't\": \"does not\",\n",
        "    \"don't\": \"do not\",\n",
        "    \"hadn't\": \"had not\",\n",
        "    \"hadn't've\": \"had not have\",\n",
        "    \"hasn't\": \"has not\",\n",
        "    \"haven't\": \"have not\",\n",
        "    \"he'd\": \"he would\",\n",
        "    \"he'd've\": \"he would have\",\n",
        "    \"he'll\": \"he will\",\n",
        "    \"he'll've\": \"he will have\",\n",
        "    \"he's\": \"he is\",\n",
        "    \"how'd\": \"how did\",\n",
        "    \"how'd'y\": \"how do you\",\n",
        "    \"how'll\": \"how will\",\n",
        "    \"how's\": \"how is\",\n",
        "    \"i'd\": \"i would\",\n",
        "    \"i'd've\": \"i would have\",\n",
        "    \"i'll\": \"i will\",\n",
        "    \"i'll've\": \"i will have\",\n",
        "    \"i'm\": \"i am\",\n",
        "    \"i've\": \"i have\",\n",
        "    \"isn't\": \"is not\",\n",
        "    \"it'd\": \"it would\",\n",
        "    \"it'd've\": \"it would have\",\n",
        "    \"it'll\": \"it will\",\n",
        "    \"it'll've\": \"it will have\",\n",
        "    \"it's\": \"it is\",\n",
        "    \"let's\": \"let us\",\n",
        "    \"ma'am\": \"madam\",\n",
        "    \"mayn't\": \"may not\",\n",
        "    \"might've\": \"might have\",\n",
        "    \"mightn't\": \"might not\",\n",
        "    \"mightn't've\": \"might not have\",\n",
        "    \"must've\": \"must have\",\n",
        "    \"mustn't\": \"must not\",\n",
        "    \"mustn't've\": \"must not have\",\n",
        "    \"needn't\": \"need not\",\n",
        "    \"needn't've\": \"need not have\",\n",
        "    \"o'clock\": \"of the clock\",\n",
        "    \"oughtn't\": \"ought not\",\n",
        "    \"oughtn't've\": \"ought not have\",\n",
        "    \"shan't\": \"shall not\",\n",
        "    \"sha'n't\": \"shall not\",\n",
        "    \"shan't've\": \"shall not have\",\n",
        "    \"she'd\": \"she would\",\n",
        "    \"she'd've\": \"she would have\",\n",
        "    \"she'll\": \"she will\",\n",
        "    \"she'll've\": \"she will have\",\n",
        "    \"she's\": \"she is\",\n",
        "    \"should've\": \"should have\",\n",
        "    \"shouldn't\": \"should not\",\n",
        "    \"shouldn't've\": \"should not have\",\n",
        "    \"so've\": \"so have\",\n",
        "    \"so's\": \"so as\",\n",
        "    \"that'd\": \"that would\",\n",
        "    \"that'd've\": \"that would have\",\n",
        "    \"that's\": \"that is\",\n",
        "    \"there'd\": \"there would\",\n",
        "    \"there'd've\": \"there would have\",\n",
        "    \"there's\": \"there is\",\n",
        "    \"they'd\": \"they would\",\n",
        "    \"they'd've\": \"they would have\",\n",
        "    \"they'll\": \"they will\",\n",
        "    \"they'll've\": \"they will have\",\n",
        "    \"they're\": \"they are\",\n",
        "    \"they've\": \"they have\",\n",
        "    \"to've\": \"to have\",\n",
        "    \"wasn't\": \"was not\",\n",
        "    \"we'd\": \"we would\",\n",
        "    \"we'd've\": \"we would have\",\n",
        "    \"we'll\": \"we will\",\n",
        "    \"we'll've\": \"we will have\",\n",
        "    \"we're\": \"we are\",\n",
        "    \"we've\": \"we have\",\n",
        "    \"weren't\": \"were not\",\n",
        "    \"what'll\": \"what will\",\n",
        "    \"what'll've\": \"what will have\",\n",
        "    \"what're\": \"what are\",\n",
        "    \"what's\": \"what is\",\n",
        "    \"what've\": \"what have\",\n",
        "    \"when's\": \"when is\",\n",
        "    \"when've\": \"when have\",\n",
        "    \"where'd\": \"where did\",\n",
        "    \"where's\": \"where is\",\n",
        "    \"where've\": \"where have\",\n",
        "    \"who'll\": \"who will\",\n",
        "    \"who'll've\": \"who will have\",\n",
        "    \"who's\": \"who is\",\n",
        "    \"who've\": \"who have\",\n",
        "    \"why's\": \"why is\",\n",
        "    \"why've\": \"why have\",\n",
        "    \"will've\": \"will have\",\n",
        "    \"won't\": \"will not\",\n",
        "    \"won't've\": \"will not have\",\n",
        "    \"would've\": \"would have\",\n",
        "    \"wouldn't\": \"would not\",\n",
        "    \"wouldn't've\": \"would not have\",\n",
        "    \"y'all\": \"you all\",\n",
        "    \"y'all'd\": \"you all would\",\n",
        "    \"y'all'd've\": \"you all would have\",\n",
        "    \"y'all're\": \"you all are\",\n",
        "    \"y'all've\": \"you all have\",\n",
        "    \"you'd\": \"you would\",\n",
        "    \"you'd've\": \"you would have\",\n",
        "    \"you'll\": \"you will\",\n",
        "    \"you'll've\": \"you will have\",\n",
        "    \"you're\": \"you are\",\n",
        "    \"you've\": \"you have\"\n",
        "    }\n",
        "\n",
        "    q_decontracted = []\n",
        "\n",
        "    for word in q.split():\n",
        "        if word in contractions:\n",
        "            word = contractions[word]\n",
        "\n",
        "        q_decontracted.append(word)\n",
        "\n",
        "    q = ' '.join(q_decontracted)\n",
        "    q = q.replace(\"'ve\", \" have\")\n",
        "    q = q.replace(\"n't\", \" not\")\n",
        "    q = q.replace(\"'re\", \" are\")\n",
        "    q = q.replace(\"'ll\", \" will\")\n",
        "    \n",
        "    # Removing HTML tags\n",
        "    q = BeautifulSoup(q)\n",
        "    q = q.get_text()\n",
        "\n",
        "    # Removing Punctuation\n",
        "    q = \"\".join([char for char in q if char not in string.punctuation])\n",
        "    \n",
        "    # Word Tokenization\n",
        "    q = word_tokenize(q)\n",
        "    \n",
        "    # Stopword Filtering\n",
        "    stop_words = stopwords.words('english')\n",
        "    [stop_words.remove(x) for x in ['not', 'very']]\n",
        "    q = [word for word in q if word not in stop_words]\n",
        "    \n",
        "    # Stemming\n",
        "    porter = PorterStemmer()\n",
        "    q = [porter.stem(word) for word in q]\n",
        "    q = ' '.join(q)\n",
        "    \n",
        "    return q"
      ],
      "metadata": {
        "id": "4RB0NicKiM0y"
      },
      "execution_count": 18,
      "outputs": []
    },
    {
      "cell_type": "code",
      "source": [
        "preprocess('Hi, no no no the food was awful')"
      ],
      "metadata": {
        "colab": {
          "base_uri": "https://localhost:8080/",
          "height": 36
        },
        "id": "OhaDky6mhdR-",
        "outputId": "b8bad649-4b0b-4409-e099-eb2bbbe5d8d0"
      },
      "execution_count": 19,
      "outputs": [
        {
          "output_type": "execute_result",
          "data": {
            "text/plain": [
              "'hi food aw'"
            ],
            "application/vnd.google.colaboratory.intrinsic+json": {
              "type": "string"
            }
          },
          "metadata": {},
          "execution_count": 19
        }
      ]
    },
    {
      "cell_type": "code",
      "source": [
        "preprocess('The best Kentaki ever, thank you')"
      ],
      "metadata": {
        "colab": {
          "base_uri": "https://localhost:8080/",
          "height": 36
        },
        "id": "Of11A1oamV0h",
        "outputId": "e4548908-b968-40cc-efbd-e2d9fdb4fbe3"
      },
      "execution_count": 20,
      "outputs": [
        {
          "output_type": "execute_result",
          "data": {
            "text/plain": [
              "'best kentaki ever thank'"
            ],
            "application/vnd.google.colaboratory.intrinsic+json": {
              "type": "string"
            }
          },
          "metadata": {},
          "execution_count": 20
        }
      ]
    },
    {
      "cell_type": "code",
      "source": [
        "def text_preprocessor(dataset):\n",
        "    org = dataset.copy()\n",
        "    dataset['review_text'] = dataset['review_text'].apply(preprocess)\n",
        "    \n",
        "    for row in tqdm(dataset.iterrows()):\n",
        "        for item in row[1]['history_reviews']:\n",
        "          item[1] = preprocess(item[1])\n",
        "\n",
        "    return org, dataset"
      ],
      "metadata": {
        "id": "z0O0KYAdimCn"
      },
      "execution_count": 21,
      "outputs": []
    },
    {
      "cell_type": "code",
      "source": [
        "train_org, train = text_preprocessor(train)\n",
        "val_org, val = text_preprocessor(val)\n",
        "test_org, test = text_preprocessor(test)"
      ],
      "metadata": {
        "id": "Dp_frQYWtbxd",
        "colab": {
          "base_uri": "https://localhost:8080/"
        },
        "outputId": "e7428616-9fbe-418f-dd86-fe8c02992c24"
      },
      "execution_count": 22,
      "outputs": [
        {
          "output_type": "stream",
          "name": "stderr",
          "text": [
            "87013it [07:06, 204.13it/s]\n",
            "10860it [00:48, 222.16it/s]\n",
            "11015it [00:54, 202.60it/s]\n"
          ]
        }
      ]
    },
    {
      "cell_type": "code",
      "source": [
        "def obj2int(data):\n",
        "    x1 = list(set(data.business_id))\n",
        "    x2 = list(set(data.user_id))\n",
        "\n",
        "    dic1 = dict(zip(x1, list(range(1, len(x1) + 1))))\n",
        "    dic2 = dict(zip(x2, list(range(1, len(x2) + 1))))\n",
        "\n",
        "    data['business_id'] = [dic1[v] for v in data.business_id]\n",
        "    data['user_id'] = [dic2[v] for v in data.user_id]\n",
        "    return data"
      ],
      "metadata": {
        "id": "SPqEQ0kyoM7n"
      },
      "execution_count": 23,
      "outputs": []
    },
    {
      "cell_type": "code",
      "source": [
        "merged = obj2int(pd.concat([train, val, test], ignore_index=True))\n",
        "\n",
        "train = merged.iloc[:len(train), :]\n",
        "val = merged.iloc[len(train):len(train) + len(val), :]\n",
        "test = merged.iloc[-len(test):, :]"
      ],
      "metadata": {
        "id": "DLv3w88FjXuA"
      },
      "execution_count": 24,
      "outputs": []
    },
    {
      "cell_type": "code",
      "source": [
        "train.reset_index(drop=True, inplace=True)\n",
        "val.reset_index(drop=True, inplace=True)\n",
        "test.reset_index(drop=True, inplace=True)"
      ],
      "metadata": {
        "id": "Bej6kDp64NTR"
      },
      "execution_count": 25,
      "outputs": []
    },
    {
      "cell_type": "code",
      "source": [],
      "metadata": {
        "id": "qPG4knZMDDOB"
      },
      "execution_count": 25,
      "outputs": []
    },
    {
      "cell_type": "markdown",
      "source": [
        "### Split test dataset into some subsets including the users who rated more than n restaurants."
      ],
      "metadata": {
        "id": "WkSn0CQY3yBB"
      }
    },
    {
      "cell_type": "code",
      "source": [
        "groups = test.groupby(by='user_id')\n",
        "groups.first()"
      ],
      "metadata": {
        "colab": {
          "base_uri": "https://localhost:8080/",
          "height": 499
        },
        "id": "3ejqwU0BwVco",
        "outputId": "7fd61dc0-2ecd-4e31-ba76-41839ec55921"
      },
      "execution_count": 26,
      "outputs": [
        {
          "output_type": "execute_result",
          "data": {
            "text/plain": [
              "         business_id  rating  \\\n",
              "user_id                        \n",
              "2               5150       3   \n",
              "7               8699       4   \n",
              "9              12168       5   \n",
              "15             14777       5   \n",
              "24             28517       4   \n",
              "...              ...     ...   \n",
              "36976          29679       5   \n",
              "36981           9311       5   \n",
              "36989          24065       5   \n",
              "36992          15181       5   \n",
              "36994           7529       3   \n",
              "\n",
              "                                               review_text  \\\n",
              "user_id                                                      \n",
              "2                   burnt fri smh good burger happi servic   \n",
              "7        wine realli good capres pizza delici celiac ve...   \n",
              "9                        choos protein base ricenoodl sauc   \n",
              "15       great food great staff prime rib excel cook ri...   \n",
              "24       smoke fish absolut delici order captain platte...   \n",
              "...                                                    ...   \n",
              "36976    love use arugula sandwich also tri fri brussel...   \n",
              "36981    mash potato fri okra countri green bean side g...   \n",
              "36989                    hand best taco torta nicest staff   \n",
              "36992       got squawk goat husband got five kid got grace   \n",
              "36994                                    want crispi waffl   \n",
              "\n",
              "                                                      pics  \\\n",
              "user_id                                                      \n",
              "2        [https://lh5.googleusercontent.com/p/AF1QipOeb...   \n",
              "7        [https://lh5.googleusercontent.com/p/AF1QipNPD...   \n",
              "9        [https://lh5.googleusercontent.com/p/AF1QipNXO...   \n",
              "15       [https://lh5.googleusercontent.com/p/AF1QipNVG...   \n",
              "24       [https://lh5.googleusercontent.com/p/AF1QipMSG...   \n",
              "...                                                    ...   \n",
              "36976    [https://lh5.googleusercontent.com/p/AF1QipOnh...   \n",
              "36981    [https://lh5.googleusercontent.com/p/AF1QipNgd...   \n",
              "36989    [https://lh5.googleusercontent.com/p/AF1QipOiV...   \n",
              "36992    [https://lh5.googleusercontent.com/p/AF1QipNiI...   \n",
              "36994    [https://lh5.googleusercontent.com/p/AF1QipOzE...   \n",
              "\n",
              "                                           history_reviews  \n",
              "user_id                                                     \n",
              "2        [[107289596810880142461_60437fe1b81264dfa846be...  \n",
              "7        [[110363245462246813644_6041102bc6fcf1fddba110...  \n",
              "9        [[108751570808218204593_60518f595266728eda27a7...  \n",
              "15       [[112820053578100011721_60471a69b0e2129e47535c...  \n",
              "24       [[111832766187065399939_60519f655b4ccec8d5caec...  \n",
              "...                                                    ...  \n",
              "36976    [[116640361727656875218_605249ae88c7af3f893e75...  \n",
              "36981    [[112554014256304490584_60549b7f80c04bd7072f26...  \n",
              "36989    [[106803342337208702492_60422fd6c6fcf1fddba170...  \n",
              "36992    [[105627053209629802413_604181f07cd8bf1303625e...  \n",
              "36994    [[105162730686410517767_60430db0cc4f7990c6577f...  \n",
              "\n",
              "[3700 rows x 5 columns]"
            ],
            "text/html": [
              "\n",
              "  <div id=\"df-335b1b27-2a9e-4318-8bdd-1464aeac9c07\">\n",
              "    <div class=\"colab-df-container\">\n",
              "      <div>\n",
              "<style scoped>\n",
              "    .dataframe tbody tr th:only-of-type {\n",
              "        vertical-align: middle;\n",
              "    }\n",
              "\n",
              "    .dataframe tbody tr th {\n",
              "        vertical-align: top;\n",
              "    }\n",
              "\n",
              "    .dataframe thead th {\n",
              "        text-align: right;\n",
              "    }\n",
              "</style>\n",
              "<table border=\"1\" class=\"dataframe\">\n",
              "  <thead>\n",
              "    <tr style=\"text-align: right;\">\n",
              "      <th></th>\n",
              "      <th>business_id</th>\n",
              "      <th>rating</th>\n",
              "      <th>review_text</th>\n",
              "      <th>pics</th>\n",
              "      <th>history_reviews</th>\n",
              "    </tr>\n",
              "    <tr>\n",
              "      <th>user_id</th>\n",
              "      <th></th>\n",
              "      <th></th>\n",
              "      <th></th>\n",
              "      <th></th>\n",
              "      <th></th>\n",
              "    </tr>\n",
              "  </thead>\n",
              "  <tbody>\n",
              "    <tr>\n",
              "      <th>2</th>\n",
              "      <td>5150</td>\n",
              "      <td>3</td>\n",
              "      <td>burnt fri smh good burger happi servic</td>\n",
              "      <td>[https://lh5.googleusercontent.com/p/AF1QipOeb...</td>\n",
              "      <td>[[107289596810880142461_60437fe1b81264dfa846be...</td>\n",
              "    </tr>\n",
              "    <tr>\n",
              "      <th>7</th>\n",
              "      <td>8699</td>\n",
              "      <td>4</td>\n",
              "      <td>wine realli good capres pizza delici celiac ve...</td>\n",
              "      <td>[https://lh5.googleusercontent.com/p/AF1QipNPD...</td>\n",
              "      <td>[[110363245462246813644_6041102bc6fcf1fddba110...</td>\n",
              "    </tr>\n",
              "    <tr>\n",
              "      <th>9</th>\n",
              "      <td>12168</td>\n",
              "      <td>5</td>\n",
              "      <td>choos protein base ricenoodl sauc</td>\n",
              "      <td>[https://lh5.googleusercontent.com/p/AF1QipNXO...</td>\n",
              "      <td>[[108751570808218204593_60518f595266728eda27a7...</td>\n",
              "    </tr>\n",
              "    <tr>\n",
              "      <th>15</th>\n",
              "      <td>14777</td>\n",
              "      <td>5</td>\n",
              "      <td>great food great staff prime rib excel cook ri...</td>\n",
              "      <td>[https://lh5.googleusercontent.com/p/AF1QipNVG...</td>\n",
              "      <td>[[112820053578100011721_60471a69b0e2129e47535c...</td>\n",
              "    </tr>\n",
              "    <tr>\n",
              "      <th>24</th>\n",
              "      <td>28517</td>\n",
              "      <td>4</td>\n",
              "      <td>smoke fish absolut delici order captain platte...</td>\n",
              "      <td>[https://lh5.googleusercontent.com/p/AF1QipMSG...</td>\n",
              "      <td>[[111832766187065399939_60519f655b4ccec8d5caec...</td>\n",
              "    </tr>\n",
              "    <tr>\n",
              "      <th>...</th>\n",
              "      <td>...</td>\n",
              "      <td>...</td>\n",
              "      <td>...</td>\n",
              "      <td>...</td>\n",
              "      <td>...</td>\n",
              "    </tr>\n",
              "    <tr>\n",
              "      <th>36976</th>\n",
              "      <td>29679</td>\n",
              "      <td>5</td>\n",
              "      <td>love use arugula sandwich also tri fri brussel...</td>\n",
              "      <td>[https://lh5.googleusercontent.com/p/AF1QipOnh...</td>\n",
              "      <td>[[116640361727656875218_605249ae88c7af3f893e75...</td>\n",
              "    </tr>\n",
              "    <tr>\n",
              "      <th>36981</th>\n",
              "      <td>9311</td>\n",
              "      <td>5</td>\n",
              "      <td>mash potato fri okra countri green bean side g...</td>\n",
              "      <td>[https://lh5.googleusercontent.com/p/AF1QipNgd...</td>\n",
              "      <td>[[112554014256304490584_60549b7f80c04bd7072f26...</td>\n",
              "    </tr>\n",
              "    <tr>\n",
              "      <th>36989</th>\n",
              "      <td>24065</td>\n",
              "      <td>5</td>\n",
              "      <td>hand best taco torta nicest staff</td>\n",
              "      <td>[https://lh5.googleusercontent.com/p/AF1QipOiV...</td>\n",
              "      <td>[[106803342337208702492_60422fd6c6fcf1fddba170...</td>\n",
              "    </tr>\n",
              "    <tr>\n",
              "      <th>36992</th>\n",
              "      <td>15181</td>\n",
              "      <td>5</td>\n",
              "      <td>got squawk goat husband got five kid got grace</td>\n",
              "      <td>[https://lh5.googleusercontent.com/p/AF1QipNiI...</td>\n",
              "      <td>[[105627053209629802413_604181f07cd8bf1303625e...</td>\n",
              "    </tr>\n",
              "    <tr>\n",
              "      <th>36994</th>\n",
              "      <td>7529</td>\n",
              "      <td>3</td>\n",
              "      <td>want crispi waffl</td>\n",
              "      <td>[https://lh5.googleusercontent.com/p/AF1QipOzE...</td>\n",
              "      <td>[[105162730686410517767_60430db0cc4f7990c6577f...</td>\n",
              "    </tr>\n",
              "  </tbody>\n",
              "</table>\n",
              "<p>3700 rows × 5 columns</p>\n",
              "</div>\n",
              "      <button class=\"colab-df-convert\" onclick=\"convertToInteractive('df-335b1b27-2a9e-4318-8bdd-1464aeac9c07')\"\n",
              "              title=\"Convert this dataframe to an interactive table.\"\n",
              "              style=\"display:none;\">\n",
              "        \n",
              "  <svg xmlns=\"http://www.w3.org/2000/svg\" height=\"24px\"viewBox=\"0 0 24 24\"\n",
              "       width=\"24px\">\n",
              "    <path d=\"M0 0h24v24H0V0z\" fill=\"none\"/>\n",
              "    <path d=\"M18.56 5.44l.94 2.06.94-2.06 2.06-.94-2.06-.94-.94-2.06-.94 2.06-2.06.94zm-11 1L8.5 8.5l.94-2.06 2.06-.94-2.06-.94L8.5 2.5l-.94 2.06-2.06.94zm10 10l.94 2.06.94-2.06 2.06-.94-2.06-.94-.94-2.06-.94 2.06-2.06.94z\"/><path d=\"M17.41 7.96l-1.37-1.37c-.4-.4-.92-.59-1.43-.59-.52 0-1.04.2-1.43.59L10.3 9.45l-7.72 7.72c-.78.78-.78 2.05 0 2.83L4 21.41c.39.39.9.59 1.41.59.51 0 1.02-.2 1.41-.59l7.78-7.78 2.81-2.81c.8-.78.8-2.07 0-2.86zM5.41 20L4 18.59l7.72-7.72 1.47 1.35L5.41 20z\"/>\n",
              "  </svg>\n",
              "      </button>\n",
              "      \n",
              "  <style>\n",
              "    .colab-df-container {\n",
              "      display:flex;\n",
              "      flex-wrap:wrap;\n",
              "      gap: 12px;\n",
              "    }\n",
              "\n",
              "    .colab-df-convert {\n",
              "      background-color: #E8F0FE;\n",
              "      border: none;\n",
              "      border-radius: 50%;\n",
              "      cursor: pointer;\n",
              "      display: none;\n",
              "      fill: #1967D2;\n",
              "      height: 32px;\n",
              "      padding: 0 0 0 0;\n",
              "      width: 32px;\n",
              "    }\n",
              "\n",
              "    .colab-df-convert:hover {\n",
              "      background-color: #E2EBFA;\n",
              "      box-shadow: 0px 1px 2px rgba(60, 64, 67, 0.3), 0px 1px 3px 1px rgba(60, 64, 67, 0.15);\n",
              "      fill: #174EA6;\n",
              "    }\n",
              "\n",
              "    [theme=dark] .colab-df-convert {\n",
              "      background-color: #3B4455;\n",
              "      fill: #D2E3FC;\n",
              "    }\n",
              "\n",
              "    [theme=dark] .colab-df-convert:hover {\n",
              "      background-color: #434B5C;\n",
              "      box-shadow: 0px 1px 3px 1px rgba(0, 0, 0, 0.15);\n",
              "      filter: drop-shadow(0px 1px 2px rgba(0, 0, 0, 0.3));\n",
              "      fill: #FFFFFF;\n",
              "    }\n",
              "  </style>\n",
              "\n",
              "      <script>\n",
              "        const buttonEl =\n",
              "          document.querySelector('#df-335b1b27-2a9e-4318-8bdd-1464aeac9c07 button.colab-df-convert');\n",
              "        buttonEl.style.display =\n",
              "          google.colab.kernel.accessAllowed ? 'block' : 'none';\n",
              "\n",
              "        async function convertToInteractive(key) {\n",
              "          const element = document.querySelector('#df-335b1b27-2a9e-4318-8bdd-1464aeac9c07');\n",
              "          const dataTable =\n",
              "            await google.colab.kernel.invokeFunction('convertToInteractive',\n",
              "                                                     [key], {});\n",
              "          if (!dataTable) return;\n",
              "\n",
              "          const docLinkHtml = 'Like what you see? Visit the ' +\n",
              "            '<a target=\"_blank\" href=https://colab.research.google.com/notebooks/data_table.ipynb>data table notebook</a>'\n",
              "            + ' to learn more about interactive tables.';\n",
              "          element.innerHTML = '';\n",
              "          dataTable['output_type'] = 'display_data';\n",
              "          await google.colab.output.renderOutput(dataTable, element);\n",
              "          const docLink = document.createElement('div');\n",
              "          docLink.innerHTML = docLinkHtml;\n",
              "          element.appendChild(docLink);\n",
              "        }\n",
              "      </script>\n",
              "    </div>\n",
              "  </div>\n",
              "  "
            ]
          },
          "metadata": {},
          "execution_count": 26
        }
      ]
    },
    {
      "cell_type": "code",
      "source": [
        "with plt.style.context('seaborn'):\n",
        "    plt.figure(figsize=(12, 8))\n",
        "    plt.hist([len(pdf) for grp, pdf in groups], bins=100)\n",
        "    plt.locator_params(axis='x', nbins=50)\n",
        "    plt.show()"
      ],
      "metadata": {
        "colab": {
          "base_uri": "https://localhost:8080/",
          "height": 483
        },
        "id": "oYPW9G6_wVad",
        "outputId": "3fe9c854-7279-47f5-d6dd-b04bec1c33cc"
      },
      "execution_count": 27,
      "outputs": [
        {
          "output_type": "display_data",
          "data": {
            "text/plain": [
              "<Figure size 864x576 with 1 Axes>"
            ],
            "image/png": "[encoded data removed]"
          },
          "metadata": {}
        }
      ]
    },
    {
      "cell_type": "code",
      "source": [
        "def user_extractor(dataset, limit=3):\n",
        "    groups = dataset.groupby(by='user_id')\n",
        "    for grp, pdf in groups:\n",
        "        if len(pdf) < limit:\n",
        "            dataset = dataset[dataset.user_id != grp]\n",
        "    return dataset"
      ],
      "metadata": {
        "id": "79bKKRiu0wQb"
      },
      "execution_count": 28,
      "outputs": []
    },
    {
      "cell_type": "code",
      "source": [
        "test_includes_2  = user_extractor(dataset=test, limit=2)\n",
        "test_includes_3  = user_extractor(dataset=test, limit=3)\n",
        "test_includes_4  = user_extractor(dataset=test, limit=4)\n",
        "test_includes_5  = user_extractor(dataset=test, limit=5)\n",
        "test_more_than_5 = user_extractor(dataset=test, limit=6)"
      ],
      "metadata": {
        "id": "df6vz0MCwVYH"
      },
      "execution_count": 29,
      "outputs": []
    },
    {
      "cell_type": "code",
      "source": [],
      "metadata": {
        "id": "A7kfivAbwVTL"
      },
      "execution_count": 29,
      "outputs": []
    },
    {
      "cell_type": "markdown",
      "source": [
        "**Ok, Everything looks right ))**"
      ],
      "metadata": {
        "id": "1MqSNvyKOOTJ"
      }
    },
    {
      "cell_type": "code",
      "source": [],
      "metadata": {
        "id": "2Bua8QINimAL"
      },
      "execution_count": 29,
      "outputs": []
    },
    {
      "cell_type": "markdown",
      "source": [
        "# Part Two.\n",
        "* Evaluation Metrics"
      ],
      "metadata": {
        "id": "yA7Y5Va6CGDr"
      }
    },
    {
      "cell_type": "markdown",
      "source": [
        "### Average Precision (AP)"
      ],
      "metadata": {
        "id": "nPnTfmTedjiC"
      }
    },
    {
      "cell_type": "markdown",
      "source": [
        "### Precision @ k"
      ],
      "metadata": {
        "id": "ZJOKdDutX6hB"
      }
    },
    {
      "cell_type": "code",
      "source": [
        "def eval_p_at_k(ref, k_pred):\n",
        "    pred_relevent = len(set(k_pred).intersection(set(ref)))\n",
        "    return pred_relevent / len(k_pred)\n",
        "\n",
        "# Precision @ k\n",
        "def p_at_k_new(arr, k=10):\n",
        "    return sum(arr[:k]) / k"
      ],
      "metadata": {
        "id": "ZfSRwwyVI-Rb"
      },
      "execution_count": 116,
      "outputs": []
    },
    {
      "cell_type": "markdown",
      "source": [
        "### Recall @ k"
      ],
      "metadata": {
        "id": "PrrXs9Ik4ani"
      }
    },
    {
      "cell_type": "code",
      "source": [
        "!TODO"
      ],
      "metadata": {
        "id": "mwOqAgS1YsoC",
        "colab": {
          "base_uri": "https://localhost:8080/"
        },
        "outputId": "5bcfa188-6a7c-4683-8163-f3bc9dbf5f2c"
      },
      "execution_count": 31,
      "outputs": [
        {
          "output_type": "stream",
          "name": "stdout",
          "text": [
            "/bin/bash: TODO: command not found\n"
          ]
        }
      ]
    },
    {
      "cell_type": "code",
      "source": [],
      "metadata": {
        "id": "ygpFP8WE4d7D"
      },
      "execution_count": 31,
      "outputs": []
    },
    {
      "cell_type": "code",
      "source": [],
      "metadata": {
        "id": "gFNZ8eBw4d5C"
      },
      "execution_count": 31,
      "outputs": []
    },
    {
      "cell_type": "markdown",
      "source": [
        "# Part Three.\n",
        "Neural network Recommender System"
      ],
      "metadata": {
        "id": "soX0Vp0a4XEZ"
      }
    },
    {
      "cell_type": "code",
      "source": [
        "from keras.layers import Input, Embedding, Flatten, Dot, Dense, Concatenate\n",
        "from keras.models import Model"
      ],
      "metadata": {
        "id": "fKXRLa5EVu_Y"
      },
      "execution_count": 32,
      "outputs": []
    },
    {
      "cell_type": "code",
      "source": [
        "n_items = len(train.business_id.unique()) + len(val.business_id.unique()) + len(test.business_id.unique())\n",
        "n_users = len(train.user_id.unique()) + len(val.user_id.unique()) + len(test.user_id.unique())\n",
        "max_rate = 5"
      ],
      "metadata": {
        "id": "j7do_CWFgaEq"
      },
      "execution_count": 68,
      "outputs": []
    },
    {
      "cell_type": "code",
      "source": [
        "n_items, n_users"
      ],
      "metadata": {
        "colab": {
          "base_uri": "https://localhost:8080/"
        },
        "id": "aMX3NjKJfI_o",
        "outputId": "17ca61df-a2d8-4ec5-ca27-850d2de9668b"
      },
      "execution_count": 69,
      "outputs": [
        {
          "output_type": "execute_result",
          "data": {
            "text/plain": [
              "(43611, 36996)"
            ]
          },
          "metadata": {},
          "execution_count": 69
        }
      ]
    },
    {
      "cell_type": "code",
      "source": [],
      "metadata": {
        "id": "sowZngvKGpFV"
      },
      "execution_count": null,
      "outputs": []
    },
    {
      "cell_type": "code",
      "source": [
        "THRESHOLD = 3\n",
        "def get_binary(arr):\n",
        "    return np.array([1 if x >= THRESHOLD else 0 for x in arr])"
      ],
      "metadata": {
        "id": "d-JLe9O4GpDR"
      },
      "execution_count": 36,
      "outputs": []
    },
    {
      "cell_type": "code",
      "source": [
        "with plt.style.context('seaborn'):\n",
        "    plt.figure(figsize=(8, 5))\n",
        "    plt.hist(get_binary(train.rating))\n",
        "    plt.title('Train: Rating dispersion with threshold {}'.format(THRESHOLD))\n",
        "    plt.show()\n",
        "\n",
        "with plt.style.context('seaborn'):\n",
        "    plt.figure(figsize=(8, 5))\n",
        "    plt.hist(get_binary(val.rating), color='green')\n",
        "    plt.title('Val: Rating dispersion with threshold {}'.format(THRESHOLD))\n",
        "    plt.show()\n",
        "\n",
        "with plt.style.context('seaborn'):\n",
        "    plt.figure(figsize=(8, 5))\n",
        "    plt.hist(get_binary(test.rating), color='red')\n",
        "    plt.title('Test: Rating dispersion with threshold {}'.format(THRESHOLD))\n",
        "    plt.show()"
      ],
      "metadata": {
        "colab": {
          "base_uri": "https://localhost:8080/",
          "height": 971
        },
        "id": "jmBJd3I2Iqfz",
        "outputId": "c8c2c045-efb7-43a4-9558-cc5b1b6e94c1"
      },
      "execution_count": 37,
      "outputs": [
        {
          "output_type": "display_data",
          "data": {
            "text/plain": [
              "<Figure size 576x360 with 1 Axes>"
            ],
            "image/png": "[encoded data removed]"
          },
          "metadata": {}
        },
        {
          "output_type": "display_data",
          "data": {
            "text/plain": [
              "<Figure size 576x360 with 1 Axes>"
            ],
            "image/png": "[encoded data removed]"
          },
          "metadata": {}
        },
        {
          "output_type": "display_data",
          "data": {
            "text/plain": [
              "<Figure size 576x360 with 1 Axes>"
            ],
            "image/png": "[encoded data removed]"
          },
          "metadata": {}
        }
      ]
    },
    {
      "cell_type": "code",
      "source": [
        "# creating restaurant embedding path\n",
        "restaurant_input = Input(shape=[1], name=\"Restaurant-Input\")\n",
        "restaurant_embedding = Embedding(n_items + 1, 16, name=\"Restaurant-Embedding\")(restaurant_input)\n",
        "restaurant_vec = Flatten(name=\"Flatten-Restaurant\")(restaurant_embedding)\n",
        "\n",
        "# creating user embedding path\n",
        "user_input = Input(shape=[1], name=\"User-Input\")\n",
        "user_embedding = Embedding(n_users + 1, 16, name=\"User-Embedding\")(user_input)\n",
        "user_vec = Flatten(name=\"Flatten-Users\")(user_embedding)\n",
        "\n",
        "# concatenate features\n",
        "conc = Concatenate()([restaurant_vec, user_vec])\n",
        "\n",
        "# add fully-connected-layers\n",
        "fc1 = Dense(128, activation='relu')(conc)\n",
        "fc2 = Dense(32, activation='relu')(fc1)\n",
        "out = Dense(1, activation='sigmoid')(fc2)\n",
        "\n",
        "# Create model and compile it\n",
        "model = Model([user_input, restaurant_input], out)\n",
        "model.compile(loss='binary_crossentropy', optimizer='adam', metrics=['accuracy'])"
      ],
      "metadata": {
        "id": "Rcx26YFIGmf4"
      },
      "execution_count": 117,
      "outputs": []
    },
    {
      "cell_type": "code",
      "source": [
        "history = model.fit([train.user_id, train.business_id], get_binary(train.rating), \n",
        "                    epochs=5, \n",
        "                    validation_data=([val.user_id, val.business_id], get_binary(val.rating)), \n",
        "                    verbose=1)"
      ],
      "metadata": {
        "colab": {
          "base_uri": "https://localhost:8080/"
        },
        "id": "ipqqLV6XGmaZ",
        "outputId": "8fab4856-99d8-4774-f1a9-d0e219deff0c"
      },
      "execution_count": 118,
      "outputs": [
        {
          "output_type": "stream",
          "name": "stdout",
          "text": [
            "Epoch 1/5\n",
            "2720/2720 [==============================] - 53s 19ms/step - loss: 0.1586 - accuracy: 0.9639 - val_loss: 0.1699 - val_accuracy: 0.9622\n",
            "Epoch 2/5\n",
            "2720/2720 [==============================] - 63s 23ms/step - loss: 0.0800 - accuracy: 0.9718 - val_loss: 0.3603 - val_accuracy: 0.8355\n",
            "Epoch 3/5\n",
            "2720/2720 [==============================] - 49s 18ms/step - loss: 0.0342 - accuracy: 0.9875 - val_loss: 0.4714 - val_accuracy: 0.7610\n",
            "Epoch 4/5\n",
            "2720/2720 [==============================] - 49s 18ms/step - loss: 0.0167 - accuracy: 0.9925 - val_loss: 0.5534 - val_accuracy: 0.7664\n",
            "Epoch 5/5\n",
            "2720/2720 [==============================] - 51s 19ms/step - loss: 0.0084 - accuracy: 0.9959 - val_loss: 0.8534 - val_accuracy: 0.6888\n"
          ]
        }
      ]
    },
    {
      "cell_type": "code",
      "source": [
        "model.evaluate([test.user_id, test.business_id], get_binary(test.rating))"
      ],
      "metadata": {
        "colab": {
          "base_uri": "https://localhost:8080/"
        },
        "id": "81ulaewGGmUd",
        "outputId": "55fac337-7988-424f-b125-1c6c985ff8d5"
      },
      "execution_count": 119,
      "outputs": [
        {
          "output_type": "stream",
          "name": "stdout",
          "text": [
            "345/345 [==============================] - 1s 2ms/step - loss: 0.8329 - accuracy: 0.6993\n"
          ]
        },
        {
          "output_type": "execute_result",
          "data": {
            "text/plain": [
              "[0.8328936100006104, 0.6993191242218018]"
            ]
          },
          "metadata": {},
          "execution_count": 119
        }
      ]
    },
    {
      "cell_type": "code",
      "source": [
        "predictions = model.predict([test.user_id, test.business_id])"
      ],
      "metadata": {
        "colab": {
          "base_uri": "https://localhost:8080/"
        },
        "id": "MAB6aNdNGmQq",
        "outputId": "c69845ec-d029-47c7-9dfb-bbe897790566"
      },
      "execution_count": 120,
      "outputs": [
        {
          "output_type": "stream",
          "name": "stdout",
          "text": [
            "345/345 [==============================] - 1s 2ms/step\n"
          ]
        }
      ]
    },
    {
      "cell_type": "code",
      "source": [
        "[print('Pred: {} - GT: {}'.format([0 if predictions[i] < 0.5 else 1], get_binary(test.rating)[i])) for i in range(60, 80)]\n",
        "print('Done')"
      ],
      "metadata": {
        "colab": {
          "base_uri": "https://localhost:8080/"
        },
        "id": "__35iFASGmMs",
        "outputId": "997a21cc-5ea7-4879-fee1-aa32fcd4d499"
      },
      "execution_count": 121,
      "outputs": [
        {
          "output_type": "stream",
          "name": "stdout",
          "text": [
            "Pred: [1] - GT: 1\n",
            "Pred: [1] - GT: 1\n",
            "Pred: [0] - GT: 1\n",
            "Pred: [1] - GT: 1\n",
            "Pred: [1] - GT: 1\n",
            "Pred: [1] - GT: 1\n",
            "Pred: [1] - GT: 1\n",
            "Pred: [0] - GT: 1\n",
            "Pred: [1] - GT: 1\n",
            "Pred: [0] - GT: 0\n",
            "Pred: [1] - GT: 1\n",
            "Pred: [1] - GT: 1\n",
            "Pred: [0] - GT: 0\n",
            "Pred: [1] - GT: 1\n",
            "Pred: [1] - GT: 0\n",
            "Pred: [0] - GT: 1\n",
            "Pred: [1] - GT: 1\n",
            "Pred: [0] - GT: 1\n",
            "Pred: [0] - GT: 1\n",
            "Pred: [1] - GT: 1\n",
            "Done\n"
          ]
        }
      ]
    },
    {
      "cell_type": "code",
      "source": [
        "preds = [0 if predictions[i] < 0.5 else 1 for i in range(len(predictions))]\n",
        "temp = []\n",
        "for i, ele in enumerate(get_binary(test.rating)):\n",
        "    if ele == 0:\n",
        "        temp.append(preds[i])"
      ],
      "metadata": {
        "id": "xJFy-s1dGmIy"
      },
      "execution_count": 122,
      "outputs": []
    },
    {
      "cell_type": "code",
      "source": [
        "with plt.style.context('seaborn'):\n",
        "    plt.figure(figsize=(8, 5))\n",
        "    plt.hist(temp)\n",
        "    plt.title('If the GT is 0, then how many true prediction had the model?')\n",
        "    plt.show()"
      ],
      "metadata": {
        "colab": {
          "base_uri": "https://localhost:8080/",
          "height": 335
        },
        "id": "gf9TVd5NGmFY",
        "outputId": "58f66ff8-5c64-4818-d76e-9cb1dcb3c9aa"
      },
      "execution_count": 123,
      "outputs": [
        {
          "output_type": "display_data",
          "data": {
            "text/plain": [
              "<Figure size 576x360 with 1 Axes>"
            ],
            "image/png": "[encoded data removed]"
          },
          "metadata": {}
        }
      ]
    },
    {
      "cell_type": "markdown",
      "source": [
        "This is not good!\n",
        "\n",
        "THIS IS NOT GOOD!"
      ],
      "metadata": {
        "id": "BpqlzNbKI7Pl"
      }
    },
    {
      "cell_type": "code",
      "source": [],
      "metadata": {
        "id": "K0X2eUAuGlyO"
      },
      "execution_count": null,
      "outputs": []
    },
    {
      "cell_type": "code",
      "source": [],
      "metadata": {
        "id": "Wgi7Vbw7I40Y"
      },
      "execution_count": null,
      "outputs": []
    },
    {
      "cell_type": "markdown",
      "source": [
        "# Part Four.\n",
        "Ok lets use a trick ))"
      ],
      "metadata": {
        "id": "SS-Z9IUxG7BG"
      }
    },
    {
      "cell_type": "code",
      "source": [
        "# creating restaurant embedding path\n",
        "restaurant_input = Input(shape=[1], name=\"Restaurant-Input\")\n",
        "restaurant_embedding = Embedding(n_items + 1, 16, name=\"Restaurant-Embedding\")(restaurant_input)\n",
        "restaurant_vec = Flatten(name=\"Flatten-Restaurant\")(restaurant_embedding)\n",
        "\n",
        "# creating user embedding path\n",
        "user_input = Input(shape=[1], name=\"User-Input\")\n",
        "user_embedding = Embedding(n_users + 1, 16, name=\"User-Embedding\")(user_input)\n",
        "user_vec = Flatten(name=\"Flatten-Users\")(user_embedding)\n",
        "\n",
        "# creating restaurant average rates embedding path\n",
        "restaurant_average_rates_input = Input(shape=[1], name=\"Restaurant-Avg-Rates-Input\")\n",
        "restaurant_average_rates_embedding = Embedding(max_rate + 1, 16, name=\"Restaurant-Avg-Rates-Embedding\")(restaurant_average_rates_input)\n",
        "restaurant_average_rates_vec = Flatten(name=\"Flatten-Restaurant-Avg-Rates\")(restaurant_average_rates_embedding)\n",
        "\n",
        "# creating user average rates embedding path\n",
        "user_average_rates_input = Input(shape=[1], name=\"User-Avg-Rates-Input\")\n",
        "user_average_rates_embedding = Embedding(max_rate + 1, 16, name=\"User-Avg-Rates-Embedding\")(user_average_rates_input)\n",
        "user_average_rates_vec = Flatten(name=\"Flatten-User-Avg-Rates\")(user_average_rates_embedding)\n",
        "\n",
        "# concatenate features\n",
        "conc = Concatenate()([restaurant_vec, user_vec, restaurant_average_rates_vec, user_average_rates_vec])\n",
        "\n",
        "# add fully-connected-layers\n",
        "fc1 = Dense(128, activation='relu')(conc)\n",
        "fc2 = Dense(32, activation='relu')(fc1)\n",
        "out = Dense(1, activation='sigmoid')(fc2)\n",
        "\n",
        "# Create model and compile it\n",
        "model = Model([user_input, restaurant_input, user_average_rates_input, restaurant_average_rates_input], out)\n",
        "model.compile(loss='binary_crossentropy', optimizer='adam', metrics=['accuracy'])"
      ],
      "metadata": {
        "id": "WfqZNiWx6AWO"
      },
      "execution_count": 73,
      "outputs": []
    },
    {
      "cell_type": "code",
      "source": [
        "train_user_avg = get_avg(train, 'user_id')\n",
        "train_restaurant_avg = get_avg(train, 'business_id')\n",
        "val_user_avg = get_avg(val, 'user_id')\n",
        "val_restaurant_avg = get_avg(val, 'business_id')\n",
        "test_user_avg = get_avg(test, 'user_id')\n",
        "test_restaurant_avg = get_avg(test, 'business_id')"
      ],
      "metadata": {
        "id": "6e9G15vJ8WyU"
      },
      "execution_count": 75,
      "outputs": []
    },
    {
      "cell_type": "code",
      "source": [
        "history = model.fit([train.user_id, train.business_id, train_user_avg, train_restaurant_avg], get_binary(train.rating), \n",
        "                    epochs=5, \n",
        "                    validation_data=([val.user_id, val.business_id, val_user_avg, val_restaurant_avg], get_binary(val.rating)), \n",
        "                    verbose=1)"
      ],
      "metadata": {
        "colab": {
          "base_uri": "https://localhost:8080/"
        },
        "id": "V_lmtkoL6ATo",
        "outputId": "3b307d7c-3281-4410-aada-7773c92897d6"
      },
      "execution_count": 76,
      "outputs": [
        {
          "output_type": "stream",
          "name": "stdout",
          "text": [
            "Epoch 1/5\n",
            "2720/2720 [==============================] - 44s 16ms/step - loss: 0.0715 - accuracy: 0.9753 - val_loss: 0.0477 - val_accuracy: 0.9866\n",
            "Epoch 2/5\n",
            "2720/2720 [==============================] - 44s 16ms/step - loss: 0.0450 - accuracy: 0.9839 - val_loss: 0.1213 - val_accuracy: 0.9506\n",
            "Epoch 3/5\n",
            "2720/2720 [==============================] - 46s 17ms/step - loss: 0.0171 - accuracy: 0.9939 - val_loss: 0.2690 - val_accuracy: 0.8506\n",
            "Epoch 4/5\n",
            "2720/2720 [==============================] - 44s 16ms/step - loss: 0.0066 - accuracy: 0.9976 - val_loss: 0.2498 - val_accuracy: 0.8900\n",
            "Epoch 5/5\n",
            "2720/2720 [==============================] - 44s 16ms/step - loss: 0.0029 - accuracy: 0.9990 - val_loss: 0.2401 - val_accuracy: 0.8972\n"
          ]
        }
      ]
    },
    {
      "cell_type": "code",
      "source": [
        "model.evaluate([test.user_id, test.business_id, test_user_avg, test_restaurant_avg], get_binary(test.rating))"
      ],
      "metadata": {
        "colab": {
          "base_uri": "https://localhost:8080/"
        },
        "id": "nRW5qzZ6h1gx",
        "outputId": "ab4a65ff-df66-4d74-ae56-6c794af37152"
      },
      "execution_count": 77,
      "outputs": [
        {
          "output_type": "stream",
          "name": "stdout",
          "text": [
            "345/345 [==============================] - 1s 2ms/step - loss: 0.2104 - accuracy: 0.9081\n"
          ]
        },
        {
          "output_type": "execute_result",
          "data": {
            "text/plain": [
              "[0.21036262810230255, 0.9081252813339233]"
            ]
          },
          "metadata": {},
          "execution_count": 77
        }
      ]
    },
    {
      "cell_type": "code",
      "source": [
        "predictions = model.predict([test.user_id, test.business_id, test_user_avg, test_restaurant_avg])"
      ],
      "metadata": {
        "colab": {
          "base_uri": "https://localhost:8080/"
        },
        "id": "lzPPOFXS6ARN",
        "outputId": "d5b9078b-a251-46c0-f497-13793bc128ed"
      },
      "execution_count": 99,
      "outputs": [
        {
          "output_type": "stream",
          "name": "stdout",
          "text": [
            "345/345 [==============================] - 1s 2ms/step\n"
          ]
        }
      ]
    },
    {
      "cell_type": "code",
      "source": [
        "[print('Pred: {} - GT: {}'.format([0 if predictions[i] < 0.5 else 1], get_binary(test.rating)[i])) for i in range(60, 80)]\n",
        "print('Done')"
      ],
      "metadata": {
        "colab": {
          "base_uri": "https://localhost:8080/"
        },
        "id": "nGANo8rQGzc7",
        "outputId": "a9cf20c1-60f0-4e61-9b3c-397a17e33f73"
      },
      "execution_count": 110,
      "outputs": [
        {
          "output_type": "stream",
          "name": "stdout",
          "text": [
            "Pred: [0] - GT: 1\n",
            "Pred: [1] - GT: 1\n",
            "Pred: [1] - GT: 1\n",
            "Pred: [1] - GT: 1\n",
            "Pred: [1] - GT: 1\n",
            "Pred: [1] - GT: 1\n",
            "Pred: [1] - GT: 1\n",
            "Pred: [1] - GT: 1\n",
            "Pred: [1] - GT: 1\n",
            "Pred: [0] - GT: 0\n",
            "Pred: [1] - GT: 1\n",
            "Pred: [0] - GT: 1\n",
            "Pred: [0] - GT: 0\n",
            "Pred: [1] - GT: 1\n",
            "Pred: [0] - GT: 0\n",
            "Pred: [1] - GT: 1\n",
            "Pred: [1] - GT: 1\n",
            "Pred: [1] - GT: 1\n",
            "Pred: [1] - GT: 1\n",
            "Pred: [1] - GT: 1\n",
            "Done\n"
          ]
        }
      ]
    },
    {
      "cell_type": "code",
      "source": [
        "preds = [0 if predictions[i] < 0.5 else 1 for i in range(len(predictions))]\n",
        "temp = []\n",
        "for i, ele in enumerate(get_binary(test.rating)):\n",
        "    if ele == 0:\n",
        "        temp.append(preds[i])"
      ],
      "metadata": {
        "id": "78Exs9_XF0mA"
      },
      "execution_count": 115,
      "outputs": []
    },
    {
      "cell_type": "code",
      "source": [
        "with plt.style.context('seaborn'):\n",
        "    plt.figure(figsize=(8, 5))\n",
        "    plt.hist(temp)\n",
        "    plt.title('If the GT is 0, then how many true prediction had the model?')\n",
        "    plt.show()"
      ],
      "metadata": {
        "colab": {
          "base_uri": "https://localhost:8080/",
          "height": 335
        },
        "id": "5sVUxMubF0ee",
        "outputId": "03322584-1bf7-4c87-e515-26e6be3a24c9"
      },
      "execution_count": 114,
      "outputs": [
        {
          "output_type": "display_data",
          "data": {
            "text/plain": [
              "<Figure size 576x360 with 1 Axes>"
            ],
            "image/png": "[encoded data removed]"
          },
          "metadata": {}
        }
      ]
    },
    {
      "cell_type": "markdown",
      "source": [
        "Wow )) Gr8"
      ],
      "metadata": {
        "id": "KZu-F2XmLoVD"
      }
    },
    {
      "cell_type": "code",
      "source": [],
      "metadata": {
        "id": "D_nu0MnmVurJ"
      },
      "execution_count": null,
      "outputs": []
    },
    {
      "cell_type": "code",
      "source": [],
      "metadata": {
        "id": "HqHJylqXMT0q"
      },
      "execution_count": null,
      "outputs": []
    },
    {
      "cell_type": "code",
      "source": [],
      "metadata": {
        "id": "XOuO4mWnMTuR"
      },
      "execution_count": null,
      "outputs": []
    },
    {
      "cell_type": "code",
      "source": [],
      "metadata": {
        "id": "tLVPB2kDMTot"
      },
      "execution_count": null,
      "outputs": []
    },
    {
      "cell_type": "code",
      "source": [
        "print('P@5 : {:.3f}'.format())\n",
        "print('R@5 : {:.3f}'.format())"
      ],
      "metadata": {
        "colab": {
          "base_uri": "https://localhost:8080/"
        },
        "id": "P74G--vK4Wxp",
        "outputId": "8d7a9475-599c-4e7a-d83b-b78bc8eb4754"
      },
      "execution_count": null,
      "outputs": [
        {
          "output_type": "stream",
          "name": "stdout",
          "text": [
            "MAP : 0.453\n",
            "MRR : 0.777\n",
            "P@5 : 0.484\n",
            "P@10: 0.339\n"
          ]
        }
      ]
    },
    {
      "cell_type": "code",
      "source": [],
      "metadata": {
        "id": "QrneveZThfcB"
      },
      "execution_count": null,
      "outputs": []
    },
    {
      "cell_type": "code",
      "source": [],
      "metadata": {
        "id": "ZH0cz6XzhfZ1"
      },
      "execution_count": null,
      "outputs": []
    },
    {
      "cell_type": "code",
      "source": [],
      "metadata": {
        "id": "q4hnG2SGhfXJ"
      },
      "execution_count": null,
      "outputs": []
    },
    {
      "cell_type": "code",
      "source": [],
      "metadata": {
        "id": "qiH6GnGShfU6"
      },
      "execution_count": null,
      "outputs": []
    },
    {
      "cell_type": "code",
      "source": [],
      "metadata": {
        "id": "LEqXFwqlhfSj"
      },
      "execution_count": null,
      "outputs": []
    },
    {
      "cell_type": "code",
      "source": [],
      "metadata": {
        "id": "ww2yHjw7hfQW"
      },
      "execution_count": null,
      "outputs": []
    },
    {
      "cell_type": "code",
      "source": [],
      "metadata": {
        "id": "4ci3xDBkhfN5"
      },
      "execution_count": null,
      "outputs": []
    },
    {
      "cell_type": "code",
      "source": [],
      "metadata": {
        "id": "vYe88Mp5CiQl"
      },
      "execution_count": null,
      "outputs": []
    },
    {
      "cell_type": "markdown",
      "source": [
        "# Finito"
      ],
      "metadata": {
        "id": "yhZLAhGvLdRJ"
      }
    }
  ]
}