{
  "nbformat": 4,
  "nbformat_minor": 0,
  "metadata": {
    "colab": {
      "provenance": [],
      "toc_visible": true,
      "include_colab_link": true
    },
    "kernelspec": {
      "name": "python3",
      "display_name": "Python 3"
    },
    "language_info": {
      "name": "python"
    },
    "gpuClass": "standard",
    "widgets": {
      "application/vnd.jupyter.widget-state+json": {
        "5a7dd01a2c754b95a564a9c7aaf66cdc": {
          "model_module": "@jupyter-widgets/controls",
          "model_name": "HBoxModel",
          "model_module_version": "1.5.0",
          "state": {
            "_dom_classes": [],
            "_model_module": "@jupyter-widgets/controls",
            "_model_module_version": "1.5.0",
            "_model_name": "HBoxModel",
            "_view_count": null,
            "_view_module": "@jupyter-widgets/controls",
            "_view_module_version": "1.5.0",
            "_view_name": "HBoxView",
            "box_style": "",
            "children": [
              "IPY_MODEL_a856024cc8c2491cb3975bdad4170fca",
              "IPY_MODEL_8a2e2c4c4ed04106a816b82c4c501646",
              "IPY_MODEL_752b15a3a67349ad866b56dde0baeb70"
            ],
            "layout": "IPY_MODEL_a184b0522de6414dae18df267986879f"
          }
        },
        "a856024cc8c2491cb3975bdad4170fca": {
          "model_module": "@jupyter-widgets/controls",
          "model_name": "HTMLModel",
          "model_module_version": "1.5.0",
          "state": {
            "_dom_classes": [],
            "_model_module": "@jupyter-widgets/controls",
            "_model_module_version": "1.5.0",
            "_model_name": "HTMLModel",
            "_view_count": null,
            "_view_module": "@jupyter-widgets/controls",
            "_view_module_version": "1.5.0",
            "_view_name": "HTMLView",
            "description": "",
            "description_tooltip": null,
            "layout": "IPY_MODEL_dde4f2a41bb042a998beb69a0023eb1d",
            "placeholder": "​",
            "style": "IPY_MODEL_9d5a9ab09a7c40a5bb4ad5b1156abcf2",
            "value": "Downloading: 100%"
          }
        },
        "8a2e2c4c4ed04106a816b82c4c501646": {
          "model_module": "@jupyter-widgets/controls",
          "model_name": "FloatProgressModel",
          "model_module_version": "1.5.0",
          "state": {
            "_dom_classes": [],
            "_model_module": "@jupyter-widgets/controls",
            "_model_module_version": "1.5.0",
            "_model_name": "FloatProgressModel",
            "_view_count": null,
            "_view_module": "@jupyter-widgets/controls",
            "_view_module_version": "1.5.0",
            "_view_name": "ProgressView",
            "bar_style": "success",
            "description": "",
            "description_tooltip": null,
            "layout": "IPY_MODEL_761d19242063430684d5527d7676b9b3",
            "max": 213450,
            "min": 0,
            "orientation": "horizontal",
            "style": "IPY_MODEL_0c41e13f5c3d4d5fb76320323d54988d",
            "value": 213450
          }
        },
        "752b15a3a67349ad866b56dde0baeb70": {
          "model_module": "@jupyter-widgets/controls",
          "model_name": "HTMLModel",
          "model_module_version": "1.5.0",
          "state": {
            "_dom_classes": [],
            "_model_module": "@jupyter-widgets/controls",
            "_model_module_version": "1.5.0",
            "_model_name": "HTMLModel",
            "_view_count": null,
            "_view_module": "@jupyter-widgets/controls",
            "_view_module_version": "1.5.0",
            "_view_name": "HTMLView",
            "description": "",
            "description_tooltip": null,
            "layout": "IPY_MODEL_d51ba594417f430d91638d656eceb5d7",
            "placeholder": "​",
            "style": "IPY_MODEL_9c82283c8a5343e6aa11af3c004e33dc",
            "value": " 213k/213k [00:00&lt;00:00, 6.67MB/s]"
          }
        },
        "a184b0522de6414dae18df267986879f": {
          "model_module": "@jupyter-widgets/base",
          "model_name": "LayoutModel",
          "model_module_version": "1.2.0",
          "state": {
            "_model_module": "@jupyter-widgets/base",
            "_model_module_version": "1.2.0",
            "_model_name": "LayoutModel",
            "_view_count": null,
            "_view_module": "@jupyter-widgets/base",
            "_view_module_version": "1.2.0",
            "_view_name": "LayoutView",
            "align_content": null,
            "align_items": null,
            "align_self": null,
            "border": null,
            "bottom": null,
            "display": null,
            "flex": null,
            "flex_flow": null,
            "grid_area": null,
            "grid_auto_columns": null,
            "grid_auto_flow": null,
            "grid_auto_rows": null,
            "grid_column": null,
            "grid_gap": null,
            "grid_row": null,
            "grid_template_areas": null,
            "grid_template_columns": null,
            "grid_template_rows": null,
            "height": null,
            "justify_content": null,
            "justify_items": null,
            "left": null,
            "margin": null,
            "max_height": null,
            "max_width": null,
            "min_height": null,
            "min_width": null,
            "object_fit": null,
            "object_position": null,
            "order": null,
            "overflow": null,
            "overflow_x": null,
            "overflow_y": null,
            "padding": null,
            "right": null,
            "top": null,
            "visibility": null,
            "width": null
          }
        },
        "dde4f2a41bb042a998beb69a0023eb1d": {
          "model_module": "@jupyter-widgets/base",
          "model_name": "LayoutModel",
          "model_module_version": "1.2.0",
          "state": {
            "_model_module": "@jupyter-widgets/base",
            "_model_module_version": "1.2.0",
            "_model_name": "LayoutModel",
            "_view_count": null,
            "_view_module": "@jupyter-widgets/base",
            "_view_module_version": "1.2.0",
            "_view_name": "LayoutView",
            "align_content": null,
            "align_items": null,
            "align_self": null,
            "border": null,
            "bottom": null,
            "display": null,
            "flex": null,
            "flex_flow": null,
            "grid_area": null,
            "grid_auto_columns": null,
            "grid_auto_flow": null,
            "grid_auto_rows": null,
            "grid_column": null,
            "grid_gap": null,
            "grid_row": null,
            "grid_template_areas": null,
            "grid_template_columns": null,
            "grid_template_rows": null,
            "height": null,
            "justify_content": null,
            "justify_items": null,
            "left": null,
            "margin": null,
            "max_height": null,
            "max_width": null,
            "min_height": null,
            "min_width": null,
            "object_fit": null,
            "object_position": null,
            "order": null,
            "overflow": null,
            "overflow_x": null,
            "overflow_y": null,
            "padding": null,
            "right": null,
            "top": null,
            "visibility": null,
            "width": null
          }
        },
        "9d5a9ab09a7c40a5bb4ad5b1156abcf2": {
          "model_module": "@jupyter-widgets/controls",
          "model_name": "DescriptionStyleModel",
          "model_module_version": "1.5.0",
          "state": {
            "_model_module": "@jupyter-widgets/controls",
            "_model_module_version": "1.5.0",
            "_model_name": "DescriptionStyleModel",
            "_view_count": null,
            "_view_module": "@jupyter-widgets/base",
            "_view_module_version": "1.2.0",
            "_view_name": "StyleView",
            "description_width": ""
          }
        },
        "761d19242063430684d5527d7676b9b3": {
          "model_module": "@jupyter-widgets/base",
          "model_name": "LayoutModel",
          "model_module_version": "1.2.0",
          "state": {
            "_model_module": "@jupyter-widgets/base",
            "_model_module_version": "1.2.0",
            "_model_name": "LayoutModel",
            "_view_count": null,
            "_view_module": "@jupyter-widgets/base",
            "_view_module_version": "1.2.0",
            "_view_name": "LayoutView",
            "align_content": null,
            "align_items": null,
            "align_self": null,
            "border": null,
            "bottom": null,
            "display": null,
            "flex": null,
            "flex_flow": null,
            "grid_area": null,
            "grid_auto_columns": null,
            "grid_auto_flow": null,
            "grid_auto_rows": null,
            "grid_column": null,
            "grid_gap": null,
            "grid_row": null,
            "grid_template_areas": null,
            "grid_template_columns": null,
            "grid_template_rows": null,
            "height": null,
            "justify_content": null,
            "justify_items": null,
            "left": null,
            "margin": null,
            "max_height": null,
            "max_width": null,
            "min_height": null,
            "min_width": null,
            "object_fit": null,
            "object_position": null,
            "order": null,
            "overflow": null,
            "overflow_x": null,
            "overflow_y": null,
            "padding": null,
            "right": null,
            "top": null,
            "visibility": null,
            "width": null
          }
        },
        "0c41e13f5c3d4d5fb76320323d54988d": {
          "model_module": "@jupyter-widgets/controls",
          "model_name": "ProgressStyleModel",
          "model_module_version": "1.5.0",
          "state": {
            "_model_module": "@jupyter-widgets/controls",
            "_model_module_version": "1.5.0",
            "_model_name": "ProgressStyleModel",
            "_view_count": null,
            "_view_module": "@jupyter-widgets/base",
            "_view_module_version": "1.2.0",
            "_view_name": "StyleView",
            "bar_color": null,
            "description_width": ""
          }
        },
        "d51ba594417f430d91638d656eceb5d7": {
          "model_module": "@jupyter-widgets/base",
          "model_name": "LayoutModel",
          "model_module_version": "1.2.0",
          "state": {
            "_model_module": "@jupyter-widgets/base",
            "_model_module_version": "1.2.0",
            "_model_name": "LayoutModel",
            "_view_count": null,
            "_view_module": "@jupyter-widgets/base",
            "_view_module_version": "1.2.0",
            "_view_name": "LayoutView",
            "align_content": null,
            "align_items": null,
            "align_self": null,
            "border": null,
            "bottom": null,
            "display": null,
            "flex": null,
            "flex_flow": null,
            "grid_area": null,
            "grid_auto_columns": null,
            "grid_auto_flow": null,
            "grid_auto_rows": null,
            "grid_column": null,
            "grid_gap": null,
            "grid_row": null,
            "grid_template_areas": null,
            "grid_template_columns": null,
            "grid_template_rows": null,
            "height": null,
            "justify_content": null,
            "justify_items": null,
            "left": null,
            "margin": null,
            "max_height": null,
            "max_width": null,
            "min_height": null,
            "min_width": null,
            "object_fit": null,
            "object_position": null,
            "order": null,
            "overflow": null,
            "overflow_x": null,
            "overflow_y": null,
            "padding": null,
            "right": null,
            "top": null,
            "visibility": null,
            "width": null
          }
        },
        "9c82283c8a5343e6aa11af3c004e33dc": {
          "model_module": "@jupyter-widgets/controls",
          "model_name": "DescriptionStyleModel",
          "model_module_version": "1.5.0",
          "state": {
            "_model_module": "@jupyter-widgets/controls",
            "_model_module_version": "1.5.0",
            "_model_name": "DescriptionStyleModel",
            "_view_count": null,
            "_view_module": "@jupyter-widgets/base",
            "_view_module_version": "1.2.0",
            "_view_name": "StyleView",
            "description_width": ""
          }
        }
      }
    }
  },
  "cells": [
    {
      "cell_type": "markdown",
      "metadata": {
        "id": "view-in-github",
        "colab_type": "text"
      },
      "source": [
        "<a href=\"https://colab.research.google.com/github/nahbos/AUT-Advanced-Information-Retrieval/blob/main/Ex03/recommender_system.ipynb\" target=\"_parent\"><img src=\"https://colab.research.google.com/assets/colab-badge.svg\" alt=\"Open In Colab\"/></a>"
      ]
    },
    {
      "cell_type": "markdown",
      "source": [
        "## Sobhan Moradian Daghigh\n",
        "\n",
        "- 2-3-2023\n",
        "\n",
        "### Ex-03: Recommender System"
      ],
      "metadata": {
        "id": "YU-Gx1EmJAA6"
      }
    },
    {
      "cell_type": "code",
      "execution_count": 1,
      "metadata": {
        "id": "8nmKYHAuI4mA",
        "colab": {
          "base_uri": "https://localhost:8080/"
        },
        "outputId": "ed3a98fb-ae75-40dd-9129-84efad99be5c"
      },
      "outputs": [
        {
          "output_type": "stream",
          "name": "stderr",
          "text": [
            "[nltk_data] Downloading package punkt to /root/nltk_data...\n",
            "[nltk_data]   Unzipping tokenizers/punkt.zip.\n",
            "[nltk_data] Downloading package stopwords to /root/nltk_data...\n",
            "[nltk_data]   Unzipping corpora/stopwords.zip.\n",
            "[nltk_data] Downloading package averaged_perceptron_tagger to\n",
            "[nltk_data]     /root/nltk_data...\n",
            "[nltk_data]   Unzipping taggers/averaged_perceptron_tagger.zip.\n"
          ]
        }
      ],
      "source": [
        "import numpy as np\n",
        "import pandas as pd\n",
        "import json\n",
        "import nltk\n",
        "from nltk import word_tokenize\n",
        "from nltk.corpus import stopwords\n",
        "from nltk.stem.porter import PorterStemmer\n",
        "from nltk import pos_tag\n",
        "import string\n",
        "nltk.download('punkt')\n",
        "nltk.download('stopwords')\n",
        "nltk.download('averaged_perceptron_tagger')\n",
        "import warnings\n",
        "warnings.filterwarnings(\"ignore\")\n",
        "import matplotlib.pyplot as plt\n",
        "from tqdm import tqdm\n",
        "import re\n",
        "from bs4 import BeautifulSoup\n",
        "\n",
        "\n",
        "# from gensim.models import TfidfModel\n",
        "# from gensim.corpora import Dictionary\n",
        "# from gensim.utils import simple_preprocess\n",
        "# from gensim.parsing.preprocessing import remove_stopwords\n",
        "# from sklearn.feature_extraction.text import TfidfVectorizer\n",
        "# from sklearn.metrics.pairwise import cosine_similarity\n",
        "# from collections import Counter\n",
        "# import random\n",
        "# import pickle\n",
        "# from PIL import Image"
      ]
    },
    {
      "cell_type": "code",
      "source": [
        "from google.colab import drive\n",
        "drive.mount('/content/drive')"
      ],
      "metadata": {
        "id": "Hwx6oj3mWu5k",
        "outputId": "51c73a12-4669-4665-e308-6ab01b238f6b",
        "colab": {
          "base_uri": "https://localhost:8080/"
        }
      },
      "execution_count": 2,
      "outputs": [
        {
          "output_type": "stream",
          "name": "stdout",
          "text": [
            "Mounted at /content/drive\n"
          ]
        }
      ]
    },
    {
      "cell_type": "code",
      "source": [],
      "metadata": {
        "id": "48NzuuuqWHeb"
      },
      "execution_count": 2,
      "outputs": []
    },
    {
      "cell_type": "markdown",
      "source": [
        "# Part One. \n",
        "* Data Loading"
      ],
      "metadata": {
        "id": "qWCubj1TKn22"
      }
    },
    {
      "cell_type": "code",
      "source": [
        "with open('./drive/MyDrive/data.json') as jsonFile:\n",
        "    jsonObject = json.load(jsonFile)\n",
        "    jsonFile.close()\n",
        "\n",
        "train = pd.DataFrame(jsonObject['train'])\n",
        "val   = pd.DataFrame(jsonObject['val'])\n",
        "test  = pd.DataFrame(jsonObject['test'])"
      ],
      "metadata": {
        "id": "MYmtom_6YlYP"
      },
      "execution_count": 3,
      "outputs": []
    },
    {
      "cell_type": "code",
      "source": [
        "train.head()"
      ],
      "metadata": {
        "id": "4tLLmshMYlTm",
        "colab": {
          "base_uri": "https://localhost:8080/",
          "height": 493
        },
        "outputId": "68c1ade4-70dd-479c-9b52-e1eb1c19ec25"
      },
      "execution_count": 4,
      "outputs": [
        {
          "output_type": "execute_result",
          "data": {
            "text/plain": [
              "                business_id                user_id  rating  \\\n",
              "0  60567465d335d0abfb415b26  101074926318992653684       4   \n",
              "1  6050fa9f5b4ccec8d5cae994  117065749986299237881       5   \n",
              "2  604be10877e81aaed3cc9a1e  106700937793048450809       4   \n",
              "3  60411e017cd8bf130362365a  101643045857250355161       5   \n",
              "4  604139dd7cd8bf1303624208  109802745326785766951       4   \n",
              "\n",
              "                                         review_text  \\\n",
              "0  The tang of the tomato sauce is outstanding. A...   \n",
              "1              Chicken and waffles were really good!   \n",
              "2  The appetizer of colossal shrimp was very good...   \n",
              "3  The fish tacos here  omg! The salad was great ...   \n",
              "4  Ribs are great, as are the mac and cheese, fri...   \n",
              "\n",
              "                                                pics  \\\n",
              "0  [https://lh5.googleusercontent.com/p/AF1QipM-2...   \n",
              "1  [https://lh5.googleusercontent.com/p/AF1QipMpf...   \n",
              "2  [https://lh5.googleusercontent.com/p/AF1QipMNn...   \n",
              "3  [https://lh5.googleusercontent.com/p/AF1QipM-a...   \n",
              "4  [https://lh5.googleusercontent.com/p/AF1QipNVy...   \n",
              "\n",
              "                                     history_reviews  \n",
              "0  [[101074926318992653684_6056272797d555cc6fb0d1...  \n",
              "1  [[117065749986299237881_605206f8d8c08f462b93e8...  \n",
              "2  [[106700937793048450809_6044300b27f39b7b5d1dbf...  \n",
              "3  [[101643045857250355161_604fbdd099686c10168c91...  \n",
              "4  [[109802745326785766951_60524fa9f09a4ffff042f9...  "
            ],
            "text/html": [
              "\n",
              "  <div id=\"df-2045ecad-21c7-4b90-bfca-3899365410e3\">\n",
              "    <div class=\"colab-df-container\">\n",
              "      <div>\n",
              "<style scoped>\n",
              "    .dataframe tbody tr th:only-of-type {\n",
              "        vertical-align: middle;\n",
              "    }\n",
              "\n",
              "    .dataframe tbody tr th {\n",
              "        vertical-align: top;\n",
              "    }\n",
              "\n",
              "    .dataframe thead th {\n",
              "        text-align: right;\n",
              "    }\n",
              "</style>\n",
              "<table border=\"1\" class=\"dataframe\">\n",
              "  <thead>\n",
              "    <tr style=\"text-align: right;\">\n",
              "      <th></th>\n",
              "      <th>business_id</th>\n",
              "      <th>user_id</th>\n",
              "      <th>rating</th>\n",
              "      <th>review_text</th>\n",
              "      <th>pics</th>\n",
              "      <th>history_reviews</th>\n",
              "    </tr>\n",
              "  </thead>\n",
              "  <tbody>\n",
              "    <tr>\n",
              "      <th>0</th>\n",
              "      <td>60567465d335d0abfb415b26</td>\n",
              "      <td>101074926318992653684</td>\n",
              "      <td>4</td>\n",
              "      <td>The tang of the tomato sauce is outstanding. A...</td>\n",
              "      <td>[https://lh5.googleusercontent.com/p/AF1QipM-2...</td>\n",
              "      <td>[[101074926318992653684_6056272797d555cc6fb0d1...</td>\n",
              "    </tr>\n",
              "    <tr>\n",
              "      <th>1</th>\n",
              "      <td>6050fa9f5b4ccec8d5cae994</td>\n",
              "      <td>117065749986299237881</td>\n",
              "      <td>5</td>\n",
              "      <td>Chicken and waffles were really good!</td>\n",
              "      <td>[https://lh5.googleusercontent.com/p/AF1QipMpf...</td>\n",
              "      <td>[[117065749986299237881_605206f8d8c08f462b93e8...</td>\n",
              "    </tr>\n",
              "    <tr>\n",
              "      <th>2</th>\n",
              "      <td>604be10877e81aaed3cc9a1e</td>\n",
              "      <td>106700937793048450809</td>\n",
              "      <td>4</td>\n",
              "      <td>The appetizer of colossal shrimp was very good...</td>\n",
              "      <td>[https://lh5.googleusercontent.com/p/AF1QipMNn...</td>\n",
              "      <td>[[106700937793048450809_6044300b27f39b7b5d1dbf...</td>\n",
              "    </tr>\n",
              "    <tr>\n",
              "      <th>3</th>\n",
              "      <td>60411e017cd8bf130362365a</td>\n",
              "      <td>101643045857250355161</td>\n",
              "      <td>5</td>\n",
              "      <td>The fish tacos here  omg! The salad was great ...</td>\n",
              "      <td>[https://lh5.googleusercontent.com/p/AF1QipM-a...</td>\n",
              "      <td>[[101643045857250355161_604fbdd099686c10168c91...</td>\n",
              "    </tr>\n",
              "    <tr>\n",
              "      <th>4</th>\n",
              "      <td>604139dd7cd8bf1303624208</td>\n",
              "      <td>109802745326785766951</td>\n",
              "      <td>4</td>\n",
              "      <td>Ribs are great, as are the mac and cheese, fri...</td>\n",
              "      <td>[https://lh5.googleusercontent.com/p/AF1QipNVy...</td>\n",
              "      <td>[[109802745326785766951_60524fa9f09a4ffff042f9...</td>\n",
              "    </tr>\n",
              "  </tbody>\n",
              "</table>\n",
              "</div>\n",
              "      <button class=\"colab-df-convert\" onclick=\"convertToInteractive('df-2045ecad-21c7-4b90-bfca-3899365410e3')\"\n",
              "              title=\"Convert this dataframe to an interactive table.\"\n",
              "              style=\"display:none;\">\n",
              "        \n",
              "  <svg xmlns=\"http://www.w3.org/2000/svg\" height=\"24px\"viewBox=\"0 0 24 24\"\n",
              "       width=\"24px\">\n",
              "    <path d=\"M0 0h24v24H0V0z\" fill=\"none\"/>\n",
              "    <path d=\"M18.56 5.44l.94 2.06.94-2.06 2.06-.94-2.06-.94-.94-2.06-.94 2.06-2.06.94zm-11 1L8.5 8.5l.94-2.06 2.06-.94-2.06-.94L8.5 2.5l-.94 2.06-2.06.94zm10 10l.94 2.06.94-2.06 2.06-.94-2.06-.94-.94-2.06-.94 2.06-2.06.94z\"/><path d=\"M17.41 7.96l-1.37-1.37c-.4-.4-.92-.59-1.43-.59-.52 0-1.04.2-1.43.59L10.3 9.45l-7.72 7.72c-.78.78-.78 2.05 0 2.83L4 21.41c.39.39.9.59 1.41.59.51 0 1.02-.2 1.41-.59l7.78-7.78 2.81-2.81c.8-.78.8-2.07 0-2.86zM5.41 20L4 18.59l7.72-7.72 1.47 1.35L5.41 20z\"/>\n",
              "  </svg>\n",
              "      </button>\n",
              "      \n",
              "  <style>\n",
              "    .colab-df-container {\n",
              "      display:flex;\n",
              "      flex-wrap:wrap;\n",
              "      gap: 12px;\n",
              "    }\n",
              "\n",
              "    .colab-df-convert {\n",
              "      background-color: #E8F0FE;\n",
              "      border: none;\n",
              "      border-radius: 50%;\n",
              "      cursor: pointer;\n",
              "      display: none;\n",
              "      fill: #1967D2;\n",
              "      height: 32px;\n",
              "      padding: 0 0 0 0;\n",
              "      width: 32px;\n",
              "    }\n",
              "\n",
              "    .colab-df-convert:hover {\n",
              "      background-color: #E2EBFA;\n",
              "      box-shadow: 0px 1px 2px rgba(60, 64, 67, 0.3), 0px 1px 3px 1px rgba(60, 64, 67, 0.15);\n",
              "      fill: #174EA6;\n",
              "    }\n",
              "\n",
              "    [theme=dark] .colab-df-convert {\n",
              "      background-color: #3B4455;\n",
              "      fill: #D2E3FC;\n",
              "    }\n",
              "\n",
              "    [theme=dark] .colab-df-convert:hover {\n",
              "      background-color: #434B5C;\n",
              "      box-shadow: 0px 1px 3px 1px rgba(0, 0, 0, 0.15);\n",
              "      filter: drop-shadow(0px 1px 2px rgba(0, 0, 0, 0.3));\n",
              "      fill: #FFFFFF;\n",
              "    }\n",
              "  </style>\n",
              "\n",
              "      <script>\n",
              "        const buttonEl =\n",
              "          document.querySelector('#df-2045ecad-21c7-4b90-bfca-3899365410e3 button.colab-df-convert');\n",
              "        buttonEl.style.display =\n",
              "          google.colab.kernel.accessAllowed ? 'block' : 'none';\n",
              "\n",
              "        async function convertToInteractive(key) {\n",
              "          const element = document.querySelector('#df-2045ecad-21c7-4b90-bfca-3899365410e3');\n",
              "          const dataTable =\n",
              "            await google.colab.kernel.invokeFunction('convertToInteractive',\n",
              "                                                     [key], {});\n",
              "          if (!dataTable) return;\n",
              "\n",
              "          const docLinkHtml = 'Like what you see? Visit the ' +\n",
              "            '<a target=\"_blank\" href=https://colab.research.google.com/notebooks/data_table.ipynb>data table notebook</a>'\n",
              "            + ' to learn more about interactive tables.';\n",
              "          element.innerHTML = '';\n",
              "          dataTable['output_type'] = 'display_data';\n",
              "          await google.colab.output.renderOutput(dataTable, element);\n",
              "          const docLink = document.createElement('div');\n",
              "          docLink.innerHTML = docLinkHtml;\n",
              "          element.appendChild(docLink);\n",
              "        }\n",
              "      </script>\n",
              "    </div>\n",
              "  </div>\n",
              "  "
            ]
          },
          "metadata": {},
          "execution_count": 4
        }
      ]
    },
    {
      "cell_type": "code",
      "source": [
        "train.info()"
      ],
      "metadata": {
        "colab": {
          "base_uri": "https://localhost:8080/"
        },
        "id": "l00owcSbeYOA",
        "outputId": "c355ca45-1d56-46d1-b45b-9855229e3953"
      },
      "execution_count": 5,
      "outputs": [
        {
          "output_type": "stream",
          "name": "stdout",
          "text": [
            "<class 'pandas.core.frame.DataFrame'>\n",
            "RangeIndex: 87013 entries, 0 to 87012\n",
            "Data columns (total 6 columns):\n",
            " #   Column           Non-Null Count  Dtype \n",
            "---  ------           --------------  ----- \n",
            " 0   business_id      87013 non-null  object\n",
            " 1   user_id          87013 non-null  object\n",
            " 2   rating           87013 non-null  int64 \n",
            " 3   review_text      87013 non-null  object\n",
            " 4   pics             87013 non-null  object\n",
            " 5   history_reviews  87013 non-null  object\n",
            "dtypes: int64(1), object(5)\n",
            "memory usage: 4.0+ MB\n"
          ]
        }
      ]
    },
    {
      "cell_type": "code",
      "source": [
        "val.info()"
      ],
      "metadata": {
        "colab": {
          "base_uri": "https://localhost:8080/"
        },
        "id": "NnE3gNOxfJo6",
        "outputId": "67c793c8-fbf2-4067-aa9d-e889a5e71179"
      },
      "execution_count": 6,
      "outputs": [
        {
          "output_type": "stream",
          "name": "stdout",
          "text": [
            "<class 'pandas.core.frame.DataFrame'>\n",
            "RangeIndex: 10860 entries, 0 to 10859\n",
            "Data columns (total 6 columns):\n",
            " #   Column           Non-Null Count  Dtype \n",
            "---  ------           --------------  ----- \n",
            " 0   business_id      10860 non-null  object\n",
            " 1   user_id          10860 non-null  object\n",
            " 2   rating           10860 non-null  int64 \n",
            " 3   review_text      10860 non-null  object\n",
            " 4   pics             10860 non-null  object\n",
            " 5   history_reviews  10860 non-null  object\n",
            "dtypes: int64(1), object(5)\n",
            "memory usage: 509.2+ KB\n"
          ]
        }
      ]
    },
    {
      "cell_type": "code",
      "source": [
        "test.info()"
      ],
      "metadata": {
        "colab": {
          "base_uri": "https://localhost:8080/"
        },
        "id": "UdJqSUjbfHNC",
        "outputId": "6f5743b9-7606-4108-f21a-d97f1fd3aed1"
      },
      "execution_count": 7,
      "outputs": [
        {
          "output_type": "stream",
          "name": "stdout",
          "text": [
            "<class 'pandas.core.frame.DataFrame'>\n",
            "RangeIndex: 11015 entries, 0 to 11014\n",
            "Data columns (total 6 columns):\n",
            " #   Column           Non-Null Count  Dtype \n",
            "---  ------           --------------  ----- \n",
            " 0   business_id      11015 non-null  object\n",
            " 1   user_id          11015 non-null  object\n",
            " 2   rating           11015 non-null  int64 \n",
            " 3   review_text      11015 non-null  object\n",
            " 4   pics             11015 non-null  object\n",
            " 5   history_reviews  11015 non-null  object\n",
            "dtypes: int64(1), object(5)\n",
            "memory usage: 516.5+ KB\n"
          ]
        }
      ]
    },
    {
      "cell_type": "code",
      "source": [],
      "metadata": {
        "id": "jO9P0RZBOKQS"
      },
      "execution_count": 7,
      "outputs": []
    },
    {
      "cell_type": "markdown",
      "source": [
        "## Preprocess"
      ],
      "metadata": {
        "id": "nvVth-FOiNWa"
      }
    },
    {
      "cell_type": "code",
      "source": [
        "def preprocess(q):\n",
        "   \n",
        "    # Lowercase\n",
        "    q = str(q).lower().strip()      \n",
        "    \n",
        "    # Replace certain special characters with their string equivalents\n",
        "    q = q.replace('%', ' percent')\n",
        "    q = q.replace('$', ' dollar ')\n",
        "    q = q.replace('₹', ' rupee ')\n",
        "    q = q.replace('€', ' euro ')\n",
        "    q = q.replace('@', ' at ')\n",
        "    \n",
        "    # The pattern '[math]' appears around 900 times in the whole dataset.\n",
        "    q = q.replace('[math]', '')\n",
        "    \n",
        "    # Replacing some numbers with string equivalents (not perfect, can be done better to account for more cases)\n",
        "    q = q.replace(',000,000,000 ', 'b ')\n",
        "    q = q.replace(',000,000 ', 'm ')\n",
        "    q = q.replace(',000 ', 'k ')\n",
        "    q = re.sub(r'([0-9]+)000000000', r'\\1b', q)\n",
        "    q = re.sub(r'([0-9]+)000000', r'\\1m', q)\n",
        "    q = re.sub(r'([0-9]+)000', r'\\1k', q)\n",
        "    \n",
        "    # Decontracting words\n",
        "    # https://en.wikipedia.org/wiki/Wikipedia%3aList_of_English_contractions\n",
        "    # https://stackoverflow.com/a/19794953\n",
        "\n",
        "    contractions = { \n",
        "    \"ain't\": \"am not\",\n",
        "    \"aren't\": \"are not\",\n",
        "    \"was'nt\": \"was not\",\n",
        "    \"were'nt\": \"were not\",\n",
        "    \"can't\": \"can not\",\n",
        "    \"can't've\": \"can not have\",\n",
        "    \"'cause\": \"because\",\n",
        "    \"could've\": \"could have\",\n",
        "    \"couldn't\": \"could not\",\n",
        "    \"couldn't've\": \"could not have\",\n",
        "    \"didn't\": \"did not\",\n",
        "    \"doesn't\": \"does not\",\n",
        "    \"don't\": \"do not\",\n",
        "    \"hadn't\": \"had not\",\n",
        "    \"hadn't've\": \"had not have\",\n",
        "    \"hasn't\": \"has not\",\n",
        "    \"haven't\": \"have not\",\n",
        "    \"he'd\": \"he would\",\n",
        "    \"he'd've\": \"he would have\",\n",
        "    \"he'll\": \"he will\",\n",
        "    \"he'll've\": \"he will have\",\n",
        "    \"he's\": \"he is\",\n",
        "    \"how'd\": \"how did\",\n",
        "    \"how'd'y\": \"how do you\",\n",
        "    \"how'll\": \"how will\",\n",
        "    \"how's\": \"how is\",\n",
        "    \"i'd\": \"i would\",\n",
        "    \"i'd've\": \"i would have\",\n",
        "    \"i'll\": \"i will\",\n",
        "    \"i'll've\": \"i will have\",\n",
        "    \"i'm\": \"i am\",\n",
        "    \"i've\": \"i have\",\n",
        "    \"isn't\": \"is not\",\n",
        "    \"it'd\": \"it would\",\n",
        "    \"it'd've\": \"it would have\",\n",
        "    \"it'll\": \"it will\",\n",
        "    \"it'll've\": \"it will have\",\n",
        "    \"it's\": \"it is\",\n",
        "    \"let's\": \"let us\",\n",
        "    \"ma'am\": \"madam\",\n",
        "    \"mayn't\": \"may not\",\n",
        "    \"might've\": \"might have\",\n",
        "    \"mightn't\": \"might not\",\n",
        "    \"mightn't've\": \"might not have\",\n",
        "    \"must've\": \"must have\",\n",
        "    \"mustn't\": \"must not\",\n",
        "    \"mustn't've\": \"must not have\",\n",
        "    \"needn't\": \"need not\",\n",
        "    \"needn't've\": \"need not have\",\n",
        "    \"o'clock\": \"of the clock\",\n",
        "    \"oughtn't\": \"ought not\",\n",
        "    \"oughtn't've\": \"ought not have\",\n",
        "    \"shan't\": \"shall not\",\n",
        "    \"sha'n't\": \"shall not\",\n",
        "    \"shan't've\": \"shall not have\",\n",
        "    \"she'd\": \"she would\",\n",
        "    \"she'd've\": \"she would have\",\n",
        "    \"she'll\": \"she will\",\n",
        "    \"she'll've\": \"she will have\",\n",
        "    \"she's\": \"she is\",\n",
        "    \"should've\": \"should have\",\n",
        "    \"shouldn't\": \"should not\",\n",
        "    \"shouldn't've\": \"should not have\",\n",
        "    \"so've\": \"so have\",\n",
        "    \"so's\": \"so as\",\n",
        "    \"that'd\": \"that would\",\n",
        "    \"that'd've\": \"that would have\",\n",
        "    \"that's\": \"that is\",\n",
        "    \"there'd\": \"there would\",\n",
        "    \"there'd've\": \"there would have\",\n",
        "    \"there's\": \"there is\",\n",
        "    \"they'd\": \"they would\",\n",
        "    \"they'd've\": \"they would have\",\n",
        "    \"they'll\": \"they will\",\n",
        "    \"they'll've\": \"they will have\",\n",
        "    \"they're\": \"they are\",\n",
        "    \"they've\": \"they have\",\n",
        "    \"to've\": \"to have\",\n",
        "    \"wasn't\": \"was not\",\n",
        "    \"we'd\": \"we would\",\n",
        "    \"we'd've\": \"we would have\",\n",
        "    \"we'll\": \"we will\",\n",
        "    \"we'll've\": \"we will have\",\n",
        "    \"we're\": \"we are\",\n",
        "    \"we've\": \"we have\",\n",
        "    \"weren't\": \"were not\",\n",
        "    \"what'll\": \"what will\",\n",
        "    \"what'll've\": \"what will have\",\n",
        "    \"what're\": \"what are\",\n",
        "    \"what's\": \"what is\",\n",
        "    \"what've\": \"what have\",\n",
        "    \"when's\": \"when is\",\n",
        "    \"when've\": \"when have\",\n",
        "    \"where'd\": \"where did\",\n",
        "    \"where's\": \"where is\",\n",
        "    \"where've\": \"where have\",\n",
        "    \"who'll\": \"who will\",\n",
        "    \"who'll've\": \"who will have\",\n",
        "    \"who's\": \"who is\",\n",
        "    \"who've\": \"who have\",\n",
        "    \"why's\": \"why is\",\n",
        "    \"why've\": \"why have\",\n",
        "    \"will've\": \"will have\",\n",
        "    \"won't\": \"will not\",\n",
        "    \"won't've\": \"will not have\",\n",
        "    \"would've\": \"would have\",\n",
        "    \"wouldn't\": \"would not\",\n",
        "    \"wouldn't've\": \"would not have\",\n",
        "    \"y'all\": \"you all\",\n",
        "    \"y'all'd\": \"you all would\",\n",
        "    \"y'all'd've\": \"you all would have\",\n",
        "    \"y'all're\": \"you all are\",\n",
        "    \"y'all've\": \"you all have\",\n",
        "    \"you'd\": \"you would\",\n",
        "    \"you'd've\": \"you would have\",\n",
        "    \"you'll\": \"you will\",\n",
        "    \"you'll've\": \"you will have\",\n",
        "    \"you're\": \"you are\",\n",
        "    \"you've\": \"you have\"\n",
        "    }\n",
        "\n",
        "    q_decontracted = []\n",
        "\n",
        "    for word in q.split():\n",
        "        if word in contractions:\n",
        "            word = contractions[word]\n",
        "\n",
        "        q_decontracted.append(word)\n",
        "\n",
        "    q = ' '.join(q_decontracted)\n",
        "    q = q.replace(\"'ve\", \" have\")\n",
        "    q = q.replace(\"n't\", \" not\")\n",
        "    q = q.replace(\"'re\", \" are\")\n",
        "    q = q.replace(\"'ll\", \" will\")\n",
        "    \n",
        "    # Removing HTML tags\n",
        "    q = BeautifulSoup(q)\n",
        "    q = q.get_text()\n",
        "\n",
        "    # Removing Punctuation\n",
        "    q = \"\".join([char for char in q if char not in string.punctuation])\n",
        "    \n",
        "    # Word Tokenization\n",
        "    q = word_tokenize(q)\n",
        "    \n",
        "    # Stopword Filtering\n",
        "    stop_words = stopwords.words('english')\n",
        "    [stop_words.remove(x) for x in ['not', 'very']]\n",
        "    q = [word for word in q if word not in stop_words]\n",
        "    \n",
        "    # Stemming\n",
        "    porter = PorterStemmer()\n",
        "    q = [porter.stem(word) for word in q]\n",
        "    q = ' '.join(q)\n",
        "    \n",
        "    return q"
      ],
      "metadata": {
        "id": "4RB0NicKiM0y"
      },
      "execution_count": 8,
      "outputs": []
    },
    {
      "cell_type": "code",
      "source": [
        "preprocess('Hi, no no no the food was awful')"
      ],
      "metadata": {
        "colab": {
          "base_uri": "https://localhost:8080/",
          "height": 36
        },
        "id": "OhaDky6mhdR-",
        "outputId": "63c589e1-05d8-429a-fb68-278d9ef0dfce"
      },
      "execution_count": 9,
      "outputs": [
        {
          "output_type": "execute_result",
          "data": {
            "text/plain": [
              "'hi food aw'"
            ],
            "application/vnd.google.colaboratory.intrinsic+json": {
              "type": "string"
            }
          },
          "metadata": {},
          "execution_count": 9
        }
      ]
    },
    {
      "cell_type": "code",
      "source": [
        "preprocess('The best Kentaki ever, thank you')"
      ],
      "metadata": {
        "colab": {
          "base_uri": "https://localhost:8080/",
          "height": 36
        },
        "id": "Of11A1oamV0h",
        "outputId": "d0147238-81db-45f1-93ca-924d20995902"
      },
      "execution_count": 10,
      "outputs": [
        {
          "output_type": "execute_result",
          "data": {
            "text/plain": [
              "'best kentaki ever thank'"
            ],
            "application/vnd.google.colaboratory.intrinsic+json": {
              "type": "string"
            }
          },
          "metadata": {},
          "execution_count": 10
        }
      ]
    },
    {
      "cell_type": "code",
      "source": [
        "def text_preprocessor(dataset):\n",
        "    org = dataset.copy()\n",
        "    dataset['review_text'] = dataset['review_text'].apply(preprocess)\n",
        "    \n",
        "    for row in tqdm(dataset.iterrows()):\n",
        "        for item in row[1]['history_reviews']:\n",
        "          item[1] = preprocess(item[1])\n",
        "\n",
        "    return org, dataset"
      ],
      "metadata": {
        "id": "z0O0KYAdimCn"
      },
      "execution_count": 11,
      "outputs": []
    },
    {
      "cell_type": "code",
      "source": [
        "train_org, train = text_preprocessor(train)\n",
        "val_org, val = text_preprocessor(val)\n",
        "test_org, test = text_preprocessor(test)"
      ],
      "metadata": {
        "id": "Dp_frQYWtbxd",
        "colab": {
          "base_uri": "https://localhost:8080/"
        },
        "outputId": "8a42ce10-dce1-4db7-b5d0-11a36f7b3cf9"
      },
      "execution_count": 12,
      "outputs": [
        {
          "output_type": "stream",
          "name": "stderr",
          "text": [
            "87013it [04:20, 334.65it/s]\n",
            "10860it [00:29, 373.63it/s]\n",
            "11015it [00:33, 324.96it/s]\n"
          ]
        }
      ]
    },
    {
      "cell_type": "code",
      "source": [
        "def obj2int(data):\n",
        "    x1 = list(set(data.business_id))\n",
        "    x2 = list(set(data.user_id))\n",
        "\n",
        "    dic1 = dict(zip(x1, list(range(1, len(x1) + 1))))\n",
        "    dic2 = dict(zip(x2, list(range(1, len(x2) + 1))))\n",
        "\n",
        "    data['business_id'] = [dic1[v] for v in data.business_id]\n",
        "    data['user_id'] = [dic2[v] for v in data.user_id]\n",
        "    return data"
      ],
      "metadata": {
        "id": "SPqEQ0kyoM7n"
      },
      "execution_count": 13,
      "outputs": []
    },
    {
      "cell_type": "code",
      "source": [
        "merged = obj2int(pd.concat([train, val, test], ignore_index=True))\n",
        "\n",
        "train = merged.iloc[:len(train), :]\n",
        "val = merged.iloc[len(train):len(train) + len(val), :]\n",
        "test = merged.iloc[-len(test):, :]"
      ],
      "metadata": {
        "id": "DLv3w88FjXuA"
      },
      "execution_count": 14,
      "outputs": []
    },
    {
      "cell_type": "code",
      "source": [
        "train.reset_index(drop=True, inplace=True)\n",
        "val.reset_index(drop=True, inplace=True)\n",
        "test.reset_index(drop=True, inplace=True)"
      ],
      "metadata": {
        "id": "Bej6kDp64NTR"
      },
      "execution_count": 15,
      "outputs": []
    },
    {
      "cell_type": "code",
      "source": [],
      "metadata": {
        "id": "qPG4knZMDDOB"
      },
      "execution_count": 15,
      "outputs": []
    },
    {
      "cell_type": "markdown",
      "source": [
        "### Split test dataset into some subsets including the users who rated more than n restaurants."
      ],
      "metadata": {
        "id": "WkSn0CQY3yBB"
      }
    },
    {
      "cell_type": "code",
      "source": [
        "groups = test.groupby(by='user_id')\n",
        "groups.first()"
      ],
      "metadata": {
        "colab": {
          "base_uri": "https://localhost:8080/",
          "height": 499
        },
        "id": "3ejqwU0BwVco",
        "outputId": "68b52c5e-1633-4592-c8d7-8a8f9f1f253b"
      },
      "execution_count": 16,
      "outputs": [
        {
          "output_type": "execute_result",
          "data": {
            "text/plain": [
              "         business_id  rating  \\\n",
              "user_id                        \n",
              "2              28461       5   \n",
              "4              13996       5   \n",
              "6              28779       4   \n",
              "18             16622       5   \n",
              "20              6455       5   \n",
              "...              ...     ...   \n",
              "36949          20605       4   \n",
              "36961          30085       5   \n",
              "36964          26097       5   \n",
              "36970           5374       5   \n",
              "36996           1108       5   \n",
              "\n",
              "                                               review_text  \\\n",
              "user_id                                                      \n",
              "2        contempl tri doughnut place start drive doughn...   \n",
              "4        got two slider jalapeno popper whoa jalapeno r...   \n",
              "6                         thanksgiv meal school hous great   \n",
              "18                                  great pep garlic slice   \n",
              "20       fish chip delici french onion soup savori chee...   \n",
              "...                                                    ...   \n",
              "36949    order steak crab cake jambalaya devil egg ahi ...   \n",
              "36961                                great hawaiian burger   \n",
              "36964    pictur 1 two meat plate pull pork rib mac chee...   \n",
              "36970    best mash potato corn 6 star possibl chicken c...   \n",
              "36996    picada 2 peopl gooood great place eat great fo...   \n",
              "\n",
              "                                                      pics  \\\n",
              "user_id                                                      \n",
              "2        [https://lh5.googleusercontent.com/p/AF1QipNqN...   \n",
              "4        [https://lh5.googleusercontent.com/p/AF1QipMmp...   \n",
              "6        [https://lh5.googleusercontent.com/p/AF1QipNan...   \n",
              "18       [https://lh5.googleusercontent.com/p/AF1QipNri...   \n",
              "20       [https://lh5.googleusercontent.com/p/AF1QipN-A...   \n",
              "...                                                    ...   \n",
              "36949    [https://lh5.googleusercontent.com/p/AF1QipNeu...   \n",
              "36961    [https://lh5.googleusercontent.com/p/AF1QipOY2...   \n",
              "36964    [https://lh5.googleusercontent.com/p/AF1QipOKu...   \n",
              "36970    [https://lh5.googleusercontent.com/p/AF1QipNa0...   \n",
              "36996    [https://lh5.googleusercontent.com/p/AF1QipMOY...   \n",
              "\n",
              "                                           history_reviews  \n",
              "user_id                                                     \n",
              "2        [[103250724592800235316_605122799c93e55e75b724...  \n",
              "4        [[109345222962964517381_604f36a48ba95eba01a00c...  \n",
              "6        [[116043428890309046796_60421dd92e57ebdea29c82...  \n",
              "18       [[117471268248068019066_6040aa539d953d1f97fa18...  \n",
              "20       [[108358278400931015432_6050d88b4cd354c57204c1...  \n",
              "...                                                    ...  \n",
              "36949    [[108234948900465599587_6043c21bad733fba1bcfe1...  \n",
              "36961    [[106489790969025519864_605061eb9755094ba8abeb...  \n",
              "36964    [[115539324057246278754_604a1a4c1ec03878d66c81...  \n",
              "36970    [[101042361529252437436_60474560f80411858ba3d7...  \n",
              "36996    [[105386054507482259446_604ae4d1d2eb6e0d32ff7f...  \n",
              "\n",
              "[3700 rows x 5 columns]"
            ],
            "text/html": [
              "\n",
              "  <div id=\"df-d2b51aa2-1455-4b6a-a425-38d097651086\">\n",
              "    <div class=\"colab-df-container\">\n",
              "      <div>\n",
              "<style scoped>\n",
              "    .dataframe tbody tr th:only-of-type {\n",
              "        vertical-align: middle;\n",
              "    }\n",
              "\n",
              "    .dataframe tbody tr th {\n",
              "        vertical-align: top;\n",
              "    }\n",
              "\n",
              "    .dataframe thead th {\n",
              "        text-align: right;\n",
              "    }\n",
              "</style>\n",
              "<table border=\"1\" class=\"dataframe\">\n",
              "  <thead>\n",
              "    <tr style=\"text-align: right;\">\n",
              "      <th></th>\n",
              "      <th>business_id</th>\n",
              "      <th>rating</th>\n",
              "      <th>review_text</th>\n",
              "      <th>pics</th>\n",
              "      <th>history_reviews</th>\n",
              "    </tr>\n",
              "    <tr>\n",
              "      <th>user_id</th>\n",
              "      <th></th>\n",
              "      <th></th>\n",
              "      <th></th>\n",
              "      <th></th>\n",
              "      <th></th>\n",
              "    </tr>\n",
              "  </thead>\n",
              "  <tbody>\n",
              "    <tr>\n",
              "      <th>2</th>\n",
              "      <td>28461</td>\n",
              "      <td>5</td>\n",
              "      <td>contempl tri doughnut place start drive doughn...</td>\n",
              "      <td>[https://lh5.googleusercontent.com/p/AF1QipNqN...</td>\n",
              "      <td>[[103250724592800235316_605122799c93e55e75b724...</td>\n",
              "    </tr>\n",
              "    <tr>\n",
              "      <th>4</th>\n",
              "      <td>13996</td>\n",
              "      <td>5</td>\n",
              "      <td>got two slider jalapeno popper whoa jalapeno r...</td>\n",
              "      <td>[https://lh5.googleusercontent.com/p/AF1QipMmp...</td>\n",
              "      <td>[[109345222962964517381_604f36a48ba95eba01a00c...</td>\n",
              "    </tr>\n",
              "    <tr>\n",
              "      <th>6</th>\n",
              "      <td>28779</td>\n",
              "      <td>4</td>\n",
              "      <td>thanksgiv meal school hous great</td>\n",
              "      <td>[https://lh5.googleusercontent.com/p/AF1QipNan...</td>\n",
              "      <td>[[116043428890309046796_60421dd92e57ebdea29c82...</td>\n",
              "    </tr>\n",
              "    <tr>\n",
              "      <th>18</th>\n",
              "      <td>16622</td>\n",
              "      <td>5</td>\n",
              "      <td>great pep garlic slice</td>\n",
              "      <td>[https://lh5.googleusercontent.com/p/AF1QipNri...</td>\n",
              "      <td>[[117471268248068019066_6040aa539d953d1f97fa18...</td>\n",
              "    </tr>\n",
              "    <tr>\n",
              "      <th>20</th>\n",
              "      <td>6455</td>\n",
              "      <td>5</td>\n",
              "      <td>fish chip delici french onion soup savori chee...</td>\n",
              "      <td>[https://lh5.googleusercontent.com/p/AF1QipN-A...</td>\n",
              "      <td>[[108358278400931015432_6050d88b4cd354c57204c1...</td>\n",
              "    </tr>\n",
              "    <tr>\n",
              "      <th>...</th>\n",
              "      <td>...</td>\n",
              "      <td>...</td>\n",
              "      <td>...</td>\n",
              "      <td>...</td>\n",
              "      <td>...</td>\n",
              "    </tr>\n",
              "    <tr>\n",
              "      <th>36949</th>\n",
              "      <td>20605</td>\n",
              "      <td>4</td>\n",
              "      <td>order steak crab cake jambalaya devil egg ahi ...</td>\n",
              "      <td>[https://lh5.googleusercontent.com/p/AF1QipNeu...</td>\n",
              "      <td>[[108234948900465599587_6043c21bad733fba1bcfe1...</td>\n",
              "    </tr>\n",
              "    <tr>\n",
              "      <th>36961</th>\n",
              "      <td>30085</td>\n",
              "      <td>5</td>\n",
              "      <td>great hawaiian burger</td>\n",
              "      <td>[https://lh5.googleusercontent.com/p/AF1QipOY2...</td>\n",
              "      <td>[[106489790969025519864_605061eb9755094ba8abeb...</td>\n",
              "    </tr>\n",
              "    <tr>\n",
              "      <th>36964</th>\n",
              "      <td>26097</td>\n",
              "      <td>5</td>\n",
              "      <td>pictur 1 two meat plate pull pork rib mac chee...</td>\n",
              "      <td>[https://lh5.googleusercontent.com/p/AF1QipOKu...</td>\n",
              "      <td>[[115539324057246278754_604a1a4c1ec03878d66c81...</td>\n",
              "    </tr>\n",
              "    <tr>\n",
              "      <th>36970</th>\n",
              "      <td>5374</td>\n",
              "      <td>5</td>\n",
              "      <td>best mash potato corn 6 star possibl chicken c...</td>\n",
              "      <td>[https://lh5.googleusercontent.com/p/AF1QipNa0...</td>\n",
              "      <td>[[101042361529252437436_60474560f80411858ba3d7...</td>\n",
              "    </tr>\n",
              "    <tr>\n",
              "      <th>36996</th>\n",
              "      <td>1108</td>\n",
              "      <td>5</td>\n",
              "      <td>picada 2 peopl gooood great place eat great fo...</td>\n",
              "      <td>[https://lh5.googleusercontent.com/p/AF1QipMOY...</td>\n",
              "      <td>[[105386054507482259446_604ae4d1d2eb6e0d32ff7f...</td>\n",
              "    </tr>\n",
              "  </tbody>\n",
              "</table>\n",
              "<p>3700 rows × 5 columns</p>\n",
              "</div>\n",
              "      <button class=\"colab-df-convert\" onclick=\"convertToInteractive('df-d2b51aa2-1455-4b6a-a425-38d097651086')\"\n",
              "              title=\"Convert this dataframe to an interactive table.\"\n",
              "              style=\"display:none;\">\n",
              "        \n",
              "  <svg xmlns=\"http://www.w3.org/2000/svg\" height=\"24px\"viewBox=\"0 0 24 24\"\n",
              "       width=\"24px\">\n",
              "    <path d=\"M0 0h24v24H0V0z\" fill=\"none\"/>\n",
              "    <path d=\"M18.56 5.44l.94 2.06.94-2.06 2.06-.94-2.06-.94-.94-2.06-.94 2.06-2.06.94zm-11 1L8.5 8.5l.94-2.06 2.06-.94-2.06-.94L8.5 2.5l-.94 2.06-2.06.94zm10 10l.94 2.06.94-2.06 2.06-.94-2.06-.94-.94-2.06-.94 2.06-2.06.94z\"/><path d=\"M17.41 7.96l-1.37-1.37c-.4-.4-.92-.59-1.43-.59-.52 0-1.04.2-1.43.59L10.3 9.45l-7.72 7.72c-.78.78-.78 2.05 0 2.83L4 21.41c.39.39.9.59 1.41.59.51 0 1.02-.2 1.41-.59l7.78-7.78 2.81-2.81c.8-.78.8-2.07 0-2.86zM5.41 20L4 18.59l7.72-7.72 1.47 1.35L5.41 20z\"/>\n",
              "  </svg>\n",
              "      </button>\n",
              "      \n",
              "  <style>\n",
              "    .colab-df-container {\n",
              "      display:flex;\n",
              "      flex-wrap:wrap;\n",
              "      gap: 12px;\n",
              "    }\n",
              "\n",
              "    .colab-df-convert {\n",
              "      background-color: #E8F0FE;\n",
              "      border: none;\n",
              "      border-radius: 50%;\n",
              "      cursor: pointer;\n",
              "      display: none;\n",
              "      fill: #1967D2;\n",
              "      height: 32px;\n",
              "      padding: 0 0 0 0;\n",
              "      width: 32px;\n",
              "    }\n",
              "\n",
              "    .colab-df-convert:hover {\n",
              "      background-color: #E2EBFA;\n",
              "      box-shadow: 0px 1px 2px rgba(60, 64, 67, 0.3), 0px 1px 3px 1px rgba(60, 64, 67, 0.15);\n",
              "      fill: #174EA6;\n",
              "    }\n",
              "\n",
              "    [theme=dark] .colab-df-convert {\n",
              "      background-color: #3B4455;\n",
              "      fill: #D2E3FC;\n",
              "    }\n",
              "\n",
              "    [theme=dark] .colab-df-convert:hover {\n",
              "      background-color: #434B5C;\n",
              "      box-shadow: 0px 1px 3px 1px rgba(0, 0, 0, 0.15);\n",
              "      filter: drop-shadow(0px 1px 2px rgba(0, 0, 0, 0.3));\n",
              "      fill: #FFFFFF;\n",
              "    }\n",
              "  </style>\n",
              "\n",
              "      <script>\n",
              "        const buttonEl =\n",
              "          document.querySelector('#df-d2b51aa2-1455-4b6a-a425-38d097651086 button.colab-df-convert');\n",
              "        buttonEl.style.display =\n",
              "          google.colab.kernel.accessAllowed ? 'block' : 'none';\n",
              "\n",
              "        async function convertToInteractive(key) {\n",
              "          const element = document.querySelector('#df-d2b51aa2-1455-4b6a-a425-38d097651086');\n",
              "          const dataTable =\n",
              "            await google.colab.kernel.invokeFunction('convertToInteractive',\n",
              "                                                     [key], {});\n",
              "          if (!dataTable) return;\n",
              "\n",
              "          const docLinkHtml = 'Like what you see? Visit the ' +\n",
              "            '<a target=\"_blank\" href=https://colab.research.google.com/notebooks/data_table.ipynb>data table notebook</a>'\n",
              "            + ' to learn more about interactive tables.';\n",
              "          element.innerHTML = '';\n",
              "          dataTable['output_type'] = 'display_data';\n",
              "          await google.colab.output.renderOutput(dataTable, element);\n",
              "          const docLink = document.createElement('div');\n",
              "          docLink.innerHTML = docLinkHtml;\n",
              "          element.appendChild(docLink);\n",
              "        }\n",
              "      </script>\n",
              "    </div>\n",
              "  </div>\n",
              "  "
            ]
          },
          "metadata": {},
          "execution_count": 16
        }
      ]
    },
    {
      "cell_type": "code",
      "source": [
        "with plt.style.context('seaborn'):\n",
        "    plt.figure(figsize=(12, 8))\n",
        "    plt.hist([len(pdf) for grp, pdf in groups], bins=100)\n",
        "    plt.locator_params(axis='x', nbins=50)\n",
        "    plt.show()"
      ],
      "metadata": {
        "colab": {
          "base_uri": "https://localhost:8080/",
          "height": 483
        },
        "id": "oYPW9G6_wVad",
        "outputId": "9e105cc1-2512-4a8e-8453-9de8df0e0c22"
      },
      "execution_count": 17,
      "outputs": [
        {
          "output_type": "display_data",
          "data": {
            "text/plain": [
              "<Figure size 864x576 with 1 Axes>"
            ],
            "image/png": "[encoded data removed]"
          },
          "metadata": {}
        }
      ]
    },
    {
      "cell_type": "code",
      "source": [
        "def user_extractor(dataset, limit=3):\n",
        "    groups = dataset.groupby(by='user_id')\n",
        "    for grp, pdf in groups:\n",
        "        if len(pdf) < limit:\n",
        "            dataset = dataset[dataset.user_id != grp]\n",
        "    dataset.reset_index(drop=True, inplace=True)\n",
        "    return dataset"
      ],
      "metadata": {
        "id": "79bKKRiu0wQb"
      },
      "execution_count": 205,
      "outputs": []
    },
    {
      "cell_type": "code",
      "source": [
        "test_includes_2  = user_extractor(dataset=test, limit=2)\n",
        "test_includes_3  = user_extractor(dataset=test, limit=3)\n",
        "test_includes_4  = user_extractor(dataset=test, limit=4)\n",
        "test_includes_5  = user_extractor(dataset=test, limit=5)\n",
        "test_more_than_5 = user_extractor(dataset=test, limit=6)"
      ],
      "metadata": {
        "id": "df6vz0MCwVYH"
      },
      "execution_count": 206,
      "outputs": []
    },
    {
      "cell_type": "code",
      "source": [
        "[len(ele) for ele in [test_includes_2, test_includes_3, test_includes_4, test_includes_5, test_more_than_5]]"
      ],
      "metadata": {
        "colab": {
          "base_uri": "https://localhost:8080/"
        },
        "id": "A7kfivAbwVTL",
        "outputId": "3b34f8ba-7ff3-4543-efdf-549c14794b7f"
      },
      "execution_count": 207,
      "outputs": [
        {
          "output_type": "execute_result",
          "data": {
            "text/plain": [
              "[11015, 6501, 4431, 3187, 2302]"
            ]
          },
          "metadata": {},
          "execution_count": 207
        }
      ]
    },
    {
      "cell_type": "code",
      "source": [],
      "metadata": {
        "id": "Vmpjo8MySqyJ"
      },
      "execution_count": null,
      "outputs": []
    },
    {
      "cell_type": "markdown",
      "source": [
        "**Ok, Everything looks right ))**"
      ],
      "metadata": {
        "id": "1MqSNvyKOOTJ"
      }
    },
    {
      "cell_type": "code",
      "source": [],
      "metadata": {
        "id": "2Bua8QINimAL"
      },
      "execution_count": 19,
      "outputs": []
    },
    {
      "cell_type": "markdown",
      "source": [
        "# Part Two.\n",
        "* Evaluation Metrics"
      ],
      "metadata": {
        "id": "yA7Y5Va6CGDr"
      }
    },
    {
      "cell_type": "markdown",
      "source": [
        "### Precision @ k"
      ],
      "metadata": {
        "id": "ZJOKdDutX6hB"
      }
    },
    {
      "cell_type": "code",
      "source": [
        "# Precision @ k\n",
        "def precision_at_k(ref, pred, k=5):\n",
        "    cnt = [1 if a == b else 0 for a, b in zip(ref, pred)]\n",
        "    return sum(cnt[:k]) / k"
      ],
      "metadata": {
        "id": "ZfSRwwyVI-Rb"
      },
      "execution_count": 134,
      "outputs": []
    },
    {
      "cell_type": "markdown",
      "source": [
        "### Recall @ k"
      ],
      "metadata": {
        "id": "PrrXs9Ik4ani"
      }
    },
    {
      "cell_type": "code",
      "source": [
        "# Recall @ k\n",
        "def recall_at_k(ref, pred, k=5):\n",
        "    cnt = [1 if (a == b and a != 0) else 0 for a, b in zip(ref, pred)]\n",
        "    return [(sum(cnt[:k]) / sum(ref[:k])) if sum(ref[:k]) != 0 else 0]"
      ],
      "metadata": {
        "id": "mwOqAgS1YsoC"
      },
      "execution_count": 365,
      "outputs": []
    },
    {
      "cell_type": "markdown",
      "source": [
        "## Evaluate"
      ],
      "metadata": {
        "id": "6QWn8p69RMGp"
      }
    },
    {
      "cell_type": "code",
      "source": [
        "def evaluate(dataset, predictions, k=5):\n",
        "    precisions = []\n",
        "    recalls = []\n",
        "    groups = dataset.groupby(by='user_id')\n",
        "    for grp, pdf in groups:\n",
        "        preds = np.array(predictions)[[ele for ele in pdf.index]].reshape(-1)\n",
        "        indices = np.argsort(preds)[::-1]\n",
        "\n",
        "        preds_binary = [1 if ele >= 0.5 else 0 for ele in preds[indices]]\n",
        "        ref_binary = [1 if ele >= 3 else 0 for ele in np.array(pdf['rating'])[indices]]\n",
        "        \n",
        "        precisions.append(precision_at_k(ref=ref_binary, pred=preds_binary, k=k))\n",
        "        recalls.append(recall_at_k(ref=ref_binary, pred=preds_binary, k=k))\n",
        "    \n",
        "    return precisions, recalls"
      ],
      "metadata": {
        "id": "c9_EuPHDMCk5"
      },
      "execution_count": 222,
      "outputs": []
    },
    {
      "cell_type": "code",
      "source": [
        "def evaluator(model, dataset, kind='advanced', k=5):\n",
        "    features = [dataset.user_id, dataset.business_id]\n",
        "    if kind == 'advanced':\n",
        "        test_user_avg = get_avg(dataset, 'user_id')\n",
        "        test_restaurant_avg = get_avg(dataset, 'business_id')\n",
        "        features.append(test_user_avg)\n",
        "        features.append(test_restaurant_avg)\n",
        "    \n",
        "    if kind == 'pro_advanced':\n",
        "        test_user_avg = get_avg(dataset, 'user_id')\n",
        "        test_restaurant_avg = get_avg(dataset, 'business_id')\n",
        "        test_restaurant_review_text = get_tokenized(dataset)\n",
        "\n",
        "        features.append(test_user_avg)\n",
        "        features.append(test_restaurant_avg)\n",
        "        features.append(test_restaurant_review_text)\n",
        "    \n",
        "    predictions = model.predict(features)\n",
        "    precisions, recalls = evaluate(dataset, predictions, k=k)\n",
        "    print('Precision at 5:  {:.2f}'.format(np.average(precisions)))\n",
        "    print('Recall    at 5:  {:.2f}'.format(np.average(recalls)))"
      ],
      "metadata": {
        "id": "sNTmrP4fRXBB"
      },
      "execution_count": 366,
      "outputs": []
    },
    {
      "cell_type": "code",
      "source": [],
      "metadata": {
        "id": "Y_4mTLwCRW2z"
      },
      "execution_count": 352,
      "outputs": []
    },
    {
      "cell_type": "markdown",
      "source": [
        "# Part Three.\n",
        "Neural network Recommender System"
      ],
      "metadata": {
        "id": "soX0Vp0a4XEZ"
      }
    },
    {
      "cell_type": "code",
      "source": [
        "from keras.layers import Input, Embedding, Flatten, Dot, Dense, Concatenate\n",
        "from keras.models import Model"
      ],
      "metadata": {
        "id": "fKXRLa5EVu_Y"
      },
      "execution_count": 22,
      "outputs": []
    },
    {
      "cell_type": "code",
      "source": [
        "n_items = len(train.business_id.unique()) + len(val.business_id.unique()) + len(test.business_id.unique())\n",
        "n_users = len(train.user_id.unique()) + len(val.user_id.unique()) + len(test.user_id.unique())\n",
        "max_rate = 5"
      ],
      "metadata": {
        "id": "j7do_CWFgaEq"
      },
      "execution_count": 23,
      "outputs": []
    },
    {
      "cell_type": "code",
      "source": [
        "n_items, n_users"
      ],
      "metadata": {
        "colab": {
          "base_uri": "https://localhost:8080/"
        },
        "id": "aMX3NjKJfI_o",
        "outputId": "a77a9a41-0140-4742-f0a6-3a00313677e8"
      },
      "execution_count": 24,
      "outputs": [
        {
          "output_type": "execute_result",
          "data": {
            "text/plain": [
              "(43611, 36996)"
            ]
          },
          "metadata": {},
          "execution_count": 24
        }
      ]
    },
    {
      "cell_type": "code",
      "source": [],
      "metadata": {
        "id": "sowZngvKGpFV"
      },
      "execution_count": 24,
      "outputs": []
    },
    {
      "cell_type": "code",
      "source": [
        "THRESHOLD = 3\n",
        "def get_binary(arr):\n",
        "    return np.array([1 if x >= THRESHOLD else 0 for x in arr])"
      ],
      "metadata": {
        "id": "d-JLe9O4GpDR"
      },
      "execution_count": 25,
      "outputs": []
    },
    {
      "cell_type": "code",
      "source": [
        "with plt.style.context('seaborn'):\n",
        "    plt.figure(figsize=(8, 5))\n",
        "    plt.hist(get_binary(train.rating))\n",
        "    plt.title('Train: Rating dispersion with threshold {}'.format(THRESHOLD))\n",
        "    plt.show()\n",
        "\n",
        "with plt.style.context('seaborn'):\n",
        "    plt.figure(figsize=(8, 5))\n",
        "    plt.hist(get_binary(val.rating), color='green')\n",
        "    plt.title('Val: Rating dispersion with threshold {}'.format(THRESHOLD))\n",
        "    plt.show()\n",
        "\n",
        "with plt.style.context('seaborn'):\n",
        "    plt.figure(figsize=(8, 5))\n",
        "    plt.hist(get_binary(test.rating), color='red')\n",
        "    plt.title('Test: Rating dispersion with threshold {}'.format(THRESHOLD))\n",
        "    plt.show()"
      ],
      "metadata": {
        "colab": {
          "base_uri": "https://localhost:8080/",
          "height": 971
        },
        "id": "jmBJd3I2Iqfz",
        "outputId": "32e238ce-13d7-44e1-ab45-fa4ab900b6e9"
      },
      "execution_count": 26,
      "outputs": [
        {
          "output_type": "display_data",
          "data": {
            "text/plain": [
              "<Figure size 576x360 with 1 Axes>"
            ],
            "image/png": "[encoded data removed]"
          },
          "metadata": {}
        },
        {
          "output_type": "display_data",
          "data": {
            "text/plain": [
              "<Figure size 576x360 with 1 Axes>"
            ],
            "image/png": "[encoded data removed]"
          },
          "metadata": {}
        },
        {
          "output_type": "display_data",
          "data": {
            "text/plain": [
              "<Figure size 576x360 with 1 Axes>"
            ],
            "image/png": "[encoded data removed]"
          },
          "metadata": {}
        }
      ]
    },
    {
      "cell_type": "code",
      "source": [
        "# creating restaurant embedding path\n",
        "restaurant_input = Input(shape=[1], name=\"Restaurant-Input\")\n",
        "restaurant_embedding = Embedding(n_items + 1, 16, name=\"Restaurant-Embedding\")(restaurant_input)\n",
        "restaurant_vec = Flatten(name=\"Flatten-Restaurant\")(restaurant_embedding)\n",
        "\n",
        "# creating user embedding path\n",
        "user_input = Input(shape=[1], name=\"User-Input\")\n",
        "user_embedding = Embedding(n_users + 1, 16, name=\"User-Embedding\")(user_input)\n",
        "user_vec = Flatten(name=\"Flatten-Users\")(user_embedding)\n",
        "\n",
        "# concatenate features\n",
        "conc = Concatenate()([restaurant_vec, user_vec])\n",
        "\n",
        "# add fully-connected-layers\n",
        "fc1 = Dense(128, activation='relu')(conc)\n",
        "fc2 = Dense(32, activation='relu')(fc1)\n",
        "out = Dense(1, activation='sigmoid')(fc2)\n",
        "\n",
        "# Create model and compile it\n",
        "model = Model([user_input, restaurant_input], out)\n",
        "model.compile(loss='binary_crossentropy', optimizer='adam', metrics=['accuracy'])"
      ],
      "metadata": {
        "id": "Rcx26YFIGmf4"
      },
      "execution_count": 27,
      "outputs": []
    },
    {
      "cell_type": "code",
      "source": [
        "history = model.fit([train.user_id, train.business_id], get_binary(train.rating), \n",
        "                    epochs=5, \n",
        "                    validation_data=([val.user_id, val.business_id], get_binary(val.rating)), \n",
        "                    verbose=1)"
      ],
      "metadata": {
        "colab": {
          "base_uri": "https://localhost:8080/"
        },
        "id": "ipqqLV6XGmaZ",
        "outputId": "3bc50575-967c-4334-86bb-e01934cf70a9"
      },
      "execution_count": 28,
      "outputs": [
        {
          "output_type": "stream",
          "name": "stdout",
          "text": [
            "Epoch 1/5\n",
            "2720/2720 [==============================] - 22s 8ms/step - loss: 0.1587 - accuracy: 0.9643 - val_loss: 0.1664 - val_accuracy: 0.9622\n",
            "Epoch 2/5\n",
            "2720/2720 [==============================] - 21s 8ms/step - loss: 0.0794 - accuracy: 0.9714 - val_loss: 0.4084 - val_accuracy: 0.7858\n",
            "Epoch 3/5\n",
            "2720/2720 [==============================] - 23s 9ms/step - loss: 0.0339 - accuracy: 0.9870 - val_loss: 0.4887 - val_accuracy: 0.7571\n",
            "Epoch 4/5\n",
            "2720/2720 [==============================] - 23s 8ms/step - loss: 0.0173 - accuracy: 0.9927 - val_loss: 0.7825 - val_accuracy: 0.7213\n",
            "Epoch 5/5\n",
            "2720/2720 [==============================] - 22s 8ms/step - loss: 0.0090 - accuracy: 0.9960 - val_loss: 0.8490 - val_accuracy: 0.7392\n"
          ]
        }
      ]
    },
    {
      "cell_type": "code",
      "source": [
        "model.evaluate([test.user_id, test.business_id], get_binary(test.rating))"
      ],
      "metadata": {
        "colab": {
          "base_uri": "https://localhost:8080/"
        },
        "id": "81ulaewGGmUd",
        "outputId": "3262829b-ef92-4417-bf70-34e2d5217baa"
      },
      "execution_count": 29,
      "outputs": [
        {
          "output_type": "stream",
          "name": "stdout",
          "text": [
            "345/345 [==============================] - 0s 1ms/step - loss: 0.8230 - accuracy: 0.7404\n"
          ]
        },
        {
          "output_type": "execute_result",
          "data": {
            "text/plain": [
              "[0.822998046875, 0.740354061126709]"
            ]
          },
          "metadata": {},
          "execution_count": 29
        }
      ]
    },
    {
      "cell_type": "code",
      "source": [
        "predictions = model.predict([test.user_id, test.business_id])"
      ],
      "metadata": {
        "colab": {
          "base_uri": "https://localhost:8080/"
        },
        "id": "MAB6aNdNGmQq",
        "outputId": "69622701-3e24-49dc-c481-9834a3d78509"
      },
      "execution_count": 30,
      "outputs": [
        {
          "output_type": "stream",
          "name": "stdout",
          "text": [
            "345/345 [==============================] - 1s 1ms/step\n"
          ]
        }
      ]
    },
    {
      "cell_type": "code",
      "source": [
        "[print('Pred: {} - GT: {}'.format([0 if predictions[i] < 0.5 else 1], get_binary(test.rating)[i])) for i in range(60, 80)]\n",
        "print('Done')"
      ],
      "metadata": {
        "colab": {
          "base_uri": "https://localhost:8080/"
        },
        "id": "__35iFASGmMs",
        "outputId": "8b48f80e-3fe8-4fe3-d767-78acea36726a"
      },
      "execution_count": 31,
      "outputs": [
        {
          "output_type": "stream",
          "name": "stdout",
          "text": [
            "Pred: [1] - GT: 1\n",
            "Pred: [1] - GT: 1\n",
            "Pred: [0] - GT: 1\n",
            "Pred: [1] - GT: 1\n",
            "Pred: [1] - GT: 1\n",
            "Pred: [1] - GT: 1\n",
            "Pred: [1] - GT: 1\n",
            "Pred: [0] - GT: 1\n",
            "Pred: [1] - GT: 1\n",
            "Pred: [1] - GT: 0\n",
            "Pred: [1] - GT: 1\n",
            "Pred: [1] - GT: 1\n",
            "Pred: [0] - GT: 0\n",
            "Pred: [1] - GT: 1\n",
            "Pred: [1] - GT: 0\n",
            "Pred: [0] - GT: 1\n",
            "Pred: [1] - GT: 1\n",
            "Pred: [0] - GT: 1\n",
            "Pred: [0] - GT: 1\n",
            "Pred: [1] - GT: 1\n",
            "Done\n"
          ]
        }
      ]
    },
    {
      "cell_type": "code",
      "source": [
        "preds = [0 if predictions[i] < 0.5 else 1 for i in range(len(predictions))]\n",
        "temp0 = []\n",
        "temp1 = []\n",
        "for i, ele in enumerate(get_binary(test.rating)):\n",
        "    if ele == 0:\n",
        "        temp0.append(preds[i])\n",
        "    else:\n",
        "        temp1.append(preds[i])"
      ],
      "metadata": {
        "id": "xJFy-s1dGmIy"
      },
      "execution_count": 402,
      "outputs": []
    },
    {
      "cell_type": "code",
      "source": [
        "with plt.style.context('seaborn'):\n",
        "    plt.figure(figsize=(8, 5))\n",
        "    plt.hist(temp0)\n",
        "    plt.title('If the GT is 0, then how many true prediction had the model?')\n",
        "    plt.show()\n",
        "\n",
        "with plt.style.context('seaborn'):\n",
        "    plt.figure(figsize=(8, 5))\n",
        "    plt.hist(temp1, color='green')\n",
        "    plt.title('If the GT is 1, then how many true prediction had the model?')\n",
        "    plt.show()"
      ],
      "metadata": {
        "colab": {
          "base_uri": "https://localhost:8080/",
          "height": 653
        },
        "id": "gf9TVd5NGmFY",
        "outputId": "daf83a67-6f2c-462a-c8ca-5b24178cb7f7"
      },
      "execution_count": 403,
      "outputs": [
        {
          "output_type": "display_data",
          "data": {
            "text/plain": [
              "<Figure size 576x360 with 1 Axes>"
            ],
            "image/png": "[encoded data removed]"
          },
          "metadata": {}
        },
        {
          "output_type": "display_data",
          "data": {
            "text/plain": [
              "<Figure size 576x360 with 1 Axes>"
            ],
            "image/png": "[encoded data removed]"
          },
          "metadata": {}
        }
      ]
    },
    {
      "cell_type": "markdown",
      "source": [
        "This is not good!\n",
        "\n",
        "THIS IS NOT GOOD!"
      ],
      "metadata": {
        "id": "BpqlzNbKI7Pl"
      }
    },
    {
      "cell_type": "code",
      "source": [],
      "metadata": {
        "id": "45WuCeyTRaWx"
      },
      "execution_count": null,
      "outputs": []
    },
    {
      "cell_type": "code",
      "source": [
        "print('# of corroct prediction: {} out of {}'.format(temp0.count(0) + temp1.count(1), len(test)))"
      ],
      "metadata": {
        "colab": {
          "base_uri": "https://localhost:8080/"
        },
        "id": "6KuxY6O2ajJH",
        "outputId": "3f762593-54af-4602-a13b-dda7e0370ae5"
      },
      "execution_count": 405,
      "outputs": [
        {
          "output_type": "stream",
          "name": "stdout",
          "text": [
            "# of corroct prediction: 8155 out of 11015\n"
          ]
        }
      ]
    },
    {
      "cell_type": "code",
      "source": [],
      "metadata": {
        "id": "WTwx2yFYajGU"
      },
      "execution_count": null,
      "outputs": []
    },
    {
      "cell_type": "code",
      "source": [
        "evaluator(model=model, dataset=test_includes_2, kind='Normal', k=2)"
      ],
      "metadata": {
        "colab": {
          "base_uri": "https://localhost:8080/"
        },
        "id": "BtjLTOU87e-3",
        "outputId": "35fa1f65-4952-4839-eac1-0bb9faf626ab"
      },
      "execution_count": 367,
      "outputs": [
        {
          "output_type": "stream",
          "name": "stdout",
          "text": [
            "345/345 [==============================] - 0s 1ms/step\n",
            "Precision at 5:  0.81\n",
            "Recall    at 5:  0.82\n"
          ]
        }
      ]
    },
    {
      "cell_type": "code",
      "source": [
        "evaluator(model=model, dataset=test_includes_3, kind='Normal', k=3)"
      ],
      "metadata": {
        "colab": {
          "base_uri": "https://localhost:8080/"
        },
        "id": "ZZf8Jicja-9Z",
        "outputId": "dc64d91b-ec4e-4e67-9cc7-32c20ebea7c7"
      },
      "execution_count": 368,
      "outputs": [
        {
          "output_type": "stream",
          "name": "stdout",
          "text": [
            "204/204 [==============================] - 0s 1ms/step\n",
            "Precision at 5:  0.83\n",
            "Recall    at 5:  0.85\n"
          ]
        }
      ]
    },
    {
      "cell_type": "code",
      "source": [
        "evaluator(model=model, dataset=test_includes_4, kind='Normal', k=4)"
      ],
      "metadata": {
        "colab": {
          "base_uri": "https://localhost:8080/"
        },
        "id": "OGTJjJsza-2D",
        "outputId": "af446413-24c3-44b8-ed66-64a0d89b539a"
      },
      "execution_count": 369,
      "outputs": [
        {
          "output_type": "stream",
          "name": "stdout",
          "text": [
            "139/139 [==============================] - 0s 1ms/step\n",
            "Precision at 5:  0.84\n",
            "Recall    at 5:  0.86\n"
          ]
        }
      ]
    },
    {
      "cell_type": "code",
      "source": [
        "evaluator(model=model, dataset=test_includes_5, kind='Normal', k=5)"
      ],
      "metadata": {
        "colab": {
          "base_uri": "https://localhost:8080/"
        },
        "id": "wr1e3gLda-o3",
        "outputId": "2dcc9778-e50f-4eab-db14-48185dc7ecf1"
      },
      "execution_count": 370,
      "outputs": [
        {
          "output_type": "stream",
          "name": "stdout",
          "text": [
            "100/100 [==============================] - 0s 1ms/step\n",
            "Precision at 5:  0.84\n",
            "Recall    at 5:  0.86\n"
          ]
        }
      ]
    },
    {
      "cell_type": "code",
      "source": [
        "evaluator(model=model, dataset=test_more_than_5, kind='Normal', k=5)"
      ],
      "metadata": {
        "colab": {
          "base_uri": "https://localhost:8080/"
        },
        "id": "feuNLD29a-ZQ",
        "outputId": "82ebb04a-990d-4967-d2cb-7e3a4055744e"
      },
      "execution_count": 371,
      "outputs": [
        {
          "output_type": "stream",
          "name": "stdout",
          "text": [
            "72/72 [==============================] - 0s 1ms/step\n",
            "Precision at 5:  0.92\n",
            "Recall    at 5:  0.93\n"
          ]
        }
      ]
    },
    {
      "cell_type": "code",
      "source": [],
      "metadata": {
        "id": "dwmZIDMs7e5x"
      },
      "execution_count": null,
      "outputs": []
    },
    {
      "cell_type": "markdown",
      "source": [
        "# Part Four.\n",
        "Ok lets use a trick ))"
      ],
      "metadata": {
        "id": "SS-Z9IUxG7BG"
      }
    },
    {
      "cell_type": "code",
      "source": [
        "def get_avg(dataset, col):\n",
        "    avgs = []\n",
        "    temp = {}\n",
        "    groups = dataset.groupby(by=col)\n",
        "    for grp, pdf in groups:\n",
        "        temp[grp] = np.average(pdf['rating'])\n",
        "    for row in dataset.iterrows():\n",
        "        avgs.append(temp[row[1][col]])\n",
        "    return np.array(avgs)"
      ],
      "metadata": {
        "id": "LKST9KvE5vCC"
      },
      "execution_count": 36,
      "outputs": []
    },
    {
      "cell_type": "code",
      "source": [
        "# creating restaurant embedding path\n",
        "restaurant_input = Input(shape=[1], name=\"Restaurant-Input\")\n",
        "restaurant_embedding = Embedding(n_items + 1, 16, name=\"Restaurant-Embedding\")(restaurant_input)\n",
        "restaurant_vec = Flatten(name=\"Flatten-Restaurant\")(restaurant_embedding)\n",
        "\n",
        "# creating user embedding path\n",
        "user_input = Input(shape=[1], name=\"User-Input\")\n",
        "user_embedding = Embedding(n_users + 1, 16, name=\"User-Embedding\")(user_input)\n",
        "user_vec = Flatten(name=\"Flatten-Users\")(user_embedding)\n",
        "\n",
        "# creating restaurant average rates embedding path\n",
        "restaurant_average_rates_input = Input(shape=[1], name=\"Restaurant-Avg-Rates-Input\")\n",
        "restaurant_average_rates_embedding = Embedding(max_rate + 1, 16, name=\"Restaurant-Avg-Rates-Embedding\")(restaurant_average_rates_input)\n",
        "restaurant_average_rates_vec = Flatten(name=\"Flatten-Restaurant-Avg-Rates\")(restaurant_average_rates_embedding)\n",
        "\n",
        "# creating user average rates embedding path\n",
        "user_average_rates_input = Input(shape=[1], name=\"User-Avg-Rates-Input\")\n",
        "user_average_rates_embedding = Embedding(max_rate + 1, 16, name=\"User-Avg-Rates-Embedding\")(user_average_rates_input)\n",
        "user_average_rates_vec = Flatten(name=\"Flatten-User-Avg-Rates\")(user_average_rates_embedding)\n",
        "\n",
        "# concatenate features\n",
        "conc = Concatenate()([restaurant_vec, user_vec, restaurant_average_rates_vec, user_average_rates_vec])\n",
        "\n",
        "# add fully-connected-layers\n",
        "fc1 = Dense(128, activation='relu')(conc)\n",
        "fc2 = Dense(32, activation='relu')(fc1)\n",
        "out = Dense(1, activation='sigmoid')(fc2)\n",
        "\n",
        "# Create model and compile it\n",
        "advanced_model = Model([user_input, restaurant_input, user_average_rates_input, restaurant_average_rates_input], out)\n",
        "advanced_model.compile(loss='binary_crossentropy', optimizer='adam', metrics=['accuracy'])"
      ],
      "metadata": {
        "id": "WfqZNiWx6AWO"
      },
      "execution_count": 372,
      "outputs": []
    },
    {
      "cell_type": "code",
      "source": [
        "train_user_avg = get_avg(train, 'user_id')\n",
        "train_restaurant_avg = get_avg(train, 'business_id')\n",
        "val_user_avg = get_avg(val, 'user_id')\n",
        "val_restaurant_avg = get_avg(val, 'business_id')\n",
        "test_user_avg = get_avg(test, 'user_id')\n",
        "test_restaurant_avg = get_avg(test, 'business_id')"
      ],
      "metadata": {
        "id": "6e9G15vJ8WyU"
      },
      "execution_count": 373,
      "outputs": []
    },
    {
      "cell_type": "code",
      "source": [
        "history = advanced_model.fit([train.user_id, train.business_id, train_user_avg, train_restaurant_avg], get_binary(train.rating), \n",
        "                        epochs=5, \n",
        "                        validation_data=([val.user_id, val.business_id, val_user_avg, val_restaurant_avg], get_binary(val.rating)), \n",
        "                        verbose=1)"
      ],
      "metadata": {
        "colab": {
          "base_uri": "https://localhost:8080/"
        },
        "id": "V_lmtkoL6ATo",
        "outputId": "8c97ff57-2d88-48d8-d3de-26a333911d96"
      },
      "execution_count": 374,
      "outputs": [
        {
          "output_type": "stream",
          "name": "stdout",
          "text": [
            "Epoch 1/5\n",
            "2720/2720 [==============================] - 26s 9ms/step - loss: 0.0801 - accuracy: 0.9744 - val_loss: 0.0477 - val_accuracy: 0.9848\n",
            "Epoch 2/5\n",
            "2720/2720 [==============================] - 26s 9ms/step - loss: 0.0600 - accuracy: 0.9783 - val_loss: 0.0755 - val_accuracy: 0.9726\n",
            "Epoch 3/5\n",
            "2720/2720 [==============================] - 25s 9ms/step - loss: 0.0250 - accuracy: 0.9906 - val_loss: 0.1372 - val_accuracy: 0.9354\n",
            "Epoch 4/5\n",
            "2720/2720 [==============================] - 25s 9ms/step - loss: 0.0105 - accuracy: 0.9962 - val_loss: 0.1631 - val_accuracy: 0.9278\n",
            "Epoch 5/5\n",
            "2720/2720 [==============================] - 25s 9ms/step - loss: 0.0054 - accuracy: 0.9980 - val_loss: 0.2662 - val_accuracy: 0.8794\n"
          ]
        }
      ]
    },
    {
      "cell_type": "code",
      "source": [
        "advanced_model.evaluate([test.user_id, test.business_id, test_user_avg, test_restaurant_avg], get_binary(test.rating))"
      ],
      "metadata": {
        "colab": {
          "base_uri": "https://localhost:8080/"
        },
        "id": "nRW5qzZ6h1gx",
        "outputId": "8f325960-4c70-4771-cc80-5635424ce2cf"
      },
      "execution_count": 375,
      "outputs": [
        {
          "output_type": "stream",
          "name": "stdout",
          "text": [
            "345/345 [==============================] - 0s 1ms/step - loss: 0.2427 - accuracy: 0.8857\n"
          ]
        },
        {
          "output_type": "execute_result",
          "data": {
            "text/plain": [
              "[0.24267642199993134, 0.8857012987136841]"
            ]
          },
          "metadata": {},
          "execution_count": 375
        }
      ]
    },
    {
      "cell_type": "code",
      "source": [
        "advanced_predictions = advanced_model.predict([test.user_id, test.business_id, test_user_avg, test_restaurant_avg])"
      ],
      "metadata": {
        "colab": {
          "base_uri": "https://localhost:8080/"
        },
        "id": "lzPPOFXS6ARN",
        "outputId": "7978490d-314d-45c4-b652-bbd354134476"
      },
      "execution_count": 376,
      "outputs": [
        {
          "output_type": "stream",
          "name": "stdout",
          "text": [
            "345/345 [==============================] - 0s 1ms/step\n"
          ]
        }
      ]
    },
    {
      "cell_type": "code",
      "source": [
        "[print('Pred: {} - GT: {}'.format([0 if advanced_predictions[i] < 0.5 else 1], get_binary(test.rating)[i])) for i in range(60, 80)]\n",
        "print('Done')"
      ],
      "metadata": {
        "colab": {
          "base_uri": "https://localhost:8080/"
        },
        "id": "nGANo8rQGzc7",
        "outputId": "180d3beb-fad8-407d-b82a-8bab7f75f2e2"
      },
      "execution_count": 377,
      "outputs": [
        {
          "output_type": "stream",
          "name": "stdout",
          "text": [
            "Pred: [1] - GT: 1\n",
            "Pred: [1] - GT: 1\n",
            "Pred: [1] - GT: 1\n",
            "Pred: [1] - GT: 1\n",
            "Pred: [1] - GT: 1\n",
            "Pred: [1] - GT: 1\n",
            "Pred: [1] - GT: 1\n",
            "Pred: [1] - GT: 1\n",
            "Pred: [1] - GT: 1\n",
            "Pred: [0] - GT: 0\n",
            "Pred: [1] - GT: 1\n",
            "Pred: [1] - GT: 1\n",
            "Pred: [0] - GT: 0\n",
            "Pred: [1] - GT: 1\n",
            "Pred: [0] - GT: 0\n",
            "Pred: [1] - GT: 1\n",
            "Pred: [1] - GT: 1\n",
            "Pred: [1] - GT: 1\n",
            "Pred: [1] - GT: 1\n",
            "Pred: [1] - GT: 1\n",
            "Done\n"
          ]
        }
      ]
    },
    {
      "cell_type": "code",
      "source": [
        "adv_preds = [0 if advanced_predictions[i] < 0.5 else 1 for i in range(len(advanced_predictions))]\n",
        "adv_temp0 = []\n",
        "adv_temp1 = []\n",
        "for i, ele in enumerate(get_binary(test.rating)):\n",
        "    if ele == 0:\n",
        "        adv_temp0.append(adv_preds[i])\n",
        "    else:\n",
        "        adv_temp1.append(adv_preds[i])"
      ],
      "metadata": {
        "id": "78Exs9_XF0mA"
      },
      "execution_count": 393,
      "outputs": []
    },
    {
      "cell_type": "code",
      "source": [
        "with plt.style.context('seaborn'):\n",
        "    plt.figure(figsize=(8, 5))\n",
        "    plt.hist(adv_temp0)\n",
        "    plt.title('If the GT is 0, then how many true prediction had the model?')\n",
        "    plt.show()\n",
        "\n",
        "with plt.style.context('seaborn'):\n",
        "    plt.figure(figsize=(8, 5))\n",
        "    plt.hist(adv_temp1, color='green')\n",
        "    plt.title('If the GT is 1, then how many true prediction had the model?')\n",
        "    plt.show()"
      ],
      "metadata": {
        "colab": {
          "base_uri": "https://localhost:8080/",
          "height": 653
        },
        "id": "5sVUxMubF0ee",
        "outputId": "8a6b2289-ba7f-4136-cd77-2f7136e88ce6"
      },
      "execution_count": 395,
      "outputs": [
        {
          "output_type": "display_data",
          "data": {
            "text/plain": [
              "<Figure size 576x360 with 1 Axes>"
            ],
            "image/png": "[encoded data removed]"
          },
          "metadata": {}
        },
        {
          "output_type": "display_data",
          "data": {
            "text/plain": [
              "<Figure size 576x360 with 1 Axes>"
            ],
            "image/png": "[encoded data removed]"
          },
          "metadata": {}
        }
      ]
    },
    {
      "cell_type": "markdown",
      "source": [
        "Wow )) Gr8"
      ],
      "metadata": {
        "id": "KZu-F2XmLoVD"
      }
    },
    {
      "cell_type": "code",
      "source": [],
      "metadata": {
        "id": "QgfP76FyaF9i"
      },
      "execution_count": null,
      "outputs": []
    },
    {
      "cell_type": "code",
      "source": [
        "print('# of corroct prediction: {} out of {}'.format(adv_temp0.count(0) + adv_temp1.count(1), len(test)))"
      ],
      "metadata": {
        "colab": {
          "base_uri": "https://localhost:8080/"
        },
        "id": "D_nu0MnmVurJ",
        "outputId": "e0ad9cfa-527f-41a1-9949-c7518d9f2659"
      },
      "execution_count": 406,
      "outputs": [
        {
          "output_type": "stream",
          "name": "stdout",
          "text": [
            "# of corroct prediction: 9756 out of 11015\n"
          ]
        }
      ]
    },
    {
      "cell_type": "code",
      "source": [],
      "metadata": {
        "id": "d686l6x5aG2W"
      },
      "execution_count": null,
      "outputs": []
    },
    {
      "cell_type": "code",
      "source": [
        "evaluator(model=advanced_model, dataset=test_includes_2, k=2)"
      ],
      "metadata": {
        "colab": {
          "base_uri": "https://localhost:8080/"
        },
        "id": "QrneveZThfcB",
        "outputId": "03202b64-d191-4ea9-bbf2-b80e0c388980"
      },
      "execution_count": 380,
      "outputs": [
        {
          "output_type": "stream",
          "name": "stdout",
          "text": [
            "345/345 [==============================] - 0s 1ms/step\n",
            "Precision at 5:  0.92\n",
            "Recall    at 5:  0.91\n"
          ]
        }
      ]
    },
    {
      "cell_type": "code",
      "source": [
        "evaluator(model=advanced_model, dataset=test_includes_3, k=3)"
      ],
      "metadata": {
        "colab": {
          "base_uri": "https://localhost:8080/"
        },
        "id": "Mn598ADwan9k",
        "outputId": "09c88942-6114-4061-b8c3-6b168855f426"
      },
      "execution_count": 381,
      "outputs": [
        {
          "output_type": "stream",
          "name": "stdout",
          "text": [
            "204/204 [==============================] - 0s 1ms/step\n",
            "Precision at 5:  0.92\n",
            "Recall    at 5:  0.92\n"
          ]
        }
      ]
    },
    {
      "cell_type": "code",
      "source": [
        "evaluator(model=advanced_model, dataset=test_includes_4, k=4)"
      ],
      "metadata": {
        "colab": {
          "base_uri": "https://localhost:8080/"
        },
        "id": "JsPH8dUDan6g",
        "outputId": "2a2b956f-8b92-437b-90e3-e0ebbf1b95c1"
      },
      "execution_count": 382,
      "outputs": [
        {
          "output_type": "stream",
          "name": "stdout",
          "text": [
            "139/139 [==============================] - 0s 1ms/step\n",
            "Precision at 5:  0.92\n",
            "Recall    at 5:  0.91\n"
          ]
        }
      ]
    },
    {
      "cell_type": "code",
      "source": [
        "evaluator(model=advanced_model, dataset=test_includes_5, k=5)"
      ],
      "metadata": {
        "colab": {
          "base_uri": "https://localhost:8080/"
        },
        "id": "PcpoL-Ytan0_",
        "outputId": "5a96d563-ad4d-41a7-ff79-d6fda4a158b3"
      },
      "execution_count": 383,
      "outputs": [
        {
          "output_type": "stream",
          "name": "stdout",
          "text": [
            "100/100 [==============================] - 0s 1ms/step\n",
            "Precision at 5:  0.93\n",
            "Recall    at 5:  0.92\n"
          ]
        }
      ]
    },
    {
      "cell_type": "code",
      "source": [
        "evaluator(model=advanced_model, dataset=test_more_than_5, k=5)"
      ],
      "metadata": {
        "colab": {
          "base_uri": "https://localhost:8080/"
        },
        "id": "ZH0cz6XzhfZ1",
        "outputId": "c41c0654-4ea7-4ade-ce00-3df77aca66fd"
      },
      "execution_count": 384,
      "outputs": [
        {
          "output_type": "stream",
          "name": "stdout",
          "text": [
            "72/72 [==============================] - 0s 1ms/step\n",
            "Precision at 5:  0.95\n",
            "Recall    at 5:  0.95\n"
          ]
        }
      ]
    },
    {
      "cell_type": "code",
      "source": [],
      "metadata": {
        "id": "qiH6GnGShfU6"
      },
      "execution_count": null,
      "outputs": []
    },
    {
      "cell_type": "code",
      "source": [],
      "metadata": {
        "id": "LEqXFwqlhfSj"
      },
      "execution_count": null,
      "outputs": []
    },
    {
      "cell_type": "markdown",
      "source": [
        "# Part Five."
      ],
      "metadata": {
        "id": "3BVEl2Fjb9jx"
      }
    },
    {
      "cell_type": "code",
      "source": [
        "!pip install transformers==2.11.0"
      ],
      "metadata": {
        "colab": {
          "base_uri": "https://localhost:8080/"
        },
        "id": "N0mLPNlo8QSN",
        "outputId": "379849af-caf4-4f66-b10f-7b4c9f875d5f"
      },
      "execution_count": 252,
      "outputs": [
        {
          "output_type": "stream",
          "name": "stdout",
          "text": [
            "Looking in indexes: https://pypi.org/simple, https://us-python.pkg.dev/colab-wheels/public/simple/\n",
            "Collecting transformers==2.11.0\n",
            "  Downloading transformers-2.11.0-py3-none-any.whl (674 kB)\n",
            "\u001b[2K     \u001b[90m━━━━━━━━━━━━━━━━━━━━━━━━━━━━━━━━━━━━━━\u001b[0m \u001b[32m674.8/674.8 KB\u001b[0m \u001b[31m36.6 MB/s\u001b[0m eta \u001b[36m0:00:00\u001b[0m\n",
            "\u001b[?25hRequirement already satisfied: requests in /usr/local/lib/python3.8/dist-packages (from transformers==2.11.0) (2.25.1)\n",
            "Requirement already satisfied: filelock in /usr/local/lib/python3.8/dist-packages (from transformers==2.11.0) (3.9.0)\n",
            "Collecting tokenizers==0.7.0\n",
            "  Downloading tokenizers-0.7.0-cp38-cp38-manylinux1_x86_64.whl (7.5 MB)\n",
            "\u001b[2K     \u001b[90m━━━━━━━━━━━━━━━━━━━━━━━━━━━━━━━━━━━━━━━━\u001b[0m \u001b[32m7.5/7.5 MB\u001b[0m \u001b[31m65.1 MB/s\u001b[0m eta \u001b[36m0:00:00\u001b[0m\n",
            "\u001b[?25hRequirement already satisfied: regex!=2019.12.17 in /usr/local/lib/python3.8/dist-packages (from transformers==2.11.0) (2022.6.2)\n",
            "Requirement already satisfied: tqdm>=4.27 in /usr/local/lib/python3.8/dist-packages (from transformers==2.11.0) (4.64.1)\n",
            "Collecting sentencepiece\n",
            "  Downloading sentencepiece-0.1.97-cp38-cp38-manylinux_2_17_x86_64.manylinux2014_x86_64.whl (1.3 MB)\n",
            "\u001b[2K     \u001b[90m━━━━━━━━━━━━━━━━━━━━━━━━━━━━━━━━━━━━━━━━\u001b[0m \u001b[32m1.3/1.3 MB\u001b[0m \u001b[31m74.2 MB/s\u001b[0m eta \u001b[36m0:00:00\u001b[0m\n",
            "\u001b[?25hCollecting sacremoses\n",
            "  Downloading sacremoses-0.0.53.tar.gz (880 kB)\n",
            "\u001b[2K     \u001b[90m━━━━━━━━━━━━━━━━━━━━━━━━━━━━━━━━━━━━━━\u001b[0m \u001b[32m880.6/880.6 KB\u001b[0m \u001b[31m52.8 MB/s\u001b[0m eta \u001b[36m0:00:00\u001b[0m\n",
            "\u001b[?25h  Preparing metadata (setup.py) ... \u001b[?25l\u001b[?25hdone\n",
            "Requirement already satisfied: packaging in /usr/local/lib/python3.8/dist-packages (from transformers==2.11.0) (23.0)\n",
            "Requirement already satisfied: numpy in /usr/local/lib/python3.8/dist-packages (from transformers==2.11.0) (1.21.6)\n",
            "Requirement already satisfied: urllib3<1.27,>=1.21.1 in /usr/local/lib/python3.8/dist-packages (from requests->transformers==2.11.0) (1.24.3)\n",
            "Requirement already satisfied: certifi>=2017.4.17 in /usr/local/lib/python3.8/dist-packages (from requests->transformers==2.11.0) (2022.12.7)\n",
            "Requirement already satisfied: chardet<5,>=3.0.2 in /usr/local/lib/python3.8/dist-packages (from requests->transformers==2.11.0) (4.0.0)\n",
            "Requirement already satisfied: idna<3,>=2.5 in /usr/local/lib/python3.8/dist-packages (from requests->transformers==2.11.0) (2.10)\n",
            "Requirement already satisfied: six in /usr/local/lib/python3.8/dist-packages (from sacremoses->transformers==2.11.0) (1.15.0)\n",
            "Requirement already satisfied: click in /usr/local/lib/python3.8/dist-packages (from sacremoses->transformers==2.11.0) (7.1.2)\n",
            "Requirement already satisfied: joblib in /usr/local/lib/python3.8/dist-packages (from sacremoses->transformers==2.11.0) (1.2.0)\n",
            "Building wheels for collected packages: sacremoses\n",
            "  Building wheel for sacremoses (setup.py) ... \u001b[?25l\u001b[?25hdone\n",
            "  Created wheel for sacremoses: filename=sacremoses-0.0.53-py3-none-any.whl size=895260 sha256=cd705b775d0f6d00c3e4aa5b44cf1177462e23546e7eca5af469b24aeb3f28e9\n",
            "  Stored in directory: /root/.cache/pip/wheels/82/ab/9b/c15899bf659ba74f623ac776e861cf2eb8608c1825ddec66a4\n",
            "Successfully built sacremoses\n",
            "Installing collected packages: tokenizers, sentencepiece, sacremoses, transformers\n",
            "Successfully installed sacremoses-0.0.53 sentencepiece-0.1.97 tokenizers-0.7.0 transformers-2.11.0\n"
          ]
        }
      ]
    },
    {
      "cell_type": "code",
      "source": [
        "from transformers import BertTokenizer"
      ],
      "metadata": {
        "id": "RrPgp-q78jsu"
      },
      "execution_count": 259,
      "outputs": []
    },
    {
      "cell_type": "code",
      "source": [
        "model_name = 'bert-base-cased'\n",
        "tokenizer = BertTokenizer.from_pretrained(model_name)"
      ],
      "metadata": {
        "colab": {
          "base_uri": "https://localhost:8080/",
          "height": 49,
          "referenced_widgets": [
            "5a7dd01a2c754b95a564a9c7aaf66cdc",
            "a856024cc8c2491cb3975bdad4170fca",
            "8a2e2c4c4ed04106a816b82c4c501646",
            "752b15a3a67349ad866b56dde0baeb70",
            "a184b0522de6414dae18df267986879f",
            "dde4f2a41bb042a998beb69a0023eb1d",
            "9d5a9ab09a7c40a5bb4ad5b1156abcf2",
            "761d19242063430684d5527d7676b9b3",
            "0c41e13f5c3d4d5fb76320323d54988d",
            "d51ba594417f430d91638d656eceb5d7",
            "9c82283c8a5343e6aa11af3c004e33dc"
          ]
        },
        "id": "hHo8VAHM79re",
        "outputId": "171f573c-f686-4dfe-e3c9-ab7938fdd55c"
      },
      "execution_count": 253,
      "outputs": [
        {
          "output_type": "display_data",
          "data": {
            "text/plain": [
              "Downloading:   0%|          | 0.00/213k [00:00<?, ?B/s]"
            ],
            "application/vnd.jupyter.widget-view+json": {
              "version_major": 2,
              "version_minor": 0,
              "model_id": "5a7dd01a2c754b95a564a9c7aaf66cdc"
            }
          },
          "metadata": {}
        }
      ]
    },
    {
      "cell_type": "code",
      "source": [
        "tokenizer.vocab_size"
      ],
      "metadata": {
        "colab": {
          "base_uri": "https://localhost:8080/"
        },
        "id": "7BU_z0Jz79pd",
        "outputId": "86d59410-4dd7-446c-9571-679112e8ac82"
      },
      "execution_count": 254,
      "outputs": [
        {
          "output_type": "execute_result",
          "data": {
            "text/plain": [
              "28996"
            ]
          },
          "metadata": {},
          "execution_count": 254
        }
      ]
    },
    {
      "cell_type": "code",
      "source": [],
      "metadata": {
        "id": "Rf_ivqim9sPX"
      },
      "execution_count": null,
      "outputs": []
    },
    {
      "cell_type": "code",
      "source": [
        "train.drop(train.index[[43088]], inplace=True)\n",
        "train_sequence_max_length = max([len(tokenizer.encode(text)) for text in train['review_text']])\n",
        "train_sequence_max_length"
      ],
      "metadata": {
        "colab": {
          "base_uri": "https://localhost:8080/"
        },
        "id": "a8jraSW-79nY",
        "outputId": "44f4f4bd-16e6-4cd7-f0f3-6ee220bc2753"
      },
      "execution_count": 269,
      "outputs": [
        {
          "output_type": "execute_result",
          "data": {
            "text/plain": [
              "484"
            ]
          },
          "metadata": {},
          "execution_count": 269
        }
      ]
    },
    {
      "cell_type": "code",
      "source": [
        "tokenizer.encode(val.review_text[0])"
      ],
      "metadata": {
        "colab": {
          "base_uri": "https://localhost:8080/"
        },
        "id": "kkHh3-pb79lT",
        "outputId": "09a1f431-28de-4459-f34e-edecec211b0d"
      },
      "execution_count": 272,
      "outputs": [
        {
          "output_type": "execute_result",
          "data": {
            "text/plain": [
              "[101, 1842, 2646, 1436, 2633, 9323, 1251, 2246, 4679, 102]"
            ]
          },
          "metadata": {},
          "execution_count": 272
        }
      ]
    },
    {
      "cell_type": "code",
      "source": [
        "# creating restaurant embedding path\n",
        "restaurant_input = Input(shape=[1], name=\"Restaurant-Input\")\n",
        "restaurant_embedding = Embedding(n_items + 1, 16, name=\"Restaurant-Embedding\")(restaurant_input)\n",
        "restaurant_vec = Flatten(name=\"Flatten-Restaurant\")(restaurant_embedding)\n",
        "\n",
        "# creating user embedding path\n",
        "user_input = Input(shape=[1], name=\"User-Input\")\n",
        "user_embedding = Embedding(n_users + 1, 16, name=\"User-Embedding\")(user_input)\n",
        "user_vec = Flatten(name=\"Flatten-Users\")(user_embedding)\n",
        "\n",
        "# creating restaurant average rates embedding path\n",
        "restaurant_average_rates_input = Input(shape=[1], name=\"Restaurant-Avg-Rates-Input\")\n",
        "restaurant_average_rates_embedding = Embedding(max_rate + 1, 16, name=\"Restaurant-Avg-Rates-Embedding\")(restaurant_average_rates_input)\n",
        "restaurant_average_rates_vec = Flatten(name=\"Flatten-Restaurant-Avg-Rates\")(restaurant_average_rates_embedding)\n",
        "\n",
        "# creating user average rates embedding path\n",
        "user_average_rates_input = Input(shape=[1], name=\"User-Avg-Rates-Input\")\n",
        "user_average_rates_embedding = Embedding(max_rate + 1, 16, name=\"User-Avg-Rates-Embedding\")(user_average_rates_input)\n",
        "user_average_rates_vec = Flatten(name=\"Flatten-User-Avg-Rates\")(user_average_rates_embedding)\n",
        "\n",
        "# creating restaurant review_text embedding path\n",
        "restaurant_review_text_input = Input(shape=[train_sequence_max_length], name=\"Restaurant_Review_Text-Input\")\n",
        "restaurant_review_text_embedding = Embedding(n_items + 1, 16, name=\"Restaurant_Review_Text-Embedding\")(restaurant_review_text_input)\n",
        "restaurant_review_text_vec = Flatten(name=\"Flatten-Restaurant_Review_Text\")(restaurant_review_text_embedding)\n",
        "\n",
        "# concatenate features\n",
        "conc = Concatenate()([restaurant_vec, user_vec, restaurant_average_rates_vec, user_average_rates_vec, restaurant_review_text_vec])\n",
        "\n",
        "# add fully-connected-layers\n",
        "fc1 = Dense(128, activation='relu')(conc)\n",
        "fc2 = Dense(32, activation='relu')(fc1)\n",
        "out = Dense(1, activation='sigmoid')(fc2)\n",
        "\n",
        "# Create model and compile it\n",
        "pro_advanced_model = Model([user_input, restaurant_input, user_average_rates_input, restaurant_average_rates_input, restaurant_review_text_input], out)\n",
        "pro_advanced_model.compile(loss='binary_crossentropy', optimizer='adam', metrics=['accuracy'])"
      ],
      "metadata": {
        "id": "ww2yHjw7hfQW"
      },
      "execution_count": 334,
      "outputs": []
    },
    {
      "cell_type": "code",
      "source": [
        "def get_tokenized(dataset):\n",
        "    temp = []\n",
        "    for text in dataset.review_text:\n",
        "        temp.append(tokenizer.encode(text))\n",
        "    for ele in temp:\n",
        "        ele.extend([0] * (train_sequence_max_length - len(ele)))\n",
        "    return np.asarray(temp).astype(np.float32)"
      ],
      "metadata": {
        "id": "awiyiZOqFrZt"
      },
      "execution_count": 330,
      "outputs": []
    },
    {
      "cell_type": "code",
      "source": [
        "train_user_avg = get_avg(train, 'user_id')\n",
        "train_restaurant_avg = get_avg(train, 'business_id')\n",
        "train_restaurant_review_text = get_tokenized(train)\n",
        "\n",
        "val_user_avg = get_avg(val, 'user_id')\n",
        "val_restaurant_avg = get_avg(val, 'business_id')\n",
        "val_restaurant_review_text = get_tokenized(val)\n",
        "\n",
        "test_user_avg = get_avg(test, 'user_id')\n",
        "test_restaurant_avg = get_avg(test, 'business_id')\n",
        "test_restaurant_review_text = get_tokenized(test)"
      ],
      "metadata": {
        "id": "J5FHMNjlFmI0"
      },
      "execution_count": 331,
      "outputs": []
    },
    {
      "cell_type": "code",
      "source": [
        "history = pro_advanced_model.fit([train.user_id, train.business_id, train_user_avg, train_restaurant_avg, train_restaurant_review_text], get_binary(train.rating), \n",
        "                        epochs=5, \n",
        "                        validation_data=([val.user_id, val.business_id, val_user_avg, val_restaurant_avg, val_restaurant_review_text], get_binary(val.rating)), \n",
        "                        verbose=1)"
      ],
      "metadata": {
        "colab": {
          "base_uri": "https://localhost:8080/"
        },
        "id": "aS1OoBCccBHF",
        "outputId": "f9d87a44-d283-4086-dc96-b80cd03b5678"
      },
      "execution_count": 335,
      "outputs": [
        {
          "output_type": "stream",
          "name": "stdout",
          "text": [
            "Epoch 1/5\n",
            "2720/2720 [==============================] - 58s 21ms/step - loss: 0.0751 - accuracy: 0.9743 - val_loss: 0.0498 - val_accuracy: 0.9806\n",
            "Epoch 2/5\n",
            "2720/2720 [==============================] - 58s 21ms/step - loss: 0.0452 - accuracy: 0.9833 - val_loss: 0.0632 - val_accuracy: 0.9770\n",
            "Epoch 3/5\n",
            "2720/2720 [==============================] - 59s 22ms/step - loss: 0.0130 - accuracy: 0.9951 - val_loss: 0.0929 - val_accuracy: 0.9699\n",
            "Epoch 4/5\n",
            "2720/2720 [==============================] - 57s 21ms/step - loss: 0.0030 - accuracy: 0.9990 - val_loss: 0.3501 - val_accuracy: 0.9028\n",
            "Epoch 5/5\n",
            "2720/2720 [==============================] - 57s 21ms/step - loss: 0.0013 - accuracy: 0.9996 - val_loss: 0.1629 - val_accuracy: 0.9681\n"
          ]
        }
      ]
    },
    {
      "cell_type": "code",
      "source": [
        "pro_advanced_model.evaluate([test.user_id, test.business_id, test_user_avg, test_restaurant_avg, test_restaurant_review_text], get_binary(test.rating))"
      ],
      "metadata": {
        "colab": {
          "base_uri": "https://localhost:8080/"
        },
        "id": "Ymd_z0aJcBBQ",
        "outputId": "d963fca8-3f03-4807-fb4d-60bcb82022a9"
      },
      "execution_count": 336,
      "outputs": [
        {
          "output_type": "stream",
          "name": "stdout",
          "text": [
            "345/345 [==============================] - 1s 3ms/step - loss: 0.1360 - accuracy: 0.9721\n"
          ]
        },
        {
          "output_type": "execute_result",
          "data": {
            "text/plain": [
              "[0.13601836562156677, 0.9721289277076721]"
            ]
          },
          "metadata": {},
          "execution_count": 336
        }
      ]
    },
    {
      "cell_type": "code",
      "source": [
        "pro_advanced_predictions = pro_advanced_model.predict([test.user_id, test.business_id, test_user_avg, test_restaurant_avg, test_restaurant_review_text])"
      ],
      "metadata": {
        "colab": {
          "base_uri": "https://localhost:8080/"
        },
        "id": "4inUVcLWSZmI",
        "outputId": "8cee90e7-d4b3-4aa9-d49c-11e7ffca49f9"
      },
      "execution_count": 339,
      "outputs": [
        {
          "output_type": "stream",
          "name": "stdout",
          "text": [
            "345/345 [==============================] - 2s 4ms/step\n"
          ]
        }
      ]
    },
    {
      "cell_type": "code",
      "source": [
        "[print('Pred: {} - GT: {}'.format([0 if pro_advanced_predictions[i] < 0.5 else 1], get_binary(test.rating)[i])) for i in range(60, 80)]\n",
        "print('Done')"
      ],
      "metadata": {
        "colab": {
          "base_uri": "https://localhost:8080/"
        },
        "id": "GVgEvCqscAvR",
        "outputId": "04304f6a-161e-48d8-bf39-5479d6addd03"
      },
      "execution_count": 340,
      "outputs": [
        {
          "output_type": "stream",
          "name": "stdout",
          "text": [
            "Pred: [1] - GT: 1\n",
            "Pred: [1] - GT: 1\n",
            "Pred: [1] - GT: 1\n",
            "Pred: [1] - GT: 1\n",
            "Pred: [1] - GT: 1\n",
            "Pred: [1] - GT: 1\n",
            "Pred: [1] - GT: 1\n",
            "Pred: [1] - GT: 1\n",
            "Pred: [1] - GT: 1\n",
            "Pred: [0] - GT: 0\n",
            "Pred: [1] - GT: 1\n",
            "Pred: [1] - GT: 1\n",
            "Pred: [0] - GT: 0\n",
            "Pred: [1] - GT: 1\n",
            "Pred: [1] - GT: 0\n",
            "Pred: [1] - GT: 1\n",
            "Pred: [1] - GT: 1\n",
            "Pred: [1] - GT: 1\n",
            "Pred: [1] - GT: 1\n",
            "Pred: [1] - GT: 1\n",
            "Done\n"
          ]
        }
      ]
    },
    {
      "cell_type": "code",
      "source": [
        "pro_adv_preds = [0 if pro_advanced_predictions[i] < 0.5 else 1 for i in range(len(pro_advanced_predictions))]\n",
        "pro_adv_temp0 = []\n",
        "pro_adv_temp1 = []\n",
        "for i, ele in enumerate(get_binary(test.rating)):\n",
        "    if ele == 0:\n",
        "        pro_adv_temp0.append(pro_adv_preds[i])\n",
        "    else:\n",
        "        pro_adv_temp1.append(pro_adv_preds[i])"
      ],
      "metadata": {
        "id": "4ci3xDBkhfN5"
      },
      "execution_count": 390,
      "outputs": []
    },
    {
      "cell_type": "code",
      "source": [
        "with plt.style.context('seaborn'):\n",
        "    plt.figure(figsize=(8, 5))\n",
        "    plt.hist(pro_adv_temp0)\n",
        "    plt.title('If the GT is 0, then how many true prediction had the model?')\n",
        "    plt.show()\n",
        "\n",
        "with plt.style.context('seaborn'):\n",
        "    plt.figure(figsize=(8, 5))\n",
        "    plt.hist(pro_adv_temp1, color='green')\n",
        "    plt.title('If the GT is 1, then how many true prediction had the model?')\n",
        "    plt.show()"
      ],
      "metadata": {
        "id": "vYe88Mp5CiQl",
        "colab": {
          "base_uri": "https://localhost:8080/",
          "height": 653
        },
        "outputId": "e9ea2419-a113-475f-f47c-fd1230ceae61"
      },
      "execution_count": 392,
      "outputs": [
        {
          "output_type": "display_data",
          "data": {
            "text/plain": [
              "<Figure size 576x360 with 1 Axes>"
            ],
            "image/png": "[encoded data removed]"
          },
          "metadata": {}
        },
        {
          "output_type": "display_data",
          "data": {
            "text/plain": [
              "<Figure size 576x360 with 1 Axes>"
            ],
            "image/png": "[encoded data removed]"
          },
          "metadata": {}
        }
      ]
    },
    {
      "cell_type": "code",
      "source": [],
      "metadata": {
        "id": "PI55uQCyaKDa"
      },
      "execution_count": null,
      "outputs": []
    },
    {
      "cell_type": "code",
      "source": [
        "print('# of corroct prediction: {} out of {}'.format(pro_adv_temp0.count(0) + pro_adv_temp1.count(1), len(test)))"
      ],
      "metadata": {
        "colab": {
          "base_uri": "https://localhost:8080/"
        },
        "id": "jYIjQhW0TZ8n",
        "outputId": "4114a2fb-6151-4055-e88e-e809bf39d55e"
      },
      "execution_count": 407,
      "outputs": [
        {
          "output_type": "stream",
          "name": "stdout",
          "text": [
            "# of corroct prediction: 10708 out of 11015\n"
          ]
        }
      ]
    },
    {
      "cell_type": "markdown",
      "source": [
        "WOW ))"
      ],
      "metadata": {
        "id": "iNr-wxR3aOEV"
      }
    },
    {
      "cell_type": "code",
      "source": [],
      "metadata": {
        "id": "nga0qyG4aKqa"
      },
      "execution_count": null,
      "outputs": []
    },
    {
      "cell_type": "code",
      "source": [
        "evaluator(model=pro_advanced_model, dataset=test_includes_2, kind='pro_advanced', k=2)"
      ],
      "metadata": {
        "colab": {
          "base_uri": "https://localhost:8080/"
        },
        "id": "Vxc5v1CsTZ6v",
        "outputId": "277745ae-f9e6-4675-a8fa-cbaf48a6e56d"
      },
      "execution_count": 385,
      "outputs": [
        {
          "output_type": "stream",
          "name": "stdout",
          "text": [
            "345/345 [==============================] - 1s 3ms/step\n",
            "Precision at 5:  0.98\n",
            "Recall    at 5:  0.98\n"
          ]
        }
      ]
    },
    {
      "cell_type": "code",
      "source": [
        "evaluator(model=pro_advanced_model, dataset=test_includes_3, kind='pro_advanced', k=3)"
      ],
      "metadata": {
        "colab": {
          "base_uri": "https://localhost:8080/"
        },
        "id": "D9q7r7BLTZ4h",
        "outputId": "e5a16952-e7b3-4994-ecfd-16b0bc39cb84"
      },
      "execution_count": 386,
      "outputs": [
        {
          "output_type": "stream",
          "name": "stdout",
          "text": [
            "204/204 [==============================] - 1s 3ms/step\n",
            "Precision at 5:  0.98\n",
            "Recall    at 5:  0.99\n"
          ]
        }
      ]
    },
    {
      "cell_type": "code",
      "source": [
        "evaluator(model=pro_advanced_model, dataset=test_includes_4, kind='pro_advanced', k=4)"
      ],
      "metadata": {
        "colab": {
          "base_uri": "https://localhost:8080/"
        },
        "id": "dJg61dlzTZ2z",
        "outputId": "b52cf85d-f8e2-4892-e8f6-0688b0760b25"
      },
      "execution_count": 387,
      "outputs": [
        {
          "output_type": "stream",
          "name": "stdout",
          "text": [
            "139/139 [==============================] - 0s 3ms/step\n",
            "Precision at 5:  0.98\n",
            "Recall    at 5:  0.99\n"
          ]
        }
      ]
    },
    {
      "cell_type": "code",
      "source": [
        "evaluator(model=pro_advanced_model, dataset=test_includes_5, kind='pro_advanced', k=5)"
      ],
      "metadata": {
        "colab": {
          "base_uri": "https://localhost:8080/"
        },
        "id": "EyFIYci-TZsH",
        "outputId": "c0e0c112-16ac-40bd-f49c-d5093ec32f6f"
      },
      "execution_count": 388,
      "outputs": [
        {
          "output_type": "stream",
          "name": "stdout",
          "text": [
            "100/100 [==============================] - 1s 5ms/step\n",
            "Precision at 5:  0.98\n",
            "Recall    at 5:  0.99\n"
          ]
        }
      ]
    },
    {
      "cell_type": "code",
      "source": [
        "evaluator(model=pro_advanced_model, dataset=test_more_than_5, kind='pro_advanced', k=5)"
      ],
      "metadata": {
        "colab": {
          "base_uri": "https://localhost:8080/"
        },
        "id": "SvHQAQ_7TZgy",
        "outputId": "b65ae7ea-580d-4c06-b5d9-d4b0b10ff51c"
      },
      "execution_count": 389,
      "outputs": [
        {
          "output_type": "stream",
          "name": "stdout",
          "text": [
            "72/72 [==============================] - 0s 3ms/step\n",
            "Precision at 5:  0.99\n",
            "Recall    at 5:  0.99\n"
          ]
        }
      ]
    },
    {
      "cell_type": "code",
      "source": [],
      "metadata": {
        "id": "mW2Li5fETZcv"
      },
      "execution_count": null,
      "outputs": []
    },
    {
      "cell_type": "markdown",
      "source": [
        "# Finito"
      ],
      "metadata": {
        "id": "yhZLAhGvLdRJ"
      }
    }
  ]
}