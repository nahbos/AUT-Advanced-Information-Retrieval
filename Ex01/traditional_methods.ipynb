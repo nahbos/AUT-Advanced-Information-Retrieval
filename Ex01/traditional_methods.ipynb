{
  "nbformat": 4,
  "nbformat_minor": 0,
  "metadata": {
    "colab": {
      "provenance": [],
      "toc_visible": true,
      "authorship_tag": "ABX9TyP4sHYCJCZFItEV3MuYv+JC",
      "include_colab_link": true
    },
    "kernelspec": {
      "name": "python3",
      "display_name": "Python 3"
    },
    "language_info": {
      "name": "python"
    }
  },
  "cells": [
    {
      "cell_type": "markdown",
      "metadata": {
        "id": "view-in-github",
        "colab_type": "text"
      },
      "source": [
        "<a href=\"https://colab.research.google.com/github/nahbos/AUT-Advanced-Information-Retrieval/blob/main/Ex01/traditional_methods.ipynb\" target=\"_parent\"><img src=\"https://colab.research.google.com/assets/colab-badge.svg\" alt=\"Open In Colab\"/></a>"
      ]
    },
    {
      "cell_type": "markdown",
      "source": [
        "## Sobhan Moradian Daghigh\n",
        "\n",
        "- 11-22-2022\n",
        "\n",
        "### Ex-01: Traditional methods (WarmUp)"
      ],
      "metadata": {
        "id": "YU-Gx1EmJAA6"
      }
    },
    {
      "cell_type": "code",
      "execution_count": 90,
      "metadata": {
        "id": "8nmKYHAuI4mA"
      },
      "outputs": [],
      "source": [
        "import numpy as np\n",
        "import pandas as pd\n",
        "import scipy\n",
        "import re\n",
        "from gensim.models import TfidfModel\n",
        "from gensim.corpora import Dictionary\n",
        "from gensim.utils import simple_preprocess\n",
        "from gensim.parsing.preprocessing import remove_stopwords\n",
        "from sklearn.feature_extraction.text import TfidfVectorizer\n",
        "from sklearn.metrics.pairwise import cosine_similarity\n",
        "from bs4 import BeautifulSoup\n",
        "from collections import Counter\n",
        "import random\n",
        "import pickle\n",
        "from tqdm import tqdm\n",
        "from PIL import Image"
      ]
    },
    {
      "cell_type": "code",
      "source": [
        "!wget -nc https://raw.githubusercontent.com/nahbos/Advanced-Information-Retrieval/main/Ex01/Data/train_data.csv\n",
        "!wget -nc https://raw.githubusercontent.com/nahbos/Advanced-Information-Retrieval/main/Ex01/Data/valid_data.csv\n",
        "!wget -nc https://raw.githubusercontent.com/nahbos/Advanced-Information-Retrieval/main/Ex01/Data/test_data.csv\n",
        "!wget -nc https://raw.githubusercontent.com/nahbos/Advanced-Information-Retrieval/main/Ex01/Data/bigram_LM.png\n",
        "!wget -nc https://raw.githubusercontent.com/nahbos/Advanced-Information-Retrieval/main/Ex01/Data/diricklet_smoothing_LM.png"
      ],
      "metadata": {
        "colab": {
          "base_uri": "https://localhost:8080/"
        },
        "id": "mLtmo5l-I--m",
        "outputId": "0792cda8-9e75-4078-dbd2-e56ec4759a8c"
      },
      "execution_count": 91,
      "outputs": [
        {
          "output_type": "stream",
          "name": "stdout",
          "text": [
            "File ‘train_data.csv’ already there; not retrieving.\n",
            "\n",
            "File ‘valid_data.csv’ already there; not retrieving.\n",
            "\n",
            "File ‘test_data.csv’ already there; not retrieving.\n",
            "\n",
            "File ‘bigram_LM.png’ already there; not retrieving.\n",
            "\n",
            "File ‘diricklet_smoothing_LM.png’ already there; not retrieving.\n",
            "\n"
          ]
        }
      ]
    },
    {
      "cell_type": "markdown",
      "source": [
        "# Part One. \n",
        "* Data Loading"
      ],
      "metadata": {
        "id": "qWCubj1TKn22"
      }
    },
    {
      "cell_type": "code",
      "source": [
        "train = pd.read_csv('./train_data.csv')\n",
        "val   = pd.read_csv('./valid_data.csv')\n",
        "test  = pd.read_csv('./test_data.csv')"
      ],
      "metadata": {
        "id": "tqkonR1KI-76"
      },
      "execution_count": 92,
      "outputs": []
    },
    {
      "cell_type": "code",
      "source": [
        "train.head()"
      ],
      "metadata": {
        "colab": {
          "base_uri": "https://localhost:8080/",
          "height": 206
        },
        "id": "-3CiMaZkI-5J",
        "outputId": "9db5168d-da6e-4dcb-ed29-356d8ac28f00"
      },
      "execution_count": 93,
      "outputs": [
        {
          "output_type": "execute_result",
          "data": {
            "text/plain": [
              "   id  qid1  qid2                                          question1  \\\n",
              "0  14    29    30  What are the laws to change your status from a...   \n",
              "1  18    37    38  Why are so many Quora users posting questions ...   \n",
              "2  38    77    78                        How do we prepare for UPSC?   \n",
              "3  58   117   118  I was suddenly logged off Gmail. I can't remem...   \n",
              "4  60   121   122  How do I download content from a kickass torre...   \n",
              "\n",
              "                                           question2  is_duplicate  \n",
              "0  What are the laws to change your status from a...             0  \n",
              "1  Why do people ask Quora questions which can be...             1  \n",
              "2                How do I prepare for civil service?             1  \n",
              "3  I can't remember my Gmail password or my recov...             1  \n",
              "4                   Is Kickass Torrents trustworthy?             0  "
            ],
            "text/html": [
              "\n",
              "  <div id=\"df-74c0b8d7-370f-488a-a552-d96864ab6aeb\">\n",
              "    <div class=\"colab-df-container\">\n",
              "      <div>\n",
              "<style scoped>\n",
              "    .dataframe tbody tr th:only-of-type {\n",
              "        vertical-align: middle;\n",
              "    }\n",
              "\n",
              "    .dataframe tbody tr th {\n",
              "        vertical-align: top;\n",
              "    }\n",
              "\n",
              "    .dataframe thead th {\n",
              "        text-align: right;\n",
              "    }\n",
              "</style>\n",
              "<table border=\"1\" class=\"dataframe\">\n",
              "  <thead>\n",
              "    <tr style=\"text-align: right;\">\n",
              "      <th></th>\n",
              "      <th>id</th>\n",
              "      <th>qid1</th>\n",
              "      <th>qid2</th>\n",
              "      <th>question1</th>\n",
              "      <th>question2</th>\n",
              "      <th>is_duplicate</th>\n",
              "    </tr>\n",
              "  </thead>\n",
              "  <tbody>\n",
              "    <tr>\n",
              "      <th>0</th>\n",
              "      <td>14</td>\n",
              "      <td>29</td>\n",
              "      <td>30</td>\n",
              "      <td>What are the laws to change your status from a...</td>\n",
              "      <td>What are the laws to change your status from a...</td>\n",
              "      <td>0</td>\n",
              "    </tr>\n",
              "    <tr>\n",
              "      <th>1</th>\n",
              "      <td>18</td>\n",
              "      <td>37</td>\n",
              "      <td>38</td>\n",
              "      <td>Why are so many Quora users posting questions ...</td>\n",
              "      <td>Why do people ask Quora questions which can be...</td>\n",
              "      <td>1</td>\n",
              "    </tr>\n",
              "    <tr>\n",
              "      <th>2</th>\n",
              "      <td>38</td>\n",
              "      <td>77</td>\n",
              "      <td>78</td>\n",
              "      <td>How do we prepare for UPSC?</td>\n",
              "      <td>How do I prepare for civil service?</td>\n",
              "      <td>1</td>\n",
              "    </tr>\n",
              "    <tr>\n",
              "      <th>3</th>\n",
              "      <td>58</td>\n",
              "      <td>117</td>\n",
              "      <td>118</td>\n",
              "      <td>I was suddenly logged off Gmail. I can't remem...</td>\n",
              "      <td>I can't remember my Gmail password or my recov...</td>\n",
              "      <td>1</td>\n",
              "    </tr>\n",
              "    <tr>\n",
              "      <th>4</th>\n",
              "      <td>60</td>\n",
              "      <td>121</td>\n",
              "      <td>122</td>\n",
              "      <td>How do I download content from a kickass torre...</td>\n",
              "      <td>Is Kickass Torrents trustworthy?</td>\n",
              "      <td>0</td>\n",
              "    </tr>\n",
              "  </tbody>\n",
              "</table>\n",
              "</div>\n",
              "      <button class=\"colab-df-convert\" onclick=\"convertToInteractive('df-74c0b8d7-370f-488a-a552-d96864ab6aeb')\"\n",
              "              title=\"Convert this dataframe to an interactive table.\"\n",
              "              style=\"display:none;\">\n",
              "        \n",
              "  <svg xmlns=\"http://www.w3.org/2000/svg\" height=\"24px\"viewBox=\"0 0 24 24\"\n",
              "       width=\"24px\">\n",
              "    <path d=\"M0 0h24v24H0V0z\" fill=\"none\"/>\n",
              "    <path d=\"M18.56 5.44l.94 2.06.94-2.06 2.06-.94-2.06-.94-.94-2.06-.94 2.06-2.06.94zm-11 1L8.5 8.5l.94-2.06 2.06-.94-2.06-.94L8.5 2.5l-.94 2.06-2.06.94zm10 10l.94 2.06.94-2.06 2.06-.94-2.06-.94-.94-2.06-.94 2.06-2.06.94z\"/><path d=\"M17.41 7.96l-1.37-1.37c-.4-.4-.92-.59-1.43-.59-.52 0-1.04.2-1.43.59L10.3 9.45l-7.72 7.72c-.78.78-.78 2.05 0 2.83L4 21.41c.39.39.9.59 1.41.59.51 0 1.02-.2 1.41-.59l7.78-7.78 2.81-2.81c.8-.78.8-2.07 0-2.86zM5.41 20L4 18.59l7.72-7.72 1.47 1.35L5.41 20z\"/>\n",
              "  </svg>\n",
              "      </button>\n",
              "      \n",
              "  <style>\n",
              "    .colab-df-container {\n",
              "      display:flex;\n",
              "      flex-wrap:wrap;\n",
              "      gap: 12px;\n",
              "    }\n",
              "\n",
              "    .colab-df-convert {\n",
              "      background-color: #E8F0FE;\n",
              "      border: none;\n",
              "      border-radius: 50%;\n",
              "      cursor: pointer;\n",
              "      display: none;\n",
              "      fill: #1967D2;\n",
              "      height: 32px;\n",
              "      padding: 0 0 0 0;\n",
              "      width: 32px;\n",
              "    }\n",
              "\n",
              "    .colab-df-convert:hover {\n",
              "      background-color: #E2EBFA;\n",
              "      box-shadow: 0px 1px 2px rgba(60, 64, 67, 0.3), 0px 1px 3px 1px rgba(60, 64, 67, 0.15);\n",
              "      fill: #174EA6;\n",
              "    }\n",
              "\n",
              "    [theme=dark] .colab-df-convert {\n",
              "      background-color: #3B4455;\n",
              "      fill: #D2E3FC;\n",
              "    }\n",
              "\n",
              "    [theme=dark] .colab-df-convert:hover {\n",
              "      background-color: #434B5C;\n",
              "      box-shadow: 0px 1px 3px 1px rgba(0, 0, 0, 0.15);\n",
              "      filter: drop-shadow(0px 1px 2px rgba(0, 0, 0, 0.3));\n",
              "      fill: #FFFFFF;\n",
              "    }\n",
              "  </style>\n",
              "\n",
              "      <script>\n",
              "        const buttonEl =\n",
              "          document.querySelector('#df-74c0b8d7-370f-488a-a552-d96864ab6aeb button.colab-df-convert');\n",
              "        buttonEl.style.display =\n",
              "          google.colab.kernel.accessAllowed ? 'block' : 'none';\n",
              "\n",
              "        async function convertToInteractive(key) {\n",
              "          const element = document.querySelector('#df-74c0b8d7-370f-488a-a552-d96864ab6aeb');\n",
              "          const dataTable =\n",
              "            await google.colab.kernel.invokeFunction('convertToInteractive',\n",
              "                                                     [key], {});\n",
              "          if (!dataTable) return;\n",
              "\n",
              "          const docLinkHtml = 'Like what you see? Visit the ' +\n",
              "            '<a target=\"_blank\" href=https://colab.research.google.com/notebooks/data_table.ipynb>data table notebook</a>'\n",
              "            + ' to learn more about interactive tables.';\n",
              "          element.innerHTML = '';\n",
              "          dataTable['output_type'] = 'display_data';\n",
              "          await google.colab.output.renderOutput(dataTable, element);\n",
              "          const docLink = document.createElement('div');\n",
              "          docLink.innerHTML = docLinkHtml;\n",
              "          element.appendChild(docLink);\n",
              "        }\n",
              "      </script>\n",
              "    </div>\n",
              "  </div>\n",
              "  "
            ]
          },
          "metadata": {},
          "execution_count": 93
        }
      ]
    },
    {
      "cell_type": "code",
      "source": [
        "train.info()"
      ],
      "metadata": {
        "colab": {
          "base_uri": "https://localhost:8080/"
        },
        "id": "ww7bis29I-2h",
        "outputId": "3b585e20-6782-4392-bdaa-ef61db75dcd5"
      },
      "execution_count": 94,
      "outputs": [
        {
          "output_type": "stream",
          "name": "stdout",
          "text": [
            "<class 'pandas.core.frame.DataFrame'>\n",
            "RangeIndex: 37250 entries, 0 to 37249\n",
            "Data columns (total 6 columns):\n",
            " #   Column        Non-Null Count  Dtype \n",
            "---  ------        --------------  ----- \n",
            " 0   id            37250 non-null  int64 \n",
            " 1   qid1          37250 non-null  int64 \n",
            " 2   qid2          37250 non-null  int64 \n",
            " 3   question1     37250 non-null  object\n",
            " 4   question2     37250 non-null  object\n",
            " 5   is_duplicate  37250 non-null  int64 \n",
            "dtypes: int64(4), object(2)\n",
            "memory usage: 1.7+ MB\n"
          ]
        }
      ]
    },
    {
      "cell_type": "code",
      "source": [
        "val.info()"
      ],
      "metadata": {
        "colab": {
          "base_uri": "https://localhost:8080/"
        },
        "id": "En5i5KNJI-zu",
        "outputId": "0084be2f-8125-406d-dc86-fad8e12cb8e3"
      },
      "execution_count": 95,
      "outputs": [
        {
          "output_type": "stream",
          "name": "stdout",
          "text": [
            "<class 'pandas.core.frame.DataFrame'>\n",
            "RangeIndex: 1010 entries, 0 to 1009\n",
            "Data columns (total 6 columns):\n",
            " #   Column        Non-Null Count  Dtype \n",
            "---  ------        --------------  ----- \n",
            " 0   id            1010 non-null   int64 \n",
            " 1   qid1          1010 non-null   int64 \n",
            " 2   qid2          1010 non-null   int64 \n",
            " 3   question1     1010 non-null   object\n",
            " 4   question2     1010 non-null   object\n",
            " 5   is_duplicate  1010 non-null   int64 \n",
            "dtypes: int64(4), object(2)\n",
            "memory usage: 47.5+ KB\n"
          ]
        }
      ]
    },
    {
      "cell_type": "code",
      "source": [
        "test.info()"
      ],
      "metadata": {
        "colab": {
          "base_uri": "https://localhost:8080/"
        },
        "id": "HjNAgw3ZOKUo",
        "outputId": "35744769-5dda-48e6-a0d6-16e2a006611a"
      },
      "execution_count": 96,
      "outputs": [
        {
          "output_type": "stream",
          "name": "stdout",
          "text": [
            "<class 'pandas.core.frame.DataFrame'>\n",
            "RangeIndex: 980 entries, 0 to 979\n",
            "Data columns (total 6 columns):\n",
            " #   Column        Non-Null Count  Dtype \n",
            "---  ------        --------------  ----- \n",
            " 0   id            980 non-null    int64 \n",
            " 1   qid1          980 non-null    int64 \n",
            " 2   qid2          980 non-null    int64 \n",
            " 3   question1     980 non-null    object\n",
            " 4   question2     980 non-null    object\n",
            " 5   is_duplicate  980 non-null    int64 \n",
            "dtypes: int64(4), object(2)\n",
            "memory usage: 46.1+ KB\n"
          ]
        }
      ]
    },
    {
      "cell_type": "code",
      "source": [],
      "metadata": {
        "id": "jO9P0RZBOKQS"
      },
      "execution_count": 96,
      "outputs": []
    },
    {
      "cell_type": "markdown",
      "source": [
        "## Preprocess"
      ],
      "metadata": {
        "id": "nvVth-FOiNWa"
      }
    },
    {
      "cell_type": "code",
      "source": [
        "def preprocess(q):\n",
        "    \n",
        "    q = str(q).lower().strip()\n",
        "    \n",
        "    # Replace certain special characters with their string equivalents\n",
        "    q = q.replace('%', ' percent')\n",
        "    q = q.replace('$', ' dollar ')\n",
        "    q = q.replace('₹', ' rupee ')\n",
        "    q = q.replace('€', ' euro ')\n",
        "    q = q.replace('@', ' at ')\n",
        "    \n",
        "    # The pattern '[math]' appears around 900 times in the whole dataset.\n",
        "    q = q.replace('[math]', '')\n",
        "    \n",
        "    # Replacing some numbers with string equivalents (not perfect, can be done better to account for more cases)\n",
        "    q = q.replace(',000,000,000 ', 'b ')\n",
        "    q = q.replace(',000,000 ', 'm ')\n",
        "    q = q.replace(',000 ', 'k ')\n",
        "    q = re.sub(r'([0-9]+)000000000', r'\\1b', q)\n",
        "    q = re.sub(r'([0-9]+)000000', r'\\1m', q)\n",
        "    q = re.sub(r'([0-9]+)000', r'\\1k', q)\n",
        "    \n",
        "    # Decontracting words\n",
        "    # https://en.wikipedia.org/wiki/Wikipedia%3aList_of_English_contractions\n",
        "    # https://stackoverflow.com/a/19794953\n",
        "\n",
        "    contractions = { \n",
        "    \"ain't\": \"am not\",\n",
        "    \"aren't\": \"are not\",\n",
        "    \"can't\": \"can not\",\n",
        "    \"can't've\": \"can not have\",\n",
        "    \"'cause\": \"because\",\n",
        "    \"could've\": \"could have\",\n",
        "    \"couldn't\": \"could not\",\n",
        "    \"couldn't've\": \"could not have\",\n",
        "    \"didn't\": \"did not\",\n",
        "    \"doesn't\": \"does not\",\n",
        "    \"don't\": \"do not\",\n",
        "    \"hadn't\": \"had not\",\n",
        "    \"hadn't've\": \"had not have\",\n",
        "    \"hasn't\": \"has not\",\n",
        "    \"haven't\": \"have not\",\n",
        "    \"he'd\": \"he would\",\n",
        "    \"he'd've\": \"he would have\",\n",
        "    \"he'll\": \"he will\",\n",
        "    \"he'll've\": \"he will have\",\n",
        "    \"he's\": \"he is\",\n",
        "    \"how'd\": \"how did\",\n",
        "    \"how'd'y\": \"how do you\",\n",
        "    \"how'll\": \"how will\",\n",
        "    \"how's\": \"how is\",\n",
        "    \"i'd\": \"i would\",\n",
        "    \"i'd've\": \"i would have\",\n",
        "    \"i'll\": \"i will\",\n",
        "    \"i'll've\": \"i will have\",\n",
        "    \"i'm\": \"i am\",\n",
        "    \"i've\": \"i have\",\n",
        "    \"isn't\": \"is not\",\n",
        "    \"it'd\": \"it would\",\n",
        "    \"it'd've\": \"it would have\",\n",
        "    \"it'll\": \"it will\",\n",
        "    \"it'll've\": \"it will have\",\n",
        "    \"it's\": \"it is\",\n",
        "    \"let's\": \"let us\",\n",
        "    \"ma'am\": \"madam\",\n",
        "    \"mayn't\": \"may not\",\n",
        "    \"might've\": \"might have\",\n",
        "    \"mightn't\": \"might not\",\n",
        "    \"mightn't've\": \"might not have\",\n",
        "    \"must've\": \"must have\",\n",
        "    \"mustn't\": \"must not\",\n",
        "    \"mustn't've\": \"must not have\",\n",
        "    \"needn't\": \"need not\",\n",
        "    \"needn't've\": \"need not have\",\n",
        "    \"o'clock\": \"of the clock\",\n",
        "    \"oughtn't\": \"ought not\",\n",
        "    \"oughtn't've\": \"ought not have\",\n",
        "    \"shan't\": \"shall not\",\n",
        "    \"sha'n't\": \"shall not\",\n",
        "    \"shan't've\": \"shall not have\",\n",
        "    \"she'd\": \"she would\",\n",
        "    \"she'd've\": \"she would have\",\n",
        "    \"she'll\": \"she will\",\n",
        "    \"she'll've\": \"she will have\",\n",
        "    \"she's\": \"she is\",\n",
        "    \"should've\": \"should have\",\n",
        "    \"shouldn't\": \"should not\",\n",
        "    \"shouldn't've\": \"should not have\",\n",
        "    \"so've\": \"so have\",\n",
        "    \"so's\": \"so as\",\n",
        "    \"that'd\": \"that would\",\n",
        "    \"that'd've\": \"that would have\",\n",
        "    \"that's\": \"that is\",\n",
        "    \"there'd\": \"there would\",\n",
        "    \"there'd've\": \"there would have\",\n",
        "    \"there's\": \"there is\",\n",
        "    \"they'd\": \"they would\",\n",
        "    \"they'd've\": \"they would have\",\n",
        "    \"they'll\": \"they will\",\n",
        "    \"they'll've\": \"they will have\",\n",
        "    \"they're\": \"they are\",\n",
        "    \"they've\": \"they have\",\n",
        "    \"to've\": \"to have\",\n",
        "    \"wasn't\": \"was not\",\n",
        "    \"we'd\": \"we would\",\n",
        "    \"we'd've\": \"we would have\",\n",
        "    \"we'll\": \"we will\",\n",
        "    \"we'll've\": \"we will have\",\n",
        "    \"we're\": \"we are\",\n",
        "    \"we've\": \"we have\",\n",
        "    \"weren't\": \"were not\",\n",
        "    \"what'll\": \"what will\",\n",
        "    \"what'll've\": \"what will have\",\n",
        "    \"what're\": \"what are\",\n",
        "    \"what's\": \"what is\",\n",
        "    \"what've\": \"what have\",\n",
        "    \"when's\": \"when is\",\n",
        "    \"when've\": \"when have\",\n",
        "    \"where'd\": \"where did\",\n",
        "    \"where's\": \"where is\",\n",
        "    \"where've\": \"where have\",\n",
        "    \"who'll\": \"who will\",\n",
        "    \"who'll've\": \"who will have\",\n",
        "    \"who's\": \"who is\",\n",
        "    \"who've\": \"who have\",\n",
        "    \"why's\": \"why is\",\n",
        "    \"why've\": \"why have\",\n",
        "    \"will've\": \"will have\",\n",
        "    \"won't\": \"will not\",\n",
        "    \"won't've\": \"will not have\",\n",
        "    \"would've\": \"would have\",\n",
        "    \"wouldn't\": \"would not\",\n",
        "    \"wouldn't've\": \"would not have\",\n",
        "    \"y'all\": \"you all\",\n",
        "    \"y'all'd\": \"you all would\",\n",
        "    \"y'all'd've\": \"you all would have\",\n",
        "    \"y'all're\": \"you all are\",\n",
        "    \"y'all've\": \"you all have\",\n",
        "    \"you'd\": \"you would\",\n",
        "    \"you'd've\": \"you would have\",\n",
        "    \"you'll\": \"you will\",\n",
        "    \"you'll've\": \"you will have\",\n",
        "    \"you're\": \"you are\",\n",
        "    \"you've\": \"you have\"\n",
        "    }\n",
        "\n",
        "    q_decontracted = []\n",
        "\n",
        "    for word in q.split():\n",
        "        if word in contractions:\n",
        "            word = contractions[word]\n",
        "\n",
        "        q_decontracted.append(word)\n",
        "\n",
        "    q = ' '.join(q_decontracted)\n",
        "    q = q.replace(\"'ve\", \" have\")\n",
        "    q = q.replace(\"n't\", \" not\")\n",
        "    q = q.replace(\"'re\", \" are\")\n",
        "    q = q.replace(\"'ll\", \" will\")\n",
        "    \n",
        "    # Removing HTML tags\n",
        "    q = BeautifulSoup(q)\n",
        "    q = q.get_text()\n",
        "    \n",
        "    # Remove punctuations\n",
        "    pattern = re.compile('\\W')\n",
        "    q = re.sub(pattern, ' ', q).strip()\n",
        "\n",
        "    \n",
        "    return q"
      ],
      "metadata": {
        "id": "4RB0NicKiM0y"
      },
      "execution_count": 97,
      "outputs": []
    },
    {
      "cell_type": "code",
      "source": [
        "train_org = train.copy()\n",
        "train['question1'] = train['question1'].apply(preprocess)\n",
        "train['question2'] = train['question2'].apply(preprocess)\n",
        "\n",
        "val_org = val.copy()\n",
        "val['question1'] = val['question1'].apply(preprocess)\n",
        "val['question2'] = val['question2'].apply(preprocess)\n",
        "\n",
        "test_org = test.copy()\n",
        "test['question1'] = test['question1'].apply(preprocess)\n",
        "test['question2'] = test['question2'].apply(preprocess)"
      ],
      "metadata": {
        "id": "z0O0KYAdimCn"
      },
      "execution_count": 98,
      "outputs": []
    },
    {
      "cell_type": "code",
      "source": [],
      "metadata": {
        "id": "Dp_frQYWtbxd"
      },
      "execution_count": 98,
      "outputs": []
    },
    {
      "cell_type": "markdown",
      "source": [
        "**Ok, Everything looks right ))**"
      ],
      "metadata": {
        "id": "1MqSNvyKOOTJ"
      }
    },
    {
      "cell_type": "code",
      "source": [],
      "metadata": {
        "id": "2Bua8QINimAL"
      },
      "execution_count": 98,
      "outputs": []
    },
    {
      "cell_type": "markdown",
      "source": [
        "# Part Two.\n",
        "* Vector Space Retrieval"
      ],
      "metadata": {
        "id": "hv1Bf-OXK1a6"
      }
    },
    {
      "cell_type": "code",
      "source": [
        "dataset = train\n",
        "\n",
        "# Dictionary length\n",
        "#     - with    stop words: 9335\n",
        "#     - without stop words: 9284\n",
        "\n",
        "tokenized_qs = [simple_preprocess(remove_stopwords(q)) for q in dataset.loc[:, 'question2']]\n",
        "dct = Dictionary(tokenized_qs)  # fit dictionary\n",
        "corpus = [dct.doc2bow(tokenized_q) for tokenized_q in tokenized_qs]  # convert corpus to BoW format"
      ],
      "metadata": {
        "id": "Mu_II-1JI-xB"
      },
      "execution_count": 99,
      "outputs": []
    },
    {
      "cell_type": "code",
      "source": [
        "model = TfidfModel(corpus)        # fit model\n",
        "tfidf_vector = model[corpus]      # apply model to the all corpus document\n",
        "\n",
        "for question in tfidf_vector[:20]:\n",
        "   print([[dct[id], round(freq, 2)] for id, freq in question])"
      ],
      "metadata": {
        "colab": {
          "base_uri": "https://localhost:8080/"
        },
        "id": "A9YDwxPBI-rh",
        "outputId": "9fa17a0c-a3c9-4c18-fa36-35c978a2dc3f"
      },
      "execution_count": 100,
      "outputs": [
        {
          "output_type": "stream",
          "name": "stdout",
          "text": [
            "[['card', 0.24], ['change', 0.23], ['compare', 0.16], ['green', 0.24], ['immigration', 0.38], ['japan', 0.28], ['laws', 0.59], ['status', 0.29], ['student', 0.26], ['visa', 0.3]]\n",
            "[['answered', 0.51], ['ask', 0.38], ['easily', 0.42], ['google', 0.4], ['people', 0.28], ['questions', 0.33], ['quora', 0.26]]\n",
            "[['civil', 0.63], ['prepare', 0.5], ['service', 0.59]]\n",
            "[['email', 0.34], ['gmail', 0.33], ['mail', 0.43], ['password', 0.32], ['recover', 0.38], ['recovery', 0.4], ['remember', 0.42]]\n",
            "[['kickass', 0.55], ['torrents', 0.5], ['trustworthy', 0.67]]\n",
            "[['bad', 0.43], ['book', 0.36], ['new', 0.26], ['rowling', 0.79]]\n",
            "[['english', 0.37], ['fluently', 0.63], ['learn', 0.43], ['speak', 0.54]]\n",
            "[['actually', 0.55], ['life', 0.69], ['purpose', 0.47]]\n",
            "[['compare', 0.2], ['cambodia', 0.29], ['earthquake', 0.58], ['effects', 0.53], ['major', 0.26], ['valparaiso', 0.44]]\n",
            "[['india', 0.3], ['nuclear', 0.71], ['pakistan', 0.49], ['war', 0.41]]\n",
            "[['ask', 0.36], ['getting', 0.51], ['improve', 0.3], ['marked', 0.44], ['need', 0.45], ['question', 0.35]]\n",
            "[['questions', 0.44], ['quora', 0.35], ['answering', 0.83]]\n",
            "[['compare', 0.18], ['battle', 0.78], ['contrast', 0.26], ['riyadh', 0.4], ['significance', 0.26], ['somme', 0.26]]\n",
            "[['estate', 0.33], ['impact', 0.32], ['market', 0.34], ['notes', 0.18], ['real', 0.28], ['rupee', 0.66], ['scrapping', 0.36]]\n",
            "[['quora', 0.48], ['earn', 0.72], ['money', 0.5]]\n",
            "[['cancel', 0.37], ['got', 0.31], ['list', 0.27], ['railway', 0.43], ['refund', 0.36], ['reservation', 0.37], ['tatkal', 0.34], ['waiting', 0.36]]\n",
            "[['conserved', 0.31], ['created', 0.24], ['energy', 0.65], ['expanding', 0.29], ['infinite', 0.47], ['potential', 0.27], ['universe', 0.24]]\n",
            "[['book', 0.38], ['good', 0.31], ['publish', 0.69], ['ways', 0.31], ['write', 0.43]]\n",
            "[['gmail', 0.35], ['password', 0.34], ['recover', 0.4], ['remember', 0.45], ['account', 0.63]]\n",
            "[['cancel', 0.49], ['list', 0.36], ['tatkal', 0.45], ['waiting', 0.48], ['ticket', 0.44]]\n"
          ]
        }
      ]
    },
    {
      "cell_type": "code",
      "source": [],
      "metadata": {
        "id": "O8WSWAHn9lr6"
      },
      "execution_count": 100,
      "outputs": []
    },
    {
      "cell_type": "markdown",
      "source": [
        "**Since the Gensim dosent support for max_features, so for rest of the implementation, Im gonna use sklearn instead.**\n"
      ],
      "metadata": {
        "id": "LVnHASMu9hra"
      }
    },
    {
      "cell_type": "code",
      "source": [
        "tr_vectorizer = TfidfVectorizer(max_features=2000, stop_words='english')\n",
        "tfidf_matrix_train = tr_vectorizer.fit_transform(train.loc[:, 'question2'])\n",
        "print(tfidf_matrix_train.shape)"
      ],
      "metadata": {
        "colab": {
          "base_uri": "https://localhost:8080/"
        },
        "id": "pjqRUi8B8-hy",
        "outputId": "9928395b-7fa8-44f7-9ca7-4dd5236cf2db"
      },
      "execution_count": 101,
      "outputs": [
        {
          "output_type": "stream",
          "name": "stdout",
          "text": [
            "(37250, 2000)\n"
          ]
        }
      ]
    },
    {
      "cell_type": "code",
      "source": [
        "ts_vectorizer = TfidfVectorizer(vocabulary=tr_vectorizer.vocabulary_, stop_words='english')\n",
        "tfidf_matrix_test = ts_vectorizer.fit_transform(test.loc[:, 'question1'])\n",
        "print(tfidf_matrix_test.shape)"
      ],
      "metadata": {
        "colab": {
          "base_uri": "https://localhost:8080/"
        },
        "id": "2B24OQ1A_Tr7",
        "outputId": "6a0890ba-3c61-4881-d61a-d2ccc496f8d8"
      },
      "execution_count": 102,
      "outputs": [
        {
          "output_type": "stream",
          "name": "stdout",
          "text": [
            "(980, 2000)\n"
          ]
        }
      ]
    },
    {
      "cell_type": "code",
      "source": [
        "similarity = cosine_similarity(tfidf_matrix_test, tfidf_matrix_train)\n",
        "similarity.shape"
      ],
      "metadata": {
        "colab": {
          "base_uri": "https://localhost:8080/"
        },
        "id": "okKWNcNSgY6A",
        "outputId": "f189ded8-4892-4f35-bc6f-82817a1e5eb1"
      },
      "execution_count": 103,
      "outputs": [
        {
          "output_type": "execute_result",
          "data": {
            "text/plain": [
              "(980, 37250)"
            ]
          },
          "metadata": {},
          "execution_count": 103
        }
      ]
    },
    {
      "cell_type": "code",
      "source": [
        "def get_similar_questions(test_data, train_data, similarity_matrix, n_sim=10):\n",
        "    query_resullts = []\n",
        "    for i, test_q in enumerate(similarity_matrix):\n",
        "        check_duplicated_qs = []\n",
        "        bests = np.argsort(test_q.tolist())[::-1]\n",
        "        for best in bests:\n",
        "            q = train_org.loc[best, 'question2']\n",
        "            if q not in check_duplicated_qs:\n",
        "                check_duplicated_qs.append(q)\n",
        "                if len(check_duplicated_qs) == n_sim:\n",
        "                    query_resullts.append(check_duplicated_qs)\n",
        "                    break\n",
        "    return query_resullts"
      ],
      "metadata": {
        "id": "bdnT1Bm4idlW"
      },
      "execution_count": 210,
      "outputs": []
    },
    {
      "cell_type": "code",
      "source": [
        "random.seed(2)\n",
        "random_tests = random.sample(range(0, len(test)), 5)\n",
        "results = get_similar_questions(test, train, similarity)\n",
        "for i, ele in enumerate(results):\n",
        "    if i in random_tests:\n",
        "        print('\\n-', test_org.loc[i, 'question1'])\n",
        "        [print('  > ', q) for q in ele]"
      ],
      "metadata": {
        "colab": {
          "base_uri": "https://localhost:8080/"
        },
        "id": "0N7AqLEjVUOB",
        "outputId": "e505b0ff-5223-465d-99c4-c559742c667a"
      },
      "execution_count": 211,
      "outputs": [
        {
          "output_type": "stream",
          "name": "stdout",
          "text": [
            "\n",
            "- Who will win the election in united states?\n",
            "  >  Who will win the 2016 United States Presidential election: Trump or Clinton?\n",
            "  >  Who is the coolest First Lady of the United States?\n",
            "  >  Who will win the US election?\n",
            "  >  Who will win Uttar Pradesh election?\n",
            "  >  Who should be the next President of The United States?\n",
            "  >  Who do you think will win the U.S. election in November?\n",
            "  >  Who will win the US election in 2016?\n",
            "  >  Does the President of the United States have a food taster?\n",
            "  >  Who will win 2017 Uttar Pradesh Election and why?\n",
            "  >  Who will win up 2017 election?\n",
            "\n",
            "- How do I recover my Gmail account when it does not open after password reset?\n",
            "  >  How can I recover my Gmail account's password?\n",
            "  >  How do you recover your gmail account password?\n",
            "  >  How do I reset my Gmail account password?\n",
            "  >  How can I reset the password for my Gmail account?\n",
            "  >  How do I recover my Gmail password?\n",
            "  >  How can you recover your Gmail password?\n",
            "  >  How Can You Recover Your Gmail Password?\n",
            "  >  How do I reset my Gmail Password?\n",
            "  >  How do I reset a Gmail password?\n",
            "  >  How to reset password for gmail via sms?\n",
            "\n",
            "- Is it possible to stop masturbating?\n",
            "  >  How can I stop masturbating?\n",
            "  >  How should I stop masturbating?\n",
            "  >  How can one stop masturbating for good?\n",
            "  >  How should a guy stop masturbating?\n",
            "  >  How can I stop masturbations?\n",
            "  >  How can I stop being lazy?\n",
            "  >  How can I stop being lazy and useless?\n",
            "  >  How can one stop being a procrastinator?\n",
            "  >  How can I stop myself from leaning forward on a squat?\n",
            "  >  Is timetravel possible?\n",
            "\n",
            "- What does it take to be a top writer on Quora?\n",
            "  >  How does someone become a top writer in Quora (criteria)?\n",
            "  >  How can I become a Top Writer on Quora?\n",
            "  >  What should I do to become a top writer on Quora?\n",
            "  >  How do you become the top writer on Quora?\n",
            "  >  How does a Quora writer qualify as a Top Writer, and get those gifts?\n",
            "  >  How does one withdraw from Quora?\n",
            "  >  Why does Quora not have Emoji's?\n",
            "  >  How can I become a Top Question Writer on Quora?\n",
            "  >  What should I do to become a Top Writer on Quora in 2017?\n",
            "  >  What should a writer do for inspiration when they're experiencing writer's block?\n",
            "\n",
            "- How can I trace phone calls from a cell phone?\n",
            "  >  How do I trace a phone call?\n",
            "  >  How can I locate my cell phone with the phone number?\n",
            "  >  How can I find out who tapped into my phone?\n",
            "  >  How can I activate a Verizon phone with a call?\n",
            "  >  How do you activate a Verizon phone over the phone?\n",
            "  >  Is it possible to trace a scammers' phone call?\n",
            "  >  How can you hack a cell phone?\n",
            "  >  Is there a phone number I can call to see if my phone tapped?\n",
            "  >  How can we trace a phone call's origin or cellphone location?\n",
            "  >  What are the best pics clicked on a phone?\n"
          ]
        }
      ]
    },
    {
      "cell_type": "markdown",
      "source": [
        "# Part Three.\n",
        "* Language Model Retrieval"
      ],
      "metadata": {
        "id": "f3qd7s2cLGRq"
      }
    },
    {
      "cell_type": "markdown",
      "source": [
        "### Unigram"
      ],
      "metadata": {
        "id": "MU7T2YpEtgK7"
      }
    },
    {
      "cell_type": "code",
      "source": [
        "Image.open('./diricklet_smoothing_LM.png')"
      ],
      "metadata": {
        "colab": {
          "base_uri": "https://localhost:8080/",
          "height": 300
        },
        "id": "kt89UuonxnDz",
        "outputId": "1c6a1d3b-b476-4c23-d5a4-269334a0055e"
      },
      "execution_count": 106,
      "outputs": [
        {
          "output_type": "execute_result",
          "data": {
            "text/plain": [
              "<PIL.PngImagePlugin.PngImageFile image mode=RGB size=687x283 at 0x7F9ADBA7FD10>"
            ],
            "image/png": "[encoded data removed]"
          },
          "metadata": {},
          "execution_count": 106
        }
      ]
    },
    {
      "cell_type": "markdown",
      "source": [
        "That id equal to:\n",
        "\n",
        "(N / (N + mu)) * (TFw,D / |D|) + (mu / (N + mu)) * (CFw / |c|)\n"
      ],
      "metadata": {
        "id": "1O17rGzNHcJe"
      }
    },
    {
      "cell_type": "code",
      "source": [
        "def probability_word_given_doc(word, doc, collection, collection_length, collection_freq, mu=10):\n",
        "    doc_tf = doc.count(word)\n",
        "    document_length = max(len(doc.split()), 1)\n",
        "    collection_tf = int(collection_freq.get(word) or 0)\n",
        "\n",
        "    return np.add(np.multiply(np.divide(document_length, np.add(document_length, mu)), \n",
        "                              np.divide(doc_tf, document_length)), \n",
        "                  np.multiply(np.divide(mu, np.add(document_length, mu)), \n",
        "                              np.divide(collection_tf, collection_length)))"
      ],
      "metadata": {
        "id": "UYYd34JeyAoE"
      },
      "execution_count": 107,
      "outputs": []
    },
    {
      "cell_type": "code",
      "source": [
        "# Reduce the size of datasets by extracting the unique questions\n",
        "def extract_uniques(dataset, tokenized_dataset, col):\n",
        "    uniques = dataset.loc[:, col].unique()\n",
        "    tokenized_uniques = []\n",
        "    checked = []\n",
        "    for i, temp in enumerate(list(dataset.loc[:, col])):\n",
        "        if temp in uniques:\n",
        "            if temp not in checked:\n",
        "                checked.append(temp)\n",
        "                temp2 = tokenized_dataset.loc[:, col][i]\n",
        "                tokenized_uniques.append(temp2)\n",
        "    return tokenized_uniques"
      ],
      "metadata": {
        "id": "do7WNgn3zkLl"
      },
      "execution_count": 179,
      "outputs": []
    },
    {
      "cell_type": "code",
      "source": [
        "tokenized_uniques_train = extract_uniques(dataset=train_org, tokenized_dataset=train, col='question2')\n",
        "tokenized_uniques_val = extract_uniques(dataset=val_org, tokenized_dataset=val, col='question1')\n",
        "tokenized_uniques_test = extract_uniques(dataset=test_org, tokenized_dataset=test, col='question1')"
      ],
      "metadata": {
        "id": "tXPwOClJ3QcE"
      },
      "execution_count": 183,
      "outputs": []
    },
    {
      "cell_type": "code",
      "source": [
        "tokenized_qs_train = [simple_preprocess(remove_stopwords(q)) for q in tokenized_uniques_train]\n",
        "tokenized_qs_val   = [simple_preprocess(remove_stopwords(q)) for q in tokenized_uniques_val]\n",
        "\n",
        "collection = ' '.join(' '.join(ele) for ele in tokenized_qs_train)  # Stop words removed\n",
        "collection_freq = dict(Counter(collection.split()))\n",
        "collection_length = len(collection_freq)"
      ],
      "metadata": {
        "id": "LcJaHozY3mcy"
      },
      "execution_count": 185,
      "outputs": []
    },
    {
      "cell_type": "code",
      "source": [
        "def get_relevants(dataset, q1):\n",
        "    groups = dataset.groupby(by='question1')\n",
        "    for grp, pdf in groups:\n",
        "        if grp == q1:\n",
        "            return list(pdf.loc[:, 'question2'])"
      ],
      "metadata": {
        "id": "7min7AXmlP5c"
      },
      "execution_count": 187,
      "outputs": []
    },
    {
      "cell_type": "code",
      "source": [
        "for i, val_q in enumerate(tokenized_qs_val[:3]):\n",
        "    scores = []\n",
        "    for train_q in tqdm(tokenized_qs_train):\n",
        "        prob = 1\n",
        "        for token in val_q:\n",
        "            prob = np.multiply(prob, probability_word_given_doc(word=token, doc=' '.join(train_q), collection=collection, collection_length=collection_length, collection_freq=collection_freq))\n",
        "        scores.append(prob)\n",
        "\n",
        "    print('\\nValidation Q1: ', val_org.loc[:, 'question1'].unique()[i])\n",
        "    \n",
        "    relevant_qs = get_relevants(val_org, q1=val_org.loc[:, 'question1'].unique()[i])\n",
        "    print('Relevants    : ', )\n",
        "    [print('             > ', q) for q in relevant_qs]\n",
        "\n",
        "    print('Train Q2     :')\n",
        "    [print('             > ', q) for q in list(train_org.loc[:, 'question2'].unique()[np.argsort(scores)[::-1][:5]])]\n",
        "    print()"
      ],
      "metadata": {
        "colab": {
          "base_uri": "https://localhost:8080/"
        },
        "id": "zKxh_jLWctOt",
        "outputId": "d7a732d5-c0e6-40c2-e2ff-50cd438f046d"
      },
      "execution_count": 188,
      "outputs": [
        {
          "output_type": "stream",
          "name": "stderr",
          "text": [
            "100%|██████████| 16658/16658 [00:04<00:00, 3377.30it/s]\n"
          ]
        },
        {
          "output_type": "stream",
          "name": "stdout",
          "text": [
            "\n",
            "Validation Q1:  Realistically speaking, what would happen to the USA if Donald Trump wins Presidency in the 2016 elections?\n",
            "Relevants    : \n",
            "             >  Why is Donald Trump supported so much? What will happen if he wins the election?\n",
            "             >  If Donald Trump wins presidential election, what will happen?\n",
            "             >  What's going to happen to America if Donald Trump wins?\n",
            "             >  What will happen to America if Donald Trump wins the election?\n",
            "             >  What will happen to the superpower status of the USA, if Donald Trump wins the 2016 Presidential elections?\n",
            "             >  What will happen to the economy as a whole if Donald Trump wins the presidential election?\n",
            "             >  What will happen if Donald Trump gets elected?\n",
            "Train Q2     :\n",
            "             >  What will happen to the superpower status of the USA, if Donald Trump wins the 2016 Presidential elections?\n",
            "             >  If Donald Trump wins, what will happen?\n",
            "             >  How will India's relation with US be affected if Donald Trump wins the US elections?\n",
            "             >  What will happen if Donald Trump wins the election?\n",
            "             >  Is Donald Trump making campaign promises that he can't realistically keep?\n",
            "\n"
          ]
        },
        {
          "output_type": "stream",
          "name": "stderr",
          "text": [
            "100%|██████████| 16658/16658 [00:01<00:00, 14996.96it/s]\n"
          ]
        },
        {
          "output_type": "stream",
          "name": "stdout",
          "text": [
            "\n",
            "Validation Q1:  Does global warming exist?\n",
            "Relevants    : \n",
            "             >  Is the global warming climate change things for real or a hoax?\n",
            "             >  Is it possible that global warming is a hoax?\n",
            "             >  Is Global warming real or a hoax?\n",
            "             >  Is global warming a hoax?\n",
            "Train Q2     :\n",
            "             >  Was global warming replaced by climate change because they found there was no global warming?\n",
            "             >  Why don't we stop global warming?\n",
            "             >  Is global warming a hoax?\n",
            "             >  Can we stop global warming? Yeo/No? Why?\n",
            "             >  Is Global warming real or a hoax?\n",
            "\n"
          ]
        },
        {
          "output_type": "stream",
          "name": "stderr",
          "text": [
            "100%|██████████| 16658/16658 [00:01<00:00, 15176.31it/s]\n"
          ]
        },
        {
          "output_type": "stream",
          "name": "stdout",
          "text": [
            "\n",
            "Validation Q1:  How do I make India as corruption free?\n",
            "Relevants    : \n",
            "             >  What steps must Indians take to make India corruption free?\n",
            "             >  What if India becomes corruption free?\n",
            "             >  Can India be a corruption free country?\n",
            "             >  What steps can be taken to make Municipal Corporations more efficient and corruption free?\n",
            "Train Q2     :\n",
            "             >  What steps must Indians take to make India corruption free?\n",
            "             >  What if India becomes corruption free?\n",
            "             >  What I can do for corruption free India?\n",
            "             >  How will be corruption free India?\n",
            "             >  Can India be a corruption free country?\n",
            "\n"
          ]
        }
      ]
    },
    {
      "cell_type": "markdown",
      "source": [
        "## Bigram"
      ],
      "metadata": {
        "id": "KxG39kwetl6S"
      }
    },
    {
      "cell_type": "code",
      "source": [
        "Image.open('./bigram_LM.png')"
      ],
      "metadata": {
        "colab": {
          "base_uri": "https://localhost:8080/",
          "height": 246
        },
        "id": "V9CicIV0yPOa",
        "outputId": "ad7d6e4b-dca6-4231-9bfd-f683b60a4e69"
      },
      "execution_count": 33,
      "outputs": [
        {
          "output_type": "execute_result",
          "data": {
            "text/plain": [
              "<PIL.PngImagePlugin.PngImageFile image mode=RGB size=711x229 at 0x7F9ADA903C90>"
            ],
            "image/png": "[encoded data removed]"
          },
          "metadata": {},
          "execution_count": 33
        }
      ]
    },
    {
      "cell_type": "code",
      "source": [
        "def probability_bigram_word_given_doc(curr_word, last_word, doc, collection, collection_length, collection_freq, _lambda=100):\n",
        "    doc_tf = doc.count(curr_word + ' ' + last_word)\n",
        "    doc_tf_last_word = max(doc.count(last_word), 1)\n",
        "    prob_smoothed_unigram = probability_word_given_doc(word=curr_word, doc=doc, collection=collection, collection_length=collection_length, collection_freq=collection_freq, mu=100) # P(qi|D)\n",
        "\n",
        "    return np.add(np.multiply(_lambda, np.divide(doc_tf, doc_tf_last_word)), \n",
        "                  np.multiply((1 - _lambda), prob_smoothed_unigram))"
      ],
      "metadata": {
        "id": "d36k8cXUYLOJ"
      },
      "execution_count": 267,
      "outputs": []
    },
    {
      "cell_type": "code",
      "source": [
        "for i, val_q in enumerate(tokenized_qs_val[:7]):\n",
        "    scores = []\n",
        "    for train_q in tqdm(tokenized_qs_train):\n",
        "        prob = probability_word_given_doc(word=val_q[0], doc=' '.join(train_q), collection=collection, collection_length=collection_length, collection_freq=collection_freq, mu=100) # P(q1|D)\n",
        "        last_token = val_q[0]\n",
        "        for token in val_q[1:]:\n",
        "            temp = probability_bigram_word_given_doc(curr_word=token, last_word=last_token, doc=' '.join(train_q), collection=collection, collection_length=collection_length, collection_freq=collection_freq, _lambda=100)\n",
        "            prob = np.multiply(prob, temp)\n",
        "            last_token = token\n",
        "        scores.append(prob)\n",
        "\n",
        "    print('\\nValidation Q1: ', val_org.loc[:, 'question1'].unique()[i])\n",
        "    \n",
        "    relevant_qs = get_relevants(val_org, q1=val_org.loc[:, 'question1'].unique()[i])\n",
        "    print('Relevants    : ', )\n",
        "    [print('             > ', q) for q in relevant_qs]\n",
        "\n",
        "    print('Train        :')\n",
        "    [print('             > ', q) for q in list(train_org.loc[:, 'question2'].unique()[np.argsort(scores)[::-1][:5]])]\n",
        "    print()"
      ],
      "metadata": {
        "colab": {
          "base_uri": "https://localhost:8080/"
        },
        "id": "uOP5-ZyOyUGh",
        "outputId": "8f72f4c6-74f6-40f9-e2af-81532aea39c1"
      },
      "execution_count": 268,
      "outputs": [
        {
          "output_type": "stream",
          "name": "stderr",
          "text": [
            "100%|██████████| 16658/16658 [00:04<00:00, 3548.95it/s]\n"
          ]
        },
        {
          "output_type": "stream",
          "name": "stdout",
          "text": [
            "\n",
            "Validation Q1:  Realistically speaking, what would happen to the USA if Donald Trump wins Presidency in the 2016 elections?\n",
            "Relevants    : \n",
            "             >  Why is Donald Trump supported so much? What will happen if he wins the election?\n",
            "             >  If Donald Trump wins presidential election, what will happen?\n",
            "             >  What's going to happen to America if Donald Trump wins?\n",
            "             >  What will happen to America if Donald Trump wins the election?\n",
            "             >  What will happen to the superpower status of the USA, if Donald Trump wins the 2016 Presidential elections?\n",
            "             >  What will happen to the economy as a whole if Donald Trump wins the presidential election?\n",
            "             >  What will happen if Donald Trump gets elected?\n",
            "Train        :\n",
            "             >  What will happen to the superpower status of the USA, if Donald Trump wins the 2016 Presidential elections?\n",
            "             >  Is Donald Trump making campaign promises that he can't realistically keep?\n",
            "             >  How can I realistically make money online?\n",
            "             >  How will India's relation with US be affected if Donald Trump wins the US elections?\n",
            "             >  If Donald Trump wins, what will happen?\n",
            "\n"
          ]
        },
        {
          "output_type": "stream",
          "name": "stderr",
          "text": [
            "100%|██████████| 16658/16658 [00:01<00:00, 11799.37it/s]\n"
          ]
        },
        {
          "output_type": "stream",
          "name": "stdout",
          "text": [
            "\n",
            "Validation Q1:  Does global warming exist?\n",
            "Relevants    : \n",
            "             >  Is the global warming climate change things for real or a hoax?\n",
            "             >  Is it possible that global warming is a hoax?\n",
            "             >  Is Global warming real or a hoax?\n",
            "             >  Is global warming a hoax?\n",
            "Train        :\n",
            "             >  Was global warming replaced by climate change because they found there was no global warming?\n",
            "             >  Why don't we stop global warming?\n",
            "             >  Is global warming a hoax?\n",
            "             >  Can we stop global warming? Yeo/No? Why?\n",
            "             >  Is Global warming real or a hoax?\n",
            "\n"
          ]
        },
        {
          "output_type": "stream",
          "name": "stderr",
          "text": [
            "100%|██████████| 16658/16658 [00:01<00:00, 11640.45it/s]\n"
          ]
        },
        {
          "output_type": "stream",
          "name": "stdout",
          "text": [
            "\n",
            "Validation Q1:  How do I make India as corruption free?\n",
            "Relevants    : \n",
            "             >  What steps must Indians take to make India corruption free?\n",
            "             >  What if India becomes corruption free?\n",
            "             >  Can India be a corruption free country?\n",
            "             >  What steps can be taken to make Municipal Corporations more efficient and corruption free?\n",
            "Train        :\n",
            "             >  What steps must Indians take to make India corruption free?\n",
            "             >  How will be corruption free India?\n",
            "             >  What I can do for corruption free India?\n",
            "             >  What if India becomes corruption free?\n",
            "             >  Can India be a corruption free country?\n",
            "\n"
          ]
        },
        {
          "output_type": "stream",
          "name": "stderr",
          "text": [
            "100%|██████████| 16658/16658 [00:01<00:00, 8376.36it/s]\n"
          ]
        },
        {
          "output_type": "stream",
          "name": "stdout",
          "text": [
            "\n",
            "Validation Q1:  What is the one thing that you would like to do if you had an unlimited amount of money?\n",
            "Relevants    : \n",
            "             >  If you had an unlimited amount of money, what would you do with your life?\n",
            "             >  What would you do if you had an unlimited source of wealth?\n",
            "             >  What would you do if you had an unlimited amount of money? (No limits, so let your imagination run wild!)\n",
            "             >  What would you do with your life if you had an unlimited supply of friends and money?\n",
            "             >  If you had unlimited money and time, what would you do and why?\n",
            "Train        :\n",
            "             >  Foreign students pay more for an English university education. Why don't English universities help poor foreign students by halving fees and doubling the number of foreign students? And shouldn't a higher percentage of foreign students be non-white?\n",
            "             >  I have got fake currency notes from shop 2-3 times in India? Can I convert it to a good currency note in the bank? What can the government do to stop these notes? Will digital notes engineering solve this issue of fake currency notes circulating?\n",
            "             >  Why does Indian Rail(IR) convert confirmed tickets into wait-listed tickets after the chart preparation? How does IR decide the priority of the quota by skipping booked tickets? Are the Tatkal wait-listed accommodated on the priority?\n",
            "             >  Bill Cooke quotes Charles Bradlaugh, \"I know not what you mean by God...\"* as an alternative to \"God doesn't exist\" or \"I lack belief god(s) exist\". Would this be a more productive** approach for atheists to take in discussions with Christians (or believers in general) about God?\n",
            "             >  I am a 23-year-old girl working in a reputed IT company with a good salary package and easy work-life balance (8 months of work experience). But for the past 2-3 months I am feeling like I am not interested in IT. What options do I have for my career now (work field change/higher studies)?\n",
            "\n"
          ]
        },
        {
          "output_type": "stream",
          "name": "stderr",
          "text": [
            "100%|██████████| 16658/16658 [00:01<00:00, 8394.40it/s]\n"
          ]
        },
        {
          "output_type": "stream",
          "name": "stdout",
          "text": [
            "\n",
            "Validation Q1:  How do I stop my addiction to porn and masturbation?\n",
            "Relevants    : \n",
            "             >  How do I stop addiction to porn?\n",
            "             >  How can I stop my porn addiction?\n",
            "             >  How can I drop porn and masturbation?\n",
            "Train        :\n",
            "             >  Will masturbation without porn help me to overcome my addiction to porn, or is it better not to masturbate at all?\n",
            "             >  How can I stop my porn addiction?\n",
            "             >  How do I get over my porn addiction?\n",
            "             >  How do I get rid off from porn addiction?\n",
            "             >  How did you overcome porn addiction?\n",
            "\n"
          ]
        },
        {
          "output_type": "stream",
          "name": "stderr",
          "text": [
            "100%|██████████| 16658/16658 [00:05<00:00, 3211.98it/s]\n"
          ]
        },
        {
          "output_type": "stream",
          "name": "stdout",
          "text": [
            "\n",
            "Validation Q1:  Why does Quora succeed in spite of having some other Q and A websites like Yahoo Answers and Wiki Answers?\n",
            "Relevants    : \n",
            "             >  How has Quora succeeded where websites such as Yahoo and Reddit have failed?\n",
            "             >  How did Quora managed to be a success, where earlier public QA forum failed to do that, like wiki and yahoo answers?\n",
            "             >  Why will Quora succeed in a space where Google and Yahoo answers has not?\n",
            "             >  Why did Yahoo answers fail and Quora succeed?\n",
            "Train        :\n",
            "             >  Why do so many people ask questions on Quora instead of searching the answers on Wikipedia?\n",
            "             >  I am a 23-year-old girl working in a reputed IT company with a good salary package and easy work-life balance (8 months of work experience). But for the past 2-3 months I am feeling like I am not interested in IT. What options do I have for my career now (work field change/higher studies)?\n",
            "             >  I am unable to upload pictures on Instagram. When I take a picture using the Instagram camera, the pic momentarily appears on my screen, and then the app automatically switches to my news feed. The same thing happens when I try to upload a pic from my gallery. How do I fix this problem?\n",
            "             >  I have got fake currency notes from shop 2-3 times in India? Can I convert it to a good currency note in the bank? What can the government do to stop these notes? Will digital notes engineering solve this issue of fake currency notes circulating?\n",
            "             >  Foreign students pay more for an English university education. Why don't English universities help poor foreign students by halving fees and doubling the number of foreign students? And shouldn't a higher percentage of foreign students be non-white?\n",
            "\n"
          ]
        },
        {
          "output_type": "stream",
          "name": "stderr",
          "text": [
            "100%|██████████| 16658/16658 [00:00<00:00, 18530.04it/s]\n"
          ]
        },
        {
          "output_type": "stream",
          "name": "stdout",
          "text": [
            "\n",
            "Validation Q1:  What are your paranormal experiences?\n",
            "Relevants    : \n",
            "             >  What are some paranormal experiences you had?\n",
            "             >  Have you ever experienced any paranormal activities?\n",
            "             >  Have you ever had any paranormal experience?\n",
            "             >  What are the creepiest paranormal experience you have had?\n",
            "Train        :\n",
            "             >  I am a 23-year-old girl working in a reputed IT company with a good salary package and easy work-life balance (8 months of work experience). But for the past 2-3 months I am feeling like I am not interested in IT. What options do I have for my career now (work field change/higher studies)?\n",
            "             >  Foreign students pay more for an English university education. Why don't English universities help poor foreign students by halving fees and doubling the number of foreign students? And shouldn't a higher percentage of foreign students be non-white?\n",
            "             >  I am unable to upload pictures on Instagram. When I take a picture using the Instagram camera, the pic momentarily appears on my screen, and then the app automatically switches to my news feed. The same thing happens when I try to upload a pic from my gallery. How do I fix this problem?\n",
            "             >  I have got fake currency notes from shop 2-3 times in India? Can I convert it to a good currency note in the bank? What can the government do to stop these notes? Will digital notes engineering solve this issue of fake currency notes circulating?\n",
            "             >  Why does Indian Rail(IR) convert confirmed tickets into wait-listed tickets after the chart preparation? How does IR decide the priority of the quota by skipping booked tickets? Are the Tatkal wait-listed accommodated on the priority?\n",
            "\n"
          ]
        }
      ]
    },
    {
      "cell_type": "code",
      "source": [],
      "metadata": {
        "id": "3vdcLq7gyT5b"
      },
      "execution_count": 35,
      "outputs": []
    },
    {
      "cell_type": "code",
      "source": [],
      "metadata": {
        "id": "jD7Bvph-yT3T"
      },
      "execution_count": 35,
      "outputs": []
    },
    {
      "cell_type": "code",
      "source": [],
      "metadata": {
        "id": "u0PwkicOYLLs"
      },
      "execution_count": 35,
      "outputs": []
    },
    {
      "cell_type": "markdown",
      "source": [
        "# Part Four.\n",
        "* Evaluation Metrics"
      ],
      "metadata": {
        "id": "NCUft9j5LSYS"
      }
    },
    {
      "cell_type": "code",
      "source": [
        "groups = test_org.groupby(by='question1')\n",
        "groups.first()"
      ],
      "metadata": {
        "colab": {
          "base_uri": "https://localhost:8080/",
          "height": 455
        },
        "id": "LQl32f1KuI4o",
        "outputId": "b5c45670-99d8-4733-fafd-2feaa46cf22f"
      },
      "execution_count": 36,
      "outputs": [
        {
          "output_type": "execute_result",
          "data": {
            "text/plain": [
              "                                                        id    qid1    qid2  \\\n",
              "question1                                                                    \n",
              "Can Donald Trump really become President of US?      38545   69984   69985   \n",
              "Can I grow height after 19 years?                    98278  149375  157481   \n",
              "Can I locate someones phone without them knowin...   51470   91290   52786   \n",
              "Can I sell my business idea?                        107485  175643  112223   \n",
              "Can we expect time travel to become a reality?       21100   39755    1183   \n",
              "...                                                    ...     ...     ...   \n",
              "Why do people still think the the world is flat?      4014    7948    7949   \n",
              "Why do some answers collapse in Quora?                8574    4902   16705   \n",
              "Why do we fall in love?                              98453  163595  136954   \n",
              "Why is Manaphy crying incessantly throughout in...   74134   53518  123002   \n",
              "Why is my optional Question Details on Quora li...   67974  117553  117554   \n",
              "\n",
              "                                                                                            question2  \\\n",
              "question1                                                                                               \n",
              "Can Donald Trump really become President of US?     What are the chances that Donald Trump will be...   \n",
              "Can I grow height after 19 years?                    Is it possible to increase your height after 19?   \n",
              "Can I locate someones phone without them knowin...            How can I locate a cell phone location?   \n",
              "Can I sell my business idea?                                                Where can I sell my idea?   \n",
              "Can we expect time travel to become a reality?                  Do you think time travel is possible?   \n",
              "...                                                                                               ...   \n",
              "Why do people still think the the world is flat?    Why do some people today still believe that th...   \n",
              "Why do some answers collapse in Quora?                                Why are some answers collapsed?   \n",
              "Why do we fall in love?                                             What makes people \"fall\" in love?   \n",
              "Why is Manaphy crying incessantly throughout in...  Why is Manaphy anxious in Pokémon Ranger and t...   \n",
              "Why is my optional Question Details on Quora li...    How do I add long details to my Quora question?   \n",
              "\n",
              "                                                    is_duplicate  \n",
              "question1                                                         \n",
              "Can Donald Trump really become President of US?                1  \n",
              "Can I grow height after 19 years?                              1  \n",
              "Can I locate someones phone without them knowin...             1  \n",
              "Can I sell my business idea?                                   1  \n",
              "Can we expect time travel to become a reality?                 1  \n",
              "...                                                          ...  \n",
              "Why do people still think the the world is flat?               1  \n",
              "Why do some answers collapse in Quora?                         1  \n",
              "Why do we fall in love?                                        1  \n",
              "Why is Manaphy crying incessantly throughout in...             1  \n",
              "Why is my optional Question Details on Quora li...             1  \n",
              "\n",
              "[146 rows x 5 columns]"
            ],
            "text/html": [
              "\n",
              "  <div id=\"df-27742832-c1a7-49fa-941a-df3e556d24de\">\n",
              "    <div class=\"colab-df-container\">\n",
              "      <div>\n",
              "<style scoped>\n",
              "    .dataframe tbody tr th:only-of-type {\n",
              "        vertical-align: middle;\n",
              "    }\n",
              "\n",
              "    .dataframe tbody tr th {\n",
              "        vertical-align: top;\n",
              "    }\n",
              "\n",
              "    .dataframe thead th {\n",
              "        text-align: right;\n",
              "    }\n",
              "</style>\n",
              "<table border=\"1\" class=\"dataframe\">\n",
              "  <thead>\n",
              "    <tr style=\"text-align: right;\">\n",
              "      <th></th>\n",
              "      <th>id</th>\n",
              "      <th>qid1</th>\n",
              "      <th>qid2</th>\n",
              "      <th>question2</th>\n",
              "      <th>is_duplicate</th>\n",
              "    </tr>\n",
              "    <tr>\n",
              "      <th>question1</th>\n",
              "      <th></th>\n",
              "      <th></th>\n",
              "      <th></th>\n",
              "      <th></th>\n",
              "      <th></th>\n",
              "    </tr>\n",
              "  </thead>\n",
              "  <tbody>\n",
              "    <tr>\n",
              "      <th>Can Donald Trump really become President of US?</th>\n",
              "      <td>38545</td>\n",
              "      <td>69984</td>\n",
              "      <td>69985</td>\n",
              "      <td>What are the chances that Donald Trump will be...</td>\n",
              "      <td>1</td>\n",
              "    </tr>\n",
              "    <tr>\n",
              "      <th>Can I grow height after 19 years?</th>\n",
              "      <td>98278</td>\n",
              "      <td>149375</td>\n",
              "      <td>157481</td>\n",
              "      <td>Is it possible to increase your height after 19?</td>\n",
              "      <td>1</td>\n",
              "    </tr>\n",
              "    <tr>\n",
              "      <th>Can I locate someones phone without them knowing or having apps?</th>\n",
              "      <td>51470</td>\n",
              "      <td>91290</td>\n",
              "      <td>52786</td>\n",
              "      <td>How can I locate a cell phone location?</td>\n",
              "      <td>1</td>\n",
              "    </tr>\n",
              "    <tr>\n",
              "      <th>Can I sell my business idea?</th>\n",
              "      <td>107485</td>\n",
              "      <td>175643</td>\n",
              "      <td>112223</td>\n",
              "      <td>Where can I sell my idea?</td>\n",
              "      <td>1</td>\n",
              "    </tr>\n",
              "    <tr>\n",
              "      <th>Can we expect time travel to become a reality?</th>\n",
              "      <td>21100</td>\n",
              "      <td>39755</td>\n",
              "      <td>1183</td>\n",
              "      <td>Do you think time travel is possible?</td>\n",
              "      <td>1</td>\n",
              "    </tr>\n",
              "    <tr>\n",
              "      <th>...</th>\n",
              "      <td>...</td>\n",
              "      <td>...</td>\n",
              "      <td>...</td>\n",
              "      <td>...</td>\n",
              "      <td>...</td>\n",
              "    </tr>\n",
              "    <tr>\n",
              "      <th>Why do people still think the the world is flat?</th>\n",
              "      <td>4014</td>\n",
              "      <td>7948</td>\n",
              "      <td>7949</td>\n",
              "      <td>Why do some people today still believe that th...</td>\n",
              "      <td>1</td>\n",
              "    </tr>\n",
              "    <tr>\n",
              "      <th>Why do some answers collapse in Quora?</th>\n",
              "      <td>8574</td>\n",
              "      <td>4902</td>\n",
              "      <td>16705</td>\n",
              "      <td>Why are some answers collapsed?</td>\n",
              "      <td>1</td>\n",
              "    </tr>\n",
              "    <tr>\n",
              "      <th>Why do we fall in love?</th>\n",
              "      <td>98453</td>\n",
              "      <td>163595</td>\n",
              "      <td>136954</td>\n",
              "      <td>What makes people \"fall\" in love?</td>\n",
              "      <td>1</td>\n",
              "    </tr>\n",
              "    <tr>\n",
              "      <th>Why is Manaphy crying incessantly throughout in Pokemon Ranger and The Temple of The Sea?</th>\n",
              "      <td>74134</td>\n",
              "      <td>53518</td>\n",
              "      <td>123002</td>\n",
              "      <td>Why is Manaphy anxious in Pokémon Ranger and t...</td>\n",
              "      <td>1</td>\n",
              "    </tr>\n",
              "    <tr>\n",
              "      <th>Why is my optional Question Details on Quora limited but some people are not?</th>\n",
              "      <td>67974</td>\n",
              "      <td>117553</td>\n",
              "      <td>117554</td>\n",
              "      <td>How do I add long details to my Quora question?</td>\n",
              "      <td>1</td>\n",
              "    </tr>\n",
              "  </tbody>\n",
              "</table>\n",
              "<p>146 rows × 5 columns</p>\n",
              "</div>\n",
              "      <button class=\"colab-df-convert\" onclick=\"convertToInteractive('df-27742832-c1a7-49fa-941a-df3e556d24de')\"\n",
              "              title=\"Convert this dataframe to an interactive table.\"\n",
              "              style=\"display:none;\">\n",
              "        \n",
              "  <svg xmlns=\"http://www.w3.org/2000/svg\" height=\"24px\"viewBox=\"0 0 24 24\"\n",
              "       width=\"24px\">\n",
              "    <path d=\"M0 0h24v24H0V0z\" fill=\"none\"/>\n",
              "    <path d=\"M18.56 5.44l.94 2.06.94-2.06 2.06-.94-2.06-.94-.94-2.06-.94 2.06-2.06.94zm-11 1L8.5 8.5l.94-2.06 2.06-.94-2.06-.94L8.5 2.5l-.94 2.06-2.06.94zm10 10l.94 2.06.94-2.06 2.06-.94-2.06-.94-.94-2.06-.94 2.06-2.06.94z\"/><path d=\"M17.41 7.96l-1.37-1.37c-.4-.4-.92-.59-1.43-.59-.52 0-1.04.2-1.43.59L10.3 9.45l-7.72 7.72c-.78.78-.78 2.05 0 2.83L4 21.41c.39.39.9.59 1.41.59.51 0 1.02-.2 1.41-.59l7.78-7.78 2.81-2.81c.8-.78.8-2.07 0-2.86zM5.41 20L4 18.59l7.72-7.72 1.47 1.35L5.41 20z\"/>\n",
              "  </svg>\n",
              "      </button>\n",
              "      \n",
              "  <style>\n",
              "    .colab-df-container {\n",
              "      display:flex;\n",
              "      flex-wrap:wrap;\n",
              "      gap: 12px;\n",
              "    }\n",
              "\n",
              "    .colab-df-convert {\n",
              "      background-color: #E8F0FE;\n",
              "      border: none;\n",
              "      border-radius: 50%;\n",
              "      cursor: pointer;\n",
              "      display: none;\n",
              "      fill: #1967D2;\n",
              "      height: 32px;\n",
              "      padding: 0 0 0 0;\n",
              "      width: 32px;\n",
              "    }\n",
              "\n",
              "    .colab-df-convert:hover {\n",
              "      background-color: #E2EBFA;\n",
              "      box-shadow: 0px 1px 2px rgba(60, 64, 67, 0.3), 0px 1px 3px 1px rgba(60, 64, 67, 0.15);\n",
              "      fill: #174EA6;\n",
              "    }\n",
              "\n",
              "    [theme=dark] .colab-df-convert {\n",
              "      background-color: #3B4455;\n",
              "      fill: #D2E3FC;\n",
              "    }\n",
              "\n",
              "    [theme=dark] .colab-df-convert:hover {\n",
              "      background-color: #434B5C;\n",
              "      box-shadow: 0px 1px 3px 1px rgba(0, 0, 0, 0.15);\n",
              "      filter: drop-shadow(0px 1px 2px rgba(0, 0, 0, 0.3));\n",
              "      fill: #FFFFFF;\n",
              "    }\n",
              "  </style>\n",
              "\n",
              "      <script>\n",
              "        const buttonEl =\n",
              "          document.querySelector('#df-27742832-c1a7-49fa-941a-df3e556d24de button.colab-df-convert');\n",
              "        buttonEl.style.display =\n",
              "          google.colab.kernel.accessAllowed ? 'block' : 'none';\n",
              "\n",
              "        async function convertToInteractive(key) {\n",
              "          const element = document.querySelector('#df-27742832-c1a7-49fa-941a-df3e556d24de');\n",
              "          const dataTable =\n",
              "            await google.colab.kernel.invokeFunction('convertToInteractive',\n",
              "                                                     [key], {});\n",
              "          if (!dataTable) return;\n",
              "\n",
              "          const docLinkHtml = 'Like what you see? Visit the ' +\n",
              "            '<a target=\"_blank\" href=https://colab.research.google.com/notebooks/data_table.ipynb>data table notebook</a>'\n",
              "            + ' to learn more about interactive tables.';\n",
              "          element.innerHTML = '';\n",
              "          dataTable['output_type'] = 'display_data';\n",
              "          await google.colab.output.renderOutput(dataTable, element);\n",
              "          const docLink = document.createElement('div');\n",
              "          docLink.innerHTML = docLinkHtml;\n",
              "          element.appendChild(docLink);\n",
              "        }\n",
              "      </script>\n",
              "    </div>\n",
              "  </div>\n",
              "  "
            ]
          },
          "metadata": {},
          "execution_count": 36
        }
      ]
    },
    {
      "cell_type": "code",
      "source": [
        "for i, (grp, pdf) in enumerate(groups):\n",
        "    print(' > {:65} : # of relevant questions: {}'.format(grp, len(pdf)))\n",
        "    if i == 5: break"
      ],
      "metadata": {
        "colab": {
          "base_uri": "https://localhost:8080/"
        },
        "id": "IMUtvYmnuj3u",
        "outputId": "473782b1-4014-4190-9c26-7159f1e215e1"
      },
      "execution_count": 37,
      "outputs": [
        {
          "output_type": "stream",
          "name": "stdout",
          "text": [
            " > Can Donald Trump really become President of US?                   : # of relevant questions: 8\n",
            " > Can I grow height after 19 years?                                 : # of relevant questions: 1\n",
            " > Can I locate someones phone without them knowing or having apps?  : # of relevant questions: 2\n",
            " > Can I sell my business idea?                                      : # of relevant questions: 6\n",
            " > Can we expect time travel to become a reality?                    : # of relevant questions: 25\n",
            " > Can you help me get a lot more followers on Instagram?            : # of relevant questions: 5\n"
          ]
        }
      ]
    },
    {
      "cell_type": "code",
      "source": [
        "def check_relevancy(groups, query, returned_docs):\n",
        "    reles = []\n",
        "    for i, (grp, pdf) in enumerate(groups):\n",
        "        if grp == query: \n",
        "            relevances = [ele for ele in pdf.loc[:, 'question2']]\n",
        "            for doc in returned_docs:\n",
        "                if doc in relevances:\n",
        "                    reles.append(1)\n",
        "                else: \n",
        "                    reles.append(0)\n",
        "            return reles    # Returns an array like: [0, 1, 1, 0, 0, 1, ...]"
      ],
      "metadata": {
        "id": "69QgWKcEzSyG"
      },
      "execution_count": 38,
      "outputs": []
    },
    {
      "cell_type": "code",
      "source": [],
      "metadata": {
        "id": "bNbElLBC3f4X"
      },
      "execution_count": 38,
      "outputs": []
    },
    {
      "cell_type": "markdown",
      "source": [
        "### Average Precision (AP)"
      ],
      "metadata": {
        "id": "nPnTfmTedjiC"
      }
    },
    {
      "cell_type": "code",
      "source": [
        "def eval_AP(arr):\n",
        "    relevant = 0\n",
        "    map = 0\n",
        "    for i, ele in enumerate(arr):\n",
        "        if ele == 1:\n",
        "            relevant += 1\n",
        "            map += relevant / (i + 1)\n",
        "    return (map / relevant) if relevant != 0 else 0"
      ],
      "metadata": {
        "id": "Xe4r0vuhI-UD"
      },
      "execution_count": 61,
      "outputs": []
    },
    {
      "cell_type": "markdown",
      "source": [
        "### Reciprocal Rank (RR)"
      ],
      "metadata": {
        "id": "3XDxcuKaXxsK"
      }
    },
    {
      "cell_type": "code",
      "source": [
        "def eval_RR(arr):\n",
        "    for i, ele in enumerate(arr):\n",
        "        if ele == 1:\n",
        "            return 1 / (i + 1)\n",
        "    return 0"
      ],
      "metadata": {
        "id": "hWILCg73XTr0"
      },
      "execution_count": 258,
      "outputs": []
    },
    {
      "cell_type": "markdown",
      "source": [
        "### Precision @ k"
      ],
      "metadata": {
        "id": "ZJOKdDutX6hB"
      }
    },
    {
      "cell_type": "code",
      "source": [
        "def p_at_k(arr, k=10):\n",
        "    return sum(arr[:k]) / k"
      ],
      "metadata": {
        "id": "ZfSRwwyVI-Rb"
      },
      "execution_count": 262,
      "outputs": []
    },
    {
      "cell_type": "code",
      "source": [],
      "metadata": {
        "id": "mwOqAgS1YsoC"
      },
      "execution_count": 263,
      "outputs": []
    },
    {
      "cell_type": "markdown",
      "source": [
        "### First algorithm evaluation"
      ],
      "metadata": {
        "id": "Ge5GCRPN9rWS"
      }
    },
    {
      "cell_type": "code",
      "source": [
        "results = get_similar_questions(test, train, similarity)"
      ],
      "metadata": {
        "id": "sU6g2Hxh9q-B"
      },
      "execution_count": 213,
      "outputs": []
    },
    {
      "cell_type": "code",
      "source": [
        "groups_test = test_org.groupby(by='question1')\n",
        "evals = []\n",
        "for i, ele in enumerate(results):\n",
        "    temp = check_relevancy(groups_test, test_org.loc[i, 'question1'], ele)\n",
        "\n",
        "    eval_ap = eval_AP(temp)\n",
        "    eval_rr = eval_RR(temp)\n",
        "    eval_p_at_5 = p_at_k(temp, k=5)\n",
        "    eval_p_at_10 = p_at_k(temp)\n",
        "\n",
        "\n",
        "    evals.append([eval_ap, eval_rr, eval_p_at_5, eval_p_at_10])\n",
        "\n",
        "\n",
        "arrs = np.array(evals).reshape(-1, order='F').reshape(4, -1)\n",
        "print('MAP : {:.3f}'.format(np.average(arrs[0])))\n",
        "print('MRR : {:.3f}'.format(np.average(arrs[1])))\n",
        "print('P@5 : {:.3f}'.format(np.average(arrs[2])))\n",
        "print('P@10: {:.3f}'.format(np.average(arrs[3])))"
      ],
      "metadata": {
        "colab": {
          "base_uri": "https://localhost:8080/"
        },
        "id": "R6TPU_k_BgvI",
        "outputId": "0750484b-1acd-4754-fcf1-e45dd0db765c"
      },
      "execution_count": 264,
      "outputs": [
        {
          "output_type": "stream",
          "name": "stdout",
          "text": [
            "MAP : 0.685\n",
            "MRR : 0.788\n",
            "P@5 : 0.874\n",
            "P@10: 0.437\n"
          ]
        }
      ]
    },
    {
      "cell_type": "code",
      "source": [],
      "metadata": {
        "id": "z2ZFg-L6Logt"
      },
      "execution_count": null,
      "outputs": []
    },
    {
      "cell_type": "markdown",
      "source": [
        "# Find parameters\n",
        "**Its time to search for best parameters value using evaluation metrics on validation dataset**"
      ],
      "metadata": {
        "id": "-PqBj6CC6nxF"
      }
    },
    {
      "cell_type": "code",
      "source": [
        "groups_val = val_org.groupby(by='question1')"
      ],
      "metadata": {
        "id": "zHBsaNph4L48"
      },
      "execution_count": 191,
      "outputs": []
    },
    {
      "cell_type": "code",
      "source": [
        "k = 5"
      ],
      "metadata": {
        "id": "EkhOdnnBeq4b"
      },
      "execution_count": 197,
      "outputs": []
    },
    {
      "cell_type": "code",
      "source": [
        "for mu in [0, 1, 10, 100]:\n",
        "    for _lambda in [0.1, 0.5, 0.9]:\n",
        "        evals = []\n",
        "        for i, val_q in enumerate(tqdm(tokenized_qs_val[:10])):\n",
        "            scores = []\n",
        "            for train_q in tokenized_qs_train:\n",
        "                prob = probability_word_given_doc(word=val_q[0], doc=' '.join(train_q), collection=collection, collection_length=collection_length, collection_freq=collection_freq, mu=mu) # P(q1|D)\n",
        "                last_token = val_q[0]\n",
        "                for token in val_q[1:]:\n",
        "                    temp = probability_bigram_word_given_doc(curr_word=token, last_word=last_token, doc=' '.join(train_q), collection=collection, collection_length=collection_length, collection_freq=collection_freq, _lambda=_lambda)\n",
        "                    prob = np.multiply(prob, temp)\n",
        "                    last_token = token\n",
        "                scores.append(prob)\n",
        "\n",
        "            relevante_results = check_relevancy(groups_val, query=val_org.loc[i, 'question1'], returned_docs=list(train_org.loc[:, 'question2'].unique()[np.argsort(scores)[::-1][:k]]))\n",
        "            eval_ap = eval_AP(relevante_results)\n",
        "            eval_rr = eval_RR(relevante_results)\n",
        "            eval_p_at_5 = p_at_k(relevante_results, k=5)\n",
        "            eval_p_at_10 = p_at_k(relevante_results)\n",
        "            evals.append([eval_ap, eval_rr, eval_p_at_5, eval_p_at_10])\n",
        "            \n",
        "            if i == 7:\n",
        "                print('\\nValidation Q1: ', val_org.loc[:, 'question1'].unique()[i])\n",
        "                \n",
        "                relevant_qs = get_relevants(val_org, q1=val_org.loc[:, 'question1'].unique()[i])\n",
        "                print('Relevants    : ', )\n",
        "                [print('             > ', q) for q in relevant_qs]\n",
        "\n",
        "                print('Train        :')\n",
        "                [print('             > ', q) for q in list(train_org.loc[:, 'question2'].unique()[np.argsort(scores)[::-1][:k]])]\n",
        "\n",
        "                print('AP: {:.2f}'.format(ap_metric))\n",
        "                print()\n",
        "\n",
        "        print('\\n---------------------------------------')\n",
        "\n",
        "        arrs = np.array(evals).reshape(-1, order='F').reshape(4, -1)\n",
        "        print('MAP : {:.3f}'.format(np.average(arrs[0])))\n",
        "        print('MRR : {:.3f}'.format(np.average(arrs[1])))\n",
        "        print('P@5 : {:.3f}'.format(np.average(arrs[2])))\n",
        "        print('P@10: {:.3f}'.format(np.average(arrs[3])))"
      ],
      "metadata": {
        "colab": {
          "base_uri": "https://localhost:8080/"
        },
        "id": "DmqzxztW4L2Q",
        "outputId": "c5029eff-7d79-45aa-b1c2-ea094e05b315"
      },
      "execution_count": 266,
      "outputs": [
        {
          "output_type": "stream",
          "name": "stderr",
          "text": [
            " 80%|████████  | 8/10 [00:22<00:05,  2.62s/it]"
          ]
        },
        {
          "output_type": "stream",
          "name": "stdout",
          "text": [
            "\n",
            "Validation Q1:  How can I stop myself from watching too much of porn?\n",
            "Relevants    : \n",
            "             >  How can I stop watching porn?\n",
            "             >  How do I stop addiction to porn?\n",
            "             >  How can I control myself from masturbating while watching porn?\n",
            "             >  Catholics: how do I stop watching internet porn?\n",
            "             >  How do I stop being addicted to porn?\n",
            "             >  What should be done to avoid watching porn?\n",
            "             >  How do I stop masturbating/watching porn? I can't/don't masturbate without watching porn.\n",
            "             >  How shall I stop watching porn?\n",
            "Train        :\n",
            "             >  How do I stop masturbating/watching porn? I can't/don't masturbate without watching porn.\n",
            "             >  Should I stop watching porn?\n",
            "             >  Why can't I stop watching porn?\n",
            "             >  How can I stop watching porn?\n",
            "             >  How shall I stop watching porn?\n",
            "AP: 0.70\n",
            "\n"
          ]
        },
        {
          "output_type": "stream",
          "name": "stderr",
          "text": [
            "100%|██████████| 10/10 [00:28<00:00,  2.87s/it]"
          ]
        },
        {
          "output_type": "stream",
          "name": "stdout",
          "text": [
            "\n",
            "---------------------------------------\n",
            "MAP : 0.437\n",
            "MRR : 0.442\n",
            "P@5 : 0.420\n",
            "P@10: 0.210\n"
          ]
        },
        {
          "output_type": "stream",
          "name": "stderr",
          "text": [
            "\n"
          ]
        }
      ]
    },
    {
      "cell_type": "code",
      "source": [],
      "metadata": {
        "id": "0EKuNpFH4LxS"
      },
      "execution_count": null,
      "outputs": []
    },
    {
      "cell_type": "code",
      "source": [],
      "metadata": {
        "id": "3yV7CCuPeEv-"
      },
      "execution_count": null,
      "outputs": []
    },
    {
      "cell_type": "code",
      "source": [],
      "metadata": {
        "id": "7U-F6oR0eEsp"
      },
      "execution_count": null,
      "outputs": []
    },
    {
      "cell_type": "code",
      "source": [],
      "metadata": {
        "id": "O3iurJJmeEqb"
      },
      "execution_count": null,
      "outputs": []
    },
    {
      "cell_type": "code",
      "source": [],
      "metadata": {
        "id": "osU7U_uVeEoC"
      },
      "execution_count": null,
      "outputs": []
    },
    {
      "cell_type": "markdown",
      "source": [
        "### Finito"
      ],
      "metadata": {
        "id": "yhZLAhGvLdRJ"
      }
    }
  ]
}