{
  "nbformat": 4,
  "nbformat_minor": 0,
  "metadata": {
    "colab": {
      "provenance": [],
      "toc_visible": true,
      "authorship_tag": "ABX9TyNnkBA+qSXq2HRate4EWBxv",
      "include_colab_link": true
    },
    "kernelspec": {
      "name": "python3",
      "display_name": "Python 3"
    },
    "language_info": {
      "name": "python"
    }
  },
  "cells": [
    {
      "cell_type": "markdown",
      "metadata": {
        "id": "view-in-github",
        "colab_type": "text"
      },
      "source": [
        "<a href=\"https://colab.research.google.com/github/nahbos/Advanced-Information-Retrieval/blob/main/Ex01/traditional_methods.ipynb\" target=\"_parent\"><img src=\"https://colab.research.google.com/assets/colab-badge.svg\" alt=\"Open In Colab\"/></a>"
      ]
    },
    {
      "cell_type": "markdown",
      "source": [
        "## Sobhan Moradian Daghigh\n",
        "\n",
        "- 11-22-2022\n",
        "\n",
        "### Ex-01: Traditional methods (WarmUp)"
      ],
      "metadata": {
        "id": "YU-Gx1EmJAA6"
      }
    },
    {
      "cell_type": "code",
      "execution_count": 239,
      "metadata": {
        "id": "8nmKYHAuI4mA"
      },
      "outputs": [],
      "source": [
        "import numpy as np\n",
        "import pandas as pd\n",
        "import scipy\n",
        "from gensim.models import TfidfModel\n",
        "from gensim.corpora import Dictionary\n",
        "from gensim.utils import simple_preprocess\n",
        "from gensim.parsing.preprocessing import remove_stopwords\n",
        "from sklearn.feature_extraction.text import TfidfVectorizer\n",
        "from sklearn.metrics.pairwise import cosine_similarity\n",
        "import random\n",
        "import pickle"
      ]
    },
    {
      "cell_type": "code",
      "source": [
        "!wget -nc https://raw.githubusercontent.com/nahbos/Advanced-Information-Retrieval/main/Ex01/Data/train_data.csv\n",
        "!wget -nc https://raw.githubusercontent.com/nahbos/Advanced-Information-Retrieval/main/Ex01/Data/valid_data.csv\n",
        "!wget -nc https://raw.githubusercontent.com/nahbos/Advanced-Information-Retrieval/main/Ex01/Data/test_data.csv"
      ],
      "metadata": {
        "colab": {
          "base_uri": "https://localhost:8080/"
        },
        "id": "mLtmo5l-I--m",
        "outputId": "d6137e2b-8b6a-4dc2-9b34-6042ede824b5"
      },
      "execution_count": 82,
      "outputs": [
        {
          "output_type": "stream",
          "name": "stdout",
          "text": [
            "File ‘train_data.csv’ already there; not retrieving.\n",
            "\n",
            "File ‘valid_data.csv’ already there; not retrieving.\n",
            "\n",
            "File ‘test_data.csv’ already there; not retrieving.\n",
            "\n"
          ]
        }
      ]
    },
    {
      "cell_type": "markdown",
      "source": [
        "# Part One. \n",
        "* Data Loading"
      ],
      "metadata": {
        "id": "qWCubj1TKn22"
      }
    },
    {
      "cell_type": "code",
      "source": [
        "train = pd.read_csv('./train_data.csv')\n",
        "val   = pd.read_csv('./valid_data.csv')\n",
        "test  = pd.read_csv('./test_data.csv')"
      ],
      "metadata": {
        "id": "tqkonR1KI-76"
      },
      "execution_count": 83,
      "outputs": []
    },
    {
      "cell_type": "code",
      "source": [
        "train.head()"
      ],
      "metadata": {
        "colab": {
          "base_uri": "https://localhost:8080/",
          "height": 206
        },
        "id": "-3CiMaZkI-5J",
        "outputId": "95b46a26-11db-49ba-d904-29733fc5d7f6"
      },
      "execution_count": 84,
      "outputs": [
        {
          "output_type": "execute_result",
          "data": {
            "text/plain": [
              "   id  qid1  qid2                                          question1  \\\n",
              "0  14    29    30  What are the laws to change your status from a...   \n",
              "1  18    37    38  Why are so many Quora users posting questions ...   \n",
              "2  38    77    78                        How do we prepare for UPSC?   \n",
              "3  58   117   118  I was suddenly logged off Gmail. I can't remem...   \n",
              "4  60   121   122  How do I download content from a kickass torre...   \n",
              "\n",
              "                                           question2  is_duplicate  \n",
              "0  What are the laws to change your status from a...             0  \n",
              "1  Why do people ask Quora questions which can be...             1  \n",
              "2                How do I prepare for civil service?             1  \n",
              "3  I can't remember my Gmail password or my recov...             1  \n",
              "4                   Is Kickass Torrents trustworthy?             0  "
            ],
            "text/html": [
              "\n",
              "  <div id=\"df-bd6abc62-106e-4cd3-890f-42cb68bdaf2b\">\n",
              "    <div class=\"colab-df-container\">\n",
              "      <div>\n",
              "<style scoped>\n",
              "    .dataframe tbody tr th:only-of-type {\n",
              "        vertical-align: middle;\n",
              "    }\n",
              "\n",
              "    .dataframe tbody tr th {\n",
              "        vertical-align: top;\n",
              "    }\n",
              "\n",
              "    .dataframe thead th {\n",
              "        text-align: right;\n",
              "    }\n",
              "</style>\n",
              "<table border=\"1\" class=\"dataframe\">\n",
              "  <thead>\n",
              "    <tr style=\"text-align: right;\">\n",
              "      <th></th>\n",
              "      <th>id</th>\n",
              "      <th>qid1</th>\n",
              "      <th>qid2</th>\n",
              "      <th>question1</th>\n",
              "      <th>question2</th>\n",
              "      <th>is_duplicate</th>\n",
              "    </tr>\n",
              "  </thead>\n",
              "  <tbody>\n",
              "    <tr>\n",
              "      <th>0</th>\n",
              "      <td>14</td>\n",
              "      <td>29</td>\n",
              "      <td>30</td>\n",
              "      <td>What are the laws to change your status from a...</td>\n",
              "      <td>What are the laws to change your status from a...</td>\n",
              "      <td>0</td>\n",
              "    </tr>\n",
              "    <tr>\n",
              "      <th>1</th>\n",
              "      <td>18</td>\n",
              "      <td>37</td>\n",
              "      <td>38</td>\n",
              "      <td>Why are so many Quora users posting questions ...</td>\n",
              "      <td>Why do people ask Quora questions which can be...</td>\n",
              "      <td>1</td>\n",
              "    </tr>\n",
              "    <tr>\n",
              "      <th>2</th>\n",
              "      <td>38</td>\n",
              "      <td>77</td>\n",
              "      <td>78</td>\n",
              "      <td>How do we prepare for UPSC?</td>\n",
              "      <td>How do I prepare for civil service?</td>\n",
              "      <td>1</td>\n",
              "    </tr>\n",
              "    <tr>\n",
              "      <th>3</th>\n",
              "      <td>58</td>\n",
              "      <td>117</td>\n",
              "      <td>118</td>\n",
              "      <td>I was suddenly logged off Gmail. I can't remem...</td>\n",
              "      <td>I can't remember my Gmail password or my recov...</td>\n",
              "      <td>1</td>\n",
              "    </tr>\n",
              "    <tr>\n",
              "      <th>4</th>\n",
              "      <td>60</td>\n",
              "      <td>121</td>\n",
              "      <td>122</td>\n",
              "      <td>How do I download content from a kickass torre...</td>\n",
              "      <td>Is Kickass Torrents trustworthy?</td>\n",
              "      <td>0</td>\n",
              "    </tr>\n",
              "  </tbody>\n",
              "</table>\n",
              "</div>\n",
              "      <button class=\"colab-df-convert\" onclick=\"convertToInteractive('df-bd6abc62-106e-4cd3-890f-42cb68bdaf2b')\"\n",
              "              title=\"Convert this dataframe to an interactive table.\"\n",
              "              style=\"display:none;\">\n",
              "        \n",
              "  <svg xmlns=\"http://www.w3.org/2000/svg\" height=\"24px\"viewBox=\"0 0 24 24\"\n",
              "       width=\"24px\">\n",
              "    <path d=\"M0 0h24v24H0V0z\" fill=\"none\"/>\n",
              "    <path d=\"M18.56 5.44l.94 2.06.94-2.06 2.06-.94-2.06-.94-.94-2.06-.94 2.06-2.06.94zm-11 1L8.5 8.5l.94-2.06 2.06-.94-2.06-.94L8.5 2.5l-.94 2.06-2.06.94zm10 10l.94 2.06.94-2.06 2.06-.94-2.06-.94-.94-2.06-.94 2.06-2.06.94z\"/><path d=\"M17.41 7.96l-1.37-1.37c-.4-.4-.92-.59-1.43-.59-.52 0-1.04.2-1.43.59L10.3 9.45l-7.72 7.72c-.78.78-.78 2.05 0 2.83L4 21.41c.39.39.9.59 1.41.59.51 0 1.02-.2 1.41-.59l7.78-7.78 2.81-2.81c.8-.78.8-2.07 0-2.86zM5.41 20L4 18.59l7.72-7.72 1.47 1.35L5.41 20z\"/>\n",
              "  </svg>\n",
              "      </button>\n",
              "      \n",
              "  <style>\n",
              "    .colab-df-container {\n",
              "      display:flex;\n",
              "      flex-wrap:wrap;\n",
              "      gap: 12px;\n",
              "    }\n",
              "\n",
              "    .colab-df-convert {\n",
              "      background-color: #E8F0FE;\n",
              "      border: none;\n",
              "      border-radius: 50%;\n",
              "      cursor: pointer;\n",
              "      display: none;\n",
              "      fill: #1967D2;\n",
              "      height: 32px;\n",
              "      padding: 0 0 0 0;\n",
              "      width: 32px;\n",
              "    }\n",
              "\n",
              "    .colab-df-convert:hover {\n",
              "      background-color: #E2EBFA;\n",
              "      box-shadow: 0px 1px 2px rgba(60, 64, 67, 0.3), 0px 1px 3px 1px rgba(60, 64, 67, 0.15);\n",
              "      fill: #174EA6;\n",
              "    }\n",
              "\n",
              "    [theme=dark] .colab-df-convert {\n",
              "      background-color: #3B4455;\n",
              "      fill: #D2E3FC;\n",
              "    }\n",
              "\n",
              "    [theme=dark] .colab-df-convert:hover {\n",
              "      background-color: #434B5C;\n",
              "      box-shadow: 0px 1px 3px 1px rgba(0, 0, 0, 0.15);\n",
              "      filter: drop-shadow(0px 1px 2px rgba(0, 0, 0, 0.3));\n",
              "      fill: #FFFFFF;\n",
              "    }\n",
              "  </style>\n",
              "\n",
              "      <script>\n",
              "        const buttonEl =\n",
              "          document.querySelector('#df-bd6abc62-106e-4cd3-890f-42cb68bdaf2b button.colab-df-convert');\n",
              "        buttonEl.style.display =\n",
              "          google.colab.kernel.accessAllowed ? 'block' : 'none';\n",
              "\n",
              "        async function convertToInteractive(key) {\n",
              "          const element = document.querySelector('#df-bd6abc62-106e-4cd3-890f-42cb68bdaf2b');\n",
              "          const dataTable =\n",
              "            await google.colab.kernel.invokeFunction('convertToInteractive',\n",
              "                                                     [key], {});\n",
              "          if (!dataTable) return;\n",
              "\n",
              "          const docLinkHtml = 'Like what you see? Visit the ' +\n",
              "            '<a target=\"_blank\" href=https://colab.research.google.com/notebooks/data_table.ipynb>data table notebook</a>'\n",
              "            + ' to learn more about interactive tables.';\n",
              "          element.innerHTML = '';\n",
              "          dataTable['output_type'] = 'display_data';\n",
              "          await google.colab.output.renderOutput(dataTable, element);\n",
              "          const docLink = document.createElement('div');\n",
              "          docLink.innerHTML = docLinkHtml;\n",
              "          element.appendChild(docLink);\n",
              "        }\n",
              "      </script>\n",
              "    </div>\n",
              "  </div>\n",
              "  "
            ]
          },
          "metadata": {},
          "execution_count": 84
        }
      ]
    },
    {
      "cell_type": "code",
      "source": [
        "train.info()"
      ],
      "metadata": {
        "colab": {
          "base_uri": "https://localhost:8080/"
        },
        "id": "ww7bis29I-2h",
        "outputId": "f260da52-e66b-4c26-987b-6d00c2277a70"
      },
      "execution_count": 85,
      "outputs": [
        {
          "output_type": "stream",
          "name": "stdout",
          "text": [
            "<class 'pandas.core.frame.DataFrame'>\n",
            "RangeIndex: 37250 entries, 0 to 37249\n",
            "Data columns (total 6 columns):\n",
            " #   Column        Non-Null Count  Dtype \n",
            "---  ------        --------------  ----- \n",
            " 0   id            37250 non-null  int64 \n",
            " 1   qid1          37250 non-null  int64 \n",
            " 2   qid2          37250 non-null  int64 \n",
            " 3   question1     37250 non-null  object\n",
            " 4   question2     37250 non-null  object\n",
            " 5   is_duplicate  37250 non-null  int64 \n",
            "dtypes: int64(4), object(2)\n",
            "memory usage: 1.7+ MB\n"
          ]
        }
      ]
    },
    {
      "cell_type": "code",
      "source": [
        "val.info()"
      ],
      "metadata": {
        "colab": {
          "base_uri": "https://localhost:8080/"
        },
        "id": "En5i5KNJI-zu",
        "outputId": "120ef8be-68b8-4fc5-8de2-57f0cb9efb8f"
      },
      "execution_count": 86,
      "outputs": [
        {
          "output_type": "stream",
          "name": "stdout",
          "text": [
            "<class 'pandas.core.frame.DataFrame'>\n",
            "RangeIndex: 1010 entries, 0 to 1009\n",
            "Data columns (total 6 columns):\n",
            " #   Column        Non-Null Count  Dtype \n",
            "---  ------        --------------  ----- \n",
            " 0   id            1010 non-null   int64 \n",
            " 1   qid1          1010 non-null   int64 \n",
            " 2   qid2          1010 non-null   int64 \n",
            " 3   question1     1010 non-null   object\n",
            " 4   question2     1010 non-null   object\n",
            " 5   is_duplicate  1010 non-null   int64 \n",
            "dtypes: int64(4), object(2)\n",
            "memory usage: 47.5+ KB\n"
          ]
        }
      ]
    },
    {
      "cell_type": "code",
      "source": [
        "test.info()"
      ],
      "metadata": {
        "colab": {
          "base_uri": "https://localhost:8080/"
        },
        "id": "HjNAgw3ZOKUo",
        "outputId": "7583340b-62ad-4d09-a9b7-3ea4ed1e1190"
      },
      "execution_count": 87,
      "outputs": [
        {
          "output_type": "stream",
          "name": "stdout",
          "text": [
            "<class 'pandas.core.frame.DataFrame'>\n",
            "RangeIndex: 980 entries, 0 to 979\n",
            "Data columns (total 6 columns):\n",
            " #   Column        Non-Null Count  Dtype \n",
            "---  ------        --------------  ----- \n",
            " 0   id            980 non-null    int64 \n",
            " 1   qid1          980 non-null    int64 \n",
            " 2   qid2          980 non-null    int64 \n",
            " 3   question1     980 non-null    object\n",
            " 4   question2     980 non-null    object\n",
            " 5   is_duplicate  980 non-null    int64 \n",
            "dtypes: int64(4), object(2)\n",
            "memory usage: 46.1+ KB\n"
          ]
        }
      ]
    },
    {
      "cell_type": "code",
      "source": [],
      "metadata": {
        "id": "PClryGMnOKSR"
      },
      "execution_count": 87,
      "outputs": []
    },
    {
      "cell_type": "markdown",
      "source": [
        "**Ok, Everything looks right ))**"
      ],
      "metadata": {
        "id": "1MqSNvyKOOTJ"
      }
    },
    {
      "cell_type": "code",
      "source": [],
      "metadata": {
        "id": "jO9P0RZBOKQS"
      },
      "execution_count": 87,
      "outputs": []
    },
    {
      "cell_type": "markdown",
      "source": [
        "# Part Two.\n",
        "* Vector Space Retrieval"
      ],
      "metadata": {
        "id": "hv1Bf-OXK1a6"
      }
    },
    {
      "cell_type": "code",
      "source": [
        "dataset = train\n",
        "\n",
        "# Dictionary length\n",
        "#     - with    stop words: 9335\n",
        "#     - without stop words: 9284\n",
        "\n",
        "tokenized_qs = [simple_preprocess(remove_stopwords(q)) for q in dataset.loc[:, 'question2']]\n",
        "dct = Dictionary(tokenized_qs)  # fit dictionary\n",
        "corpus = [dct.doc2bow(tokenized_q) for tokenized_q in tokenized_qs]  # convert corpus to BoW format"
      ],
      "metadata": {
        "id": "Mu_II-1JI-xB"
      },
      "execution_count": 235,
      "outputs": []
    },
    {
      "cell_type": "code",
      "source": [
        "model = TfidfModel(corpus)        # fit model\n",
        "tfidf_vector = model[corpus]      # apply model to the all corpus document\n",
        "\n",
        "for question in tfidf_vector[:20]:\n",
        "   print([[dct[id], round(freq, 2)] for id, freq in question])"
      ],
      "metadata": {
        "colab": {
          "base_uri": "https://localhost:8080/"
        },
        "id": "A9YDwxPBI-rh",
        "outputId": "18a7cf21-7de0-48de-b92c-084877b5c5f0"
      },
      "execution_count": 237,
      "outputs": [
        {
          "output_type": "stream",
          "name": "stdout",
          "text": [
            "[['card', 0.23], ['change', 0.22], ['compare', 0.15], ['green', 0.24], ['how', 0.05], ['immigration', 0.37], ['japan', 0.28], ['laws', 0.57], ['status', 0.29], ['student', 0.25], ['us', 0.2], ['visa', 0.29], ['what', 0.04]]\n",
            "[['answered', 0.5], ['ask', 0.37], ['easily', 0.41], ['google', 0.4], ['people', 0.28], ['questions', 0.32], ['quora', 0.25], ['why', 0.21]]\n",
            "[['how', 0.1], ['civil', 0.63], ['prepare', 0.5], ['service', 0.59]]\n",
            "[['how', 0.08], ['can', 0.23], ['email', 0.33], ['gmail', 0.32], ['mail', 0.42], ['password', 0.31], ['recover', 0.37], ['recovery', 0.38], ['remember', 0.41]]\n",
            "[['is', 0.18], ['kickass', 0.54], ['torrents', 0.49], ['trustworthy', 0.66]]\n",
            "[['how', 0.08], ['bad', 0.42], ['book', 0.36], ['new', 0.26], ['rowling', 0.78]]\n",
            "[['how', 0.12], ['english', 0.36], ['fluently', 0.62], ['learn', 0.42], ['speak', 0.53]]\n",
            "[['what', 0.18], ['about', 0.48], ['actually', 0.47], ['life', 0.59], ['purpose', 0.41]]\n",
            "[['compare', 0.2], ['what', 0.06], ['cambodia', 0.29], ['earthquake', 0.58], ['effects', 0.52], ['major', 0.26], ['valparaiso', 0.44]]\n",
            "[['india', 0.28], ['nuclear', 0.65], ['pakistan', 0.45], ['war', 0.37], ['will', 0.4]]\n",
            "[['how', 0.1], ['ask', 0.36], ['getting', 0.51], ['improve', 0.3], ['marked', 0.44], ['need', 0.45], ['question', 0.35]]\n",
            "[['questions', 0.43], ['quora', 0.34], ['why', 0.27], ['answering', 0.8]]\n",
            "[['compare', 0.18], ['what', 0.05], ['battle', 0.78], ['contrast', 0.26], ['riyadh', 0.4], ['significance', 0.26], ['somme', 0.26]]\n",
            "[['what', 0.08], ['estate', 0.42], ['impact', 0.41], ['market', 0.44], ['notes', 0.23], ['real', 0.35], ['rupee', 0.29], ['scrapping', 0.45]]\n",
            "[['quora', 0.42], ['can', 0.48], ['earn', 0.63], ['money', 0.44]]\n",
            "[['will', 0.21], ['cancel', 0.35], ['got', 0.29], ['it', 0.21], ['list', 0.26], ['railway', 0.41], ['refund', 0.35], ['reservation', 0.35], ['tatkal', 0.32], ['waiting', 0.35]]\n",
            "[['conserved', 0.3], ['created', 0.23], ['energy', 0.62], ['expanding', 0.28], ['if', 0.17], ['infinite', 0.45], ['potential', 0.26], ['the', 0.23], ['universe', 0.23]]\n",
            "[['what', 0.08], ['book', 0.37], ['good', 0.31], ['publish', 0.69], ['ways', 0.31], ['write', 0.43]]\n",
            "[['gmail', 0.35], ['password', 0.34], ['recover', 0.4], ['remember', 0.45], ['account', 0.63]]\n",
            "[['can', 0.22], ['cancel', 0.48], ['list', 0.36], ['tatkal', 0.44], ['waiting', 0.47], ['ticket', 0.43]]\n"
          ]
        }
      ]
    },
    {
      "cell_type": "code",
      "source": [],
      "metadata": {
        "id": "O8WSWAHn9lr6"
      },
      "execution_count": 121,
      "outputs": []
    },
    {
      "cell_type": "markdown",
      "source": [
        "**Since the Gensim dosent support for max_features, so for rest of the implementation, Im gonna use sklearn instead.**\n"
      ],
      "metadata": {
        "id": "LVnHASMu9hra"
      }
    },
    {
      "cell_type": "code",
      "source": [
        "tr_vectorizer = TfidfVectorizer(max_features=2000, stop_words='english')\n",
        "tfidf_matrix_train = tr_vectorizer.fit_transform(train.loc[:, 'question2'])\n",
        "print(tfidf_matrix_train.shape)"
      ],
      "metadata": {
        "colab": {
          "base_uri": "https://localhost:8080/"
        },
        "id": "pjqRUi8B8-hy",
        "outputId": "1af196f5-0616-4f4e-c52d-655e75733b78"
      },
      "execution_count": 201,
      "outputs": [
        {
          "output_type": "stream",
          "name": "stdout",
          "text": [
            "(37250, 2000)\n"
          ]
        }
      ]
    },
    {
      "cell_type": "code",
      "source": [
        "ts_vectorizer = TfidfVectorizer(vocabulary=tr_vectorizer.vocabulary_, stop_words='english')\n",
        "tfidf_matrix_test = ts_vectorizer.fit_transform(test.loc[:, 'question1'])\n",
        "print(tfidf_matrix_test.shape)"
      ],
      "metadata": {
        "colab": {
          "base_uri": "https://localhost:8080/"
        },
        "id": "2B24OQ1A_Tr7",
        "outputId": "26ecbbf3-63f7-4f07-d43a-480898ad2edf"
      },
      "execution_count": 202,
      "outputs": [
        {
          "output_type": "stream",
          "name": "stdout",
          "text": [
            "(980, 2000)\n"
          ]
        }
      ]
    },
    {
      "cell_type": "code",
      "source": [
        "similarity = cosine_similarity(tfidf_matrix_test, tfidf_matrix_train)\n",
        "similarity.shape"
      ],
      "metadata": {
        "colab": {
          "base_uri": "https://localhost:8080/"
        },
        "id": "okKWNcNSgY6A",
        "outputId": "fdc1517d-36ee-4d55-ab64-96f33d20df8e"
      },
      "execution_count": 205,
      "outputs": [
        {
          "output_type": "execute_result",
          "data": {
            "text/plain": [
              "(980, 37250)"
            ]
          },
          "metadata": {},
          "execution_count": 205
        }
      ]
    },
    {
      "cell_type": "code",
      "source": [
        "def get_similar_questions(test_data, train_data, similarity_matrix, n_sim=10, samples=None):\n",
        "  for i, test_q in enumerate(similarity_matrix):\n",
        "    if samples is None or i in samples:\n",
        "      check_duplicated_qs = []\n",
        "      bests = np.argsort(test_q.tolist())[::-1]\n",
        "      print('\\n-', test_data.loc[i, 'question1'])\n",
        "      for best in bests:\n",
        "        q = train_data.loc[best, 'question2']\n",
        "        if q not in check_duplicated_qs:\n",
        "          print('  > ', q)\n",
        "          check_duplicated_qs.append(q)\n",
        "          if len(check_duplicated_qs) == n_sim:\n",
        "            break"
      ],
      "metadata": {
        "id": "bdnT1Bm4idlW"
      },
      "execution_count": 258,
      "outputs": []
    },
    {
      "cell_type": "code",
      "source": [
        "random.seed(2)\n",
        "random_tests = random.sample(range(0, len(test)), 5)\n",
        "get_similar_questions(test, train, similarity, samples=random_tests)"
      ],
      "metadata": {
        "colab": {
          "base_uri": "https://localhost:8080/"
        },
        "id": "0N7AqLEjVUOB",
        "outputId": "64d267dc-63eb-4218-afa8-cb503bdb389e"
      },
      "execution_count": 260,
      "outputs": [
        {
          "output_type": "stream",
          "name": "stdout",
          "text": [
            "\n",
            "- Who will win the election in united states?\n",
            "  >  Who will win the 2016 United States Presidential election: Trump or Clinton?\n",
            "  >  Who is the coolest First Lady of the United States?\n",
            "  >  Who will win the US election?\n",
            "  >  Who will win Uttar Pradesh election?\n",
            "  >  Who should be the next President of The United States?\n",
            "  >  Who do you think will win the U.S. election in November?\n",
            "  >  Who will win the US election in 2016?\n",
            "  >  Does the President of the United States have a food taster?\n",
            "  >  Who will win 2017 Uttar Pradesh Election and why?\n",
            "  >  Who will win up 2017 election?\n",
            "\n",
            "- How do I recover my Gmail account when it does not open after password reset?\n",
            "  >  How can I recover my Gmail account's password?\n",
            "  >  How do you recover your gmail account password?\n",
            "  >  How can I reset the password for my Gmail account?\n",
            "  >  How do I reset my Gmail account password?\n",
            "  >  How do I recover my Gmail password?\n",
            "  >  How Can You Recover Your Gmail Password?\n",
            "  >  How can you recover your Gmail password?\n",
            "  >  How do I reset a Gmail password?\n",
            "  >  How do I reset my Gmail Password?\n",
            "  >  How to reset password for gmail via sms?\n",
            "\n",
            "- Is it possible to stop masturbating?\n",
            "  >  How can I stop masturbating?\n",
            "  >  How should I stop masturbating?\n",
            "  >  How can one stop masturbating for good?\n",
            "  >  How should a guy stop masturbating?\n",
            "  >  How can I stop masturbations?\n",
            "  >  How can I stop being lazy?\n",
            "  >  How can one stop being a procrastinator?\n",
            "  >  How can I stop being lazy and useless?\n",
            "  >  How can I stop myself from leaning forward on a squat?\n",
            "  >  Is it possible to bake a cake in a microwave oven?\n",
            "\n",
            "- What does it take to be a top writer on Quora?\n",
            "  >  How does someone become a top writer in Quora (criteria)?\n",
            "  >  How can I become a Top Writer on Quora?\n",
            "  >  What should I do to become a top writer on Quora?\n",
            "  >  How do you become the top writer on Quora?\n",
            "  >  How does a Quora writer qualify as a Top Writer, and get those gifts?\n",
            "  >  Why does Quora not have Emoji's?\n",
            "  >  How does one withdraw from Quora?\n",
            "  >  How can I become a Top Question Writer on Quora?\n",
            "  >  What should I do to become a Top Writer on Quora in 2017?\n",
            "  >  What should a writer do for inspiration when they're experiencing writer's block?\n",
            "\n",
            "- How can I trace phone calls from a cell phone?\n",
            "  >  How do I trace a phone call?\n",
            "  >  How can I locate my cell phone with the phone number?\n",
            "  >  How do you activate a Verizon phone over the phone?\n",
            "  >  How can I activate a Verizon phone with a call?\n",
            "  >  How can I find out who tapped into my phone?\n",
            "  >  Is it possible to trace a scammers' phone call?\n",
            "  >  How can you hack a cell phone?\n",
            "  >  Is there a phone number I can call to see if my phone tapped?\n",
            "  >  How can we trace a phone call's origin or cellphone location?\n",
            "  >  Which is best phone under 10000?\n"
          ]
        }
      ]
    },
    {
      "cell_type": "code",
      "source": [],
      "metadata": {
        "id": "CS4Z3DZQUYIP"
      },
      "execution_count": null,
      "outputs": []
    },
    {
      "cell_type": "markdown",
      "source": [
        "# Part Three.\n",
        "* Language Model Retrieval"
      ],
      "metadata": {
        "id": "f3qd7s2cLGRq"
      }
    },
    {
      "cell_type": "code",
      "source": [],
      "metadata": {
        "id": "LVcTdYVkI-jR"
      },
      "execution_count": null,
      "outputs": []
    },
    {
      "cell_type": "code",
      "source": [],
      "metadata": {
        "id": "euHBbKHPI-ga"
      },
      "execution_count": null,
      "outputs": []
    },
    {
      "cell_type": "code",
      "source": [],
      "metadata": {
        "id": "yd7CTkKBI-dc"
      },
      "execution_count": null,
      "outputs": []
    },
    {
      "cell_type": "code",
      "source": [],
      "metadata": {
        "id": "vpe8AGKAI-Wk"
      },
      "execution_count": null,
      "outputs": []
    },
    {
      "cell_type": "markdown",
      "source": [
        "# Part Four.\n",
        "* Evaluation Metrics"
      ],
      "metadata": {
        "id": "NCUft9j5LSYS"
      }
    },
    {
      "cell_type": "code",
      "source": [],
      "metadata": {
        "id": "Xe4r0vuhI-UD"
      },
      "execution_count": null,
      "outputs": []
    },
    {
      "cell_type": "code",
      "source": [],
      "metadata": {
        "id": "ZfSRwwyVI-Rb"
      },
      "execution_count": null,
      "outputs": []
    },
    {
      "cell_type": "code",
      "source": [],
      "metadata": {
        "id": "Pm0tLP6tI-PK"
      },
      "execution_count": null,
      "outputs": []
    },
    {
      "cell_type": "markdown",
      "source": [
        "### Finito"
      ],
      "metadata": {
        "id": "yhZLAhGvLdRJ"
      }
    }
  ]
}